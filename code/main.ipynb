{
 "cells": [
  {
   "cell_type": "code",
   "execution_count": 1,
   "metadata": {},
   "outputs": [
    {
     "data": {
      "text/html": [
       "<script type=\"text/javascript\">window.PlotlyConfig = {MathJaxConfig: 'local'};</script><script type=\"text/javascript\">if (window.MathJax) {MathJax.Hub.Config({SVG: {font: \"STIX-Web\"}});}</script><script>requirejs.config({paths: { 'plotly': ['https://cdn.plot.ly/plotly-latest.min']},});if(!window._Plotly) {require(['plotly'],function(plotly) {window._Plotly=plotly;});}</script>"
      ],
      "text/vnd.plotly.v1+html": [
       "<script type=\"text/javascript\">window.PlotlyConfig = {MathJaxConfig: 'local'};</script><script type=\"text/javascript\">if (window.MathJax) {MathJax.Hub.Config({SVG: {font: \"STIX-Web\"}});}</script><script>requirejs.config({paths: { 'plotly': ['https://cdn.plot.ly/plotly-latest.min']},});if(!window._Plotly) {require(['plotly'],function(plotly) {window._Plotly=plotly;});}</script>"
      ]
     },
     "metadata": {},
     "output_type": "display_data"
    }
   ],
   "source": [
    "#### Import plotting library ####\n",
    "\n",
    "from plotly.offline import download_plotlyjs, init_notebook_mode, plot, iplot\n",
    "import plotly.graph_objs as go\n",
    "init_notebook_mode(connected=True)"
   ]
  },
  {
   "cell_type": "code",
   "execution_count": 2,
   "metadata": {},
   "outputs": [
    {
     "name": "stdout",
     "output_type": "stream",
     "text": [
      "✅ Successfully imported agent.py\n",
      "✅ Successfully imported skill.py\n",
      "✅ Successfully imported task.py\n",
      "✅ Successfully imported timeline.py\n",
      "✅ Successfully imported workplace.py\n"
     ]
    }
   ],
   "source": [
    "#### Import class definitions ####\n",
    "\n",
    "# List existing classes\n",
    "from os import listdir\n",
    "from os.path import isfile, join\n",
    "classes = [f for f in listdir('classes') if isfile(join('classes', f))]\n",
    "\n",
    "# Import procedure\n",
    "for _class in classes:\n",
    "    %run classes/$_class\n",
    "    print('✅ Successfully imported ' + _class)"
   ]
  },
  {
   "cell_type": "markdown",
   "metadata": {},
   "source": [
    "t = Timeline()\n",
    "\n",
    "t.events.append(Event(0, 1, 0, 0))\n",
    "t.events.append(Event(2, 1, 0, 0))\n",
    "t.events.append(Event(3, 2, 0, 0))\n",
    "t.events.append(Event(4, 3, 0, 0))\n",
    "t.events.append(Event(5, 1, 0, 0))\n",
    "t.events.append(Event(7, 3, 0, 0))\n",
    "\n",
    "t.plot_gantt()"
   ]
  },
  {
   "cell_type": "code",
   "execution_count": 3,
   "metadata": {},
   "outputs": [
    {
     "name": "stdout",
     "output_type": "stream",
     "text": [
      "Reading from input file inputs/sample1.json...\n",
      "Time elapsed:\n",
      "0 time units.\n",
      "Completed tasks:\n",
      "Current task:\n",
      "None\n",
      "Future tasks:\n",
      "--- TASK 0 ---\n",
      "Precedence 0\n",
      "\tChannel 0\n",
      "\t\tAction 0 | Skill 0 | Duration 4\n",
      "\tChannel 1\n",
      "\t\tAction 0 | Skill 1 | Duration 4\n",
      "\tChannel 2\n",
      "\t\tAction 0 | Skill 1 | Duration 4\n",
      "\n",
      "--- TASK 1 ---\n",
      "Precedence 0\n",
      "\tChannel 0\n",
      "\t\tAction 0 | Skill 0 | Duration 4\n",
      "\tChannel 1\n",
      "\t\tAction 0 | Skill 1 | Duration 4\n",
      "\tChannel 2\n",
      "\t\tAction 0 | Skill 2 | Duration 4\n",
      "\n",
      "--- TASK 2 ---\n",
      "Precedence 0\n",
      "\tChannel 0\n",
      "\t\tAction 0 | Skill 0 | Duration 4\n",
      "\tChannel 1\n",
      "\t\tAction 0 | Skill 1 | Duration 4\n",
      "\tChannel 2\n",
      "\t\tAction 0 | Skill 2 | Duration 4\n",
      "\n",
      "Currently employed agents:\n",
      "Agent 0, Skills:\n",
      "['<function Workplace.add_agent.<locals>.<listcomp>.<lambda> at 0x7f25c11c2378>', '<function Workplace.add_agent.<locals>.<listcomp>.<lambda> at 0x7f25c11c2400>']\n",
      "Agent 1, Skills:\n",
      "['<function Workplace.add_agent.<locals>.<listcomp>.<lambda> at 0x7f25c11c2488>', '<function Workplace.add_agent.<locals>.<listcomp>.<lambda> at 0x7f25c11c2510>']\n",
      "<class 'timeline.Timeline'>\n"
     ]
    },
    {
     "ename": "TypeError",
     "evalue": "__str__ returned non-string (type NoneType)",
     "output_type": "error",
     "traceback": [
      "\u001b[0;31m---------------------------------------------------------------------------\u001b[0m",
      "\u001b[0;31mTypeError\u001b[0m                                 Traceback (most recent call last)",
      "\u001b[0;32m<ipython-input-3-50ef416b603f>\u001b[0m in \u001b[0;36m<module>\u001b[0;34m\u001b[0m\n\u001b[1;32m      4\u001b[0m \u001b[0mmy_workplace\u001b[0m \u001b[0;34m=\u001b[0m \u001b[0mWorkplace\u001b[0m\u001b[0;34m(\u001b[0m\u001b[0minput_file\u001b[0m\u001b[0;34m)\u001b[0m\u001b[0;34m\u001b[0m\u001b[0m\n\u001b[1;32m      5\u001b[0m \u001b[0;34m\u001b[0m\u001b[0m\n\u001b[0;32m----> 6\u001b[0;31m \u001b[0mprint\u001b[0m\u001b[0;34m(\u001b[0m\u001b[0mmy_workplace\u001b[0m\u001b[0;34m)\u001b[0m\u001b[0;34m\u001b[0m\u001b[0m\n\u001b[0m",
      "\u001b[0;31mTypeError\u001b[0m: __str__ returned non-string (type NoneType)"
     ]
    }
   ],
   "source": [
    "input_file = None\n",
    "input_file = 'inputs/sample1.json'\n",
    "\n",
    "my_workplace = Workplace(input_file)\n",
    "\n",
    "print(my_workplace)"
   ]
  },
  {
   "cell_type": "code",
   "execution_count": null,
   "metadata": {},
   "outputs": [],
   "source": []
  },
  {
   "cell_type": "code",
   "execution_count": null,
   "metadata": {},
   "outputs": [],
   "source": [
    "my_workplace.process_tasks()\n",
    "\n",
    "my_workplace.print_history()"
   ]
  }
 ],
 "metadata": {
  "kernelspec": {
   "display_name": "Python 3",
   "language": "python",
   "name": "python3"
  },
  "language_info": {
   "codemirror_mode": {
    "name": "ipython",
    "version": 3
   },
   "file_extension": ".py",
   "mimetype": "text/x-python",
   "name": "python",
   "nbconvert_exporter": "python",
   "pygments_lexer": "ipython3",
   "version": "3.5.3"
  }
 },
 "nbformat": 4,
 "nbformat_minor": 2
}
