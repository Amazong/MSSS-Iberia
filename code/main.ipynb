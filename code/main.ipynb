{
 "cells": [
  {
   "cell_type": "code",
   "execution_count": 1,
   "metadata": {},
   "outputs": [
    {
     "data": {
      "text/html": [
       "<script type=\"text/javascript\">window.PlotlyConfig = {MathJaxConfig: 'local'};</script><script type=\"text/javascript\">if (window.MathJax) {MathJax.Hub.Config({SVG: {font: \"STIX-Web\"}});}</script><script>requirejs.config({paths: { 'plotly': ['https://cdn.plot.ly/plotly-latest.min']},});if(!window._Plotly) {require(['plotly'],function(plotly) {window._Plotly=plotly;});}</script>"
      ],
      "text/vnd.plotly.v1+html": [
       "<script type=\"text/javascript\">window.PlotlyConfig = {MathJaxConfig: 'local'};</script><script type=\"text/javascript\">if (window.MathJax) {MathJax.Hub.Config({SVG: {font: \"STIX-Web\"}});}</script><script>requirejs.config({paths: { 'plotly': ['https://cdn.plot.ly/plotly-latest.min']},});if(!window._Plotly) {require(['plotly'],function(plotly) {window._Plotly=plotly;});}</script>"
      ]
     },
     "metadata": {},
     "output_type": "display_data"
    }
   ],
   "source": [
    "#### Import plotting library ####\n",
    "\n",
    "from plotly.offline import download_plotlyjs, init_notebook_mode, plot, iplot\n",
    "import plotly.graph_objs as go\n",
    "init_notebook_mode(connected=True)"
   ]
  },
  {
   "cell_type": "code",
   "execution_count": 2,
   "metadata": {},
   "outputs": [
    {
     "name": "stdout",
     "output_type": "stream",
     "text": [
      "✅ Successfully imported skill.py\n",
      "✅ Successfully imported workplace.py\n",
      "✅ Successfully imported task.py\n",
      "✅ Successfully imported timeline.py\n",
      "✅ Successfully imported agent.py\n",
      "✅ Successfully imported PARAMETERS.py\n"
     ]
    }
   ],
   "source": [
    "#### Import class definitions ####\n",
    "\n",
    "# List existing classes\n",
    "from os import listdir\n",
    "from os.path import isfile, join\n",
    "classes = [f for f in listdir('classes') if isfile(join('classes', f))]\n",
    "\n",
    "# Import procedure\n",
    "for _class in classes:\n",
    "    %run classes/$_class\n",
    "    print('✅ Successfully imported ' + _class)"
   ]
  },
  {
   "cell_type": "code",
   "execution_count": 3,
   "metadata": {},
   "outputs": [
    {
     "name": "stdout",
     "output_type": "stream",
     "text": [
      "Reading from input file inputs/frustration.json...\n",
      "\n",
      "task_unit_duration: 10\n",
      "alpha_e: 0.5\n",
      "alpha_m: 0.5\n",
      "alpha_h: 0\n",
      "lam_learn: 1\n",
      "lam_motiv: 0\n",
      "mu_learn: 0.5\n",
      "mu_motiv: 0\n",
      "th_e: 10\n",
      "th_m: 10\n",
      "max_e: 25\n",
      "max_m: 25\n",
      "excite: 0.1\n",
      "inhibit: 0.1\n",
      "Time elapsed:\n",
      "0 time units.\n",
      "\n",
      "Completed tasks:\n",
      "Current task:\n",
      "None\n",
      "Future tasks:\n",
      "--- TASK 0 ---\n",
      "\tAction 0 | Skill ID 0 | Duration 50 | Completion 0\n",
      "\tAction 1 | Skill ID 1 | Duration 50 | Completion 0\n",
      "\n",
      "Currently employed agents:\n",
      "--- AGENT 0 ---\n",
      "Short-term memory:\n",
      "\n",
      "Long-term memory:\n",
      "< skill_id: 0, expertise: [16], motivation: [16] >\n",
      "< skill_id: 1, expertise: [14], motivation: [14] >\n",
      "Current action:\n",
      "[]\n",
      "Action history:\n",
      "[]\n",
      "\n",
      "--- AGENT 1 ---\n",
      "Short-term memory:\n",
      "\n",
      "Long-term memory:\n",
      "< skill_id: 0, expertise: [14], motivation: [14] >\n",
      "< skill_id: 1, expertise: [16], motivation: [16] >\n",
      "Current action:\n",
      "[]\n",
      "Action history:\n",
      "[]\n",
      "\n",
      "History:\n"
     ]
    },
    {
     "data": {
      "application/vnd.plotly.v1+json": {
       "config": {
        "linkText": "Export to plot.ly",
        "plotlyServerURL": "https://plot.ly",
        "showLink": true
       },
       "data": [
        {
         "mode": "text",
         "text": [],
         "type": "scatter",
         "uid": "8deeff09-adec-436f-852a-cfe759cd4ff5",
         "x": [],
         "y": []
        }
       ],
       "layout": {
        "xaxis": {
         "autorange": true,
         "showgrid": false
        },
        "yaxis": {
         "range": [
          0,
          2
         ]
        }
       }
      },
      "text/html": [
       "<div id=\"aa5b7678-2b48-4f24-8a1a-ca2d9bc62c80\" style=\"height: 525px; width: 100%;\" class=\"plotly-graph-div\"></div><script type=\"text/javascript\">require([\"plotly\"], function(Plotly) { window.PLOTLYENV=window.PLOTLYENV || {};window.PLOTLYENV.BASE_URL=\"https://plot.ly\";Plotly.newPlot(\"aa5b7678-2b48-4f24-8a1a-ca2d9bc62c80\", [{\"mode\": \"text\", \"text\": [], \"x\": [], \"y\": [], \"type\": \"scatter\", \"uid\": \"29a719be-5a55-4b2a-bf50-8de20ae91ede\"}], {\"xaxis\": {\"autorange\": true, \"showgrid\": false}, \"yaxis\": {\"range\": [0, 2]}}, {\"showLink\": true, \"linkText\": \"Export to plot.ly\", \"plotlyServerURL\": \"https://plot.ly\"})});</script><script type=\"text/javascript\">window.addEventListener(\"resize\", function(){window._Plotly.Plots.resize(document.getElementById(\"aa5b7678-2b48-4f24-8a1a-ca2d9bc62c80\"));});</script>"
      ],
      "text/vnd.plotly.v1+html": [
       "<div id=\"aa5b7678-2b48-4f24-8a1a-ca2d9bc62c80\" style=\"height: 525px; width: 100%;\" class=\"plotly-graph-div\"></div><script type=\"text/javascript\">require([\"plotly\"], function(Plotly) { window.PLOTLYENV=window.PLOTLYENV || {};window.PLOTLYENV.BASE_URL=\"https://plot.ly\";Plotly.newPlot(\"aa5b7678-2b48-4f24-8a1a-ca2d9bc62c80\", [{\"mode\": \"text\", \"text\": [], \"x\": [], \"y\": [], \"type\": \"scatter\", \"uid\": \"29a719be-5a55-4b2a-bf50-8de20ae91ede\"}], {\"xaxis\": {\"autorange\": true, \"showgrid\": false}, \"yaxis\": {\"range\": [0, 2]}}, {\"showLink\": true, \"linkText\": \"Export to plot.ly\", \"plotlyServerURL\": \"https://plot.ly\"})});</script><script type=\"text/javascript\">window.addEventListener(\"resize\", function(){window._Plotly.Plots.resize(document.getElementById(\"aa5b7678-2b48-4f24-8a1a-ca2d9bc62c80\"));});</script>"
      ]
     },
     "metadata": {},
     "output_type": "display_data"
    }
   ],
   "source": [
    "input_file = None\n",
    "input_file = 'inputs/sample1.json'\n",
    "input_file = 'inputs/Exp1a_Zoethout.json'\n",
    "#input_file = 'inputs/Exp1b_Zoethout.json'\n",
    "#input_file = 'inputs/Exp2_Zoethout.json'\n",
    "input_file = 'inputs/frustration.json'\n",
    "\n",
    "my_workplace = Workplace(input_file)\n",
    "\n",
    "my_workplace.print_params()\n",
    "my_workplace.print_current_state()"
   ]
  },
  {
   "cell_type": "markdown",
   "metadata": {},
   "source": [
    "a0 = my_workplace.agents[0]\n",
    "a1 = my_workplace.agents[1]\n",
    "\n",
    "i0, you0 = a0.get_initial_i_you(my_workplace, 0)\n",
    "i1, you1 = a1.get_initial_i_you(my_workplace, 0)\n",
    "inh, exc = .1, .1\n",
    "\n",
    "negotiate(i0, you0, i1, you1, inh, exc)\n",
    "input()"
   ]
  },
  {
   "cell_type": "code",
   "execution_count": 4,
   "metadata": {},
   "outputs": [
    {
     "name": "stdout",
     "output_type": "stream",
     "text": [
      "Processed task:\n",
      "--- TASK 0 ---\n",
      "\tAction 0 | Skill ID 0 | Duration 50 | Completion 50\n",
      "\tAction 1 | Skill ID 1 | Duration 50 | Completion 50\n",
      ":\n",
      "\n"
     ]
    }
   ],
   "source": [
    "my_workplace.process_tasks()"
   ]
  },
  {
   "cell_type": "code",
   "execution_count": 5,
   "metadata": {},
   "outputs": [
    {
     "name": "stdout",
     "output_type": "stream",
     "text": [
      "Time elapsed:\n",
      "50 time units.\n",
      "\n",
      "Completed tasks:\n",
      "--- TASK 0 ---\n",
      "\tAction 0 | Skill ID 0 | Duration 50 | Completion 50\n",
      "\tAction 1 | Skill ID 1 | Duration 50 | Completion 50\n",
      "\n",
      "Current task:\n",
      "None\n",
      "Future tasks:\n",
      "Currently employed agents:\n",
      "--- AGENT 0 ---\n",
      "Short-term memory:\n",
      "< skill_id: 0, expertise: [16, 16.36, 16.7056, 17.037376000000002, 17.35588096, 17.6616457216, 17.955179892736, 18.23697269702656, 18.507493789145496, 18.767194037579674, 19.016506276076488, 19.255846025033428, 19.485612184032092, 19.70618769667081, 19.91794018880398, 20.121222581251818, 20.316373678001746, 20.503718730881676, 20.68356998164641, 20.856227182380554, 21.02197809508533, 21.181098971281916, 21.33385501243064, 21.480500811933414, 21.62128077945608, 21.756429548277836, 21.886172366346724, 22.010725471692854, 22.13029645282514, 22.245084594712132, 22.355281210923646, 22.4610699624867, 22.562627163987234, 22.660122077427744, 22.753717194330633, 22.843568506557407, 22.92982576629511, 23.012632735643304, 23.092127426217573, 23.16844232916887, 23.241704636002115, 23.31203645056203, 23.37955499253955, 23.444372792837967, 23.50659788112445, 23.566333965879473, 23.623680607244292, 23.67873338295452, 23.73158404763634, 23.782320685730884, 23.83102785830165], motivation: [16, 16.0, 16.0, 16.0, 16.0, 16.0, 16.0, 16.0, 16.0, 16.0, 16.0, 16.0, 16.0, 16.0, 16.0, 16.0, 16.0, 16.0, 16.0, 16.0, 16.0, 16.0, 16.0, 16.0, 16.0, 16.0, 16.0, 16.0, 16.0, 16.0, 16.0, 16.0, 16.0, 16.0, 16.0, 16.0, 16.0, 16.0, 16.0, 16.0, 16.0, 16.0, 16.0, 16.0, 16.0, 16.0, 16.0, 16.0, 16.0, 16.0, 16.0] >\n",
      "Long-term memory:\n",
      "< skill_id: 1, expertise: [14, 13.775510204081632, 13.546438983756767, 13.312692840568129, 13.074176367926663, 12.830792212170065, 12.582441032826598, 12.329021462067956, 12.07043006333465, 11.80656128911699, 11.537307437874478, 11.262558610075999, 10.982202663342855, 10.696125166676383, 10.404209353751412, 10.106336075256543, 9.802383750261779, 9.492228316593652, 9.175743180197603, 8.852799163466942, 8.523264452517289, 8.187004543384989, 7.843882187127539, 7.493757333803611, 7.136487075309807, 6.7719255870508235, 6.399924068419208, 6.0203306820604165, 5.632990491898385, 5.237745399896311, 4.834434081526847, 4.4228919199253545, 4.002950938699342, 3.574439733366675, 3.1371834013945663, 2.691003470810782, 2.235717827357941, 1.7711406401611642, 1.297082285878739, 0.8133492713048356, 0.31974415439268933, -0.1839345363339905, -0.697892384014276, -1.2223391673615058, -1.7574889462872507, -2.303560149272705, -2.8607756625231686, -3.4293629209420087, -4.009554000961233, -4.601585715266565, -5.205699709455678], motivation: [14, 14.0, 14.0, 14.0, 14.0, 14.0, 14.0, 14.0, 14.0, 14.0, 14.0, 14.0, 14.0, 14.0, 14.0, 14.0, 14.0, 14.0, 14.0, 14.0, 14.0, 14.0, 14.0, 14.0, 14.0, 14.0, 14.0, 14.0, 14.0, 14.0, 14.0, 14.0, 14.0, 14.0, 14.0, 14.0, 14.0, 14.0, 14.0, 14.0, 14.0, 14.0, 14.0, 14.0, 14.0, 14.0, 14.0, 14.0, 14.0, 14.0, 14.0] >\n",
      "Current action:\n",
      "[{'task': 0, 'action': 0, 'start_time': 49}]\n",
      "Action history:\n",
      "[{'task': 0, 'action': 0, 'start_time': 0}, {'task': 0, 'action': 0, 'start_time': 1}, {'task': 0, 'action': 0, 'start_time': 2}, {'task': 0, 'action': 0, 'start_time': 3}, {'task': 0, 'action': 0, 'start_time': 4}, {'task': 0, 'action': 0, 'start_time': 5}, {'task': 0, 'action': 0, 'start_time': 6}, {'task': 0, 'action': 0, 'start_time': 7}, {'task': 0, 'action': 0, 'start_time': 8}, {'task': 0, 'action': 0, 'start_time': 9}, {'task': 0, 'action': 0, 'start_time': 10}, {'task': 0, 'action': 0, 'start_time': 11}, {'task': 0, 'action': 0, 'start_time': 12}, {'task': 0, 'action': 0, 'start_time': 13}, {'task': 0, 'action': 0, 'start_time': 14}, {'task': 0, 'action': 0, 'start_time': 15}, {'task': 0, 'action': 0, 'start_time': 16}, {'task': 0, 'action': 0, 'start_time': 17}, {'task': 0, 'action': 0, 'start_time': 18}, {'task': 0, 'action': 0, 'start_time': 19}, {'task': 0, 'action': 0, 'start_time': 20}, {'task': 0, 'action': 0, 'start_time': 21}, {'task': 0, 'action': 0, 'start_time': 22}, {'task': 0, 'action': 0, 'start_time': 23}, {'task': 0, 'action': 0, 'start_time': 24}, {'task': 0, 'action': 0, 'start_time': 25}, {'task': 0, 'action': 0, 'start_time': 26}, {'task': 0, 'action': 0, 'start_time': 27}, {'task': 0, 'action': 0, 'start_time': 28}, {'task': 0, 'action': 0, 'start_time': 29}, {'task': 0, 'action': 0, 'start_time': 30}, {'task': 0, 'action': 0, 'start_time': 31}, {'task': 0, 'action': 0, 'start_time': 32}, {'task': 0, 'action': 0, 'start_time': 33}, {'task': 0, 'action': 0, 'start_time': 34}, {'task': 0, 'action': 0, 'start_time': 35}, {'task': 0, 'action': 0, 'start_time': 36}, {'task': 0, 'action': 0, 'start_time': 37}, {'task': 0, 'action': 0, 'start_time': 38}, {'task': 0, 'action': 0, 'start_time': 39}, {'task': 0, 'action': 0, 'start_time': 40}, {'task': 0, 'action': 0, 'start_time': 41}, {'task': 0, 'action': 0, 'start_time': 42}, {'task': 0, 'action': 0, 'start_time': 43}, {'task': 0, 'action': 0, 'start_time': 44}, {'task': 0, 'action': 0, 'start_time': 45}, {'task': 0, 'action': 0, 'start_time': 46}, {'task': 0, 'action': 0, 'start_time': 47}, {'task': 0, 'action': 0, 'start_time': 48}]\n",
      "\n",
      "--- AGENT 1 ---\n",
      "Short-term memory:\n",
      "< skill_id: 1, expertise: [16, 16.36, 16.7056, 17.037376000000002, 17.35588096, 17.6616457216, 17.955179892736, 18.23697269702656, 18.507493789145496, 18.767194037579674, 19.016506276076488, 19.255846025033428, 19.485612184032092, 19.70618769667081, 19.91794018880398, 20.121222581251818, 20.316373678001746, 20.503718730881676, 20.68356998164641, 20.856227182380554, 21.02197809508533, 21.181098971281916, 21.33385501243064, 21.480500811933414, 21.62128077945608, 21.756429548277836, 21.886172366346724, 22.010725471692854, 22.13029645282514, 22.245084594712132, 22.355281210923646, 22.4610699624867, 22.562627163987234, 22.660122077427744, 22.753717194330633, 22.843568506557407, 22.92982576629511, 23.012632735643304, 23.092127426217573, 23.16844232916887, 23.241704636002115, 23.31203645056203, 23.37955499253955, 23.444372792837967, 23.50659788112445, 23.566333965879473, 23.623680607244292, 23.67873338295452, 23.73158404763634, 23.782320685730884, 23.83102785830165], motivation: [16, 16.0, 16.0, 16.0, 16.0, 16.0, 16.0, 16.0, 16.0, 16.0, 16.0, 16.0, 16.0, 16.0, 16.0, 16.0, 16.0, 16.0, 16.0, 16.0, 16.0, 16.0, 16.0, 16.0, 16.0, 16.0, 16.0, 16.0, 16.0, 16.0, 16.0, 16.0, 16.0, 16.0, 16.0, 16.0, 16.0, 16.0, 16.0, 16.0, 16.0, 16.0, 16.0, 16.0, 16.0, 16.0, 16.0, 16.0, 16.0, 16.0, 16.0] >\n",
      "Long-term memory:\n",
      "< skill_id: 0, expertise: [14, 13.775510204081632, 13.546438983756767, 13.312692840568129, 13.074176367926663, 12.830792212170065, 12.582441032826598, 12.329021462067956, 12.07043006333465, 11.80656128911699, 11.537307437874478, 11.262558610075999, 10.982202663342855, 10.696125166676383, 10.404209353751412, 10.106336075256543, 9.802383750261779, 9.492228316593652, 9.175743180197603, 8.852799163466942, 8.523264452517289, 8.187004543384989, 7.843882187127539, 7.493757333803611, 7.136487075309807, 6.7719255870508235, 6.399924068419208, 6.0203306820604165, 5.632990491898385, 5.237745399896311, 4.834434081526847, 4.4228919199253545, 4.002950938699342, 3.574439733366675, 3.1371834013945663, 2.691003470810782, 2.235717827357941, 1.7711406401611642, 1.297082285878739, 0.8133492713048356, 0.31974415439268933, -0.1839345363339905, -0.697892384014276, -1.2223391673615058, -1.7574889462872507, -2.303560149272705, -2.8607756625231686, -3.4293629209420087, -4.009554000961233, -4.601585715266565, -5.205699709455678], motivation: [14, 14.0, 14.0, 14.0, 14.0, 14.0, 14.0, 14.0, 14.0, 14.0, 14.0, 14.0, 14.0, 14.0, 14.0, 14.0, 14.0, 14.0, 14.0, 14.0, 14.0, 14.0, 14.0, 14.0, 14.0, 14.0, 14.0, 14.0, 14.0, 14.0, 14.0, 14.0, 14.0, 14.0, 14.0, 14.0, 14.0, 14.0, 14.0, 14.0, 14.0, 14.0, 14.0, 14.0, 14.0, 14.0, 14.0, 14.0, 14.0, 14.0, 14.0] >\n",
      "Current action:\n",
      "[{'task': 0, 'action': 1, 'start_time': 49}]\n",
      "Action history:\n",
      "[{'task': 0, 'action': 1, 'start_time': 0}, {'task': 0, 'action': 1, 'start_time': 1}, {'task': 0, 'action': 1, 'start_time': 2}, {'task': 0, 'action': 1, 'start_time': 3}, {'task': 0, 'action': 1, 'start_time': 4}, {'task': 0, 'action': 1, 'start_time': 5}, {'task': 0, 'action': 1, 'start_time': 6}, {'task': 0, 'action': 1, 'start_time': 7}, {'task': 0, 'action': 1, 'start_time': 8}, {'task': 0, 'action': 1, 'start_time': 9}, {'task': 0, 'action': 1, 'start_time': 10}, {'task': 0, 'action': 1, 'start_time': 11}, {'task': 0, 'action': 1, 'start_time': 12}, {'task': 0, 'action': 1, 'start_time': 13}, {'task': 0, 'action': 1, 'start_time': 14}, {'task': 0, 'action': 1, 'start_time': 15}, {'task': 0, 'action': 1, 'start_time': 16}, {'task': 0, 'action': 1, 'start_time': 17}, {'task': 0, 'action': 1, 'start_time': 18}, {'task': 0, 'action': 1, 'start_time': 19}, {'task': 0, 'action': 1, 'start_time': 20}, {'task': 0, 'action': 1, 'start_time': 21}, {'task': 0, 'action': 1, 'start_time': 22}, {'task': 0, 'action': 1, 'start_time': 23}, {'task': 0, 'action': 1, 'start_time': 24}, {'task': 0, 'action': 1, 'start_time': 25}, {'task': 0, 'action': 1, 'start_time': 26}, {'task': 0, 'action': 1, 'start_time': 27}, {'task': 0, 'action': 1, 'start_time': 28}, {'task': 0, 'action': 1, 'start_time': 29}, {'task': 0, 'action': 1, 'start_time': 30}, {'task': 0, 'action': 1, 'start_time': 31}, {'task': 0, 'action': 1, 'start_time': 32}, {'task': 0, 'action': 1, 'start_time': 33}, {'task': 0, 'action': 1, 'start_time': 34}, {'task': 0, 'action': 1, 'start_time': 35}, {'task': 0, 'action': 1, 'start_time': 36}, {'task': 0, 'action': 1, 'start_time': 37}, {'task': 0, 'action': 1, 'start_time': 38}, {'task': 0, 'action': 1, 'start_time': 39}, {'task': 0, 'action': 1, 'start_time': 40}, {'task': 0, 'action': 1, 'start_time': 41}, {'task': 0, 'action': 1, 'start_time': 42}, {'task': 0, 'action': 1, 'start_time': 43}, {'task': 0, 'action': 1, 'start_time': 44}, {'task': 0, 'action': 1, 'start_time': 45}, {'task': 0, 'action': 1, 'start_time': 46}, {'task': 0, 'action': 1, 'start_time': 47}, {'task': 0, 'action': 1, 'start_time': 48}]\n",
      "\n",
      "History:\n"
     ]
    },
    {
     "data": {
      "application/vnd.plotly.v1+json": {
       "config": {
        "linkText": "Export to plot.ly",
        "plotlyServerURL": "https://plot.ly",
        "showLink": true
       },
       "data": [
        {
         "mode": "text",
         "text": [
          "Agent 0<br><b>T0 | A0</b>",
          "Agent 1<br><b>T0 | A1</b>",
          "Agent 0<br><b>T0 | A0</b>",
          "Agent 1<br><b>T0 | A1</b>",
          "Agent 0<br><b>T0 | A0</b>",
          "Agent 1<br><b>T0 | A1</b>",
          "Agent 0<br><b>T0 | A0</b>",
          "Agent 1<br><b>T0 | A1</b>",
          "Agent 0<br><b>T0 | A0</b>",
          "Agent 1<br><b>T0 | A1</b>",
          "Agent 0<br><b>T0 | A0</b>",
          "Agent 1<br><b>T0 | A1</b>",
          "Agent 0<br><b>T0 | A0</b>",
          "Agent 1<br><b>T0 | A1</b>",
          "Agent 0<br><b>T0 | A0</b>",
          "Agent 1<br><b>T0 | A1</b>",
          "Agent 0<br><b>T0 | A0</b>",
          "Agent 1<br><b>T0 | A1</b>",
          "Agent 0<br><b>T0 | A0</b>",
          "Agent 1<br><b>T0 | A1</b>",
          "Agent 0<br><b>T0 | A0</b>",
          "Agent 1<br><b>T0 | A1</b>",
          "Agent 0<br><b>T0 | A0</b>",
          "Agent 1<br><b>T0 | A1</b>",
          "Agent 0<br><b>T0 | A0</b>",
          "Agent 1<br><b>T0 | A1</b>",
          "Agent 0<br><b>T0 | A0</b>",
          "Agent 1<br><b>T0 | A1</b>",
          "Agent 0<br><b>T0 | A0</b>",
          "Agent 1<br><b>T0 | A1</b>",
          "Agent 0<br><b>T0 | A0</b>",
          "Agent 1<br><b>T0 | A1</b>",
          "Agent 0<br><b>T0 | A0</b>",
          "Agent 1<br><b>T0 | A1</b>",
          "Agent 0<br><b>T0 | A0</b>",
          "Agent 1<br><b>T0 | A1</b>",
          "Agent 0<br><b>T0 | A0</b>",
          "Agent 1<br><b>T0 | A1</b>",
          "Agent 0<br><b>T0 | A0</b>",
          "Agent 1<br><b>T0 | A1</b>",
          "Agent 0<br><b>T0 | A0</b>",
          "Agent 1<br><b>T0 | A1</b>",
          "Agent 0<br><b>T0 | A0</b>",
          "Agent 1<br><b>T0 | A1</b>",
          "Agent 0<br><b>T0 | A0</b>",
          "Agent 1<br><b>T0 | A1</b>",
          "Agent 0<br><b>T0 | A0</b>",
          "Agent 1<br><b>T0 | A1</b>",
          "Agent 0<br><b>T0 | A0</b>",
          "Agent 1<br><b>T0 | A1</b>",
          "Agent 0<br><b>T0 | A0</b>",
          "Agent 1<br><b>T0 | A1</b>",
          "Agent 0<br><b>T0 | A0</b>",
          "Agent 1<br><b>T0 | A1</b>",
          "Agent 0<br><b>T0 | A0</b>",
          "Agent 1<br><b>T0 | A1</b>",
          "Agent 0<br><b>T0 | A0</b>",
          "Agent 1<br><b>T0 | A1</b>",
          "Agent 0<br><b>T0 | A0</b>",
          "Agent 1<br><b>T0 | A1</b>",
          "Agent 0<br><b>T0 | A0</b>",
          "Agent 1<br><b>T0 | A1</b>",
          "Agent 0<br><b>T0 | A0</b>",
          "Agent 1<br><b>T0 | A1</b>",
          "Agent 0<br><b>T0 | A0</b>",
          "Agent 1<br><b>T0 | A1</b>",
          "Agent 0<br><b>T0 | A0</b>",
          "Agent 1<br><b>T0 | A1</b>",
          "Agent 0<br><b>T0 | A0</b>",
          "Agent 1<br><b>T0 | A1</b>",
          "Agent 0<br><b>T0 | A0</b>",
          "Agent 1<br><b>T0 | A1</b>",
          "Agent 0<br><b>T0 | A0</b>",
          "Agent 1<br><b>T0 | A1</b>",
          "Agent 0<br><b>T0 | A0</b>",
          "Agent 1<br><b>T0 | A1</b>",
          "Agent 0<br><b>T0 | A0</b>",
          "Agent 1<br><b>T0 | A1</b>",
          "Agent 0<br><b>T0 | A0</b>",
          "Agent 1<br><b>T0 | A1</b>",
          "Agent 0<br><b>T0 | A0</b>",
          "Agent 1<br><b>T0 | A1</b>",
          "Agent 0<br><b>T0 | A0</b>",
          "Agent 1<br><b>T0 | A1</b>",
          "Agent 0<br><b>T0 | A0</b>",
          "Agent 1<br><b>T0 | A1</b>",
          "Agent 0<br><b>T0 | A0</b>",
          "Agent 1<br><b>T0 | A1</b>",
          "Agent 0<br><b>T0 | A0</b>",
          "Agent 1<br><b>T0 | A1</b>",
          "Agent 0<br><b>T0 | A0</b>",
          "Agent 1<br><b>T0 | A1</b>",
          "Agent 0<br><b>T0 | A0</b>",
          "Agent 1<br><b>T0 | A1</b>",
          "Agent 0<br><b>T0 | A0</b>",
          "Agent 1<br><b>T0 | A1</b>",
          "Agent 0<br><b>T0 | A0</b>",
          "Agent 1<br><b>T0 | A1</b>",
          "Agent 0<br><b>T0 | A0</b>",
          "Agent 1<br><b>T0 | A1</b>"
         ],
         "type": "scatter",
         "uid": "ac2a8c69-7ad2-4292-8e72-4e83106ded61",
         "x": [
          0.5,
          0.5,
          1.5,
          1.5,
          2.5,
          2.5,
          3.5,
          3.5,
          4.5,
          4.5,
          5.5,
          5.5,
          6.5,
          6.5,
          7.5,
          7.5,
          8.5,
          8.5,
          9.5,
          9.5,
          10.5,
          10.5,
          11.5,
          11.5,
          12.5,
          12.5,
          13.5,
          13.5,
          14.5,
          14.5,
          15.5,
          15.5,
          16.5,
          16.5,
          17.5,
          17.5,
          18.5,
          18.5,
          19.5,
          19.5,
          20.5,
          20.5,
          21.5,
          21.5,
          22.5,
          22.5,
          23.5,
          23.5,
          24.5,
          24.5,
          25.5,
          25.5,
          26.5,
          26.5,
          27.5,
          27.5,
          28.5,
          28.5,
          29.5,
          29.5,
          30.5,
          30.5,
          31.5,
          31.5,
          32.5,
          32.5,
          33.5,
          33.5,
          34.5,
          34.5,
          35.5,
          35.5,
          36.5,
          36.5,
          37.5,
          37.5,
          38.5,
          38.5,
          39.5,
          39.5,
          40.5,
          40.5,
          41.5,
          41.5,
          42.5,
          42.5,
          43.5,
          43.5,
          44.5,
          44.5,
          45.5,
          45.5,
          46.5,
          46.5,
          47.5,
          47.5,
          48.5,
          48.5,
          49.5,
          49.5
         ],
         "y": [
          0.5,
          1.5,
          2.5,
          3.5,
          4.5,
          5.5,
          6.5,
          7.5,
          8.5,
          9.5,
          10.5,
          11.5,
          12.5,
          13.5,
          14.5,
          15.5,
          16.5,
          17.5,
          18.5,
          19.5,
          20.5,
          21.5,
          22.5,
          23.5,
          24.5,
          25.5,
          26.5,
          27.5,
          28.5,
          29.5,
          30.5,
          31.5,
          32.5,
          33.5,
          34.5,
          35.5,
          36.5,
          37.5,
          38.5,
          39.5,
          40.5,
          41.5,
          42.5,
          43.5,
          44.5,
          45.5,
          46.5,
          47.5,
          48.5,
          49.5,
          50.5,
          51.5,
          52.5,
          53.5,
          54.5,
          55.5,
          56.5,
          57.5,
          58.5,
          59.5,
          60.5,
          61.5,
          62.5,
          63.5,
          64.5,
          65.5,
          66.5,
          67.5,
          68.5,
          69.5,
          70.5,
          71.5,
          72.5,
          73.5,
          74.5,
          75.5,
          76.5,
          77.5,
          78.5,
          79.5,
          80.5,
          81.5,
          82.5,
          83.5,
          84.5,
          85.5,
          86.5,
          87.5,
          88.5,
          89.5,
          90.5,
          91.5,
          92.5,
          93.5,
          94.5,
          95.5,
          96.5,
          97.5,
          98.5,
          99.5
         ]
        }
       ],
       "layout": {
        "shapes": [
         {
          "fillcolor": "rgba(53, 208, 255, 0.7)",
          "line": {
           "color": "rgba(53, 208, 255, 1)",
           "width": 2
          },
          "type": "rect",
          "x0": 0,
          "x1": 1,
          "y0": 0,
          "y1": 1
         },
         {
          "fillcolor": "rgba(53, 208, 255, 0.7)",
          "line": {
           "color": "rgba(53, 208, 255, 1)",
           "width": 2
          },
          "type": "rect",
          "x0": 0,
          "x1": 1,
          "y0": 1,
          "y1": 2
         },
         {
          "fillcolor": "rgba(53, 208, 255, 0.7)",
          "line": {
           "color": "rgba(53, 208, 255, 1)",
           "width": 2
          },
          "type": "rect",
          "x0": 1,
          "x1": 2,
          "y0": 2,
          "y1": 3
         },
         {
          "fillcolor": "rgba(53, 208, 255, 0.7)",
          "line": {
           "color": "rgba(53, 208, 255, 1)",
           "width": 2
          },
          "type": "rect",
          "x0": 1,
          "x1": 2,
          "y0": 3,
          "y1": 4
         },
         {
          "fillcolor": "rgba(53, 208, 255, 0.7)",
          "line": {
           "color": "rgba(53, 208, 255, 1)",
           "width": 2
          },
          "type": "rect",
          "x0": 2,
          "x1": 3,
          "y0": 4,
          "y1": 5
         },
         {
          "fillcolor": "rgba(53, 208, 255, 0.7)",
          "line": {
           "color": "rgba(53, 208, 255, 1)",
           "width": 2
          },
          "type": "rect",
          "x0": 2,
          "x1": 3,
          "y0": 5,
          "y1": 6
         },
         {
          "fillcolor": "rgba(53, 208, 255, 0.7)",
          "line": {
           "color": "rgba(53, 208, 255, 1)",
           "width": 2
          },
          "type": "rect",
          "x0": 3,
          "x1": 4,
          "y0": 6,
          "y1": 7
         },
         {
          "fillcolor": "rgba(53, 208, 255, 0.7)",
          "line": {
           "color": "rgba(53, 208, 255, 1)",
           "width": 2
          },
          "type": "rect",
          "x0": 3,
          "x1": 4,
          "y0": 7,
          "y1": 8
         },
         {
          "fillcolor": "rgba(53, 208, 255, 0.7)",
          "line": {
           "color": "rgba(53, 208, 255, 1)",
           "width": 2
          },
          "type": "rect",
          "x0": 4,
          "x1": 5,
          "y0": 8,
          "y1": 9
         },
         {
          "fillcolor": "rgba(53, 208, 255, 0.7)",
          "line": {
           "color": "rgba(53, 208, 255, 1)",
           "width": 2
          },
          "type": "rect",
          "x0": 4,
          "x1": 5,
          "y0": 9,
          "y1": 10
         },
         {
          "fillcolor": "rgba(53, 208, 255, 0.7)",
          "line": {
           "color": "rgba(53, 208, 255, 1)",
           "width": 2
          },
          "type": "rect",
          "x0": 5,
          "x1": 6,
          "y0": 10,
          "y1": 11
         },
         {
          "fillcolor": "rgba(53, 208, 255, 0.7)",
          "line": {
           "color": "rgba(53, 208, 255, 1)",
           "width": 2
          },
          "type": "rect",
          "x0": 5,
          "x1": 6,
          "y0": 11,
          "y1": 12
         },
         {
          "fillcolor": "rgba(53, 208, 255, 0.7)",
          "line": {
           "color": "rgba(53, 208, 255, 1)",
           "width": 2
          },
          "type": "rect",
          "x0": 6,
          "x1": 7,
          "y0": 12,
          "y1": 13
         },
         {
          "fillcolor": "rgba(53, 208, 255, 0.7)",
          "line": {
           "color": "rgba(53, 208, 255, 1)",
           "width": 2
          },
          "type": "rect",
          "x0": 6,
          "x1": 7,
          "y0": 13,
          "y1": 14
         },
         {
          "fillcolor": "rgba(53, 208, 255, 0.7)",
          "line": {
           "color": "rgba(53, 208, 255, 1)",
           "width": 2
          },
          "type": "rect",
          "x0": 7,
          "x1": 8,
          "y0": 14,
          "y1": 15
         },
         {
          "fillcolor": "rgba(53, 208, 255, 0.7)",
          "line": {
           "color": "rgba(53, 208, 255, 1)",
           "width": 2
          },
          "type": "rect",
          "x0": 7,
          "x1": 8,
          "y0": 15,
          "y1": 16
         },
         {
          "fillcolor": "rgba(53, 208, 255, 0.7)",
          "line": {
           "color": "rgba(53, 208, 255, 1)",
           "width": 2
          },
          "type": "rect",
          "x0": 8,
          "x1": 9,
          "y0": 16,
          "y1": 17
         },
         {
          "fillcolor": "rgba(53, 208, 255, 0.7)",
          "line": {
           "color": "rgba(53, 208, 255, 1)",
           "width": 2
          },
          "type": "rect",
          "x0": 8,
          "x1": 9,
          "y0": 17,
          "y1": 18
         },
         {
          "fillcolor": "rgba(53, 208, 255, 0.7)",
          "line": {
           "color": "rgba(53, 208, 255, 1)",
           "width": 2
          },
          "type": "rect",
          "x0": 9,
          "x1": 10,
          "y0": 18,
          "y1": 19
         },
         {
          "fillcolor": "rgba(53, 208, 255, 0.7)",
          "line": {
           "color": "rgba(53, 208, 255, 1)",
           "width": 2
          },
          "type": "rect",
          "x0": 9,
          "x1": 10,
          "y0": 19,
          "y1": 20
         },
         {
          "fillcolor": "rgba(53, 208, 255, 0.7)",
          "line": {
           "color": "rgba(53, 208, 255, 1)",
           "width": 2
          },
          "type": "rect",
          "x0": 10,
          "x1": 11,
          "y0": 20,
          "y1": 21
         },
         {
          "fillcolor": "rgba(53, 208, 255, 0.7)",
          "line": {
           "color": "rgba(53, 208, 255, 1)",
           "width": 2
          },
          "type": "rect",
          "x0": 10,
          "x1": 11,
          "y0": 21,
          "y1": 22
         },
         {
          "fillcolor": "rgba(53, 208, 255, 0.7)",
          "line": {
           "color": "rgba(53, 208, 255, 1)",
           "width": 2
          },
          "type": "rect",
          "x0": 11,
          "x1": 12,
          "y0": 22,
          "y1": 23
         },
         {
          "fillcolor": "rgba(53, 208, 255, 0.7)",
          "line": {
           "color": "rgba(53, 208, 255, 1)",
           "width": 2
          },
          "type": "rect",
          "x0": 11,
          "x1": 12,
          "y0": 23,
          "y1": 24
         },
         {
          "fillcolor": "rgba(53, 208, 255, 0.7)",
          "line": {
           "color": "rgba(53, 208, 255, 1)",
           "width": 2
          },
          "type": "rect",
          "x0": 12,
          "x1": 13,
          "y0": 24,
          "y1": 25
         },
         {
          "fillcolor": "rgba(53, 208, 255, 0.7)",
          "line": {
           "color": "rgba(53, 208, 255, 1)",
           "width": 2
          },
          "type": "rect",
          "x0": 12,
          "x1": 13,
          "y0": 25,
          "y1": 26
         },
         {
          "fillcolor": "rgba(53, 208, 255, 0.7)",
          "line": {
           "color": "rgba(53, 208, 255, 1)",
           "width": 2
          },
          "type": "rect",
          "x0": 13,
          "x1": 14,
          "y0": 26,
          "y1": 27
         },
         {
          "fillcolor": "rgba(53, 208, 255, 0.7)",
          "line": {
           "color": "rgba(53, 208, 255, 1)",
           "width": 2
          },
          "type": "rect",
          "x0": 13,
          "x1": 14,
          "y0": 27,
          "y1": 28
         },
         {
          "fillcolor": "rgba(53, 208, 255, 0.7)",
          "line": {
           "color": "rgba(53, 208, 255, 1)",
           "width": 2
          },
          "type": "rect",
          "x0": 14,
          "x1": 15,
          "y0": 28,
          "y1": 29
         },
         {
          "fillcolor": "rgba(53, 208, 255, 0.7)",
          "line": {
           "color": "rgba(53, 208, 255, 1)",
           "width": 2
          },
          "type": "rect",
          "x0": 14,
          "x1": 15,
          "y0": 29,
          "y1": 30
         },
         {
          "fillcolor": "rgba(53, 208, 255, 0.7)",
          "line": {
           "color": "rgba(53, 208, 255, 1)",
           "width": 2
          },
          "type": "rect",
          "x0": 15,
          "x1": 16,
          "y0": 30,
          "y1": 31
         },
         {
          "fillcolor": "rgba(53, 208, 255, 0.7)",
          "line": {
           "color": "rgba(53, 208, 255, 1)",
           "width": 2
          },
          "type": "rect",
          "x0": 15,
          "x1": 16,
          "y0": 31,
          "y1": 32
         },
         {
          "fillcolor": "rgba(53, 208, 255, 0.7)",
          "line": {
           "color": "rgba(53, 208, 255, 1)",
           "width": 2
          },
          "type": "rect",
          "x0": 16,
          "x1": 17,
          "y0": 32,
          "y1": 33
         },
         {
          "fillcolor": "rgba(53, 208, 255, 0.7)",
          "line": {
           "color": "rgba(53, 208, 255, 1)",
           "width": 2
          },
          "type": "rect",
          "x0": 16,
          "x1": 17,
          "y0": 33,
          "y1": 34
         },
         {
          "fillcolor": "rgba(53, 208, 255, 0.7)",
          "line": {
           "color": "rgba(53, 208, 255, 1)",
           "width": 2
          },
          "type": "rect",
          "x0": 17,
          "x1": 18,
          "y0": 34,
          "y1": 35
         },
         {
          "fillcolor": "rgba(53, 208, 255, 0.7)",
          "line": {
           "color": "rgba(53, 208, 255, 1)",
           "width": 2
          },
          "type": "rect",
          "x0": 17,
          "x1": 18,
          "y0": 35,
          "y1": 36
         },
         {
          "fillcolor": "rgba(53, 208, 255, 0.7)",
          "line": {
           "color": "rgba(53, 208, 255, 1)",
           "width": 2
          },
          "type": "rect",
          "x0": 18,
          "x1": 19,
          "y0": 36,
          "y1": 37
         },
         {
          "fillcolor": "rgba(53, 208, 255, 0.7)",
          "line": {
           "color": "rgba(53, 208, 255, 1)",
           "width": 2
          },
          "type": "rect",
          "x0": 18,
          "x1": 19,
          "y0": 37,
          "y1": 38
         },
         {
          "fillcolor": "rgba(53, 208, 255, 0.7)",
          "line": {
           "color": "rgba(53, 208, 255, 1)",
           "width": 2
          },
          "type": "rect",
          "x0": 19,
          "x1": 20,
          "y0": 38,
          "y1": 39
         },
         {
          "fillcolor": "rgba(53, 208, 255, 0.7)",
          "line": {
           "color": "rgba(53, 208, 255, 1)",
           "width": 2
          },
          "type": "rect",
          "x0": 19,
          "x1": 20,
          "y0": 39,
          "y1": 40
         },
         {
          "fillcolor": "rgba(53, 208, 255, 0.7)",
          "line": {
           "color": "rgba(53, 208, 255, 1)",
           "width": 2
          },
          "type": "rect",
          "x0": 20,
          "x1": 21,
          "y0": 40,
          "y1": 41
         },
         {
          "fillcolor": "rgba(53, 208, 255, 0.7)",
          "line": {
           "color": "rgba(53, 208, 255, 1)",
           "width": 2
          },
          "type": "rect",
          "x0": 20,
          "x1": 21,
          "y0": 41,
          "y1": 42
         },
         {
          "fillcolor": "rgba(53, 208, 255, 0.7)",
          "line": {
           "color": "rgba(53, 208, 255, 1)",
           "width": 2
          },
          "type": "rect",
          "x0": 21,
          "x1": 22,
          "y0": 42,
          "y1": 43
         },
         {
          "fillcolor": "rgba(53, 208, 255, 0.7)",
          "line": {
           "color": "rgba(53, 208, 255, 1)",
           "width": 2
          },
          "type": "rect",
          "x0": 21,
          "x1": 22,
          "y0": 43,
          "y1": 44
         },
         {
          "fillcolor": "rgba(53, 208, 255, 0.7)",
          "line": {
           "color": "rgba(53, 208, 255, 1)",
           "width": 2
          },
          "type": "rect",
          "x0": 22,
          "x1": 23,
          "y0": 44,
          "y1": 45
         },
         {
          "fillcolor": "rgba(53, 208, 255, 0.7)",
          "line": {
           "color": "rgba(53, 208, 255, 1)",
           "width": 2
          },
          "type": "rect",
          "x0": 22,
          "x1": 23,
          "y0": 45,
          "y1": 46
         },
         {
          "fillcolor": "rgba(53, 208, 255, 0.7)",
          "line": {
           "color": "rgba(53, 208, 255, 1)",
           "width": 2
          },
          "type": "rect",
          "x0": 23,
          "x1": 24,
          "y0": 46,
          "y1": 47
         },
         {
          "fillcolor": "rgba(53, 208, 255, 0.7)",
          "line": {
           "color": "rgba(53, 208, 255, 1)",
           "width": 2
          },
          "type": "rect",
          "x0": 23,
          "x1": 24,
          "y0": 47,
          "y1": 48
         },
         {
          "fillcolor": "rgba(53, 208, 255, 0.7)",
          "line": {
           "color": "rgba(53, 208, 255, 1)",
           "width": 2
          },
          "type": "rect",
          "x0": 24,
          "x1": 25,
          "y0": 48,
          "y1": 49
         },
         {
          "fillcolor": "rgba(53, 208, 255, 0.7)",
          "line": {
           "color": "rgba(53, 208, 255, 1)",
           "width": 2
          },
          "type": "rect",
          "x0": 24,
          "x1": 25,
          "y0": 49,
          "y1": 50
         },
         {
          "fillcolor": "rgba(53, 208, 255, 0.7)",
          "line": {
           "color": "rgba(53, 208, 255, 1)",
           "width": 2
          },
          "type": "rect",
          "x0": 25,
          "x1": 26,
          "y0": 50,
          "y1": 51
         },
         {
          "fillcolor": "rgba(53, 208, 255, 0.7)",
          "line": {
           "color": "rgba(53, 208, 255, 1)",
           "width": 2
          },
          "type": "rect",
          "x0": 25,
          "x1": 26,
          "y0": 51,
          "y1": 52
         },
         {
          "fillcolor": "rgba(53, 208, 255, 0.7)",
          "line": {
           "color": "rgba(53, 208, 255, 1)",
           "width": 2
          },
          "type": "rect",
          "x0": 26,
          "x1": 27,
          "y0": 52,
          "y1": 53
         },
         {
          "fillcolor": "rgba(53, 208, 255, 0.7)",
          "line": {
           "color": "rgba(53, 208, 255, 1)",
           "width": 2
          },
          "type": "rect",
          "x0": 26,
          "x1": 27,
          "y0": 53,
          "y1": 54
         },
         {
          "fillcolor": "rgba(53, 208, 255, 0.7)",
          "line": {
           "color": "rgba(53, 208, 255, 1)",
           "width": 2
          },
          "type": "rect",
          "x0": 27,
          "x1": 28,
          "y0": 54,
          "y1": 55
         },
         {
          "fillcolor": "rgba(53, 208, 255, 0.7)",
          "line": {
           "color": "rgba(53, 208, 255, 1)",
           "width": 2
          },
          "type": "rect",
          "x0": 27,
          "x1": 28,
          "y0": 55,
          "y1": 56
         },
         {
          "fillcolor": "rgba(53, 208, 255, 0.7)",
          "line": {
           "color": "rgba(53, 208, 255, 1)",
           "width": 2
          },
          "type": "rect",
          "x0": 28,
          "x1": 29,
          "y0": 56,
          "y1": 57
         },
         {
          "fillcolor": "rgba(53, 208, 255, 0.7)",
          "line": {
           "color": "rgba(53, 208, 255, 1)",
           "width": 2
          },
          "type": "rect",
          "x0": 28,
          "x1": 29,
          "y0": 57,
          "y1": 58
         },
         {
          "fillcolor": "rgba(53, 208, 255, 0.7)",
          "line": {
           "color": "rgba(53, 208, 255, 1)",
           "width": 2
          },
          "type": "rect",
          "x0": 29,
          "x1": 30,
          "y0": 58,
          "y1": 59
         },
         {
          "fillcolor": "rgba(53, 208, 255, 0.7)",
          "line": {
           "color": "rgba(53, 208, 255, 1)",
           "width": 2
          },
          "type": "rect",
          "x0": 29,
          "x1": 30,
          "y0": 59,
          "y1": 60
         },
         {
          "fillcolor": "rgba(53, 208, 255, 0.7)",
          "line": {
           "color": "rgba(53, 208, 255, 1)",
           "width": 2
          },
          "type": "rect",
          "x0": 30,
          "x1": 31,
          "y0": 60,
          "y1": 61
         },
         {
          "fillcolor": "rgba(53, 208, 255, 0.7)",
          "line": {
           "color": "rgba(53, 208, 255, 1)",
           "width": 2
          },
          "type": "rect",
          "x0": 30,
          "x1": 31,
          "y0": 61,
          "y1": 62
         },
         {
          "fillcolor": "rgba(53, 208, 255, 0.7)",
          "line": {
           "color": "rgba(53, 208, 255, 1)",
           "width": 2
          },
          "type": "rect",
          "x0": 31,
          "x1": 32,
          "y0": 62,
          "y1": 63
         },
         {
          "fillcolor": "rgba(53, 208, 255, 0.7)",
          "line": {
           "color": "rgba(53, 208, 255, 1)",
           "width": 2
          },
          "type": "rect",
          "x0": 31,
          "x1": 32,
          "y0": 63,
          "y1": 64
         },
         {
          "fillcolor": "rgba(53, 208, 255, 0.7)",
          "line": {
           "color": "rgba(53, 208, 255, 1)",
           "width": 2
          },
          "type": "rect",
          "x0": 32,
          "x1": 33,
          "y0": 64,
          "y1": 65
         },
         {
          "fillcolor": "rgba(53, 208, 255, 0.7)",
          "line": {
           "color": "rgba(53, 208, 255, 1)",
           "width": 2
          },
          "type": "rect",
          "x0": 32,
          "x1": 33,
          "y0": 65,
          "y1": 66
         },
         {
          "fillcolor": "rgba(53, 208, 255, 0.7)",
          "line": {
           "color": "rgba(53, 208, 255, 1)",
           "width": 2
          },
          "type": "rect",
          "x0": 33,
          "x1": 34,
          "y0": 66,
          "y1": 67
         },
         {
          "fillcolor": "rgba(53, 208, 255, 0.7)",
          "line": {
           "color": "rgba(53, 208, 255, 1)",
           "width": 2
          },
          "type": "rect",
          "x0": 33,
          "x1": 34,
          "y0": 67,
          "y1": 68
         },
         {
          "fillcolor": "rgba(53, 208, 255, 0.7)",
          "line": {
           "color": "rgba(53, 208, 255, 1)",
           "width": 2
          },
          "type": "rect",
          "x0": 34,
          "x1": 35,
          "y0": 68,
          "y1": 69
         },
         {
          "fillcolor": "rgba(53, 208, 255, 0.7)",
          "line": {
           "color": "rgba(53, 208, 255, 1)",
           "width": 2
          },
          "type": "rect",
          "x0": 34,
          "x1": 35,
          "y0": 69,
          "y1": 70
         },
         {
          "fillcolor": "rgba(53, 208, 255, 0.7)",
          "line": {
           "color": "rgba(53, 208, 255, 1)",
           "width": 2
          },
          "type": "rect",
          "x0": 35,
          "x1": 36,
          "y0": 70,
          "y1": 71
         },
         {
          "fillcolor": "rgba(53, 208, 255, 0.7)",
          "line": {
           "color": "rgba(53, 208, 255, 1)",
           "width": 2
          },
          "type": "rect",
          "x0": 35,
          "x1": 36,
          "y0": 71,
          "y1": 72
         },
         {
          "fillcolor": "rgba(53, 208, 255, 0.7)",
          "line": {
           "color": "rgba(53, 208, 255, 1)",
           "width": 2
          },
          "type": "rect",
          "x0": 36,
          "x1": 37,
          "y0": 72,
          "y1": 73
         },
         {
          "fillcolor": "rgba(53, 208, 255, 0.7)",
          "line": {
           "color": "rgba(53, 208, 255, 1)",
           "width": 2
          },
          "type": "rect",
          "x0": 36,
          "x1": 37,
          "y0": 73,
          "y1": 74
         },
         {
          "fillcolor": "rgba(53, 208, 255, 0.7)",
          "line": {
           "color": "rgba(53, 208, 255, 1)",
           "width": 2
          },
          "type": "rect",
          "x0": 37,
          "x1": 38,
          "y0": 74,
          "y1": 75
         },
         {
          "fillcolor": "rgba(53, 208, 255, 0.7)",
          "line": {
           "color": "rgba(53, 208, 255, 1)",
           "width": 2
          },
          "type": "rect",
          "x0": 37,
          "x1": 38,
          "y0": 75,
          "y1": 76
         },
         {
          "fillcolor": "rgba(53, 208, 255, 0.7)",
          "line": {
           "color": "rgba(53, 208, 255, 1)",
           "width": 2
          },
          "type": "rect",
          "x0": 38,
          "x1": 39,
          "y0": 76,
          "y1": 77
         },
         {
          "fillcolor": "rgba(53, 208, 255, 0.7)",
          "line": {
           "color": "rgba(53, 208, 255, 1)",
           "width": 2
          },
          "type": "rect",
          "x0": 38,
          "x1": 39,
          "y0": 77,
          "y1": 78
         },
         {
          "fillcolor": "rgba(53, 208, 255, 0.7)",
          "line": {
           "color": "rgba(53, 208, 255, 1)",
           "width": 2
          },
          "type": "rect",
          "x0": 39,
          "x1": 40,
          "y0": 78,
          "y1": 79
         },
         {
          "fillcolor": "rgba(53, 208, 255, 0.7)",
          "line": {
           "color": "rgba(53, 208, 255, 1)",
           "width": 2
          },
          "type": "rect",
          "x0": 39,
          "x1": 40,
          "y0": 79,
          "y1": 80
         },
         {
          "fillcolor": "rgba(53, 208, 255, 0.7)",
          "line": {
           "color": "rgba(53, 208, 255, 1)",
           "width": 2
          },
          "type": "rect",
          "x0": 40,
          "x1": 41,
          "y0": 80,
          "y1": 81
         },
         {
          "fillcolor": "rgba(53, 208, 255, 0.7)",
          "line": {
           "color": "rgba(53, 208, 255, 1)",
           "width": 2
          },
          "type": "rect",
          "x0": 40,
          "x1": 41,
          "y0": 81,
          "y1": 82
         },
         {
          "fillcolor": "rgba(53, 208, 255, 0.7)",
          "line": {
           "color": "rgba(53, 208, 255, 1)",
           "width": 2
          },
          "type": "rect",
          "x0": 41,
          "x1": 42,
          "y0": 82,
          "y1": 83
         },
         {
          "fillcolor": "rgba(53, 208, 255, 0.7)",
          "line": {
           "color": "rgba(53, 208, 255, 1)",
           "width": 2
          },
          "type": "rect",
          "x0": 41,
          "x1": 42,
          "y0": 83,
          "y1": 84
         },
         {
          "fillcolor": "rgba(53, 208, 255, 0.7)",
          "line": {
           "color": "rgba(53, 208, 255, 1)",
           "width": 2
          },
          "type": "rect",
          "x0": 42,
          "x1": 43,
          "y0": 84,
          "y1": 85
         },
         {
          "fillcolor": "rgba(53, 208, 255, 0.7)",
          "line": {
           "color": "rgba(53, 208, 255, 1)",
           "width": 2
          },
          "type": "rect",
          "x0": 42,
          "x1": 43,
          "y0": 85,
          "y1": 86
         },
         {
          "fillcolor": "rgba(53, 208, 255, 0.7)",
          "line": {
           "color": "rgba(53, 208, 255, 1)",
           "width": 2
          },
          "type": "rect",
          "x0": 43,
          "x1": 44,
          "y0": 86,
          "y1": 87
         },
         {
          "fillcolor": "rgba(53, 208, 255, 0.7)",
          "line": {
           "color": "rgba(53, 208, 255, 1)",
           "width": 2
          },
          "type": "rect",
          "x0": 43,
          "x1": 44,
          "y0": 87,
          "y1": 88
         },
         {
          "fillcolor": "rgba(53, 208, 255, 0.7)",
          "line": {
           "color": "rgba(53, 208, 255, 1)",
           "width": 2
          },
          "type": "rect",
          "x0": 44,
          "x1": 45,
          "y0": 88,
          "y1": 89
         },
         {
          "fillcolor": "rgba(53, 208, 255, 0.7)",
          "line": {
           "color": "rgba(53, 208, 255, 1)",
           "width": 2
          },
          "type": "rect",
          "x0": 44,
          "x1": 45,
          "y0": 89,
          "y1": 90
         },
         {
          "fillcolor": "rgba(53, 208, 255, 0.7)",
          "line": {
           "color": "rgba(53, 208, 255, 1)",
           "width": 2
          },
          "type": "rect",
          "x0": 45,
          "x1": 46,
          "y0": 90,
          "y1": 91
         },
         {
          "fillcolor": "rgba(53, 208, 255, 0.7)",
          "line": {
           "color": "rgba(53, 208, 255, 1)",
           "width": 2
          },
          "type": "rect",
          "x0": 45,
          "x1": 46,
          "y0": 91,
          "y1": 92
         },
         {
          "fillcolor": "rgba(53, 208, 255, 0.7)",
          "line": {
           "color": "rgba(53, 208, 255, 1)",
           "width": 2
          },
          "type": "rect",
          "x0": 46,
          "x1": 47,
          "y0": 92,
          "y1": 93
         },
         {
          "fillcolor": "rgba(53, 208, 255, 0.7)",
          "line": {
           "color": "rgba(53, 208, 255, 1)",
           "width": 2
          },
          "type": "rect",
          "x0": 46,
          "x1": 47,
          "y0": 93,
          "y1": 94
         },
         {
          "fillcolor": "rgba(53, 208, 255, 0.7)",
          "line": {
           "color": "rgba(53, 208, 255, 1)",
           "width": 2
          },
          "type": "rect",
          "x0": 47,
          "x1": 48,
          "y0": 94,
          "y1": 95
         },
         {
          "fillcolor": "rgba(53, 208, 255, 0.7)",
          "line": {
           "color": "rgba(53, 208, 255, 1)",
           "width": 2
          },
          "type": "rect",
          "x0": 47,
          "x1": 48,
          "y0": 95,
          "y1": 96
         },
         {
          "fillcolor": "rgba(53, 208, 255, 0.7)",
          "line": {
           "color": "rgba(53, 208, 255, 1)",
           "width": 2
          },
          "type": "rect",
          "x0": 48,
          "x1": 49,
          "y0": 96,
          "y1": 97
         },
         {
          "fillcolor": "rgba(53, 208, 255, 0.7)",
          "line": {
           "color": "rgba(53, 208, 255, 1)",
           "width": 2
          },
          "type": "rect",
          "x0": 48,
          "x1": 49,
          "y0": 97,
          "y1": 98
         },
         {
          "fillcolor": "rgba(53, 208, 255, 0.7)",
          "line": {
           "color": "rgba(53, 208, 255, 1)",
           "width": 2
          },
          "type": "rect",
          "x0": 49,
          "x1": 50,
          "y0": 98,
          "y1": 99
         },
         {
          "fillcolor": "rgba(53, 208, 255, 0.7)",
          "line": {
           "color": "rgba(53, 208, 255, 1)",
           "width": 2
          },
          "type": "rect",
          "x0": 49,
          "x1": 50,
          "y0": 99,
          "y1": 100
         }
        ],
        "xaxis": {
         "autorange": true,
         "showgrid": false
        },
        "yaxis": {
         "range": [
          0,
          102
         ]
        }
       }
      },
      "text/html": [
       "<div id=\"ed7d5629-54d2-4f30-96e7-5d18e0ce3171\" style=\"height: 525px; width: 100%;\" class=\"plotly-graph-div\"></div><script type=\"text/javascript\">require([\"plotly\"], function(Plotly) { window.PLOTLYENV=window.PLOTLYENV || {};window.PLOTLYENV.BASE_URL=\"https://plot.ly\";Plotly.newPlot(\"ed7d5629-54d2-4f30-96e7-5d18e0ce3171\", [{\"mode\": \"text\", \"text\": [\"Agent 0<br><b>T0 | A0</b>\", \"Agent 1<br><b>T0 | A1</b>\", \"Agent 0<br><b>T0 | A0</b>\", \"Agent 1<br><b>T0 | A1</b>\", \"Agent 0<br><b>T0 | A0</b>\", \"Agent 1<br><b>T0 | A1</b>\", \"Agent 0<br><b>T0 | A0</b>\", \"Agent 1<br><b>T0 | A1</b>\", \"Agent 0<br><b>T0 | A0</b>\", \"Agent 1<br><b>T0 | A1</b>\", \"Agent 0<br><b>T0 | A0</b>\", \"Agent 1<br><b>T0 | A1</b>\", \"Agent 0<br><b>T0 | A0</b>\", \"Agent 1<br><b>T0 | A1</b>\", \"Agent 0<br><b>T0 | A0</b>\", \"Agent 1<br><b>T0 | A1</b>\", \"Agent 0<br><b>T0 | A0</b>\", \"Agent 1<br><b>T0 | A1</b>\", \"Agent 0<br><b>T0 | A0</b>\", \"Agent 1<br><b>T0 | A1</b>\", \"Agent 0<br><b>T0 | A0</b>\", \"Agent 1<br><b>T0 | A1</b>\", \"Agent 0<br><b>T0 | A0</b>\", \"Agent 1<br><b>T0 | A1</b>\", \"Agent 0<br><b>T0 | A0</b>\", \"Agent 1<br><b>T0 | A1</b>\", \"Agent 0<br><b>T0 | A0</b>\", \"Agent 1<br><b>T0 | A1</b>\", \"Agent 0<br><b>T0 | A0</b>\", \"Agent 1<br><b>T0 | A1</b>\", \"Agent 0<br><b>T0 | A0</b>\", \"Agent 1<br><b>T0 | A1</b>\", \"Agent 0<br><b>T0 | A0</b>\", \"Agent 1<br><b>T0 | A1</b>\", \"Agent 0<br><b>T0 | A0</b>\", \"Agent 1<br><b>T0 | A1</b>\", \"Agent 0<br><b>T0 | A0</b>\", \"Agent 1<br><b>T0 | A1</b>\", \"Agent 0<br><b>T0 | A0</b>\", \"Agent 1<br><b>T0 | A1</b>\", \"Agent 0<br><b>T0 | A0</b>\", \"Agent 1<br><b>T0 | A1</b>\", \"Agent 0<br><b>T0 | A0</b>\", \"Agent 1<br><b>T0 | A1</b>\", \"Agent 0<br><b>T0 | A0</b>\", \"Agent 1<br><b>T0 | A1</b>\", \"Agent 0<br><b>T0 | A0</b>\", \"Agent 1<br><b>T0 | A1</b>\", \"Agent 0<br><b>T0 | A0</b>\", \"Agent 1<br><b>T0 | A1</b>\", \"Agent 0<br><b>T0 | A0</b>\", \"Agent 1<br><b>T0 | A1</b>\", \"Agent 0<br><b>T0 | A0</b>\", \"Agent 1<br><b>T0 | A1</b>\", \"Agent 0<br><b>T0 | A0</b>\", \"Agent 1<br><b>T0 | A1</b>\", \"Agent 0<br><b>T0 | A0</b>\", \"Agent 1<br><b>T0 | A1</b>\", \"Agent 0<br><b>T0 | A0</b>\", \"Agent 1<br><b>T0 | A1</b>\", \"Agent 0<br><b>T0 | A0</b>\", \"Agent 1<br><b>T0 | A1</b>\", \"Agent 0<br><b>T0 | A0</b>\", \"Agent 1<br><b>T0 | A1</b>\", \"Agent 0<br><b>T0 | A0</b>\", \"Agent 1<br><b>T0 | A1</b>\", \"Agent 0<br><b>T0 | A0</b>\", \"Agent 1<br><b>T0 | A1</b>\", \"Agent 0<br><b>T0 | A0</b>\", \"Agent 1<br><b>T0 | A1</b>\", \"Agent 0<br><b>T0 | A0</b>\", \"Agent 1<br><b>T0 | A1</b>\", \"Agent 0<br><b>T0 | A0</b>\", \"Agent 1<br><b>T0 | A1</b>\", \"Agent 0<br><b>T0 | A0</b>\", \"Agent 1<br><b>T0 | A1</b>\", \"Agent 0<br><b>T0 | A0</b>\", \"Agent 1<br><b>T0 | A1</b>\", \"Agent 0<br><b>T0 | A0</b>\", \"Agent 1<br><b>T0 | A1</b>\", \"Agent 0<br><b>T0 | A0</b>\", \"Agent 1<br><b>T0 | A1</b>\", \"Agent 0<br><b>T0 | A0</b>\", \"Agent 1<br><b>T0 | A1</b>\", \"Agent 0<br><b>T0 | A0</b>\", \"Agent 1<br><b>T0 | A1</b>\", \"Agent 0<br><b>T0 | A0</b>\", \"Agent 1<br><b>T0 | A1</b>\", \"Agent 0<br><b>T0 | A0</b>\", \"Agent 1<br><b>T0 | A1</b>\", \"Agent 0<br><b>T0 | A0</b>\", \"Agent 1<br><b>T0 | A1</b>\", \"Agent 0<br><b>T0 | A0</b>\", \"Agent 1<br><b>T0 | A1</b>\", \"Agent 0<br><b>T0 | A0</b>\", \"Agent 1<br><b>T0 | A1</b>\", \"Agent 0<br><b>T0 | A0</b>\", \"Agent 1<br><b>T0 | A1</b>\", \"Agent 0<br><b>T0 | A0</b>\", \"Agent 1<br><b>T0 | A1</b>\"], \"x\": [0.5, 0.5, 1.5, 1.5, 2.5, 2.5, 3.5, 3.5, 4.5, 4.5, 5.5, 5.5, 6.5, 6.5, 7.5, 7.5, 8.5, 8.5, 9.5, 9.5, 10.5, 10.5, 11.5, 11.5, 12.5, 12.5, 13.5, 13.5, 14.5, 14.5, 15.5, 15.5, 16.5, 16.5, 17.5, 17.5, 18.5, 18.5, 19.5, 19.5, 20.5, 20.5, 21.5, 21.5, 22.5, 22.5, 23.5, 23.5, 24.5, 24.5, 25.5, 25.5, 26.5, 26.5, 27.5, 27.5, 28.5, 28.5, 29.5, 29.5, 30.5, 30.5, 31.5, 31.5, 32.5, 32.5, 33.5, 33.5, 34.5, 34.5, 35.5, 35.5, 36.5, 36.5, 37.5, 37.5, 38.5, 38.5, 39.5, 39.5, 40.5, 40.5, 41.5, 41.5, 42.5, 42.5, 43.5, 43.5, 44.5, 44.5, 45.5, 45.5, 46.5, 46.5, 47.5, 47.5, 48.5, 48.5, 49.5, 49.5], \"y\": [0.5, 1.5, 2.5, 3.5, 4.5, 5.5, 6.5, 7.5, 8.5, 9.5, 10.5, 11.5, 12.5, 13.5, 14.5, 15.5, 16.5, 17.5, 18.5, 19.5, 20.5, 21.5, 22.5, 23.5, 24.5, 25.5, 26.5, 27.5, 28.5, 29.5, 30.5, 31.5, 32.5, 33.5, 34.5, 35.5, 36.5, 37.5, 38.5, 39.5, 40.5, 41.5, 42.5, 43.5, 44.5, 45.5, 46.5, 47.5, 48.5, 49.5, 50.5, 51.5, 52.5, 53.5, 54.5, 55.5, 56.5, 57.5, 58.5, 59.5, 60.5, 61.5, 62.5, 63.5, 64.5, 65.5, 66.5, 67.5, 68.5, 69.5, 70.5, 71.5, 72.5, 73.5, 74.5, 75.5, 76.5, 77.5, 78.5, 79.5, 80.5, 81.5, 82.5, 83.5, 84.5, 85.5, 86.5, 87.5, 88.5, 89.5, 90.5, 91.5, 92.5, 93.5, 94.5, 95.5, 96.5, 97.5, 98.5, 99.5], \"type\": \"scatter\", \"uid\": \"9fd84fef-e800-4a20-bbe7-9ca4236e9e63\"}], {\"shapes\": [{\"fillcolor\": \"rgba(53, 208, 255, 0.7)\", \"line\": {\"color\": \"rgba(53, 208, 255, 1)\", \"width\": 2}, \"type\": \"rect\", \"x0\": 0, \"x1\": 1, \"y0\": 0, \"y1\": 1}, {\"fillcolor\": \"rgba(53, 208, 255, 0.7)\", \"line\": {\"color\": \"rgba(53, 208, 255, 1)\", \"width\": 2}, \"type\": \"rect\", \"x0\": 0, \"x1\": 1, \"y0\": 1, \"y1\": 2}, {\"fillcolor\": \"rgba(53, 208, 255, 0.7)\", \"line\": {\"color\": \"rgba(53, 208, 255, 1)\", \"width\": 2}, \"type\": \"rect\", \"x0\": 1, \"x1\": 2, \"y0\": 2, \"y1\": 3}, {\"fillcolor\": \"rgba(53, 208, 255, 0.7)\", \"line\": {\"color\": \"rgba(53, 208, 255, 1)\", \"width\": 2}, \"type\": \"rect\", \"x0\": 1, \"x1\": 2, \"y0\": 3, \"y1\": 4}, {\"fillcolor\": \"rgba(53, 208, 255, 0.7)\", \"line\": {\"color\": \"rgba(53, 208, 255, 1)\", \"width\": 2}, \"type\": \"rect\", \"x0\": 2, \"x1\": 3, \"y0\": 4, \"y1\": 5}, {\"fillcolor\": \"rgba(53, 208, 255, 0.7)\", \"line\": {\"color\": \"rgba(53, 208, 255, 1)\", \"width\": 2}, \"type\": \"rect\", \"x0\": 2, \"x1\": 3, \"y0\": 5, \"y1\": 6}, {\"fillcolor\": \"rgba(53, 208, 255, 0.7)\", \"line\": {\"color\": \"rgba(53, 208, 255, 1)\", \"width\": 2}, \"type\": \"rect\", \"x0\": 3, \"x1\": 4, \"y0\": 6, \"y1\": 7}, {\"fillcolor\": \"rgba(53, 208, 255, 0.7)\", \"line\": {\"color\": \"rgba(53, 208, 255, 1)\", \"width\": 2}, \"type\": \"rect\", \"x0\": 3, \"x1\": 4, \"y0\": 7, \"y1\": 8}, {\"fillcolor\": \"rgba(53, 208, 255, 0.7)\", \"line\": {\"color\": \"rgba(53, 208, 255, 1)\", \"width\": 2}, \"type\": \"rect\", \"x0\": 4, \"x1\": 5, \"y0\": 8, \"y1\": 9}, {\"fillcolor\": \"rgba(53, 208, 255, 0.7)\", \"line\": {\"color\": \"rgba(53, 208, 255, 1)\", \"width\": 2}, \"type\": \"rect\", \"x0\": 4, \"x1\": 5, \"y0\": 9, \"y1\": 10}, {\"fillcolor\": \"rgba(53, 208, 255, 0.7)\", \"line\": {\"color\": \"rgba(53, 208, 255, 1)\", \"width\": 2}, \"type\": \"rect\", \"x0\": 5, \"x1\": 6, \"y0\": 10, \"y1\": 11}, {\"fillcolor\": \"rgba(53, 208, 255, 0.7)\", \"line\": {\"color\": \"rgba(53, 208, 255, 1)\", \"width\": 2}, \"type\": \"rect\", \"x0\": 5, \"x1\": 6, \"y0\": 11, \"y1\": 12}, {\"fillcolor\": \"rgba(53, 208, 255, 0.7)\", \"line\": {\"color\": \"rgba(53, 208, 255, 1)\", \"width\": 2}, \"type\": \"rect\", \"x0\": 6, \"x1\": 7, \"y0\": 12, \"y1\": 13}, {\"fillcolor\": \"rgba(53, 208, 255, 0.7)\", \"line\": {\"color\": \"rgba(53, 208, 255, 1)\", \"width\": 2}, \"type\": \"rect\", \"x0\": 6, \"x1\": 7, \"y0\": 13, \"y1\": 14}, {\"fillcolor\": \"rgba(53, 208, 255, 0.7)\", \"line\": {\"color\": \"rgba(53, 208, 255, 1)\", \"width\": 2}, \"type\": \"rect\", \"x0\": 7, \"x1\": 8, \"y0\": 14, \"y1\": 15}, {\"fillcolor\": \"rgba(53, 208, 255, 0.7)\", \"line\": {\"color\": \"rgba(53, 208, 255, 1)\", \"width\": 2}, \"type\": \"rect\", \"x0\": 7, \"x1\": 8, \"y0\": 15, \"y1\": 16}, {\"fillcolor\": \"rgba(53, 208, 255, 0.7)\", \"line\": {\"color\": \"rgba(53, 208, 255, 1)\", \"width\": 2}, \"type\": \"rect\", \"x0\": 8, \"x1\": 9, \"y0\": 16, \"y1\": 17}, {\"fillcolor\": \"rgba(53, 208, 255, 0.7)\", \"line\": {\"color\": \"rgba(53, 208, 255, 1)\", \"width\": 2}, \"type\": \"rect\", \"x0\": 8, \"x1\": 9, \"y0\": 17, \"y1\": 18}, {\"fillcolor\": \"rgba(53, 208, 255, 0.7)\", \"line\": {\"color\": \"rgba(53, 208, 255, 1)\", \"width\": 2}, \"type\": \"rect\", \"x0\": 9, \"x1\": 10, \"y0\": 18, \"y1\": 19}, {\"fillcolor\": \"rgba(53, 208, 255, 0.7)\", \"line\": {\"color\": \"rgba(53, 208, 255, 1)\", \"width\": 2}, \"type\": \"rect\", \"x0\": 9, \"x1\": 10, \"y0\": 19, \"y1\": 20}, {\"fillcolor\": \"rgba(53, 208, 255, 0.7)\", \"line\": {\"color\": \"rgba(53, 208, 255, 1)\", \"width\": 2}, \"type\": \"rect\", \"x0\": 10, \"x1\": 11, \"y0\": 20, \"y1\": 21}, {\"fillcolor\": \"rgba(53, 208, 255, 0.7)\", \"line\": {\"color\": \"rgba(53, 208, 255, 1)\", \"width\": 2}, \"type\": \"rect\", \"x0\": 10, \"x1\": 11, \"y0\": 21, \"y1\": 22}, {\"fillcolor\": \"rgba(53, 208, 255, 0.7)\", \"line\": {\"color\": \"rgba(53, 208, 255, 1)\", \"width\": 2}, \"type\": \"rect\", \"x0\": 11, \"x1\": 12, \"y0\": 22, \"y1\": 23}, {\"fillcolor\": \"rgba(53, 208, 255, 0.7)\", \"line\": {\"color\": \"rgba(53, 208, 255, 1)\", \"width\": 2}, \"type\": \"rect\", \"x0\": 11, \"x1\": 12, \"y0\": 23, \"y1\": 24}, {\"fillcolor\": \"rgba(53, 208, 255, 0.7)\", \"line\": {\"color\": \"rgba(53, 208, 255, 1)\", \"width\": 2}, \"type\": \"rect\", \"x0\": 12, \"x1\": 13, \"y0\": 24, \"y1\": 25}, {\"fillcolor\": \"rgba(53, 208, 255, 0.7)\", \"line\": {\"color\": \"rgba(53, 208, 255, 1)\", \"width\": 2}, \"type\": \"rect\", \"x0\": 12, \"x1\": 13, \"y0\": 25, \"y1\": 26}, {\"fillcolor\": \"rgba(53, 208, 255, 0.7)\", \"line\": {\"color\": \"rgba(53, 208, 255, 1)\", \"width\": 2}, \"type\": \"rect\", \"x0\": 13, \"x1\": 14, \"y0\": 26, \"y1\": 27}, {\"fillcolor\": \"rgba(53, 208, 255, 0.7)\", \"line\": {\"color\": \"rgba(53, 208, 255, 1)\", \"width\": 2}, \"type\": \"rect\", \"x0\": 13, \"x1\": 14, \"y0\": 27, \"y1\": 28}, {\"fillcolor\": \"rgba(53, 208, 255, 0.7)\", \"line\": {\"color\": \"rgba(53, 208, 255, 1)\", \"width\": 2}, \"type\": \"rect\", \"x0\": 14, \"x1\": 15, \"y0\": 28, \"y1\": 29}, {\"fillcolor\": \"rgba(53, 208, 255, 0.7)\", \"line\": {\"color\": \"rgba(53, 208, 255, 1)\", \"width\": 2}, \"type\": \"rect\", \"x0\": 14, \"x1\": 15, \"y0\": 29, \"y1\": 30}, {\"fillcolor\": \"rgba(53, 208, 255, 0.7)\", \"line\": {\"color\": \"rgba(53, 208, 255, 1)\", \"width\": 2}, \"type\": \"rect\", \"x0\": 15, \"x1\": 16, \"y0\": 30, \"y1\": 31}, {\"fillcolor\": \"rgba(53, 208, 255, 0.7)\", \"line\": {\"color\": \"rgba(53, 208, 255, 1)\", \"width\": 2}, \"type\": \"rect\", \"x0\": 15, \"x1\": 16, \"y0\": 31, \"y1\": 32}, {\"fillcolor\": \"rgba(53, 208, 255, 0.7)\", \"line\": {\"color\": \"rgba(53, 208, 255, 1)\", \"width\": 2}, \"type\": \"rect\", \"x0\": 16, \"x1\": 17, \"y0\": 32, \"y1\": 33}, {\"fillcolor\": \"rgba(53, 208, 255, 0.7)\", \"line\": {\"color\": \"rgba(53, 208, 255, 1)\", \"width\": 2}, \"type\": \"rect\", \"x0\": 16, \"x1\": 17, \"y0\": 33, \"y1\": 34}, {\"fillcolor\": \"rgba(53, 208, 255, 0.7)\", \"line\": {\"color\": \"rgba(53, 208, 255, 1)\", \"width\": 2}, \"type\": \"rect\", \"x0\": 17, \"x1\": 18, \"y0\": 34, \"y1\": 35}, {\"fillcolor\": \"rgba(53, 208, 255, 0.7)\", \"line\": {\"color\": \"rgba(53, 208, 255, 1)\", \"width\": 2}, \"type\": \"rect\", \"x0\": 17, \"x1\": 18, \"y0\": 35, \"y1\": 36}, {\"fillcolor\": \"rgba(53, 208, 255, 0.7)\", \"line\": {\"color\": \"rgba(53, 208, 255, 1)\", \"width\": 2}, \"type\": \"rect\", \"x0\": 18, \"x1\": 19, \"y0\": 36, \"y1\": 37}, {\"fillcolor\": \"rgba(53, 208, 255, 0.7)\", \"line\": {\"color\": \"rgba(53, 208, 255, 1)\", \"width\": 2}, \"type\": \"rect\", \"x0\": 18, \"x1\": 19, \"y0\": 37, \"y1\": 38}, {\"fillcolor\": \"rgba(53, 208, 255, 0.7)\", \"line\": {\"color\": \"rgba(53, 208, 255, 1)\", \"width\": 2}, \"type\": \"rect\", \"x0\": 19, \"x1\": 20, \"y0\": 38, \"y1\": 39}, {\"fillcolor\": \"rgba(53, 208, 255, 0.7)\", \"line\": {\"color\": \"rgba(53, 208, 255, 1)\", \"width\": 2}, \"type\": \"rect\", \"x0\": 19, \"x1\": 20, \"y0\": 39, \"y1\": 40}, {\"fillcolor\": \"rgba(53, 208, 255, 0.7)\", \"line\": {\"color\": \"rgba(53, 208, 255, 1)\", \"width\": 2}, \"type\": \"rect\", \"x0\": 20, \"x1\": 21, \"y0\": 40, \"y1\": 41}, {\"fillcolor\": \"rgba(53, 208, 255, 0.7)\", \"line\": {\"color\": \"rgba(53, 208, 255, 1)\", \"width\": 2}, \"type\": \"rect\", \"x0\": 20, \"x1\": 21, \"y0\": 41, \"y1\": 42}, {\"fillcolor\": \"rgba(53, 208, 255, 0.7)\", \"line\": {\"color\": \"rgba(53, 208, 255, 1)\", \"width\": 2}, \"type\": \"rect\", \"x0\": 21, \"x1\": 22, \"y0\": 42, \"y1\": 43}, {\"fillcolor\": \"rgba(53, 208, 255, 0.7)\", \"line\": {\"color\": \"rgba(53, 208, 255, 1)\", \"width\": 2}, \"type\": \"rect\", \"x0\": 21, \"x1\": 22, \"y0\": 43, \"y1\": 44}, {\"fillcolor\": \"rgba(53, 208, 255, 0.7)\", \"line\": {\"color\": \"rgba(53, 208, 255, 1)\", \"width\": 2}, \"type\": \"rect\", \"x0\": 22, \"x1\": 23, \"y0\": 44, \"y1\": 45}, {\"fillcolor\": \"rgba(53, 208, 255, 0.7)\", \"line\": {\"color\": \"rgba(53, 208, 255, 1)\", \"width\": 2}, \"type\": \"rect\", \"x0\": 22, \"x1\": 23, \"y0\": 45, \"y1\": 46}, {\"fillcolor\": \"rgba(53, 208, 255, 0.7)\", \"line\": {\"color\": \"rgba(53, 208, 255, 1)\", \"width\": 2}, \"type\": \"rect\", \"x0\": 23, \"x1\": 24, \"y0\": 46, \"y1\": 47}, {\"fillcolor\": \"rgba(53, 208, 255, 0.7)\", \"line\": {\"color\": \"rgba(53, 208, 255, 1)\", \"width\": 2}, \"type\": \"rect\", \"x0\": 23, \"x1\": 24, \"y0\": 47, \"y1\": 48}, {\"fillcolor\": \"rgba(53, 208, 255, 0.7)\", \"line\": {\"color\": \"rgba(53, 208, 255, 1)\", \"width\": 2}, \"type\": \"rect\", \"x0\": 24, \"x1\": 25, \"y0\": 48, \"y1\": 49}, {\"fillcolor\": \"rgba(53, 208, 255, 0.7)\", \"line\": {\"color\": \"rgba(53, 208, 255, 1)\", \"width\": 2}, \"type\": \"rect\", \"x0\": 24, \"x1\": 25, \"y0\": 49, \"y1\": 50}, {\"fillcolor\": \"rgba(53, 208, 255, 0.7)\", \"line\": {\"color\": \"rgba(53, 208, 255, 1)\", \"width\": 2}, \"type\": \"rect\", \"x0\": 25, \"x1\": 26, \"y0\": 50, \"y1\": 51}, {\"fillcolor\": \"rgba(53, 208, 255, 0.7)\", \"line\": {\"color\": \"rgba(53, 208, 255, 1)\", \"width\": 2}, \"type\": \"rect\", \"x0\": 25, \"x1\": 26, \"y0\": 51, \"y1\": 52}, {\"fillcolor\": \"rgba(53, 208, 255, 0.7)\", \"line\": {\"color\": \"rgba(53, 208, 255, 1)\", \"width\": 2}, \"type\": \"rect\", \"x0\": 26, \"x1\": 27, \"y0\": 52, \"y1\": 53}, {\"fillcolor\": \"rgba(53, 208, 255, 0.7)\", \"line\": {\"color\": \"rgba(53, 208, 255, 1)\", \"width\": 2}, \"type\": \"rect\", \"x0\": 26, \"x1\": 27, \"y0\": 53, \"y1\": 54}, {\"fillcolor\": \"rgba(53, 208, 255, 0.7)\", \"line\": {\"color\": \"rgba(53, 208, 255, 1)\", \"width\": 2}, \"type\": \"rect\", \"x0\": 27, \"x1\": 28, \"y0\": 54, \"y1\": 55}, {\"fillcolor\": \"rgba(53, 208, 255, 0.7)\", \"line\": {\"color\": \"rgba(53, 208, 255, 1)\", \"width\": 2}, \"type\": \"rect\", \"x0\": 27, \"x1\": 28, \"y0\": 55, \"y1\": 56}, {\"fillcolor\": \"rgba(53, 208, 255, 0.7)\", \"line\": {\"color\": \"rgba(53, 208, 255, 1)\", \"width\": 2}, \"type\": \"rect\", \"x0\": 28, \"x1\": 29, \"y0\": 56, \"y1\": 57}, {\"fillcolor\": \"rgba(53, 208, 255, 0.7)\", \"line\": {\"color\": \"rgba(53, 208, 255, 1)\", \"width\": 2}, \"type\": \"rect\", \"x0\": 28, \"x1\": 29, \"y0\": 57, \"y1\": 58}, {\"fillcolor\": \"rgba(53, 208, 255, 0.7)\", \"line\": {\"color\": \"rgba(53, 208, 255, 1)\", \"width\": 2}, \"type\": \"rect\", \"x0\": 29, \"x1\": 30, \"y0\": 58, \"y1\": 59}, {\"fillcolor\": \"rgba(53, 208, 255, 0.7)\", \"line\": {\"color\": \"rgba(53, 208, 255, 1)\", \"width\": 2}, \"type\": \"rect\", \"x0\": 29, \"x1\": 30, \"y0\": 59, \"y1\": 60}, {\"fillcolor\": \"rgba(53, 208, 255, 0.7)\", \"line\": {\"color\": \"rgba(53, 208, 255, 1)\", \"width\": 2}, \"type\": \"rect\", \"x0\": 30, \"x1\": 31, \"y0\": 60, \"y1\": 61}, {\"fillcolor\": \"rgba(53, 208, 255, 0.7)\", \"line\": {\"color\": \"rgba(53, 208, 255, 1)\", \"width\": 2}, \"type\": \"rect\", \"x0\": 30, \"x1\": 31, \"y0\": 61, \"y1\": 62}, {\"fillcolor\": \"rgba(53, 208, 255, 0.7)\", \"line\": {\"color\": \"rgba(53, 208, 255, 1)\", \"width\": 2}, \"type\": \"rect\", \"x0\": 31, \"x1\": 32, \"y0\": 62, \"y1\": 63}, {\"fillcolor\": \"rgba(53, 208, 255, 0.7)\", \"line\": {\"color\": \"rgba(53, 208, 255, 1)\", \"width\": 2}, \"type\": \"rect\", \"x0\": 31, \"x1\": 32, \"y0\": 63, \"y1\": 64}, {\"fillcolor\": \"rgba(53, 208, 255, 0.7)\", \"line\": {\"color\": \"rgba(53, 208, 255, 1)\", \"width\": 2}, \"type\": \"rect\", \"x0\": 32, \"x1\": 33, \"y0\": 64, \"y1\": 65}, {\"fillcolor\": \"rgba(53, 208, 255, 0.7)\", \"line\": {\"color\": \"rgba(53, 208, 255, 1)\", \"width\": 2}, \"type\": \"rect\", \"x0\": 32, \"x1\": 33, \"y0\": 65, \"y1\": 66}, {\"fillcolor\": \"rgba(53, 208, 255, 0.7)\", \"line\": {\"color\": \"rgba(53, 208, 255, 1)\", \"width\": 2}, \"type\": \"rect\", \"x0\": 33, \"x1\": 34, \"y0\": 66, \"y1\": 67}, {\"fillcolor\": \"rgba(53, 208, 255, 0.7)\", \"line\": {\"color\": \"rgba(53, 208, 255, 1)\", \"width\": 2}, \"type\": \"rect\", \"x0\": 33, \"x1\": 34, \"y0\": 67, \"y1\": 68}, {\"fillcolor\": \"rgba(53, 208, 255, 0.7)\", \"line\": {\"color\": \"rgba(53, 208, 255, 1)\", \"width\": 2}, \"type\": \"rect\", \"x0\": 34, \"x1\": 35, \"y0\": 68, \"y1\": 69}, {\"fillcolor\": \"rgba(53, 208, 255, 0.7)\", \"line\": {\"color\": \"rgba(53, 208, 255, 1)\", \"width\": 2}, \"type\": \"rect\", \"x0\": 34, \"x1\": 35, \"y0\": 69, \"y1\": 70}, {\"fillcolor\": \"rgba(53, 208, 255, 0.7)\", \"line\": {\"color\": \"rgba(53, 208, 255, 1)\", \"width\": 2}, \"type\": \"rect\", \"x0\": 35, \"x1\": 36, \"y0\": 70, \"y1\": 71}, {\"fillcolor\": \"rgba(53, 208, 255, 0.7)\", \"line\": {\"color\": \"rgba(53, 208, 255, 1)\", \"width\": 2}, \"type\": \"rect\", \"x0\": 35, \"x1\": 36, \"y0\": 71, \"y1\": 72}, {\"fillcolor\": \"rgba(53, 208, 255, 0.7)\", \"line\": {\"color\": \"rgba(53, 208, 255, 1)\", \"width\": 2}, \"type\": \"rect\", \"x0\": 36, \"x1\": 37, \"y0\": 72, \"y1\": 73}, {\"fillcolor\": \"rgba(53, 208, 255, 0.7)\", \"line\": {\"color\": \"rgba(53, 208, 255, 1)\", \"width\": 2}, \"type\": \"rect\", \"x0\": 36, \"x1\": 37, \"y0\": 73, \"y1\": 74}, {\"fillcolor\": \"rgba(53, 208, 255, 0.7)\", \"line\": {\"color\": \"rgba(53, 208, 255, 1)\", \"width\": 2}, \"type\": \"rect\", \"x0\": 37, \"x1\": 38, \"y0\": 74, \"y1\": 75}, {\"fillcolor\": \"rgba(53, 208, 255, 0.7)\", \"line\": {\"color\": \"rgba(53, 208, 255, 1)\", \"width\": 2}, \"type\": \"rect\", \"x0\": 37, \"x1\": 38, \"y0\": 75, \"y1\": 76}, {\"fillcolor\": \"rgba(53, 208, 255, 0.7)\", \"line\": {\"color\": \"rgba(53, 208, 255, 1)\", \"width\": 2}, \"type\": \"rect\", \"x0\": 38, \"x1\": 39, \"y0\": 76, \"y1\": 77}, {\"fillcolor\": \"rgba(53, 208, 255, 0.7)\", \"line\": {\"color\": \"rgba(53, 208, 255, 1)\", \"width\": 2}, \"type\": \"rect\", \"x0\": 38, \"x1\": 39, \"y0\": 77, \"y1\": 78}, {\"fillcolor\": \"rgba(53, 208, 255, 0.7)\", \"line\": {\"color\": \"rgba(53, 208, 255, 1)\", \"width\": 2}, \"type\": \"rect\", \"x0\": 39, \"x1\": 40, \"y0\": 78, \"y1\": 79}, {\"fillcolor\": \"rgba(53, 208, 255, 0.7)\", \"line\": {\"color\": \"rgba(53, 208, 255, 1)\", \"width\": 2}, \"type\": \"rect\", \"x0\": 39, \"x1\": 40, \"y0\": 79, \"y1\": 80}, {\"fillcolor\": \"rgba(53, 208, 255, 0.7)\", \"line\": {\"color\": \"rgba(53, 208, 255, 1)\", \"width\": 2}, \"type\": \"rect\", \"x0\": 40, \"x1\": 41, \"y0\": 80, \"y1\": 81}, {\"fillcolor\": \"rgba(53, 208, 255, 0.7)\", \"line\": {\"color\": \"rgba(53, 208, 255, 1)\", \"width\": 2}, \"type\": \"rect\", \"x0\": 40, \"x1\": 41, \"y0\": 81, \"y1\": 82}, {\"fillcolor\": \"rgba(53, 208, 255, 0.7)\", \"line\": {\"color\": \"rgba(53, 208, 255, 1)\", \"width\": 2}, \"type\": \"rect\", \"x0\": 41, \"x1\": 42, \"y0\": 82, \"y1\": 83}, {\"fillcolor\": \"rgba(53, 208, 255, 0.7)\", \"line\": {\"color\": \"rgba(53, 208, 255, 1)\", \"width\": 2}, \"type\": \"rect\", \"x0\": 41, \"x1\": 42, \"y0\": 83, \"y1\": 84}, {\"fillcolor\": \"rgba(53, 208, 255, 0.7)\", \"line\": {\"color\": \"rgba(53, 208, 255, 1)\", \"width\": 2}, \"type\": \"rect\", \"x0\": 42, \"x1\": 43, \"y0\": 84, \"y1\": 85}, {\"fillcolor\": \"rgba(53, 208, 255, 0.7)\", \"line\": {\"color\": \"rgba(53, 208, 255, 1)\", \"width\": 2}, \"type\": \"rect\", \"x0\": 42, \"x1\": 43, \"y0\": 85, \"y1\": 86}, {\"fillcolor\": \"rgba(53, 208, 255, 0.7)\", \"line\": {\"color\": \"rgba(53, 208, 255, 1)\", \"width\": 2}, \"type\": \"rect\", \"x0\": 43, \"x1\": 44, \"y0\": 86, \"y1\": 87}, {\"fillcolor\": \"rgba(53, 208, 255, 0.7)\", \"line\": {\"color\": \"rgba(53, 208, 255, 1)\", \"width\": 2}, \"type\": \"rect\", \"x0\": 43, \"x1\": 44, \"y0\": 87, \"y1\": 88}, {\"fillcolor\": \"rgba(53, 208, 255, 0.7)\", \"line\": {\"color\": \"rgba(53, 208, 255, 1)\", \"width\": 2}, \"type\": \"rect\", \"x0\": 44, \"x1\": 45, \"y0\": 88, \"y1\": 89}, {\"fillcolor\": \"rgba(53, 208, 255, 0.7)\", \"line\": {\"color\": \"rgba(53, 208, 255, 1)\", \"width\": 2}, \"type\": \"rect\", \"x0\": 44, \"x1\": 45, \"y0\": 89, \"y1\": 90}, {\"fillcolor\": \"rgba(53, 208, 255, 0.7)\", \"line\": {\"color\": \"rgba(53, 208, 255, 1)\", \"width\": 2}, \"type\": \"rect\", \"x0\": 45, \"x1\": 46, \"y0\": 90, \"y1\": 91}, {\"fillcolor\": \"rgba(53, 208, 255, 0.7)\", \"line\": {\"color\": \"rgba(53, 208, 255, 1)\", \"width\": 2}, \"type\": \"rect\", \"x0\": 45, \"x1\": 46, \"y0\": 91, \"y1\": 92}, {\"fillcolor\": \"rgba(53, 208, 255, 0.7)\", \"line\": {\"color\": \"rgba(53, 208, 255, 1)\", \"width\": 2}, \"type\": \"rect\", \"x0\": 46, \"x1\": 47, \"y0\": 92, \"y1\": 93}, {\"fillcolor\": \"rgba(53, 208, 255, 0.7)\", \"line\": {\"color\": \"rgba(53, 208, 255, 1)\", \"width\": 2}, \"type\": \"rect\", \"x0\": 46, \"x1\": 47, \"y0\": 93, \"y1\": 94}, {\"fillcolor\": \"rgba(53, 208, 255, 0.7)\", \"line\": {\"color\": \"rgba(53, 208, 255, 1)\", \"width\": 2}, \"type\": \"rect\", \"x0\": 47, \"x1\": 48, \"y0\": 94, \"y1\": 95}, {\"fillcolor\": \"rgba(53, 208, 255, 0.7)\", \"line\": {\"color\": \"rgba(53, 208, 255, 1)\", \"width\": 2}, \"type\": \"rect\", \"x0\": 47, \"x1\": 48, \"y0\": 95, \"y1\": 96}, {\"fillcolor\": \"rgba(53, 208, 255, 0.7)\", \"line\": {\"color\": \"rgba(53, 208, 255, 1)\", \"width\": 2}, \"type\": \"rect\", \"x0\": 48, \"x1\": 49, \"y0\": 96, \"y1\": 97}, {\"fillcolor\": \"rgba(53, 208, 255, 0.7)\", \"line\": {\"color\": \"rgba(53, 208, 255, 1)\", \"width\": 2}, \"type\": \"rect\", \"x0\": 48, \"x1\": 49, \"y0\": 97, \"y1\": 98}, {\"fillcolor\": \"rgba(53, 208, 255, 0.7)\", \"line\": {\"color\": \"rgba(53, 208, 255, 1)\", \"width\": 2}, \"type\": \"rect\", \"x0\": 49, \"x1\": 50, \"y0\": 98, \"y1\": 99}, {\"fillcolor\": \"rgba(53, 208, 255, 0.7)\", \"line\": {\"color\": \"rgba(53, 208, 255, 1)\", \"width\": 2}, \"type\": \"rect\", \"x0\": 49, \"x1\": 50, \"y0\": 99, \"y1\": 100}], \"xaxis\": {\"autorange\": true, \"showgrid\": false}, \"yaxis\": {\"range\": [0, 102]}}, {\"showLink\": true, \"linkText\": \"Export to plot.ly\", \"plotlyServerURL\": \"https://plot.ly\"})});</script><script type=\"text/javascript\">window.addEventListener(\"resize\", function(){window._Plotly.Plots.resize(document.getElementById(\"ed7d5629-54d2-4f30-96e7-5d18e0ce3171\"));});</script>"
      ],
      "text/vnd.plotly.v1+html": [
       "<div id=\"ed7d5629-54d2-4f30-96e7-5d18e0ce3171\" style=\"height: 525px; width: 100%;\" class=\"plotly-graph-div\"></div><script type=\"text/javascript\">require([\"plotly\"], function(Plotly) { window.PLOTLYENV=window.PLOTLYENV || {};window.PLOTLYENV.BASE_URL=\"https://plot.ly\";Plotly.newPlot(\"ed7d5629-54d2-4f30-96e7-5d18e0ce3171\", [{\"mode\": \"text\", \"text\": [\"Agent 0<br><b>T0 | A0</b>\", \"Agent 1<br><b>T0 | A1</b>\", \"Agent 0<br><b>T0 | A0</b>\", \"Agent 1<br><b>T0 | A1</b>\", \"Agent 0<br><b>T0 | A0</b>\", \"Agent 1<br><b>T0 | A1</b>\", \"Agent 0<br><b>T0 | A0</b>\", \"Agent 1<br><b>T0 | A1</b>\", \"Agent 0<br><b>T0 | A0</b>\", \"Agent 1<br><b>T0 | A1</b>\", \"Agent 0<br><b>T0 | A0</b>\", \"Agent 1<br><b>T0 | A1</b>\", \"Agent 0<br><b>T0 | A0</b>\", \"Agent 1<br><b>T0 | A1</b>\", \"Agent 0<br><b>T0 | A0</b>\", \"Agent 1<br><b>T0 | A1</b>\", \"Agent 0<br><b>T0 | A0</b>\", \"Agent 1<br><b>T0 | A1</b>\", \"Agent 0<br><b>T0 | A0</b>\", \"Agent 1<br><b>T0 | A1</b>\", \"Agent 0<br><b>T0 | A0</b>\", \"Agent 1<br><b>T0 | A1</b>\", \"Agent 0<br><b>T0 | A0</b>\", \"Agent 1<br><b>T0 | A1</b>\", \"Agent 0<br><b>T0 | A0</b>\", \"Agent 1<br><b>T0 | A1</b>\", \"Agent 0<br><b>T0 | A0</b>\", \"Agent 1<br><b>T0 | A1</b>\", \"Agent 0<br><b>T0 | A0</b>\", \"Agent 1<br><b>T0 | A1</b>\", \"Agent 0<br><b>T0 | A0</b>\", \"Agent 1<br><b>T0 | A1</b>\", \"Agent 0<br><b>T0 | A0</b>\", \"Agent 1<br><b>T0 | A1</b>\", \"Agent 0<br><b>T0 | A0</b>\", \"Agent 1<br><b>T0 | A1</b>\", \"Agent 0<br><b>T0 | A0</b>\", \"Agent 1<br><b>T0 | A1</b>\", \"Agent 0<br><b>T0 | A0</b>\", \"Agent 1<br><b>T0 | A1</b>\", \"Agent 0<br><b>T0 | A0</b>\", \"Agent 1<br><b>T0 | A1</b>\", \"Agent 0<br><b>T0 | A0</b>\", \"Agent 1<br><b>T0 | A1</b>\", \"Agent 0<br><b>T0 | A0</b>\", \"Agent 1<br><b>T0 | A1</b>\", \"Agent 0<br><b>T0 | A0</b>\", \"Agent 1<br><b>T0 | A1</b>\", \"Agent 0<br><b>T0 | A0</b>\", \"Agent 1<br><b>T0 | A1</b>\", \"Agent 0<br><b>T0 | A0</b>\", \"Agent 1<br><b>T0 | A1</b>\", \"Agent 0<br><b>T0 | A0</b>\", \"Agent 1<br><b>T0 | A1</b>\", \"Agent 0<br><b>T0 | A0</b>\", \"Agent 1<br><b>T0 | A1</b>\", \"Agent 0<br><b>T0 | A0</b>\", \"Agent 1<br><b>T0 | A1</b>\", \"Agent 0<br><b>T0 | A0</b>\", \"Agent 1<br><b>T0 | A1</b>\", \"Agent 0<br><b>T0 | A0</b>\", \"Agent 1<br><b>T0 | A1</b>\", \"Agent 0<br><b>T0 | A0</b>\", \"Agent 1<br><b>T0 | A1</b>\", \"Agent 0<br><b>T0 | A0</b>\", \"Agent 1<br><b>T0 | A1</b>\", \"Agent 0<br><b>T0 | A0</b>\", \"Agent 1<br><b>T0 | A1</b>\", \"Agent 0<br><b>T0 | A0</b>\", \"Agent 1<br><b>T0 | A1</b>\", \"Agent 0<br><b>T0 | A0</b>\", \"Agent 1<br><b>T0 | A1</b>\", \"Agent 0<br><b>T0 | A0</b>\", \"Agent 1<br><b>T0 | A1</b>\", \"Agent 0<br><b>T0 | A0</b>\", \"Agent 1<br><b>T0 | A1</b>\", \"Agent 0<br><b>T0 | A0</b>\", \"Agent 1<br><b>T0 | A1</b>\", \"Agent 0<br><b>T0 | A0</b>\", \"Agent 1<br><b>T0 | A1</b>\", \"Agent 0<br><b>T0 | A0</b>\", \"Agent 1<br><b>T0 | A1</b>\", \"Agent 0<br><b>T0 | A0</b>\", \"Agent 1<br><b>T0 | A1</b>\", \"Agent 0<br><b>T0 | A0</b>\", \"Agent 1<br><b>T0 | A1</b>\", \"Agent 0<br><b>T0 | A0</b>\", \"Agent 1<br><b>T0 | A1</b>\", \"Agent 0<br><b>T0 | A0</b>\", \"Agent 1<br><b>T0 | A1</b>\", \"Agent 0<br><b>T0 | A0</b>\", \"Agent 1<br><b>T0 | A1</b>\", \"Agent 0<br><b>T0 | A0</b>\", \"Agent 1<br><b>T0 | A1</b>\", \"Agent 0<br><b>T0 | A0</b>\", \"Agent 1<br><b>T0 | A1</b>\", \"Agent 0<br><b>T0 | A0</b>\", \"Agent 1<br><b>T0 | A1</b>\", \"Agent 0<br><b>T0 | A0</b>\", \"Agent 1<br><b>T0 | A1</b>\"], \"x\": [0.5, 0.5, 1.5, 1.5, 2.5, 2.5, 3.5, 3.5, 4.5, 4.5, 5.5, 5.5, 6.5, 6.5, 7.5, 7.5, 8.5, 8.5, 9.5, 9.5, 10.5, 10.5, 11.5, 11.5, 12.5, 12.5, 13.5, 13.5, 14.5, 14.5, 15.5, 15.5, 16.5, 16.5, 17.5, 17.5, 18.5, 18.5, 19.5, 19.5, 20.5, 20.5, 21.5, 21.5, 22.5, 22.5, 23.5, 23.5, 24.5, 24.5, 25.5, 25.5, 26.5, 26.5, 27.5, 27.5, 28.5, 28.5, 29.5, 29.5, 30.5, 30.5, 31.5, 31.5, 32.5, 32.5, 33.5, 33.5, 34.5, 34.5, 35.5, 35.5, 36.5, 36.5, 37.5, 37.5, 38.5, 38.5, 39.5, 39.5, 40.5, 40.5, 41.5, 41.5, 42.5, 42.5, 43.5, 43.5, 44.5, 44.5, 45.5, 45.5, 46.5, 46.5, 47.5, 47.5, 48.5, 48.5, 49.5, 49.5], \"y\": [0.5, 1.5, 2.5, 3.5, 4.5, 5.5, 6.5, 7.5, 8.5, 9.5, 10.5, 11.5, 12.5, 13.5, 14.5, 15.5, 16.5, 17.5, 18.5, 19.5, 20.5, 21.5, 22.5, 23.5, 24.5, 25.5, 26.5, 27.5, 28.5, 29.5, 30.5, 31.5, 32.5, 33.5, 34.5, 35.5, 36.5, 37.5, 38.5, 39.5, 40.5, 41.5, 42.5, 43.5, 44.5, 45.5, 46.5, 47.5, 48.5, 49.5, 50.5, 51.5, 52.5, 53.5, 54.5, 55.5, 56.5, 57.5, 58.5, 59.5, 60.5, 61.5, 62.5, 63.5, 64.5, 65.5, 66.5, 67.5, 68.5, 69.5, 70.5, 71.5, 72.5, 73.5, 74.5, 75.5, 76.5, 77.5, 78.5, 79.5, 80.5, 81.5, 82.5, 83.5, 84.5, 85.5, 86.5, 87.5, 88.5, 89.5, 90.5, 91.5, 92.5, 93.5, 94.5, 95.5, 96.5, 97.5, 98.5, 99.5], \"type\": \"scatter\", \"uid\": \"9fd84fef-e800-4a20-bbe7-9ca4236e9e63\"}], {\"shapes\": [{\"fillcolor\": \"rgba(53, 208, 255, 0.7)\", \"line\": {\"color\": \"rgba(53, 208, 255, 1)\", \"width\": 2}, \"type\": \"rect\", \"x0\": 0, \"x1\": 1, \"y0\": 0, \"y1\": 1}, {\"fillcolor\": \"rgba(53, 208, 255, 0.7)\", \"line\": {\"color\": \"rgba(53, 208, 255, 1)\", \"width\": 2}, \"type\": \"rect\", \"x0\": 0, \"x1\": 1, \"y0\": 1, \"y1\": 2}, {\"fillcolor\": \"rgba(53, 208, 255, 0.7)\", \"line\": {\"color\": \"rgba(53, 208, 255, 1)\", \"width\": 2}, \"type\": \"rect\", \"x0\": 1, \"x1\": 2, \"y0\": 2, \"y1\": 3}, {\"fillcolor\": \"rgba(53, 208, 255, 0.7)\", \"line\": {\"color\": \"rgba(53, 208, 255, 1)\", \"width\": 2}, \"type\": \"rect\", \"x0\": 1, \"x1\": 2, \"y0\": 3, \"y1\": 4}, {\"fillcolor\": \"rgba(53, 208, 255, 0.7)\", \"line\": {\"color\": \"rgba(53, 208, 255, 1)\", \"width\": 2}, \"type\": \"rect\", \"x0\": 2, \"x1\": 3, \"y0\": 4, \"y1\": 5}, {\"fillcolor\": \"rgba(53, 208, 255, 0.7)\", \"line\": {\"color\": \"rgba(53, 208, 255, 1)\", \"width\": 2}, \"type\": \"rect\", \"x0\": 2, \"x1\": 3, \"y0\": 5, \"y1\": 6}, {\"fillcolor\": \"rgba(53, 208, 255, 0.7)\", \"line\": {\"color\": \"rgba(53, 208, 255, 1)\", \"width\": 2}, \"type\": \"rect\", \"x0\": 3, \"x1\": 4, \"y0\": 6, \"y1\": 7}, {\"fillcolor\": \"rgba(53, 208, 255, 0.7)\", \"line\": {\"color\": \"rgba(53, 208, 255, 1)\", \"width\": 2}, \"type\": \"rect\", \"x0\": 3, \"x1\": 4, \"y0\": 7, \"y1\": 8}, {\"fillcolor\": \"rgba(53, 208, 255, 0.7)\", \"line\": {\"color\": \"rgba(53, 208, 255, 1)\", \"width\": 2}, \"type\": \"rect\", \"x0\": 4, \"x1\": 5, \"y0\": 8, \"y1\": 9}, {\"fillcolor\": \"rgba(53, 208, 255, 0.7)\", \"line\": {\"color\": \"rgba(53, 208, 255, 1)\", \"width\": 2}, \"type\": \"rect\", \"x0\": 4, \"x1\": 5, \"y0\": 9, \"y1\": 10}, {\"fillcolor\": \"rgba(53, 208, 255, 0.7)\", \"line\": {\"color\": \"rgba(53, 208, 255, 1)\", \"width\": 2}, \"type\": \"rect\", \"x0\": 5, \"x1\": 6, \"y0\": 10, \"y1\": 11}, {\"fillcolor\": \"rgba(53, 208, 255, 0.7)\", \"line\": {\"color\": \"rgba(53, 208, 255, 1)\", \"width\": 2}, \"type\": \"rect\", \"x0\": 5, \"x1\": 6, \"y0\": 11, \"y1\": 12}, {\"fillcolor\": \"rgba(53, 208, 255, 0.7)\", \"line\": {\"color\": \"rgba(53, 208, 255, 1)\", \"width\": 2}, \"type\": \"rect\", \"x0\": 6, \"x1\": 7, \"y0\": 12, \"y1\": 13}, {\"fillcolor\": \"rgba(53, 208, 255, 0.7)\", \"line\": {\"color\": \"rgba(53, 208, 255, 1)\", \"width\": 2}, \"type\": \"rect\", \"x0\": 6, \"x1\": 7, \"y0\": 13, \"y1\": 14}, {\"fillcolor\": \"rgba(53, 208, 255, 0.7)\", \"line\": {\"color\": \"rgba(53, 208, 255, 1)\", \"width\": 2}, \"type\": \"rect\", \"x0\": 7, \"x1\": 8, \"y0\": 14, \"y1\": 15}, {\"fillcolor\": \"rgba(53, 208, 255, 0.7)\", \"line\": {\"color\": \"rgba(53, 208, 255, 1)\", \"width\": 2}, \"type\": \"rect\", \"x0\": 7, \"x1\": 8, \"y0\": 15, \"y1\": 16}, {\"fillcolor\": \"rgba(53, 208, 255, 0.7)\", \"line\": {\"color\": \"rgba(53, 208, 255, 1)\", \"width\": 2}, \"type\": \"rect\", \"x0\": 8, \"x1\": 9, \"y0\": 16, \"y1\": 17}, {\"fillcolor\": \"rgba(53, 208, 255, 0.7)\", \"line\": {\"color\": \"rgba(53, 208, 255, 1)\", \"width\": 2}, \"type\": \"rect\", \"x0\": 8, \"x1\": 9, \"y0\": 17, \"y1\": 18}, {\"fillcolor\": \"rgba(53, 208, 255, 0.7)\", \"line\": {\"color\": \"rgba(53, 208, 255, 1)\", \"width\": 2}, \"type\": \"rect\", \"x0\": 9, \"x1\": 10, \"y0\": 18, \"y1\": 19}, {\"fillcolor\": \"rgba(53, 208, 255, 0.7)\", \"line\": {\"color\": \"rgba(53, 208, 255, 1)\", \"width\": 2}, \"type\": \"rect\", \"x0\": 9, \"x1\": 10, \"y0\": 19, \"y1\": 20}, {\"fillcolor\": \"rgba(53, 208, 255, 0.7)\", \"line\": {\"color\": \"rgba(53, 208, 255, 1)\", \"width\": 2}, \"type\": \"rect\", \"x0\": 10, \"x1\": 11, \"y0\": 20, \"y1\": 21}, {\"fillcolor\": \"rgba(53, 208, 255, 0.7)\", \"line\": {\"color\": \"rgba(53, 208, 255, 1)\", \"width\": 2}, \"type\": \"rect\", \"x0\": 10, \"x1\": 11, \"y0\": 21, \"y1\": 22}, {\"fillcolor\": \"rgba(53, 208, 255, 0.7)\", \"line\": {\"color\": \"rgba(53, 208, 255, 1)\", \"width\": 2}, \"type\": \"rect\", \"x0\": 11, \"x1\": 12, \"y0\": 22, \"y1\": 23}, {\"fillcolor\": \"rgba(53, 208, 255, 0.7)\", \"line\": {\"color\": \"rgba(53, 208, 255, 1)\", \"width\": 2}, \"type\": \"rect\", \"x0\": 11, \"x1\": 12, \"y0\": 23, \"y1\": 24}, {\"fillcolor\": \"rgba(53, 208, 255, 0.7)\", \"line\": {\"color\": \"rgba(53, 208, 255, 1)\", \"width\": 2}, \"type\": \"rect\", \"x0\": 12, \"x1\": 13, \"y0\": 24, \"y1\": 25}, {\"fillcolor\": \"rgba(53, 208, 255, 0.7)\", \"line\": {\"color\": \"rgba(53, 208, 255, 1)\", \"width\": 2}, \"type\": \"rect\", \"x0\": 12, \"x1\": 13, \"y0\": 25, \"y1\": 26}, {\"fillcolor\": \"rgba(53, 208, 255, 0.7)\", \"line\": {\"color\": \"rgba(53, 208, 255, 1)\", \"width\": 2}, \"type\": \"rect\", \"x0\": 13, \"x1\": 14, \"y0\": 26, \"y1\": 27}, {\"fillcolor\": \"rgba(53, 208, 255, 0.7)\", \"line\": {\"color\": \"rgba(53, 208, 255, 1)\", \"width\": 2}, \"type\": \"rect\", \"x0\": 13, \"x1\": 14, \"y0\": 27, \"y1\": 28}, {\"fillcolor\": \"rgba(53, 208, 255, 0.7)\", \"line\": {\"color\": \"rgba(53, 208, 255, 1)\", \"width\": 2}, \"type\": \"rect\", \"x0\": 14, \"x1\": 15, \"y0\": 28, \"y1\": 29}, {\"fillcolor\": \"rgba(53, 208, 255, 0.7)\", \"line\": {\"color\": \"rgba(53, 208, 255, 1)\", \"width\": 2}, \"type\": \"rect\", \"x0\": 14, \"x1\": 15, \"y0\": 29, \"y1\": 30}, {\"fillcolor\": \"rgba(53, 208, 255, 0.7)\", \"line\": {\"color\": \"rgba(53, 208, 255, 1)\", \"width\": 2}, \"type\": \"rect\", \"x0\": 15, \"x1\": 16, \"y0\": 30, \"y1\": 31}, {\"fillcolor\": \"rgba(53, 208, 255, 0.7)\", \"line\": {\"color\": \"rgba(53, 208, 255, 1)\", \"width\": 2}, \"type\": \"rect\", \"x0\": 15, \"x1\": 16, \"y0\": 31, \"y1\": 32}, {\"fillcolor\": \"rgba(53, 208, 255, 0.7)\", \"line\": {\"color\": \"rgba(53, 208, 255, 1)\", \"width\": 2}, \"type\": \"rect\", \"x0\": 16, \"x1\": 17, \"y0\": 32, \"y1\": 33}, {\"fillcolor\": \"rgba(53, 208, 255, 0.7)\", \"line\": {\"color\": \"rgba(53, 208, 255, 1)\", \"width\": 2}, \"type\": \"rect\", \"x0\": 16, \"x1\": 17, \"y0\": 33, \"y1\": 34}, {\"fillcolor\": \"rgba(53, 208, 255, 0.7)\", \"line\": {\"color\": \"rgba(53, 208, 255, 1)\", \"width\": 2}, \"type\": \"rect\", \"x0\": 17, \"x1\": 18, \"y0\": 34, \"y1\": 35}, {\"fillcolor\": \"rgba(53, 208, 255, 0.7)\", \"line\": {\"color\": \"rgba(53, 208, 255, 1)\", \"width\": 2}, \"type\": \"rect\", \"x0\": 17, \"x1\": 18, \"y0\": 35, \"y1\": 36}, {\"fillcolor\": \"rgba(53, 208, 255, 0.7)\", \"line\": {\"color\": \"rgba(53, 208, 255, 1)\", \"width\": 2}, \"type\": \"rect\", \"x0\": 18, \"x1\": 19, \"y0\": 36, \"y1\": 37}, {\"fillcolor\": \"rgba(53, 208, 255, 0.7)\", \"line\": {\"color\": \"rgba(53, 208, 255, 1)\", \"width\": 2}, \"type\": \"rect\", \"x0\": 18, \"x1\": 19, \"y0\": 37, \"y1\": 38}, {\"fillcolor\": \"rgba(53, 208, 255, 0.7)\", \"line\": {\"color\": \"rgba(53, 208, 255, 1)\", \"width\": 2}, \"type\": \"rect\", \"x0\": 19, \"x1\": 20, \"y0\": 38, \"y1\": 39}, {\"fillcolor\": \"rgba(53, 208, 255, 0.7)\", \"line\": {\"color\": \"rgba(53, 208, 255, 1)\", \"width\": 2}, \"type\": \"rect\", \"x0\": 19, \"x1\": 20, \"y0\": 39, \"y1\": 40}, {\"fillcolor\": \"rgba(53, 208, 255, 0.7)\", \"line\": {\"color\": \"rgba(53, 208, 255, 1)\", \"width\": 2}, \"type\": \"rect\", \"x0\": 20, \"x1\": 21, \"y0\": 40, \"y1\": 41}, {\"fillcolor\": \"rgba(53, 208, 255, 0.7)\", \"line\": {\"color\": \"rgba(53, 208, 255, 1)\", \"width\": 2}, \"type\": \"rect\", \"x0\": 20, \"x1\": 21, \"y0\": 41, \"y1\": 42}, {\"fillcolor\": \"rgba(53, 208, 255, 0.7)\", \"line\": {\"color\": \"rgba(53, 208, 255, 1)\", \"width\": 2}, \"type\": \"rect\", \"x0\": 21, \"x1\": 22, \"y0\": 42, \"y1\": 43}, {\"fillcolor\": \"rgba(53, 208, 255, 0.7)\", \"line\": {\"color\": \"rgba(53, 208, 255, 1)\", \"width\": 2}, \"type\": \"rect\", \"x0\": 21, \"x1\": 22, \"y0\": 43, \"y1\": 44}, {\"fillcolor\": \"rgba(53, 208, 255, 0.7)\", \"line\": {\"color\": \"rgba(53, 208, 255, 1)\", \"width\": 2}, \"type\": \"rect\", \"x0\": 22, \"x1\": 23, \"y0\": 44, \"y1\": 45}, {\"fillcolor\": \"rgba(53, 208, 255, 0.7)\", \"line\": {\"color\": \"rgba(53, 208, 255, 1)\", \"width\": 2}, \"type\": \"rect\", \"x0\": 22, \"x1\": 23, \"y0\": 45, \"y1\": 46}, {\"fillcolor\": \"rgba(53, 208, 255, 0.7)\", \"line\": {\"color\": \"rgba(53, 208, 255, 1)\", \"width\": 2}, \"type\": \"rect\", \"x0\": 23, \"x1\": 24, \"y0\": 46, \"y1\": 47}, {\"fillcolor\": \"rgba(53, 208, 255, 0.7)\", \"line\": {\"color\": \"rgba(53, 208, 255, 1)\", \"width\": 2}, \"type\": \"rect\", \"x0\": 23, \"x1\": 24, \"y0\": 47, \"y1\": 48}, {\"fillcolor\": \"rgba(53, 208, 255, 0.7)\", \"line\": {\"color\": \"rgba(53, 208, 255, 1)\", \"width\": 2}, \"type\": \"rect\", \"x0\": 24, \"x1\": 25, \"y0\": 48, \"y1\": 49}, {\"fillcolor\": \"rgba(53, 208, 255, 0.7)\", \"line\": {\"color\": \"rgba(53, 208, 255, 1)\", \"width\": 2}, \"type\": \"rect\", \"x0\": 24, \"x1\": 25, \"y0\": 49, \"y1\": 50}, {\"fillcolor\": \"rgba(53, 208, 255, 0.7)\", \"line\": {\"color\": \"rgba(53, 208, 255, 1)\", \"width\": 2}, \"type\": \"rect\", \"x0\": 25, \"x1\": 26, \"y0\": 50, \"y1\": 51}, {\"fillcolor\": \"rgba(53, 208, 255, 0.7)\", \"line\": {\"color\": \"rgba(53, 208, 255, 1)\", \"width\": 2}, \"type\": \"rect\", \"x0\": 25, \"x1\": 26, \"y0\": 51, \"y1\": 52}, {\"fillcolor\": \"rgba(53, 208, 255, 0.7)\", \"line\": {\"color\": \"rgba(53, 208, 255, 1)\", \"width\": 2}, \"type\": \"rect\", \"x0\": 26, \"x1\": 27, \"y0\": 52, \"y1\": 53}, {\"fillcolor\": \"rgba(53, 208, 255, 0.7)\", \"line\": {\"color\": \"rgba(53, 208, 255, 1)\", \"width\": 2}, \"type\": \"rect\", \"x0\": 26, \"x1\": 27, \"y0\": 53, \"y1\": 54}, {\"fillcolor\": \"rgba(53, 208, 255, 0.7)\", \"line\": {\"color\": \"rgba(53, 208, 255, 1)\", \"width\": 2}, \"type\": \"rect\", \"x0\": 27, \"x1\": 28, \"y0\": 54, \"y1\": 55}, {\"fillcolor\": \"rgba(53, 208, 255, 0.7)\", \"line\": {\"color\": \"rgba(53, 208, 255, 1)\", \"width\": 2}, \"type\": \"rect\", \"x0\": 27, \"x1\": 28, \"y0\": 55, \"y1\": 56}, {\"fillcolor\": \"rgba(53, 208, 255, 0.7)\", \"line\": {\"color\": \"rgba(53, 208, 255, 1)\", \"width\": 2}, \"type\": \"rect\", \"x0\": 28, \"x1\": 29, \"y0\": 56, \"y1\": 57}, {\"fillcolor\": \"rgba(53, 208, 255, 0.7)\", \"line\": {\"color\": \"rgba(53, 208, 255, 1)\", \"width\": 2}, \"type\": \"rect\", \"x0\": 28, \"x1\": 29, \"y0\": 57, \"y1\": 58}, {\"fillcolor\": \"rgba(53, 208, 255, 0.7)\", \"line\": {\"color\": \"rgba(53, 208, 255, 1)\", \"width\": 2}, \"type\": \"rect\", \"x0\": 29, \"x1\": 30, \"y0\": 58, \"y1\": 59}, {\"fillcolor\": \"rgba(53, 208, 255, 0.7)\", \"line\": {\"color\": \"rgba(53, 208, 255, 1)\", \"width\": 2}, \"type\": \"rect\", \"x0\": 29, \"x1\": 30, \"y0\": 59, \"y1\": 60}, {\"fillcolor\": \"rgba(53, 208, 255, 0.7)\", \"line\": {\"color\": \"rgba(53, 208, 255, 1)\", \"width\": 2}, \"type\": \"rect\", \"x0\": 30, \"x1\": 31, \"y0\": 60, \"y1\": 61}, {\"fillcolor\": \"rgba(53, 208, 255, 0.7)\", \"line\": {\"color\": \"rgba(53, 208, 255, 1)\", \"width\": 2}, \"type\": \"rect\", \"x0\": 30, \"x1\": 31, \"y0\": 61, \"y1\": 62}, {\"fillcolor\": \"rgba(53, 208, 255, 0.7)\", \"line\": {\"color\": \"rgba(53, 208, 255, 1)\", \"width\": 2}, \"type\": \"rect\", \"x0\": 31, \"x1\": 32, \"y0\": 62, \"y1\": 63}, {\"fillcolor\": \"rgba(53, 208, 255, 0.7)\", \"line\": {\"color\": \"rgba(53, 208, 255, 1)\", \"width\": 2}, \"type\": \"rect\", \"x0\": 31, \"x1\": 32, \"y0\": 63, \"y1\": 64}, {\"fillcolor\": \"rgba(53, 208, 255, 0.7)\", \"line\": {\"color\": \"rgba(53, 208, 255, 1)\", \"width\": 2}, \"type\": \"rect\", \"x0\": 32, \"x1\": 33, \"y0\": 64, \"y1\": 65}, {\"fillcolor\": \"rgba(53, 208, 255, 0.7)\", \"line\": {\"color\": \"rgba(53, 208, 255, 1)\", \"width\": 2}, \"type\": \"rect\", \"x0\": 32, \"x1\": 33, \"y0\": 65, \"y1\": 66}, {\"fillcolor\": \"rgba(53, 208, 255, 0.7)\", \"line\": {\"color\": \"rgba(53, 208, 255, 1)\", \"width\": 2}, \"type\": \"rect\", \"x0\": 33, \"x1\": 34, \"y0\": 66, \"y1\": 67}, {\"fillcolor\": \"rgba(53, 208, 255, 0.7)\", \"line\": {\"color\": \"rgba(53, 208, 255, 1)\", \"width\": 2}, \"type\": \"rect\", \"x0\": 33, \"x1\": 34, \"y0\": 67, \"y1\": 68}, {\"fillcolor\": \"rgba(53, 208, 255, 0.7)\", \"line\": {\"color\": \"rgba(53, 208, 255, 1)\", \"width\": 2}, \"type\": \"rect\", \"x0\": 34, \"x1\": 35, \"y0\": 68, \"y1\": 69}, {\"fillcolor\": \"rgba(53, 208, 255, 0.7)\", \"line\": {\"color\": \"rgba(53, 208, 255, 1)\", \"width\": 2}, \"type\": \"rect\", \"x0\": 34, \"x1\": 35, \"y0\": 69, \"y1\": 70}, {\"fillcolor\": \"rgba(53, 208, 255, 0.7)\", \"line\": {\"color\": \"rgba(53, 208, 255, 1)\", \"width\": 2}, \"type\": \"rect\", \"x0\": 35, \"x1\": 36, \"y0\": 70, \"y1\": 71}, {\"fillcolor\": \"rgba(53, 208, 255, 0.7)\", \"line\": {\"color\": \"rgba(53, 208, 255, 1)\", \"width\": 2}, \"type\": \"rect\", \"x0\": 35, \"x1\": 36, \"y0\": 71, \"y1\": 72}, {\"fillcolor\": \"rgba(53, 208, 255, 0.7)\", \"line\": {\"color\": \"rgba(53, 208, 255, 1)\", \"width\": 2}, \"type\": \"rect\", \"x0\": 36, \"x1\": 37, \"y0\": 72, \"y1\": 73}, {\"fillcolor\": \"rgba(53, 208, 255, 0.7)\", \"line\": {\"color\": \"rgba(53, 208, 255, 1)\", \"width\": 2}, \"type\": \"rect\", \"x0\": 36, \"x1\": 37, \"y0\": 73, \"y1\": 74}, {\"fillcolor\": \"rgba(53, 208, 255, 0.7)\", \"line\": {\"color\": \"rgba(53, 208, 255, 1)\", \"width\": 2}, \"type\": \"rect\", \"x0\": 37, \"x1\": 38, \"y0\": 74, \"y1\": 75}, {\"fillcolor\": \"rgba(53, 208, 255, 0.7)\", \"line\": {\"color\": \"rgba(53, 208, 255, 1)\", \"width\": 2}, \"type\": \"rect\", \"x0\": 37, \"x1\": 38, \"y0\": 75, \"y1\": 76}, {\"fillcolor\": \"rgba(53, 208, 255, 0.7)\", \"line\": {\"color\": \"rgba(53, 208, 255, 1)\", \"width\": 2}, \"type\": \"rect\", \"x0\": 38, \"x1\": 39, \"y0\": 76, \"y1\": 77}, {\"fillcolor\": \"rgba(53, 208, 255, 0.7)\", \"line\": {\"color\": \"rgba(53, 208, 255, 1)\", \"width\": 2}, \"type\": \"rect\", \"x0\": 38, \"x1\": 39, \"y0\": 77, \"y1\": 78}, {\"fillcolor\": \"rgba(53, 208, 255, 0.7)\", \"line\": {\"color\": \"rgba(53, 208, 255, 1)\", \"width\": 2}, \"type\": \"rect\", \"x0\": 39, \"x1\": 40, \"y0\": 78, \"y1\": 79}, {\"fillcolor\": \"rgba(53, 208, 255, 0.7)\", \"line\": {\"color\": \"rgba(53, 208, 255, 1)\", \"width\": 2}, \"type\": \"rect\", \"x0\": 39, \"x1\": 40, \"y0\": 79, \"y1\": 80}, {\"fillcolor\": \"rgba(53, 208, 255, 0.7)\", \"line\": {\"color\": \"rgba(53, 208, 255, 1)\", \"width\": 2}, \"type\": \"rect\", \"x0\": 40, \"x1\": 41, \"y0\": 80, \"y1\": 81}, {\"fillcolor\": \"rgba(53, 208, 255, 0.7)\", \"line\": {\"color\": \"rgba(53, 208, 255, 1)\", \"width\": 2}, \"type\": \"rect\", \"x0\": 40, \"x1\": 41, \"y0\": 81, \"y1\": 82}, {\"fillcolor\": \"rgba(53, 208, 255, 0.7)\", \"line\": {\"color\": \"rgba(53, 208, 255, 1)\", \"width\": 2}, \"type\": \"rect\", \"x0\": 41, \"x1\": 42, \"y0\": 82, \"y1\": 83}, {\"fillcolor\": \"rgba(53, 208, 255, 0.7)\", \"line\": {\"color\": \"rgba(53, 208, 255, 1)\", \"width\": 2}, \"type\": \"rect\", \"x0\": 41, \"x1\": 42, \"y0\": 83, \"y1\": 84}, {\"fillcolor\": \"rgba(53, 208, 255, 0.7)\", \"line\": {\"color\": \"rgba(53, 208, 255, 1)\", \"width\": 2}, \"type\": \"rect\", \"x0\": 42, \"x1\": 43, \"y0\": 84, \"y1\": 85}, {\"fillcolor\": \"rgba(53, 208, 255, 0.7)\", \"line\": {\"color\": \"rgba(53, 208, 255, 1)\", \"width\": 2}, \"type\": \"rect\", \"x0\": 42, \"x1\": 43, \"y0\": 85, \"y1\": 86}, {\"fillcolor\": \"rgba(53, 208, 255, 0.7)\", \"line\": {\"color\": \"rgba(53, 208, 255, 1)\", \"width\": 2}, \"type\": \"rect\", \"x0\": 43, \"x1\": 44, \"y0\": 86, \"y1\": 87}, {\"fillcolor\": \"rgba(53, 208, 255, 0.7)\", \"line\": {\"color\": \"rgba(53, 208, 255, 1)\", \"width\": 2}, \"type\": \"rect\", \"x0\": 43, \"x1\": 44, \"y0\": 87, \"y1\": 88}, {\"fillcolor\": \"rgba(53, 208, 255, 0.7)\", \"line\": {\"color\": \"rgba(53, 208, 255, 1)\", \"width\": 2}, \"type\": \"rect\", \"x0\": 44, \"x1\": 45, \"y0\": 88, \"y1\": 89}, {\"fillcolor\": \"rgba(53, 208, 255, 0.7)\", \"line\": {\"color\": \"rgba(53, 208, 255, 1)\", \"width\": 2}, \"type\": \"rect\", \"x0\": 44, \"x1\": 45, \"y0\": 89, \"y1\": 90}, {\"fillcolor\": \"rgba(53, 208, 255, 0.7)\", \"line\": {\"color\": \"rgba(53, 208, 255, 1)\", \"width\": 2}, \"type\": \"rect\", \"x0\": 45, \"x1\": 46, \"y0\": 90, \"y1\": 91}, {\"fillcolor\": \"rgba(53, 208, 255, 0.7)\", \"line\": {\"color\": \"rgba(53, 208, 255, 1)\", \"width\": 2}, \"type\": \"rect\", \"x0\": 45, \"x1\": 46, \"y0\": 91, \"y1\": 92}, {\"fillcolor\": \"rgba(53, 208, 255, 0.7)\", \"line\": {\"color\": \"rgba(53, 208, 255, 1)\", \"width\": 2}, \"type\": \"rect\", \"x0\": 46, \"x1\": 47, \"y0\": 92, \"y1\": 93}, {\"fillcolor\": \"rgba(53, 208, 255, 0.7)\", \"line\": {\"color\": \"rgba(53, 208, 255, 1)\", \"width\": 2}, \"type\": \"rect\", \"x0\": 46, \"x1\": 47, \"y0\": 93, \"y1\": 94}, {\"fillcolor\": \"rgba(53, 208, 255, 0.7)\", \"line\": {\"color\": \"rgba(53, 208, 255, 1)\", \"width\": 2}, \"type\": \"rect\", \"x0\": 47, \"x1\": 48, \"y0\": 94, \"y1\": 95}, {\"fillcolor\": \"rgba(53, 208, 255, 0.7)\", \"line\": {\"color\": \"rgba(53, 208, 255, 1)\", \"width\": 2}, \"type\": \"rect\", \"x0\": 47, \"x1\": 48, \"y0\": 95, \"y1\": 96}, {\"fillcolor\": \"rgba(53, 208, 255, 0.7)\", \"line\": {\"color\": \"rgba(53, 208, 255, 1)\", \"width\": 2}, \"type\": \"rect\", \"x0\": 48, \"x1\": 49, \"y0\": 96, \"y1\": 97}, {\"fillcolor\": \"rgba(53, 208, 255, 0.7)\", \"line\": {\"color\": \"rgba(53, 208, 255, 1)\", \"width\": 2}, \"type\": \"rect\", \"x0\": 48, \"x1\": 49, \"y0\": 97, \"y1\": 98}, {\"fillcolor\": \"rgba(53, 208, 255, 0.7)\", \"line\": {\"color\": \"rgba(53, 208, 255, 1)\", \"width\": 2}, \"type\": \"rect\", \"x0\": 49, \"x1\": 50, \"y0\": 98, \"y1\": 99}, {\"fillcolor\": \"rgba(53, 208, 255, 0.7)\", \"line\": {\"color\": \"rgba(53, 208, 255, 1)\", \"width\": 2}, \"type\": \"rect\", \"x0\": 49, \"x1\": 50, \"y0\": 99, \"y1\": 100}], \"xaxis\": {\"autorange\": true, \"showgrid\": false}, \"yaxis\": {\"range\": [0, 102]}}, {\"showLink\": true, \"linkText\": \"Export to plot.ly\", \"plotlyServerURL\": \"https://plot.ly\"})});</script><script type=\"text/javascript\">window.addEventListener(\"resize\", function(){window._Plotly.Plots.resize(document.getElementById(\"ed7d5629-54d2-4f30-96e7-5d18e0ce3171\"));});</script>"
      ]
     },
     "metadata": {},
     "output_type": "display_data"
    }
   ],
   "source": [
    "my_workplace.print_current_state()"
   ]
  },
  {
   "cell_type": "code",
   "execution_count": 6,
   "metadata": {},
   "outputs": [
    {
     "data": {
      "application/vnd.plotly.v1+json": {
       "config": {
        "linkText": "Export to plot.ly",
        "plotlyServerURL": "https://plot.ly",
        "showLink": true
       },
       "data": [
        {
         "mode": "lines+markers",
         "name": "Skill 1",
         "type": "scatter",
         "uid": "937de47c-70eb-4fb4-b5a4-8ef2f2fd2edf",
         "x": [
          0,
          1,
          2,
          3,
          4,
          5,
          6,
          7,
          8,
          9,
          10,
          11,
          12,
          13,
          14,
          15,
          16,
          17,
          18,
          19,
          20,
          21,
          22,
          23,
          24,
          25,
          26,
          27,
          28,
          29,
          30,
          31,
          32,
          33,
          34,
          35,
          36,
          37,
          38,
          39,
          40,
          41,
          42,
          43,
          44,
          45,
          46,
          47,
          48,
          49,
          50
         ],
         "y": [
          16,
          16,
          17,
          17,
          17,
          18,
          18,
          18,
          19,
          19,
          19,
          19,
          19,
          20,
          20,
          20,
          20,
          21,
          21,
          21,
          21,
          21,
          21,
          21,
          22,
          22,
          22,
          22,
          22,
          22,
          22,
          22,
          23,
          23,
          23,
          23,
          23,
          23,
          23,
          23,
          23,
          23,
          23,
          23,
          24,
          24,
          24,
          24,
          24,
          24,
          24
         ]
        },
        {
         "mode": "lines+markers",
         "name": "Skill 2",
         "type": "scatter",
         "uid": "ac263bd4-a588-45bc-bbeb-1cab78602405",
         "x": [
          0,
          1,
          2,
          3,
          4,
          5,
          6,
          7,
          8,
          9,
          10,
          11,
          12,
          13,
          14,
          15,
          16,
          17,
          18,
          19,
          20,
          21,
          22,
          23,
          24,
          25,
          26,
          27,
          28,
          29,
          30,
          31,
          32,
          33,
          34,
          35,
          36,
          37,
          38,
          39,
          40,
          41,
          42,
          43,
          44,
          45,
          46,
          47,
          48,
          49,
          50
         ],
         "y": [
          14,
          14,
          14,
          13,
          13,
          13,
          13,
          12,
          12,
          12,
          12,
          11,
          11,
          11,
          10,
          10,
          10,
          9,
          9,
          9,
          9,
          8,
          8,
          7,
          7,
          7,
          6,
          6,
          6,
          5,
          5,
          4,
          4,
          4,
          3,
          3,
          2,
          2,
          1,
          1,
          0,
          0,
          0,
          0,
          0,
          0,
          0,
          0,
          0,
          0,
          0
         ]
        }
       ],
       "layout": {
        "xaxis": {
         "title": "Cycles",
         "titlefont": {
          "color": "darkgrey",
          "family": "Arial, sans-serif",
          "size": 18
         }
        },
        "yaxis": {
         "title": "Expertise",
         "titlefont": {
          "color": "darkgrey",
          "family": "Arial, sans-serif",
          "size": 18
         }
        }
       }
      },
      "text/html": [
       "<div id=\"5f68e9f3-26cb-438a-a8e3-ad269d748069\" style=\"height: 525px; width: 100%;\" class=\"plotly-graph-div\"></div><script type=\"text/javascript\">require([\"plotly\"], function(Plotly) { window.PLOTLYENV=window.PLOTLYENV || {};window.PLOTLYENV.BASE_URL=\"https://plot.ly\";Plotly.newPlot(\"5f68e9f3-26cb-438a-a8e3-ad269d748069\", [{\"mode\": \"lines+markers\", \"name\": \"Skill 1\", \"x\": [0, 1, 2, 3, 4, 5, 6, 7, 8, 9, 10, 11, 12, 13, 14, 15, 16, 17, 18, 19, 20, 21, 22, 23, 24, 25, 26, 27, 28, 29, 30, 31, 32, 33, 34, 35, 36, 37, 38, 39, 40, 41, 42, 43, 44, 45, 46, 47, 48, 49, 50], \"y\": [16.0, 16.0, 17.0, 17.0, 17.0, 18.0, 18.0, 18.0, 19.0, 19.0, 19.0, 19.0, 19.0, 20.0, 20.0, 20.0, 20.0, 21.0, 21.0, 21.0, 21.0, 21.0, 21.0, 21.0, 22.0, 22.0, 22.0, 22.0, 22.0, 22.0, 22.0, 22.0, 23.0, 23.0, 23.0, 23.0, 23.0, 23.0, 23.0, 23.0, 23.0, 23.0, 23.0, 23.0, 24.0, 24.0, 24.0, 24.0, 24.0, 24.0, 24.0], \"type\": \"scatter\", \"uid\": \"937de47c-70eb-4fb4-b5a4-8ef2f2fd2edf\"}, {\"mode\": \"lines+markers\", \"name\": \"Skill 2\", \"x\": [0, 1, 2, 3, 4, 5, 6, 7, 8, 9, 10, 11, 12, 13, 14, 15, 16, 17, 18, 19, 20, 21, 22, 23, 24, 25, 26, 27, 28, 29, 30, 31, 32, 33, 34, 35, 36, 37, 38, 39, 40, 41, 42, 43, 44, 45, 46, 47, 48, 49, 50], \"y\": [14.0, 14.0, 14.0, 13.0, 13.0, 13.0, 13.0, 12.0, 12.0, 12.0, 12.0, 11.0, 11.0, 11.0, 10.0, 10.0, 10.0, 9.0, 9.0, 9.0, 9.0, 8.0, 8.0, 7.0, 7.0, 7.0, 6.0, 6.0, 6.0, 5.0, 5.0, 4.0, 4.0, 4.0, 3.0, 3.0, 2.0, 2.0, 1.0, 1.0, 0, 0, 0, 0, 0, 0, 0, 0, 0, 0, 0], \"type\": \"scatter\", \"uid\": \"ac263bd4-a588-45bc-bbeb-1cab78602405\"}], {\"xaxis\": {\"title\": \"Cycles\", \"titlefont\": {\"color\": \"darkgrey\", \"family\": \"Arial, sans-serif\", \"size\": 18}}, \"yaxis\": {\"title\": \"Expertise\", \"titlefont\": {\"color\": \"darkgrey\", \"family\": \"Arial, sans-serif\", \"size\": 18}}}, {\"showLink\": true, \"linkText\": \"Export to plot.ly\", \"plotlyServerURL\": \"https://plot.ly\"})});</script><script type=\"text/javascript\">window.addEventListener(\"resize\", function(){window._Plotly.Plots.resize(document.getElementById(\"5f68e9f3-26cb-438a-a8e3-ad269d748069\"));});</script>"
      ],
      "text/vnd.plotly.v1+html": [
       "<div id=\"5f68e9f3-26cb-438a-a8e3-ad269d748069\" style=\"height: 525px; width: 100%;\" class=\"plotly-graph-div\"></div><script type=\"text/javascript\">require([\"plotly\"], function(Plotly) { window.PLOTLYENV=window.PLOTLYENV || {};window.PLOTLYENV.BASE_URL=\"https://plot.ly\";Plotly.newPlot(\"5f68e9f3-26cb-438a-a8e3-ad269d748069\", [{\"mode\": \"lines+markers\", \"name\": \"Skill 1\", \"x\": [0, 1, 2, 3, 4, 5, 6, 7, 8, 9, 10, 11, 12, 13, 14, 15, 16, 17, 18, 19, 20, 21, 22, 23, 24, 25, 26, 27, 28, 29, 30, 31, 32, 33, 34, 35, 36, 37, 38, 39, 40, 41, 42, 43, 44, 45, 46, 47, 48, 49, 50], \"y\": [16.0, 16.0, 17.0, 17.0, 17.0, 18.0, 18.0, 18.0, 19.0, 19.0, 19.0, 19.0, 19.0, 20.0, 20.0, 20.0, 20.0, 21.0, 21.0, 21.0, 21.0, 21.0, 21.0, 21.0, 22.0, 22.0, 22.0, 22.0, 22.0, 22.0, 22.0, 22.0, 23.0, 23.0, 23.0, 23.0, 23.0, 23.0, 23.0, 23.0, 23.0, 23.0, 23.0, 23.0, 24.0, 24.0, 24.0, 24.0, 24.0, 24.0, 24.0], \"type\": \"scatter\", \"uid\": \"937de47c-70eb-4fb4-b5a4-8ef2f2fd2edf\"}, {\"mode\": \"lines+markers\", \"name\": \"Skill 2\", \"x\": [0, 1, 2, 3, 4, 5, 6, 7, 8, 9, 10, 11, 12, 13, 14, 15, 16, 17, 18, 19, 20, 21, 22, 23, 24, 25, 26, 27, 28, 29, 30, 31, 32, 33, 34, 35, 36, 37, 38, 39, 40, 41, 42, 43, 44, 45, 46, 47, 48, 49, 50], \"y\": [14.0, 14.0, 14.0, 13.0, 13.0, 13.0, 13.0, 12.0, 12.0, 12.0, 12.0, 11.0, 11.0, 11.0, 10.0, 10.0, 10.0, 9.0, 9.0, 9.0, 9.0, 8.0, 8.0, 7.0, 7.0, 7.0, 6.0, 6.0, 6.0, 5.0, 5.0, 4.0, 4.0, 4.0, 3.0, 3.0, 2.0, 2.0, 1.0, 1.0, 0, 0, 0, 0, 0, 0, 0, 0, 0, 0, 0], \"type\": \"scatter\", \"uid\": \"ac263bd4-a588-45bc-bbeb-1cab78602405\"}], {\"xaxis\": {\"title\": \"Cycles\", \"titlefont\": {\"color\": \"darkgrey\", \"family\": \"Arial, sans-serif\", \"size\": 18}}, \"yaxis\": {\"title\": \"Expertise\", \"titlefont\": {\"color\": \"darkgrey\", \"family\": \"Arial, sans-serif\", \"size\": 18}}}, {\"showLink\": true, \"linkText\": \"Export to plot.ly\", \"plotlyServerURL\": \"https://plot.ly\"})});</script><script type=\"text/javascript\">window.addEventListener(\"resize\", function(){window._Plotly.Plots.resize(document.getElementById(\"5f68e9f3-26cb-438a-a8e3-ad269d748069\"));});</script>"
      ]
     },
     "metadata": {},
     "output_type": "display_data"
    }
   ],
   "source": [
    "my_workplace.plot_skills(my_workplace.agents[0])"
   ]
  },
  {
   "cell_type": "code",
   "execution_count": 7,
   "metadata": {
    "scrolled": true
   },
   "outputs": [
    {
     "data": {
      "application/vnd.plotly.v1+json": {
       "config": {
        "linkText": "Export to plot.ly",
        "plotlyServerURL": "https://plot.ly",
        "showLink": true
       },
       "data": [
        {
         "mode": "lines+markers",
         "name": "Skill 1",
         "type": "scatter",
         "uid": "7f1ca422-a99b-4258-80c1-337b215eb2b9",
         "x": [
          0,
          1,
          2,
          3,
          4,
          5,
          6,
          7,
          8,
          9,
          10,
          11,
          12,
          13,
          14,
          15,
          16,
          17,
          18,
          19,
          20,
          21,
          22,
          23,
          24,
          25,
          26,
          27,
          28,
          29,
          30,
          31,
          32,
          33,
          34,
          35,
          36,
          37,
          38,
          39,
          40,
          41,
          42,
          43,
          44,
          45,
          46,
          47,
          48,
          49,
          50
         ],
         "y": [
          14,
          14,
          14,
          13,
          13,
          13,
          13,
          12,
          12,
          12,
          12,
          11,
          11,
          11,
          10,
          10,
          10,
          9,
          9,
          9,
          9,
          8,
          8,
          7,
          7,
          7,
          6,
          6,
          6,
          5,
          5,
          4,
          4,
          4,
          3,
          3,
          2,
          2,
          1,
          1,
          0,
          0,
          0,
          0,
          0,
          0,
          0,
          0,
          0,
          0,
          0
         ]
        },
        {
         "mode": "lines+markers",
         "name": "Skill 2",
         "type": "scatter",
         "uid": "a7a59ed4-f1a1-4fd5-957e-ae8b04a49731",
         "x": [
          0,
          1,
          2,
          3,
          4,
          5,
          6,
          7,
          8,
          9,
          10,
          11,
          12,
          13,
          14,
          15,
          16,
          17,
          18,
          19,
          20,
          21,
          22,
          23,
          24,
          25,
          26,
          27,
          28,
          29,
          30,
          31,
          32,
          33,
          34,
          35,
          36,
          37,
          38,
          39,
          40,
          41,
          42,
          43,
          44,
          45,
          46,
          47,
          48,
          49,
          50
         ],
         "y": [
          16,
          16,
          17,
          17,
          17,
          18,
          18,
          18,
          19,
          19,
          19,
          19,
          19,
          20,
          20,
          20,
          20,
          21,
          21,
          21,
          21,
          21,
          21,
          21,
          22,
          22,
          22,
          22,
          22,
          22,
          22,
          22,
          23,
          23,
          23,
          23,
          23,
          23,
          23,
          23,
          23,
          23,
          23,
          23,
          24,
          24,
          24,
          24,
          24,
          24,
          24
         ]
        }
       ],
       "layout": {
        "xaxis": {
         "title": "Cycles",
         "titlefont": {
          "color": "darkgrey",
          "family": "Arial, sans-serif",
          "size": 18
         }
        },
        "yaxis": {
         "title": "Expertise",
         "titlefont": {
          "color": "darkgrey",
          "family": "Arial, sans-serif",
          "size": 18
         }
        }
       }
      },
      "text/html": [
       "<div id=\"f3e8666b-8c68-400a-b88f-5ce488c19086\" style=\"height: 525px; width: 100%;\" class=\"plotly-graph-div\"></div><script type=\"text/javascript\">require([\"plotly\"], function(Plotly) { window.PLOTLYENV=window.PLOTLYENV || {};window.PLOTLYENV.BASE_URL=\"https://plot.ly\";Plotly.newPlot(\"f3e8666b-8c68-400a-b88f-5ce488c19086\", [{\"mode\": \"lines+markers\", \"name\": \"Skill 1\", \"x\": [0, 1, 2, 3, 4, 5, 6, 7, 8, 9, 10, 11, 12, 13, 14, 15, 16, 17, 18, 19, 20, 21, 22, 23, 24, 25, 26, 27, 28, 29, 30, 31, 32, 33, 34, 35, 36, 37, 38, 39, 40, 41, 42, 43, 44, 45, 46, 47, 48, 49, 50], \"y\": [14.0, 14.0, 14.0, 13.0, 13.0, 13.0, 13.0, 12.0, 12.0, 12.0, 12.0, 11.0, 11.0, 11.0, 10.0, 10.0, 10.0, 9.0, 9.0, 9.0, 9.0, 8.0, 8.0, 7.0, 7.0, 7.0, 6.0, 6.0, 6.0, 5.0, 5.0, 4.0, 4.0, 4.0, 3.0, 3.0, 2.0, 2.0, 1.0, 1.0, 0, 0, 0, 0, 0, 0, 0, 0, 0, 0, 0], \"type\": \"scatter\", \"uid\": \"7f1ca422-a99b-4258-80c1-337b215eb2b9\"}, {\"mode\": \"lines+markers\", \"name\": \"Skill 2\", \"x\": [0, 1, 2, 3, 4, 5, 6, 7, 8, 9, 10, 11, 12, 13, 14, 15, 16, 17, 18, 19, 20, 21, 22, 23, 24, 25, 26, 27, 28, 29, 30, 31, 32, 33, 34, 35, 36, 37, 38, 39, 40, 41, 42, 43, 44, 45, 46, 47, 48, 49, 50], \"y\": [16.0, 16.0, 17.0, 17.0, 17.0, 18.0, 18.0, 18.0, 19.0, 19.0, 19.0, 19.0, 19.0, 20.0, 20.0, 20.0, 20.0, 21.0, 21.0, 21.0, 21.0, 21.0, 21.0, 21.0, 22.0, 22.0, 22.0, 22.0, 22.0, 22.0, 22.0, 22.0, 23.0, 23.0, 23.0, 23.0, 23.0, 23.0, 23.0, 23.0, 23.0, 23.0, 23.0, 23.0, 24.0, 24.0, 24.0, 24.0, 24.0, 24.0, 24.0], \"type\": \"scatter\", \"uid\": \"a7a59ed4-f1a1-4fd5-957e-ae8b04a49731\"}], {\"xaxis\": {\"title\": \"Cycles\", \"titlefont\": {\"color\": \"darkgrey\", \"family\": \"Arial, sans-serif\", \"size\": 18}}, \"yaxis\": {\"title\": \"Expertise\", \"titlefont\": {\"color\": \"darkgrey\", \"family\": \"Arial, sans-serif\", \"size\": 18}}}, {\"showLink\": true, \"linkText\": \"Export to plot.ly\", \"plotlyServerURL\": \"https://plot.ly\"})});</script><script type=\"text/javascript\">window.addEventListener(\"resize\", function(){window._Plotly.Plots.resize(document.getElementById(\"f3e8666b-8c68-400a-b88f-5ce488c19086\"));});</script>"
      ],
      "text/vnd.plotly.v1+html": [
       "<div id=\"f3e8666b-8c68-400a-b88f-5ce488c19086\" style=\"height: 525px; width: 100%;\" class=\"plotly-graph-div\"></div><script type=\"text/javascript\">require([\"plotly\"], function(Plotly) { window.PLOTLYENV=window.PLOTLYENV || {};window.PLOTLYENV.BASE_URL=\"https://plot.ly\";Plotly.newPlot(\"f3e8666b-8c68-400a-b88f-5ce488c19086\", [{\"mode\": \"lines+markers\", \"name\": \"Skill 1\", \"x\": [0, 1, 2, 3, 4, 5, 6, 7, 8, 9, 10, 11, 12, 13, 14, 15, 16, 17, 18, 19, 20, 21, 22, 23, 24, 25, 26, 27, 28, 29, 30, 31, 32, 33, 34, 35, 36, 37, 38, 39, 40, 41, 42, 43, 44, 45, 46, 47, 48, 49, 50], \"y\": [14.0, 14.0, 14.0, 13.0, 13.0, 13.0, 13.0, 12.0, 12.0, 12.0, 12.0, 11.0, 11.0, 11.0, 10.0, 10.0, 10.0, 9.0, 9.0, 9.0, 9.0, 8.0, 8.0, 7.0, 7.0, 7.0, 6.0, 6.0, 6.0, 5.0, 5.0, 4.0, 4.0, 4.0, 3.0, 3.0, 2.0, 2.0, 1.0, 1.0, 0, 0, 0, 0, 0, 0, 0, 0, 0, 0, 0], \"type\": \"scatter\", \"uid\": \"7f1ca422-a99b-4258-80c1-337b215eb2b9\"}, {\"mode\": \"lines+markers\", \"name\": \"Skill 2\", \"x\": [0, 1, 2, 3, 4, 5, 6, 7, 8, 9, 10, 11, 12, 13, 14, 15, 16, 17, 18, 19, 20, 21, 22, 23, 24, 25, 26, 27, 28, 29, 30, 31, 32, 33, 34, 35, 36, 37, 38, 39, 40, 41, 42, 43, 44, 45, 46, 47, 48, 49, 50], \"y\": [16.0, 16.0, 17.0, 17.0, 17.0, 18.0, 18.0, 18.0, 19.0, 19.0, 19.0, 19.0, 19.0, 20.0, 20.0, 20.0, 20.0, 21.0, 21.0, 21.0, 21.0, 21.0, 21.0, 21.0, 22.0, 22.0, 22.0, 22.0, 22.0, 22.0, 22.0, 22.0, 23.0, 23.0, 23.0, 23.0, 23.0, 23.0, 23.0, 23.0, 23.0, 23.0, 23.0, 23.0, 24.0, 24.0, 24.0, 24.0, 24.0, 24.0, 24.0], \"type\": \"scatter\", \"uid\": \"a7a59ed4-f1a1-4fd5-957e-ae8b04a49731\"}], {\"xaxis\": {\"title\": \"Cycles\", \"titlefont\": {\"color\": \"darkgrey\", \"family\": \"Arial, sans-serif\", \"size\": 18}}, \"yaxis\": {\"title\": \"Expertise\", \"titlefont\": {\"color\": \"darkgrey\", \"family\": \"Arial, sans-serif\", \"size\": 18}}}, {\"showLink\": true, \"linkText\": \"Export to plot.ly\", \"plotlyServerURL\": \"https://plot.ly\"})});</script><script type=\"text/javascript\">window.addEventListener(\"resize\", function(){window._Plotly.Plots.resize(document.getElementById(\"f3e8666b-8c68-400a-b88f-5ce488c19086\"));});</script>"
      ]
     },
     "metadata": {},
     "output_type": "display_data"
    }
   ],
   "source": [
    "my_workplace.plot_skills(my_workplace.agents[1])"
   ]
  },
  {
   "cell_type": "code",
   "execution_count": 8,
   "metadata": {},
   "outputs": [
    {
     "name": "stdout",
     "output_type": "stream",
     "text": [
      "{0: 102, 1: 84, 2: 70, 3: 58, 4: 50, 5: 44, 6: 38, 7: 34, 8: 30, 9: 26, 10: 24, 11: 20, 12: 18, 13: 16, 14: 14, 15: 12, 16: 0, 17: 0, 18: 0, 19: 0, 20: 0, 21: 0, 22: 0, 23: 0, 24: 0, 25: 0, 26: 0, 27: 0, 28: 0, 29: 0, 30: 0, 31: 0, 32: 0, 33: 0, 34: 0, 35: 0, 36: 0, 37: 0, 38: 0, 39: 0, 40: 0, 41: 0, 42: 0, 43: 0, 44: 0, 45: 0, 46: 0, 47: 0, 48: 0, 49: 0}\n",
      "\n",
      "{0: 15.625, 1: 15.451174289245984, 2: 15.287901766058411, 3: 15.134373867948835, 4: 14.9898604266994, 5: 14.853700384564386, 6: 14.72529380140214, 7: 14.604094948015787, 8: 14.48960631725963, 9: 14.38137341367131, 10: 14.278980206017964, 11: 14.182045146356005, 12: 14.090217674897302, 13: 14.0031751428512, 14: 13.920620096022533, 15: 13.842277870725159, 16: 13.767894460863246, 17: 13.697234621112903, 18: 13.630080176224965, 19: 13.566228510742127, 20: 13.505491217023195, 21: 13.447692882509791, 22: 13.392669999750108, 23: 13.340269984887849, 24: 13.290350292195154, 25: 13.242777613827794, 26: 13.19742715535277, 27: 13.154181978777473, 28: 13.112932405825923, 29: 13.073575475085532, 30: 13.036014447408071, 31: 13.000158354608407, 32: 12.965921587078453, 33: 12.933223516434058, 34: 12.90198814974957, 35: 12.872143812317143, 36: 12.843622856203298, 37: 12.816361392169837, 38: 12.790299042785515, 39: 12.765378714783566, 40: 12.741546388922089, 41: 12.71875092578298, 42: 12.69694388610346, 43: 12.676079364374797, 44: 12.656113834567646, 45: 12.637006006954834, 46: 12.618716695101421, 47: 12.601208692180522, 48: 12.58444665585251, 49: 12.568397001016079}\n",
      "\n",
      "{0: 15.625, 1: 15.451174289245984, 2: 15.287901766058411, 3: 15.134373867948835, 4: 14.9898604266994, 5: 14.853700384564386, 6: 14.72529380140214, 7: 14.604094948015787, 8: 14.48960631725963, 9: 14.38137341367131, 10: 14.278980206017964, 11: 14.182045146356005, 12: 14.090217674897302, 13: 14.0031751428512, 14: 13.920620096022533, 15: 13.842277870725159, 16: 13.767894460863246, 17: 13.697234621112903, 18: 13.630080176224965, 19: 13.566228510742127, 20: 13.505491217023195, 21: 13.447692882509791, 22: 13.392669999750108, 23: 13.340269984887849, 24: 13.290350292195154, 25: 13.242777613827794, 26: 13.19742715535277, 27: 13.154181978777473, 28: 13.112932405825923, 29: 13.073575475085532, 30: 13.036014447408071, 31: 13.000158354608407, 32: 12.965921587078453, 33: 12.933223516434058, 34: 12.90198814974957, 35: 12.872143812317143, 36: 12.843622856203298, 37: 12.816361392169837, 38: 12.790299042785515, 39: 12.765378714783566, 40: 12.741546388922089, 41: 12.71875092578298, 42: 12.69694388610346, 43: 12.676079364374797, 44: 12.656113834567646, 45: 12.637006006954834, 46: 12.618716695101421, 47: 12.601208692180522, 48: 12.58444665585251, 49: 12.568397001016079}\n",
      "\n",
      "{0: 117.625, 1: 99.45117428924598, 2: 85.28790176605841, 3: 73.13437386794884, 4: 64.9898604266994, 5: 58.853700384564384, 6: 52.72529380140214, 7: 48.604094948015785, 8: 44.48960631725963, 9: 40.38137341367131, 10: 38.27898020601796, 11: 34.182045146356, 12: 32.0902176748973, 13: 30.003175142851198, 14: 27.92062009602253, 15: 25.84227787072516, 16: 13.767894460863246, 17: 13.697234621112903, 18: 13.630080176224965, 19: 13.566228510742127, 20: 13.505491217023195, 21: 13.447692882509791, 22: 13.392669999750108, 23: 13.340269984887849, 24: 13.290350292195154, 25: 13.242777613827794, 26: 13.19742715535277, 27: 13.154181978777473, 28: 13.112932405825923, 29: 13.073575475085532, 30: 13.036014447408071, 31: 13.000158354608407, 32: 12.965921587078453, 33: 12.933223516434058, 34: 12.90198814974957, 35: 12.872143812317143, 36: 12.843622856203298, 37: 12.816361392169837, 38: 12.790299042785515, 39: 12.765378714783566, 40: 12.741546388922089, 41: 12.71875092578298, 42: 12.69694388610346, 43: 12.676079364374797, 44: 12.656113834567646, 45: 12.637006006954834, 46: 12.618716695101421, 47: 12.601208692180522, 48: 12.58444665585251, 49: 12.568397001016079}\n",
      "\n"
     ]
    }
   ],
   "source": [
    "print(my_workplace.coordination_times, end='\\n\\n')\n",
    "\n",
    "print(my_workplace.agents[0].performance_times, end='\\n\\n')\n",
    "print(my_workplace.agents[1].performance_times, end='\\n\\n')\n",
    "\n",
    "print(my_workplace.Tperf, end='\\n\\n')"
   ]
  },
  {
   "cell_type": "code",
   "execution_count": 9,
   "metadata": {},
   "outputs": [
    {
     "data": {
      "application/vnd.plotly.v1+json": {
       "config": {
        "linkText": "Export to plot.ly",
        "plotlyServerURL": "https://plot.ly",
        "showLink": true
       },
       "data": [
        {
         "mode": "lines+markers",
         "name": "System",
         "type": "scatter",
         "uid": "2444bc85-4840-44b6-b90e-da26dd49a129",
         "x": [
          0,
          1,
          2,
          3,
          4,
          5,
          6,
          7,
          8,
          9,
          10,
          11,
          12,
          13,
          14,
          15,
          16,
          17,
          18,
          19,
          20,
          21,
          22,
          23,
          24,
          25,
          26,
          27,
          28,
          29,
          30,
          31,
          32,
          33,
          34,
          35,
          36,
          37,
          38,
          39,
          40,
          41,
          42,
          43,
          44,
          45,
          46,
          47,
          48,
          49
         ],
         "y": [
          118,
          99,
          85,
          73,
          65,
          59,
          53,
          49,
          44,
          40,
          38,
          34,
          32,
          30,
          28,
          26,
          14,
          14,
          14,
          14,
          14,
          13,
          13,
          13,
          13,
          13,
          13,
          13,
          13,
          13,
          13,
          13,
          13,
          13,
          13,
          13,
          13,
          13,
          13,
          13,
          13,
          13,
          13,
          13,
          13,
          13,
          13,
          13,
          13,
          13
         ]
        },
        {
         "mode": "lines+markers",
         "name": "Coordination Time",
         "type": "scatter",
         "uid": "cce8afcc-44c6-4f0e-9e94-d726e7ff41fb",
         "x": [
          0,
          1,
          2,
          3,
          4,
          5,
          6,
          7,
          8,
          9,
          10,
          11,
          12,
          13,
          14,
          15,
          16,
          17,
          18,
          19,
          20,
          21,
          22,
          23,
          24,
          25,
          26,
          27,
          28,
          29,
          30,
          31,
          32,
          33,
          34,
          35,
          36,
          37,
          38,
          39,
          40,
          41,
          42,
          43,
          44,
          45,
          46,
          47,
          48,
          49
         ],
         "y": [
          102,
          84,
          70,
          58,
          50,
          44,
          38,
          34,
          30,
          26,
          24,
          20,
          18,
          16,
          14,
          12,
          0,
          0,
          0,
          0,
          0,
          0,
          0,
          0,
          0,
          0,
          0,
          0,
          0,
          0,
          0,
          0,
          0,
          0,
          0,
          0,
          0,
          0,
          0,
          0,
          0,
          0,
          0,
          0,
          0,
          0,
          0,
          0,
          0,
          0
         ]
        },
        {
         "mode": "lines+markers",
         "name": "Agent 1",
         "type": "scatter",
         "uid": "56e30952-00d1-405c-bdc8-d9536088990c",
         "x": [
          0,
          1,
          2,
          3,
          4,
          5,
          6,
          7,
          8,
          9,
          10,
          11,
          12,
          13,
          14,
          15,
          16,
          17,
          18,
          19,
          20,
          21,
          22,
          23,
          24,
          25,
          26,
          27,
          28,
          29,
          30,
          31,
          32,
          33,
          34,
          35,
          36,
          37,
          38,
          39,
          40,
          41,
          42,
          43,
          44,
          45,
          46,
          47,
          48,
          49
         ],
         "y": [
          16,
          15,
          15,
          15,
          15,
          15,
          15,
          15,
          14,
          14,
          14,
          14,
          14,
          14,
          14,
          14,
          14,
          14,
          14,
          14,
          14,
          13,
          13,
          13,
          13,
          13,
          13,
          13,
          13,
          13,
          13,
          13,
          13,
          13,
          13,
          13,
          13,
          13,
          13,
          13,
          13,
          13,
          13,
          13,
          13,
          13,
          13,
          13,
          13,
          13
         ]
        },
        {
         "mode": "lines+markers",
         "name": "Agent 2",
         "type": "scatter",
         "uid": "6ccf0243-41fb-4711-977c-d3a170371203",
         "x": [
          0,
          1,
          2,
          3,
          4,
          5,
          6,
          7,
          8,
          9,
          10,
          11,
          12,
          13,
          14,
          15,
          16,
          17,
          18,
          19,
          20,
          21,
          22,
          23,
          24,
          25,
          26,
          27,
          28,
          29,
          30,
          31,
          32,
          33,
          34,
          35,
          36,
          37,
          38,
          39,
          40,
          41,
          42,
          43,
          44,
          45,
          46,
          47,
          48,
          49
         ],
         "y": [
          16,
          15,
          15,
          15,
          15,
          15,
          15,
          15,
          14,
          14,
          14,
          14,
          14,
          14,
          14,
          14,
          14,
          14,
          14,
          14,
          14,
          13,
          13,
          13,
          13,
          13,
          13,
          13,
          13,
          13,
          13,
          13,
          13,
          13,
          13,
          13,
          13,
          13,
          13,
          13,
          13,
          13,
          13,
          13,
          13,
          13,
          13,
          13,
          13,
          13
         ]
        }
       ],
       "layout": {
        "xaxis": {
         "title": "Cycles",
         "titlefont": {
          "color": "darkgrey",
          "family": "Arial, sans-serif",
          "size": 18
         }
        },
        "yaxis": {
         "title": "Expertise",
         "titlefont": {
          "color": "darkgrey",
          "family": "Arial, sans-serif",
          "size": 18
         }
        }
       }
      },
      "text/html": [
       "<div id=\"8eaedb46-4a0d-4698-9f0b-8ba5f292c1b2\" style=\"height: 525px; width: 100%;\" class=\"plotly-graph-div\"></div><script type=\"text/javascript\">require([\"plotly\"], function(Plotly) { window.PLOTLYENV=window.PLOTLYENV || {};window.PLOTLYENV.BASE_URL=\"https://plot.ly\";Plotly.newPlot(\"8eaedb46-4a0d-4698-9f0b-8ba5f292c1b2\", [{\"mode\": \"lines+markers\", \"name\": \"System\", \"x\": [0, 1, 2, 3, 4, 5, 6, 7, 8, 9, 10, 11, 12, 13, 14, 15, 16, 17, 18, 19, 20, 21, 22, 23, 24, 25, 26, 27, 28, 29, 30, 31, 32, 33, 34, 35, 36, 37, 38, 39, 40, 41, 42, 43, 44, 45, 46, 47, 48, 49], \"y\": [118.0, 99.0, 85.0, 73.0, 65.0, 59.0, 53.0, 49.0, 44.0, 40.0, 38.0, 34.0, 32.0, 30.0, 28.0, 26.0, 14.0, 14.0, 14.0, 14.0, 14.0, 13.0, 13.0, 13.0, 13.0, 13.0, 13.0, 13.0, 13.0, 13.0, 13.0, 13.0, 13.0, 13.0, 13.0, 13.0, 13.0, 13.0, 13.0, 13.0, 13.0, 13.0, 13.0, 13.0, 13.0, 13.0, 13.0, 13.0, 13.0, 13.0], \"type\": \"scatter\", \"uid\": \"2444bc85-4840-44b6-b90e-da26dd49a129\"}, {\"mode\": \"lines+markers\", \"name\": \"Coordination Time\", \"x\": [0, 1, 2, 3, 4, 5, 6, 7, 8, 9, 10, 11, 12, 13, 14, 15, 16, 17, 18, 19, 20, 21, 22, 23, 24, 25, 26, 27, 28, 29, 30, 31, 32, 33, 34, 35, 36, 37, 38, 39, 40, 41, 42, 43, 44, 45, 46, 47, 48, 49], \"y\": [102, 84, 70, 58, 50, 44, 38, 34, 30, 26, 24, 20, 18, 16, 14, 12, 0, 0, 0, 0, 0, 0, 0, 0, 0, 0, 0, 0, 0, 0, 0, 0, 0, 0, 0, 0, 0, 0, 0, 0, 0, 0, 0, 0, 0, 0, 0, 0, 0, 0], \"type\": \"scatter\", \"uid\": \"cce8afcc-44c6-4f0e-9e94-d726e7ff41fb\"}, {\"mode\": \"lines+markers\", \"name\": \"Agent 1\", \"x\": [0, 1, 2, 3, 4, 5, 6, 7, 8, 9, 10, 11, 12, 13, 14, 15, 16, 17, 18, 19, 20, 21, 22, 23, 24, 25, 26, 27, 28, 29, 30, 31, 32, 33, 34, 35, 36, 37, 38, 39, 40, 41, 42, 43, 44, 45, 46, 47, 48, 49], \"y\": [16.0, 15.0, 15.0, 15.0, 15.0, 15.0, 15.0, 15.0, 14.0, 14.0, 14.0, 14.0, 14.0, 14.0, 14.0, 14.0, 14.0, 14.0, 14.0, 14.0, 14.0, 13.0, 13.0, 13.0, 13.0, 13.0, 13.0, 13.0, 13.0, 13.0, 13.0, 13.0, 13.0, 13.0, 13.0, 13.0, 13.0, 13.0, 13.0, 13.0, 13.0, 13.0, 13.0, 13.0, 13.0, 13.0, 13.0, 13.0, 13.0, 13.0], \"type\": \"scatter\", \"uid\": \"56e30952-00d1-405c-bdc8-d9536088990c\"}, {\"mode\": \"lines+markers\", \"name\": \"Agent 2\", \"x\": [0, 1, 2, 3, 4, 5, 6, 7, 8, 9, 10, 11, 12, 13, 14, 15, 16, 17, 18, 19, 20, 21, 22, 23, 24, 25, 26, 27, 28, 29, 30, 31, 32, 33, 34, 35, 36, 37, 38, 39, 40, 41, 42, 43, 44, 45, 46, 47, 48, 49], \"y\": [16.0, 15.0, 15.0, 15.0, 15.0, 15.0, 15.0, 15.0, 14.0, 14.0, 14.0, 14.0, 14.0, 14.0, 14.0, 14.0, 14.0, 14.0, 14.0, 14.0, 14.0, 13.0, 13.0, 13.0, 13.0, 13.0, 13.0, 13.0, 13.0, 13.0, 13.0, 13.0, 13.0, 13.0, 13.0, 13.0, 13.0, 13.0, 13.0, 13.0, 13.0, 13.0, 13.0, 13.0, 13.0, 13.0, 13.0, 13.0, 13.0, 13.0], \"type\": \"scatter\", \"uid\": \"6ccf0243-41fb-4711-977c-d3a170371203\"}], {\"xaxis\": {\"title\": \"Cycles\", \"titlefont\": {\"color\": \"darkgrey\", \"family\": \"Arial, sans-serif\", \"size\": 18}}, \"yaxis\": {\"title\": \"Expertise\", \"titlefont\": {\"color\": \"darkgrey\", \"family\": \"Arial, sans-serif\", \"size\": 18}}}, {\"showLink\": true, \"linkText\": \"Export to plot.ly\", \"plotlyServerURL\": \"https://plot.ly\"})});</script><script type=\"text/javascript\">window.addEventListener(\"resize\", function(){window._Plotly.Plots.resize(document.getElementById(\"8eaedb46-4a0d-4698-9f0b-8ba5f292c1b2\"));});</script>"
      ],
      "text/vnd.plotly.v1+html": [
       "<div id=\"8eaedb46-4a0d-4698-9f0b-8ba5f292c1b2\" style=\"height: 525px; width: 100%;\" class=\"plotly-graph-div\"></div><script type=\"text/javascript\">require([\"plotly\"], function(Plotly) { window.PLOTLYENV=window.PLOTLYENV || {};window.PLOTLYENV.BASE_URL=\"https://plot.ly\";Plotly.newPlot(\"8eaedb46-4a0d-4698-9f0b-8ba5f292c1b2\", [{\"mode\": \"lines+markers\", \"name\": \"System\", \"x\": [0, 1, 2, 3, 4, 5, 6, 7, 8, 9, 10, 11, 12, 13, 14, 15, 16, 17, 18, 19, 20, 21, 22, 23, 24, 25, 26, 27, 28, 29, 30, 31, 32, 33, 34, 35, 36, 37, 38, 39, 40, 41, 42, 43, 44, 45, 46, 47, 48, 49], \"y\": [118.0, 99.0, 85.0, 73.0, 65.0, 59.0, 53.0, 49.0, 44.0, 40.0, 38.0, 34.0, 32.0, 30.0, 28.0, 26.0, 14.0, 14.0, 14.0, 14.0, 14.0, 13.0, 13.0, 13.0, 13.0, 13.0, 13.0, 13.0, 13.0, 13.0, 13.0, 13.0, 13.0, 13.0, 13.0, 13.0, 13.0, 13.0, 13.0, 13.0, 13.0, 13.0, 13.0, 13.0, 13.0, 13.0, 13.0, 13.0, 13.0, 13.0], \"type\": \"scatter\", \"uid\": \"2444bc85-4840-44b6-b90e-da26dd49a129\"}, {\"mode\": \"lines+markers\", \"name\": \"Coordination Time\", \"x\": [0, 1, 2, 3, 4, 5, 6, 7, 8, 9, 10, 11, 12, 13, 14, 15, 16, 17, 18, 19, 20, 21, 22, 23, 24, 25, 26, 27, 28, 29, 30, 31, 32, 33, 34, 35, 36, 37, 38, 39, 40, 41, 42, 43, 44, 45, 46, 47, 48, 49], \"y\": [102, 84, 70, 58, 50, 44, 38, 34, 30, 26, 24, 20, 18, 16, 14, 12, 0, 0, 0, 0, 0, 0, 0, 0, 0, 0, 0, 0, 0, 0, 0, 0, 0, 0, 0, 0, 0, 0, 0, 0, 0, 0, 0, 0, 0, 0, 0, 0, 0, 0], \"type\": \"scatter\", \"uid\": \"cce8afcc-44c6-4f0e-9e94-d726e7ff41fb\"}, {\"mode\": \"lines+markers\", \"name\": \"Agent 1\", \"x\": [0, 1, 2, 3, 4, 5, 6, 7, 8, 9, 10, 11, 12, 13, 14, 15, 16, 17, 18, 19, 20, 21, 22, 23, 24, 25, 26, 27, 28, 29, 30, 31, 32, 33, 34, 35, 36, 37, 38, 39, 40, 41, 42, 43, 44, 45, 46, 47, 48, 49], \"y\": [16.0, 15.0, 15.0, 15.0, 15.0, 15.0, 15.0, 15.0, 14.0, 14.0, 14.0, 14.0, 14.0, 14.0, 14.0, 14.0, 14.0, 14.0, 14.0, 14.0, 14.0, 13.0, 13.0, 13.0, 13.0, 13.0, 13.0, 13.0, 13.0, 13.0, 13.0, 13.0, 13.0, 13.0, 13.0, 13.0, 13.0, 13.0, 13.0, 13.0, 13.0, 13.0, 13.0, 13.0, 13.0, 13.0, 13.0, 13.0, 13.0, 13.0], \"type\": \"scatter\", \"uid\": \"56e30952-00d1-405c-bdc8-d9536088990c\"}, {\"mode\": \"lines+markers\", \"name\": \"Agent 2\", \"x\": [0, 1, 2, 3, 4, 5, 6, 7, 8, 9, 10, 11, 12, 13, 14, 15, 16, 17, 18, 19, 20, 21, 22, 23, 24, 25, 26, 27, 28, 29, 30, 31, 32, 33, 34, 35, 36, 37, 38, 39, 40, 41, 42, 43, 44, 45, 46, 47, 48, 49], \"y\": [16.0, 15.0, 15.0, 15.0, 15.0, 15.0, 15.0, 15.0, 14.0, 14.0, 14.0, 14.0, 14.0, 14.0, 14.0, 14.0, 14.0, 14.0, 14.0, 14.0, 14.0, 13.0, 13.0, 13.0, 13.0, 13.0, 13.0, 13.0, 13.0, 13.0, 13.0, 13.0, 13.0, 13.0, 13.0, 13.0, 13.0, 13.0, 13.0, 13.0, 13.0, 13.0, 13.0, 13.0, 13.0, 13.0, 13.0, 13.0, 13.0, 13.0], \"type\": \"scatter\", \"uid\": \"6ccf0243-41fb-4711-977c-d3a170371203\"}], {\"xaxis\": {\"title\": \"Cycles\", \"titlefont\": {\"color\": \"darkgrey\", \"family\": \"Arial, sans-serif\", \"size\": 18}}, \"yaxis\": {\"title\": \"Expertise\", \"titlefont\": {\"color\": \"darkgrey\", \"family\": \"Arial, sans-serif\", \"size\": 18}}}, {\"showLink\": true, \"linkText\": \"Export to plot.ly\", \"plotlyServerURL\": \"https://plot.ly\"})});</script><script type=\"text/javascript\">window.addEventListener(\"resize\", function(){window._Plotly.Plots.resize(document.getElementById(\"8eaedb46-4a0d-4698-9f0b-8ba5f292c1b2\"));});</script>"
      ]
     },
     "metadata": {},
     "output_type": "display_data"
    }
   ],
   "source": [
    "my_workplace.plot_performance()"
   ]
  },
  {
   "cell_type": "code",
   "execution_count": 10,
   "metadata": {},
   "outputs": [
    {
     "data": {
      "application/vnd.plotly.v1+json": {
       "config": {
        "linkText": "Export to plot.ly",
        "plotlyServerURL": "https://plot.ly",
        "showLink": true
       },
       "data": [
        {
         "mode": "lines+markers",
         "name": "Agent 1",
         "type": "scatter",
         "uid": "16ae22f0-5dd4-4bd9-ad06-69d6f3f74f51",
         "x": [
          0,
          1,
          2,
          3,
          4,
          5,
          6,
          7,
          8,
          9,
          10,
          11,
          12,
          13,
          14,
          15,
          16,
          17,
          18,
          19,
          20,
          21,
          22,
          23,
          24,
          25,
          26,
          27,
          28,
          29,
          30,
          31,
          32,
          33,
          34,
          35,
          36,
          37,
          38,
          39,
          40,
          41,
          42,
          43,
          44,
          45,
          46,
          47,
          48,
          49,
          50,
          51,
          52,
          53,
          54,
          55,
          56,
          57,
          58,
          59,
          60,
          61,
          62,
          63,
          64,
          65,
          66,
          67,
          68,
          69,
          70,
          71,
          72,
          73,
          74,
          75,
          76,
          77,
          78,
          79,
          80,
          81,
          82,
          83,
          84,
          85,
          86,
          87,
          88,
          89,
          90,
          91,
          92,
          93,
          94,
          95,
          96,
          97,
          98,
          99,
          100
         ],
         "y": [
          10,
          9.007339426825457,
          8.511009140238185,
          7.636139545626314,
          7.198704748320378,
          6.469584904258365,
          6.105024982227359,
          5.4688773219421165,
          5.150803491799495,
          4.6806356984376025,
          4.445551801756656,
          4.090110634886624,
          3.912390051451609,
          3.5816894823346033,
          3.4163391977761006,
          3.170229917104903,
          3.047175276769304,
          2.820435543499193,
          2.7070656768641377,
          2.4833794056078,
          2.371536269979631,
          2.2314398625499843,
          2.1613916588351607,
          1.9566628977002554,
          1.8542985171328028,
          1.7175838548154483,
          1.649226523656771,
          1.5290601913077195,
          1.468977025133194,
          1.3524912570398295,
          1.2942483729931473,
          1.178224905328849,
          1.1202131714966996,
          0.5601065857483498,
          0.2800532928741749,
          0.14002664643708745,
          0.07001332321854373,
          0.035006661609271864,
          0.017503330804635932,
          0.008751665402317966,
          0.004375832701158983,
          0.0021879163505794915,
          0.0010939581752897457,
          0.0005469790876448729,
          0.00027348954382243643,
          0.00013674477191121822,
          6.837238595560911e-05,
          3.4186192977804554e-05,
          1.7093096488902277e-05,
          8.546548244451139e-06,
          4.273274122225569e-06,
          2.1366370611127846e-06,
          1.0683185305563923e-06,
          5.341592652781962e-07,
          2.670796326390981e-07,
          1.3353981631954904e-07,
          6.676990815977452e-08,
          3.338495407988726e-08,
          1.669247703994363e-08,
          8.346238519971815e-09,
          4.1731192599859075e-09,
          2.0865596299929538e-09,
          1.0432798149964769e-09,
          5.216399074982384e-10,
          2.608199537491192e-10,
          1.304099768745596e-10,
          6.52049884372798e-11,
          3.26024942186399e-11,
          1.630124710931995e-11,
          8.150623554659976e-12,
          4.075311777329988e-12,
          2.037655888664994e-12,
          1.018827944332497e-12,
          5.094139721662485e-13,
          2.5470698608312424e-13,
          1.2735349304156212e-13,
          6.367674652078106e-14,
          3.183837326039053e-14,
          1.5919186630195265e-14,
          7.959593315097632e-15,
          3.979796657548816e-15,
          1.989898328774408e-15,
          9.94949164387204e-16,
          4.97474582193602e-16,
          2.48737291096801e-16,
          1.243686455484005e-16,
          6.218432277420025e-17,
          3.1092161387100127e-17,
          1.5546080693550063e-17,
          7.773040346775032e-18,
          3.886520173387516e-18,
          1.943260086693758e-18,
          9.71630043346879e-19,
          4.858150216734395e-19,
          2.4290751083671974e-19,
          1.2145375541835987e-19,
          6.072687770917993e-20,
          3.036343885458997e-20,
          1.5181719427294984e-20,
          7.590859713647492e-21,
          3.795429856823746e-21
         ]
        },
        {
         "mode": "lines+markers",
         "name": "Agent 2",
         "type": "scatter",
         "uid": "6d76f874-e37a-408c-8cb5-70f169bc64dd",
         "x": [
          0,
          1,
          2,
          3,
          4,
          5,
          6,
          7,
          8,
          9,
          10,
          11,
          12,
          13,
          14,
          15,
          16,
          17,
          18,
          19,
          20,
          21,
          22,
          23,
          24,
          25,
          26,
          27,
          28,
          29,
          30,
          31,
          32,
          33,
          34,
          35,
          36,
          37,
          38,
          39,
          40,
          41,
          42,
          43,
          44,
          45,
          46,
          47,
          48,
          49,
          50,
          51,
          52,
          53,
          54,
          55,
          56,
          57,
          58,
          59,
          60,
          61,
          62,
          63,
          64,
          65,
          66,
          67,
          68,
          69,
          70,
          71,
          72,
          73,
          74,
          75,
          76,
          77,
          78,
          79,
          80,
          81,
          82,
          83,
          84,
          85,
          86,
          87,
          88,
          89,
          90,
          91,
          92,
          93,
          94,
          95,
          96,
          97,
          98,
          99,
          100
         ],
         "y": [
          15,
          11.507339426825457,
          9.761009140238185,
          8.261139545626314,
          7.511204748320378,
          6.625834904258365,
          6.183149982227359,
          5.5079398219421165,
          5.170334741799495,
          4.6904013234376025,
          4.450434614256656,
          4.092552041136624,
          3.913610754576609,
          3.5822998338971033,
          3.4166443735573506,
          3.170382504995528,
          3.0472515707146166,
          2.8204736904718493,
          2.707084750350466,
          2.483388942350964,
          2.371541038351213,
          2.2314422467357753,
          2.161392850928056,
          1.9566634937467031,
          1.8542988151560267,
          1.7175840038270602,
          1.6492265981625769,
          1.5290602285606225,
          1.4689770437596454,
          1.3524912663530553,
          1.2942483776497602,
          1.1782249076571554,
          1.1202131726608529,
          0.5601065863304264,
          0.2800532931652132,
          0.1400266465826066,
          0.0700133232913033,
          0.03500666164565165,
          0.017503330822825826,
          0.008751665411412913,
          0.0043758327057064565,
          0.0021879163528532282,
          0.0010939581764266141,
          0.0005469790882133071,
          0.00027348954410665353,
          0.00013674477205332676,
          6.837238602666338e-05,
          3.418619301333169e-05,
          1.7093096506665846e-05,
          8.546548253332923e-06,
          4.273274126666461e-06,
          2.1366370633332307e-06,
          1.0683185316666153e-06,
          5.341592658333077e-07,
          2.6707963291665384e-07,
          1.3353981645832692e-07,
          6.676990822916346e-08,
          3.338495411458173e-08,
          1.6692477057290865e-08,
          8.346238528645432e-09,
          4.173119264322716e-09,
          2.086559632161358e-09,
          1.043279816080679e-09,
          5.216399080403395e-10,
          2.6081995402016976e-10,
          1.3040997701008488e-10,
          6.520498850504244e-11,
          3.260249425252122e-11,
          1.630124712626061e-11,
          8.150623563130305e-12,
          4.0753117815651525e-12,
          2.0376558907825763e-12,
          1.0188279453912881e-12,
          5.094139726956441e-13,
          2.5470698634782203e-13,
          1.2735349317391102e-13,
          6.367674658695551e-14,
          3.1838373293477754e-14,
          1.5919186646738877e-14,
          7.959593323369439e-15,
          3.979796661684719e-15,
          1.9898983308423596e-15,
          9.949491654211798e-16,
          4.974745827105899e-16,
          2.4873729135529495e-16,
          1.2436864567764748e-16,
          6.218432283882374e-17,
          3.109216141941187e-17,
          1.5546080709705935e-17,
          7.773040354852967e-18,
          3.886520177426484e-18,
          1.943260088713242e-18,
          9.71630044356621e-19,
          4.858150221783105e-19,
          2.4290751108915523e-19,
          1.2145375554457761e-19,
          6.072687777228881e-20,
          3.0363438886144404e-20,
          1.5181719443072202e-20,
          7.590859721536101e-21,
          3.7954298607680504e-21
         ]
        }
       ],
       "layout": {
        "xaxis": {
         "title": "Cycles",
         "titlefont": {
          "color": "darkgrey",
          "family": "Arial, sans-serif",
          "size": 18
         }
        },
        "yaxis": {
         "title": "Frustration",
         "titlefont": {
          "color": "darkgrey",
          "family": "Arial, sans-serif",
          "size": 18
         }
        }
       }
      },
      "text/html": [
       "<div id=\"e3e2c807-ef83-42b4-9cae-c82d1ce55bfa\" style=\"height: 525px; width: 100%;\" class=\"plotly-graph-div\"></div><script type=\"text/javascript\">require([\"plotly\"], function(Plotly) { window.PLOTLYENV=window.PLOTLYENV || {};window.PLOTLYENV.BASE_URL=\"https://plot.ly\";Plotly.newPlot(\"e3e2c807-ef83-42b4-9cae-c82d1ce55bfa\", [{\"mode\": \"lines+markers\", \"name\": \"Agent 1\", \"x\": [0, 1, 2, 3, 4, 5, 6, 7, 8, 9, 10, 11, 12, 13, 14, 15, 16, 17, 18, 19, 20, 21, 22, 23, 24, 25, 26, 27, 28, 29, 30, 31, 32, 33, 34, 35, 36, 37, 38, 39, 40, 41, 42, 43, 44, 45, 46, 47, 48, 49, 50, 51, 52, 53, 54, 55, 56, 57, 58, 59, 60, 61, 62, 63, 64, 65, 66, 67, 68, 69, 70, 71, 72, 73, 74, 75, 76, 77, 78, 79, 80, 81, 82, 83, 84, 85, 86, 87, 88, 89, 90, 91, 92, 93, 94, 95, 96, 97, 98, 99, 100], \"y\": [10.0, 9.007339426825457, 8.511009140238185, 7.636139545626314, 7.198704748320378, 6.469584904258365, 6.105024982227359, 5.4688773219421165, 5.150803491799495, 4.6806356984376025, 4.445551801756656, 4.090110634886624, 3.912390051451609, 3.5816894823346033, 3.4163391977761006, 3.170229917104903, 3.047175276769304, 2.820435543499193, 2.7070656768641377, 2.4833794056078, 2.371536269979631, 2.2314398625499843, 2.1613916588351607, 1.9566628977002554, 1.8542985171328028, 1.7175838548154483, 1.649226523656771, 1.5290601913077195, 1.468977025133194, 1.3524912570398295, 1.2942483729931473, 1.178224905328849, 1.1202131714966996, 0.5601065857483498, 0.2800532928741749, 0.14002664643708745, 0.07001332321854373, 0.035006661609271864, 0.017503330804635932, 0.008751665402317966, 0.004375832701158983, 0.0021879163505794915, 0.0010939581752897457, 0.0005469790876448729, 0.00027348954382243643, 0.00013674477191121822, 6.837238595560911e-05, 3.4186192977804554e-05, 1.7093096488902277e-05, 8.546548244451139e-06, 4.273274122225569e-06, 2.1366370611127846e-06, 1.0683185305563923e-06, 5.341592652781962e-07, 2.670796326390981e-07, 1.3353981631954904e-07, 6.676990815977452e-08, 3.338495407988726e-08, 1.669247703994363e-08, 8.346238519971815e-09, 4.1731192599859075e-09, 2.0865596299929538e-09, 1.0432798149964769e-09, 5.216399074982384e-10, 2.608199537491192e-10, 1.304099768745596e-10, 6.52049884372798e-11, 3.26024942186399e-11, 1.630124710931995e-11, 8.150623554659976e-12, 4.075311777329988e-12, 2.037655888664994e-12, 1.018827944332497e-12, 5.094139721662485e-13, 2.5470698608312424e-13, 1.2735349304156212e-13, 6.367674652078106e-14, 3.183837326039053e-14, 1.5919186630195265e-14, 7.959593315097632e-15, 3.979796657548816e-15, 1.989898328774408e-15, 9.94949164387204e-16, 4.97474582193602e-16, 2.48737291096801e-16, 1.243686455484005e-16, 6.218432277420025e-17, 3.1092161387100127e-17, 1.5546080693550063e-17, 7.773040346775032e-18, 3.886520173387516e-18, 1.943260086693758e-18, 9.71630043346879e-19, 4.858150216734395e-19, 2.4290751083671974e-19, 1.2145375541835987e-19, 6.072687770917993e-20, 3.036343885458997e-20, 1.5181719427294984e-20, 7.590859713647492e-21, 3.795429856823746e-21], \"type\": \"scatter\", \"uid\": \"16ae22f0-5dd4-4bd9-ad06-69d6f3f74f51\"}, {\"mode\": \"lines+markers\", \"name\": \"Agent 2\", \"x\": [0, 1, 2, 3, 4, 5, 6, 7, 8, 9, 10, 11, 12, 13, 14, 15, 16, 17, 18, 19, 20, 21, 22, 23, 24, 25, 26, 27, 28, 29, 30, 31, 32, 33, 34, 35, 36, 37, 38, 39, 40, 41, 42, 43, 44, 45, 46, 47, 48, 49, 50, 51, 52, 53, 54, 55, 56, 57, 58, 59, 60, 61, 62, 63, 64, 65, 66, 67, 68, 69, 70, 71, 72, 73, 74, 75, 76, 77, 78, 79, 80, 81, 82, 83, 84, 85, 86, 87, 88, 89, 90, 91, 92, 93, 94, 95, 96, 97, 98, 99, 100], \"y\": [15.0, 11.507339426825457, 9.761009140238185, 8.261139545626314, 7.511204748320378, 6.625834904258365, 6.183149982227359, 5.5079398219421165, 5.170334741799495, 4.6904013234376025, 4.450434614256656, 4.092552041136624, 3.913610754576609, 3.5822998338971033, 3.4166443735573506, 3.170382504995528, 3.0472515707146166, 2.8204736904718493, 2.707084750350466, 2.483388942350964, 2.371541038351213, 2.2314422467357753, 2.161392850928056, 1.9566634937467031, 1.8542988151560267, 1.7175840038270602, 1.6492265981625769, 1.5290602285606225, 1.4689770437596454, 1.3524912663530553, 1.2942483776497602, 1.1782249076571554, 1.1202131726608529, 0.5601065863304264, 0.2800532931652132, 0.1400266465826066, 0.0700133232913033, 0.03500666164565165, 0.017503330822825826, 0.008751665411412913, 0.0043758327057064565, 0.0021879163528532282, 0.0010939581764266141, 0.0005469790882133071, 0.00027348954410665353, 0.00013674477205332676, 6.837238602666338e-05, 3.418619301333169e-05, 1.7093096506665846e-05, 8.546548253332923e-06, 4.273274126666461e-06, 2.1366370633332307e-06, 1.0683185316666153e-06, 5.341592658333077e-07, 2.6707963291665384e-07, 1.3353981645832692e-07, 6.676990822916346e-08, 3.338495411458173e-08, 1.6692477057290865e-08, 8.346238528645432e-09, 4.173119264322716e-09, 2.086559632161358e-09, 1.043279816080679e-09, 5.216399080403395e-10, 2.6081995402016976e-10, 1.3040997701008488e-10, 6.520498850504244e-11, 3.260249425252122e-11, 1.630124712626061e-11, 8.150623563130305e-12, 4.0753117815651525e-12, 2.0376558907825763e-12, 1.0188279453912881e-12, 5.094139726956441e-13, 2.5470698634782203e-13, 1.2735349317391102e-13, 6.367674658695551e-14, 3.1838373293477754e-14, 1.5919186646738877e-14, 7.959593323369439e-15, 3.979796661684719e-15, 1.9898983308423596e-15, 9.949491654211798e-16, 4.974745827105899e-16, 2.4873729135529495e-16, 1.2436864567764748e-16, 6.218432283882374e-17, 3.109216141941187e-17, 1.5546080709705935e-17, 7.773040354852967e-18, 3.886520177426484e-18, 1.943260088713242e-18, 9.71630044356621e-19, 4.858150221783105e-19, 2.4290751108915523e-19, 1.2145375554457761e-19, 6.072687777228881e-20, 3.0363438886144404e-20, 1.5181719443072202e-20, 7.590859721536101e-21, 3.7954298607680504e-21], \"type\": \"scatter\", \"uid\": \"6d76f874-e37a-408c-8cb5-70f169bc64dd\"}], {\"xaxis\": {\"title\": \"Cycles\", \"titlefont\": {\"color\": \"darkgrey\", \"family\": \"Arial, sans-serif\", \"size\": 18}}, \"yaxis\": {\"title\": \"Frustration\", \"titlefont\": {\"color\": \"darkgrey\", \"family\": \"Arial, sans-serif\", \"size\": 18}}}, {\"showLink\": true, \"linkText\": \"Export to plot.ly\", \"plotlyServerURL\": \"https://plot.ly\"})});</script><script type=\"text/javascript\">window.addEventListener(\"resize\", function(){window._Plotly.Plots.resize(document.getElementById(\"e3e2c807-ef83-42b4-9cae-c82d1ce55bfa\"));});</script>"
      ],
      "text/vnd.plotly.v1+html": [
       "<div id=\"e3e2c807-ef83-42b4-9cae-c82d1ce55bfa\" style=\"height: 525px; width: 100%;\" class=\"plotly-graph-div\"></div><script type=\"text/javascript\">require([\"plotly\"], function(Plotly) { window.PLOTLYENV=window.PLOTLYENV || {};window.PLOTLYENV.BASE_URL=\"https://plot.ly\";Plotly.newPlot(\"e3e2c807-ef83-42b4-9cae-c82d1ce55bfa\", [{\"mode\": \"lines+markers\", \"name\": \"Agent 1\", \"x\": [0, 1, 2, 3, 4, 5, 6, 7, 8, 9, 10, 11, 12, 13, 14, 15, 16, 17, 18, 19, 20, 21, 22, 23, 24, 25, 26, 27, 28, 29, 30, 31, 32, 33, 34, 35, 36, 37, 38, 39, 40, 41, 42, 43, 44, 45, 46, 47, 48, 49, 50, 51, 52, 53, 54, 55, 56, 57, 58, 59, 60, 61, 62, 63, 64, 65, 66, 67, 68, 69, 70, 71, 72, 73, 74, 75, 76, 77, 78, 79, 80, 81, 82, 83, 84, 85, 86, 87, 88, 89, 90, 91, 92, 93, 94, 95, 96, 97, 98, 99, 100], \"y\": [10.0, 9.007339426825457, 8.511009140238185, 7.636139545626314, 7.198704748320378, 6.469584904258365, 6.105024982227359, 5.4688773219421165, 5.150803491799495, 4.6806356984376025, 4.445551801756656, 4.090110634886624, 3.912390051451609, 3.5816894823346033, 3.4163391977761006, 3.170229917104903, 3.047175276769304, 2.820435543499193, 2.7070656768641377, 2.4833794056078, 2.371536269979631, 2.2314398625499843, 2.1613916588351607, 1.9566628977002554, 1.8542985171328028, 1.7175838548154483, 1.649226523656771, 1.5290601913077195, 1.468977025133194, 1.3524912570398295, 1.2942483729931473, 1.178224905328849, 1.1202131714966996, 0.5601065857483498, 0.2800532928741749, 0.14002664643708745, 0.07001332321854373, 0.035006661609271864, 0.017503330804635932, 0.008751665402317966, 0.004375832701158983, 0.0021879163505794915, 0.0010939581752897457, 0.0005469790876448729, 0.00027348954382243643, 0.00013674477191121822, 6.837238595560911e-05, 3.4186192977804554e-05, 1.7093096488902277e-05, 8.546548244451139e-06, 4.273274122225569e-06, 2.1366370611127846e-06, 1.0683185305563923e-06, 5.341592652781962e-07, 2.670796326390981e-07, 1.3353981631954904e-07, 6.676990815977452e-08, 3.338495407988726e-08, 1.669247703994363e-08, 8.346238519971815e-09, 4.1731192599859075e-09, 2.0865596299929538e-09, 1.0432798149964769e-09, 5.216399074982384e-10, 2.608199537491192e-10, 1.304099768745596e-10, 6.52049884372798e-11, 3.26024942186399e-11, 1.630124710931995e-11, 8.150623554659976e-12, 4.075311777329988e-12, 2.037655888664994e-12, 1.018827944332497e-12, 5.094139721662485e-13, 2.5470698608312424e-13, 1.2735349304156212e-13, 6.367674652078106e-14, 3.183837326039053e-14, 1.5919186630195265e-14, 7.959593315097632e-15, 3.979796657548816e-15, 1.989898328774408e-15, 9.94949164387204e-16, 4.97474582193602e-16, 2.48737291096801e-16, 1.243686455484005e-16, 6.218432277420025e-17, 3.1092161387100127e-17, 1.5546080693550063e-17, 7.773040346775032e-18, 3.886520173387516e-18, 1.943260086693758e-18, 9.71630043346879e-19, 4.858150216734395e-19, 2.4290751083671974e-19, 1.2145375541835987e-19, 6.072687770917993e-20, 3.036343885458997e-20, 1.5181719427294984e-20, 7.590859713647492e-21, 3.795429856823746e-21], \"type\": \"scatter\", \"uid\": \"16ae22f0-5dd4-4bd9-ad06-69d6f3f74f51\"}, {\"mode\": \"lines+markers\", \"name\": \"Agent 2\", \"x\": [0, 1, 2, 3, 4, 5, 6, 7, 8, 9, 10, 11, 12, 13, 14, 15, 16, 17, 18, 19, 20, 21, 22, 23, 24, 25, 26, 27, 28, 29, 30, 31, 32, 33, 34, 35, 36, 37, 38, 39, 40, 41, 42, 43, 44, 45, 46, 47, 48, 49, 50, 51, 52, 53, 54, 55, 56, 57, 58, 59, 60, 61, 62, 63, 64, 65, 66, 67, 68, 69, 70, 71, 72, 73, 74, 75, 76, 77, 78, 79, 80, 81, 82, 83, 84, 85, 86, 87, 88, 89, 90, 91, 92, 93, 94, 95, 96, 97, 98, 99, 100], \"y\": [15.0, 11.507339426825457, 9.761009140238185, 8.261139545626314, 7.511204748320378, 6.625834904258365, 6.183149982227359, 5.5079398219421165, 5.170334741799495, 4.6904013234376025, 4.450434614256656, 4.092552041136624, 3.913610754576609, 3.5822998338971033, 3.4166443735573506, 3.170382504995528, 3.0472515707146166, 2.8204736904718493, 2.707084750350466, 2.483388942350964, 2.371541038351213, 2.2314422467357753, 2.161392850928056, 1.9566634937467031, 1.8542988151560267, 1.7175840038270602, 1.6492265981625769, 1.5290602285606225, 1.4689770437596454, 1.3524912663530553, 1.2942483776497602, 1.1782249076571554, 1.1202131726608529, 0.5601065863304264, 0.2800532931652132, 0.1400266465826066, 0.0700133232913033, 0.03500666164565165, 0.017503330822825826, 0.008751665411412913, 0.0043758327057064565, 0.0021879163528532282, 0.0010939581764266141, 0.0005469790882133071, 0.00027348954410665353, 0.00013674477205332676, 6.837238602666338e-05, 3.418619301333169e-05, 1.7093096506665846e-05, 8.546548253332923e-06, 4.273274126666461e-06, 2.1366370633332307e-06, 1.0683185316666153e-06, 5.341592658333077e-07, 2.6707963291665384e-07, 1.3353981645832692e-07, 6.676990822916346e-08, 3.338495411458173e-08, 1.6692477057290865e-08, 8.346238528645432e-09, 4.173119264322716e-09, 2.086559632161358e-09, 1.043279816080679e-09, 5.216399080403395e-10, 2.6081995402016976e-10, 1.3040997701008488e-10, 6.520498850504244e-11, 3.260249425252122e-11, 1.630124712626061e-11, 8.150623563130305e-12, 4.0753117815651525e-12, 2.0376558907825763e-12, 1.0188279453912881e-12, 5.094139726956441e-13, 2.5470698634782203e-13, 1.2735349317391102e-13, 6.367674658695551e-14, 3.1838373293477754e-14, 1.5919186646738877e-14, 7.959593323369439e-15, 3.979796661684719e-15, 1.9898983308423596e-15, 9.949491654211798e-16, 4.974745827105899e-16, 2.4873729135529495e-16, 1.2436864567764748e-16, 6.218432283882374e-17, 3.109216141941187e-17, 1.5546080709705935e-17, 7.773040354852967e-18, 3.886520177426484e-18, 1.943260088713242e-18, 9.71630044356621e-19, 4.858150221783105e-19, 2.4290751108915523e-19, 1.2145375554457761e-19, 6.072687777228881e-20, 3.0363438886144404e-20, 1.5181719443072202e-20, 7.590859721536101e-21, 3.7954298607680504e-21], \"type\": \"scatter\", \"uid\": \"6d76f874-e37a-408c-8cb5-70f169bc64dd\"}], {\"xaxis\": {\"title\": \"Cycles\", \"titlefont\": {\"color\": \"darkgrey\", \"family\": \"Arial, sans-serif\", \"size\": 18}}, \"yaxis\": {\"title\": \"Frustration\", \"titlefont\": {\"color\": \"darkgrey\", \"family\": \"Arial, sans-serif\", \"size\": 18}}}, {\"showLink\": true, \"linkText\": \"Export to plot.ly\", \"plotlyServerURL\": \"https://plot.ly\"})});</script><script type=\"text/javascript\">window.addEventListener(\"resize\", function(){window._Plotly.Plots.resize(document.getElementById(\"e3e2c807-ef83-42b4-9cae-c82d1ce55bfa\"));});</script>"
      ]
     },
     "metadata": {},
     "output_type": "display_data"
    }
   ],
   "source": [
    "my_workplace.plot_frustration()"
   ]
  },
  {
   "cell_type": "code",
   "execution_count": 11,
   "metadata": {},
   "outputs": [
    {
     "name": "stdout",
     "output_type": "stream",
     "text": [
      "[10, 9.007339426825457, 8.511009140238185, 7.636139545626314, 7.198704748320378, 6.469584904258365, 6.105024982227359, 5.4688773219421165, 5.150803491799495, 4.6806356984376025, 4.445551801756656, 4.090110634886624, 3.912390051451609, 3.5816894823346033, 3.4163391977761006, 3.170229917104903, 3.047175276769304, 2.820435543499193, 2.7070656768641377, 2.4833794056078, 2.371536269979631, 2.2314398625499843, 2.1613916588351607, 1.9566628977002554, 1.8542985171328028, 1.7175838548154483, 1.649226523656771, 1.5290601913077195, 1.468977025133194, 1.3524912570398295, 1.2942483729931473, 1.178224905328849, 1.1202131714966996, 0.5601065857483498, 0.2800532928741749, 0.14002664643708745, 0.07001332321854373, 0.035006661609271864, 0.017503330804635932, 0.008751665402317966, 0.004375832701158983, 0.0021879163505794915, 0.0010939581752897457, 0.0005469790876448729, 0.00027348954382243643, 0.00013674477191121822, 6.837238595560911e-05, 3.4186192977804554e-05, 1.7093096488902277e-05, 8.546548244451139e-06, 4.273274122225569e-06, 2.1366370611127846e-06, 1.0683185305563923e-06, 5.341592652781962e-07, 2.670796326390981e-07, 1.3353981631954904e-07, 6.676990815977452e-08, 3.338495407988726e-08, 1.669247703994363e-08, 8.346238519971815e-09, 4.1731192599859075e-09, 2.0865596299929538e-09, 1.0432798149964769e-09, 5.216399074982384e-10, 2.608199537491192e-10, 1.304099768745596e-10, 6.52049884372798e-11, 3.26024942186399e-11, 1.630124710931995e-11, 8.150623554659976e-12, 4.075311777329988e-12, 2.037655888664994e-12, 1.018827944332497e-12, 5.094139721662485e-13, 2.5470698608312424e-13, 1.2735349304156212e-13, 6.367674652078106e-14, 3.183837326039053e-14, 1.5919186630195265e-14, 7.959593315097632e-15, 3.979796657548816e-15, 1.989898328774408e-15, 9.94949164387204e-16, 4.97474582193602e-16, 2.48737291096801e-16, 1.243686455484005e-16, 6.218432277420025e-17, 3.1092161387100127e-17, 1.5546080693550063e-17, 7.773040346775032e-18, 3.886520173387516e-18, 1.943260086693758e-18, 9.71630043346879e-19, 4.858150216734395e-19, 2.4290751083671974e-19, 1.2145375541835987e-19, 6.072687770917993e-20, 3.036343885458997e-20, 1.5181719427294984e-20, 7.590859713647492e-21, 3.795429856823746e-21]\n"
     ]
    }
   ],
   "source": [
    "print(my_workplace.agents[0].humour)"
   ]
  },
  {
   "cell_type": "code",
   "execution_count": null,
   "metadata": {},
   "outputs": [],
   "source": []
  }
 ],
 "metadata": {
  "kernelspec": {
   "display_name": "Python 3",
   "language": "python",
   "name": "python3"
  },
  "language_info": {
   "codemirror_mode": {
    "name": "ipython",
    "version": 3
   },
   "file_extension": ".py",
   "mimetype": "text/x-python",
   "name": "python",
   "nbconvert_exporter": "python",
   "pygments_lexer": "ipython3",
   "version": "3.6.7"
  }
 },
 "nbformat": 4,
 "nbformat_minor": 2
}
