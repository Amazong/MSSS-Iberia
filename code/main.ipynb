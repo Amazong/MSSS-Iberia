{
 "cells": [
  {
   "cell_type": "code",
   "execution_count": 1,
   "metadata": {},
   "outputs": [
    {
     "data": {
      "text/html": [
       "<script type=\"text/javascript\">window.PlotlyConfig = {MathJaxConfig: 'local'};</script><script type=\"text/javascript\">if (window.MathJax) {MathJax.Hub.Config({SVG: {font: \"STIX-Web\"}});}</script><script>requirejs.config({paths: { 'plotly': ['https://cdn.plot.ly/plotly-latest.min']},});if(!window._Plotly) {require(['plotly'],function(plotly) {window._Plotly=plotly;});}</script>"
      ],
      "text/vnd.plotly.v1+html": [
       "<script type=\"text/javascript\">window.PlotlyConfig = {MathJaxConfig: 'local'};</script><script type=\"text/javascript\">if (window.MathJax) {MathJax.Hub.Config({SVG: {font: \"STIX-Web\"}});}</script><script>requirejs.config({paths: { 'plotly': ['https://cdn.plot.ly/plotly-latest.min']},});if(!window._Plotly) {require(['plotly'],function(plotly) {window._Plotly=plotly;});}</script>"
      ]
     },
     "metadata": {},
     "output_type": "display_data"
    }
   ],
   "source": [
    "#### Import plotting library ####\n",
    "\n",
    "from plotly.offline import download_plotlyjs, init_notebook_mode, plot, iplot\n",
    "import plotly.graph_objs as go\n",
    "init_notebook_mode(connected=True)"
   ]
  },
  {
   "cell_type": "code",
   "execution_count": 2,
   "metadata": {},
   "outputs": [
    {
     "name": "stdout",
     "output_type": "stream",
     "text": [
      "✅ Successfully imported skill.py\n",
      "✅ Successfully imported workplace.py\n",
      "✅ Successfully imported task.py\n",
      "✅ Successfully imported timeline.py\n",
      "✅ Successfully imported agent.py\n"
     ]
    }
   ],
   "source": [
    "#### Import class definitions ####\n",
    "\n",
    "# List existing classes\n",
    "from os import listdir\n",
    "from os.path import isfile, join\n",
    "classes = [f for f in listdir('classes') if isfile(join('classes', f))]\n",
    "\n",
    "# Import procedure\n",
    "for _class in classes:\n",
    "    %run classes/$_class\n",
    "    print('✅ Successfully imported ' + _class)"
   ]
  },
  {
   "cell_type": "code",
   "execution_count": 3,
   "metadata": {},
   "outputs": [
    {
     "data": {
      "application/vnd.plotly.v1+json": {
       "config": {
        "linkText": "Export to plot.ly",
        "plotlyServerURL": "https://plot.ly",
        "showLink": true
       },
       "data": [
        {
         "mode": "text",
         "text": [
          "Agent -1<br><b>Task -1</b>",
          "Agent -1<br><b>Task -1</b>",
          "Agent -1<br><b>Task -1</b>",
          "Agent -1<br><b>Task -1</b>",
          "Agent -1<br><b>Task -1</b>",
          "Agent -1<br><b>Task -1</b>"
         ],
         "type": "scatter",
         "uid": "9c4702f1-235e-43bf-a3c7-63b526385099",
         "x": [
          0.5,
          2.5,
          4,
          5.5,
          5.5,
          8.5
         ],
         "y": [
          0.5,
          1.5,
          2.5,
          3.5,
          4.5,
          5.5
         ]
        }
       ],
       "layout": {
        "shapes": [
         {
          "fillcolor": "rgba(53, 208, 255, 0.7)",
          "line": {
           "color": "rgba(53, 208, 255, 1)",
           "width": 2
          },
          "type": "rect",
          "x0": 0,
          "x1": 1,
          "y0": 0,
          "y1": 1
         },
         {
          "fillcolor": "rgba(53, 208, 255, 0.7)",
          "line": {
           "color": "rgba(53, 208, 255, 1)",
           "width": 2
          },
          "type": "rect",
          "x0": 2,
          "x1": 3,
          "y0": 1,
          "y1": 2
         },
         {
          "fillcolor": "rgba(53, 208, 255, 0.7)",
          "line": {
           "color": "rgba(53, 208, 255, 1)",
           "width": 2
          },
          "type": "rect",
          "x0": 3,
          "x1": 5,
          "y0": 2,
          "y1": 3
         },
         {
          "fillcolor": "rgba(53, 208, 255, 0.7)",
          "line": {
           "color": "rgba(53, 208, 255, 1)",
           "width": 2
          },
          "type": "rect",
          "x0": 4,
          "x1": 7,
          "y0": 3,
          "y1": 4
         },
         {
          "fillcolor": "rgba(53, 208, 255, 0.7)",
          "line": {
           "color": "rgba(53, 208, 255, 1)",
           "width": 2
          },
          "type": "rect",
          "x0": 5,
          "x1": 6,
          "y0": 4,
          "y1": 5
         },
         {
          "fillcolor": "rgba(53, 208, 255, 0.7)",
          "line": {
           "color": "rgba(53, 208, 255, 1)",
           "width": 2
          },
          "type": "rect",
          "x0": 7,
          "x1": 10,
          "y0": 5,
          "y1": 6
         }
        ],
        "xaxis": {
         "autorange": true,
         "showgrid": false
        },
        "yaxis": {
         "range": [
          0,
          8
         ]
        }
       }
      },
      "text/html": [
       "<div id=\"1c743d81-7131-43bd-99b6-55ac5fb44511\" style=\"height: 525px; width: 100%;\" class=\"plotly-graph-div\"></div><script type=\"text/javascript\">require([\"plotly\"], function(Plotly) { window.PLOTLYENV=window.PLOTLYENV || {};window.PLOTLYENV.BASE_URL=\"https://plot.ly\";Plotly.newPlot(\"1c743d81-7131-43bd-99b6-55ac5fb44511\", [{\"mode\": \"text\", \"text\": [\"Agent -1<br><b>Task -1</b>\", \"Agent -1<br><b>Task -1</b>\", \"Agent -1<br><b>Task -1</b>\", \"Agent -1<br><b>Task -1</b>\", \"Agent -1<br><b>Task -1</b>\", \"Agent -1<br><b>Task -1</b>\"], \"x\": [0.5, 2.5, 4.0, 5.5, 5.5, 8.5], \"y\": [0.5, 1.5, 2.5, 3.5, 4.5, 5.5], \"type\": \"scatter\", \"uid\": \"d222e947-3ca2-4eac-834d-9bde560c0816\"}], {\"shapes\": [{\"fillcolor\": \"rgba(53, 208, 255, 0.7)\", \"line\": {\"color\": \"rgba(53, 208, 255, 1)\", \"width\": 2}, \"type\": \"rect\", \"x0\": 0, \"x1\": 1, \"y0\": 0, \"y1\": 1}, {\"fillcolor\": \"rgba(53, 208, 255, 0.7)\", \"line\": {\"color\": \"rgba(53, 208, 255, 1)\", \"width\": 2}, \"type\": \"rect\", \"x0\": 2, \"x1\": 3, \"y0\": 1, \"y1\": 2}, {\"fillcolor\": \"rgba(53, 208, 255, 0.7)\", \"line\": {\"color\": \"rgba(53, 208, 255, 1)\", \"width\": 2}, \"type\": \"rect\", \"x0\": 3, \"x1\": 5, \"y0\": 2, \"y1\": 3}, {\"fillcolor\": \"rgba(53, 208, 255, 0.7)\", \"line\": {\"color\": \"rgba(53, 208, 255, 1)\", \"width\": 2}, \"type\": \"rect\", \"x0\": 4, \"x1\": 7, \"y0\": 3, \"y1\": 4}, {\"fillcolor\": \"rgba(53, 208, 255, 0.7)\", \"line\": {\"color\": \"rgba(53, 208, 255, 1)\", \"width\": 2}, \"type\": \"rect\", \"x0\": 5, \"x1\": 6, \"y0\": 4, \"y1\": 5}, {\"fillcolor\": \"rgba(53, 208, 255, 0.7)\", \"line\": {\"color\": \"rgba(53, 208, 255, 1)\", \"width\": 2}, \"type\": \"rect\", \"x0\": 7, \"x1\": 10, \"y0\": 5, \"y1\": 6}], \"xaxis\": {\"autorange\": true, \"showgrid\": false}, \"yaxis\": {\"range\": [0, 8]}}, {\"showLink\": true, \"linkText\": \"Export to plot.ly\", \"plotlyServerURL\": \"https://plot.ly\"})});</script><script type=\"text/javascript\">window.addEventListener(\"resize\", function(){window._Plotly.Plots.resize(document.getElementById(\"1c743d81-7131-43bd-99b6-55ac5fb44511\"));});</script>"
      ],
      "text/vnd.plotly.v1+html": [
       "<div id=\"1c743d81-7131-43bd-99b6-55ac5fb44511\" style=\"height: 525px; width: 100%;\" class=\"plotly-graph-div\"></div><script type=\"text/javascript\">require([\"plotly\"], function(Plotly) { window.PLOTLYENV=window.PLOTLYENV || {};window.PLOTLYENV.BASE_URL=\"https://plot.ly\";Plotly.newPlot(\"1c743d81-7131-43bd-99b6-55ac5fb44511\", [{\"mode\": \"text\", \"text\": [\"Agent -1<br><b>Task -1</b>\", \"Agent -1<br><b>Task -1</b>\", \"Agent -1<br><b>Task -1</b>\", \"Agent -1<br><b>Task -1</b>\", \"Agent -1<br><b>Task -1</b>\", \"Agent -1<br><b>Task -1</b>\"], \"x\": [0.5, 2.5, 4.0, 5.5, 5.5, 8.5], \"y\": [0.5, 1.5, 2.5, 3.5, 4.5, 5.5], \"type\": \"scatter\", \"uid\": \"d222e947-3ca2-4eac-834d-9bde560c0816\"}], {\"shapes\": [{\"fillcolor\": \"rgba(53, 208, 255, 0.7)\", \"line\": {\"color\": \"rgba(53, 208, 255, 1)\", \"width\": 2}, \"type\": \"rect\", \"x0\": 0, \"x1\": 1, \"y0\": 0, \"y1\": 1}, {\"fillcolor\": \"rgba(53, 208, 255, 0.7)\", \"line\": {\"color\": \"rgba(53, 208, 255, 1)\", \"width\": 2}, \"type\": \"rect\", \"x0\": 2, \"x1\": 3, \"y0\": 1, \"y1\": 2}, {\"fillcolor\": \"rgba(53, 208, 255, 0.7)\", \"line\": {\"color\": \"rgba(53, 208, 255, 1)\", \"width\": 2}, \"type\": \"rect\", \"x0\": 3, \"x1\": 5, \"y0\": 2, \"y1\": 3}, {\"fillcolor\": \"rgba(53, 208, 255, 0.7)\", \"line\": {\"color\": \"rgba(53, 208, 255, 1)\", \"width\": 2}, \"type\": \"rect\", \"x0\": 4, \"x1\": 7, \"y0\": 3, \"y1\": 4}, {\"fillcolor\": \"rgba(53, 208, 255, 0.7)\", \"line\": {\"color\": \"rgba(53, 208, 255, 1)\", \"width\": 2}, \"type\": \"rect\", \"x0\": 5, \"x1\": 6, \"y0\": 4, \"y1\": 5}, {\"fillcolor\": \"rgba(53, 208, 255, 0.7)\", \"line\": {\"color\": \"rgba(53, 208, 255, 1)\", \"width\": 2}, \"type\": \"rect\", \"x0\": 7, \"x1\": 10, \"y0\": 5, \"y1\": 6}], \"xaxis\": {\"autorange\": true, \"showgrid\": false}, \"yaxis\": {\"range\": [0, 8]}}, {\"showLink\": true, \"linkText\": \"Export to plot.ly\", \"plotlyServerURL\": \"https://plot.ly\"})});</script><script type=\"text/javascript\">window.addEventListener(\"resize\", function(){window._Plotly.Plots.resize(document.getElementById(\"1c743d81-7131-43bd-99b6-55ac5fb44511\"));});</script>"
      ]
     },
     "metadata": {},
     "output_type": "display_data"
    }
   ],
   "source": [
    "t = Timeline()\n",
    "\n",
    "t.events.append(Event(0, 1))\n",
    "t.events.append(Event(2, 1))\n",
    "t.events.append(Event(3, 2))\n",
    "t.events.append(Event(4, 3))\n",
    "t.events.append(Event(5, 1))\n",
    "t.events.append(Event(7, 3))\n",
    "\n",
    "t.plot_gantt()"
   ]
  },
  {
   "cell_type": "code",
   "execution_count": 4,
   "metadata": {},
   "outputs": [
    {
     "name": "stdout",
     "output_type": "stream",
     "text": [
      "Reading from input file inputs/sample1.json...\n",
      "\n",
      "Time elapsed:\n",
      "0 time units.\n",
      "\n",
      "Completed tasks:\n",
      "Current task:\n",
      "None\n",
      "Future tasks:\n",
      "--- TASK 0 ---\n",
      "Precedence 0\n",
      "\tChannel 0\n",
      "\t\tAction 0 | Skill 0 | Duration 4\n",
      "\tChannel 1\n",
      "\t\tAction 0 | Skill 1 | Duration 4\n",
      "\tChannel 2\n",
      "\t\tAction 0 | Skill 1 | Duration 4\n",
      "\n",
      "--- TASK 1 ---\n",
      "Precedence 0\n",
      "\tChannel 0\n",
      "\t\tAction 0 | Skill 0 | Duration 4\n",
      "\tChannel 1\n",
      "\t\tAction 0 | Skill 1 | Duration 4\n",
      "\tChannel 2\n",
      "\t\tAction 0 | Skill 2 | Duration 4\n",
      "\n",
      "--- TASK 2 ---\n",
      "Precedence 0\n",
      "\tChannel 0\n",
      "\t\tAction 0 | Skill 0 | Duration 4\n",
      "\tChannel 1\n",
      "\t\tAction 0 | Skill 1 | Duration 4\n",
      "\tChannel 2\n",
      "\t\tAction 0 | Skill 2 | Duration 4\n",
      "\n",
      "Currently employed agents:\n",
      "--- AGENT 0 ---\n",
      "Short-term memory:\n",
      "\n",
      "Long-term memory:\n",
      "< id: 0, expertise: 0.5, motivation: 0.2 >\n",
      "< id: 1, expertise: 0.6, motivation: 0.5 >\n",
      "Current action:\n",
      "[]\n",
      "Action history:\n",
      "[]\n",
      "\n",
      "--- AGENT 1 ---\n",
      "Short-term memory:\n",
      "\n",
      "Long-term memory:\n",
      "< id: 0, expertise: 0.2, motivation: 0.1 >\n",
      "< id: 1, expertise: 0.5, motivation: 0.8 >\n",
      "Current action:\n",
      "[]\n",
      "Action history:\n",
      "[]\n",
      "\n",
      "History:\n"
     ]
    },
    {
     "data": {
      "application/vnd.plotly.v1+json": {
       "config": {
        "linkText": "Export to plot.ly",
        "plotlyServerURL": "https://plot.ly",
        "showLink": true
       },
       "data": [
        {
         "mode": "text",
         "text": [],
         "type": "scatter",
         "uid": "9c49d640-99b9-4062-ae09-fbe7dae5f56b",
         "x": [],
         "y": []
        }
       ],
       "layout": {
        "xaxis": {
         "autorange": true,
         "showgrid": false
        },
        "yaxis": {
         "range": [
          0,
          2
         ]
        }
       }
      },
      "text/html": [
       "<div id=\"77b58a02-80c1-444a-90c6-ef9ee5f454c5\" style=\"height: 525px; width: 100%;\" class=\"plotly-graph-div\"></div><script type=\"text/javascript\">require([\"plotly\"], function(Plotly) { window.PLOTLYENV=window.PLOTLYENV || {};window.PLOTLYENV.BASE_URL=\"https://plot.ly\";Plotly.newPlot(\"77b58a02-80c1-444a-90c6-ef9ee5f454c5\", [{\"mode\": \"text\", \"text\": [], \"x\": [], \"y\": [], \"type\": \"scatter\", \"uid\": \"ec70ca8c-663e-4e24-b07a-ae1e3046a68d\"}], {\"xaxis\": {\"autorange\": true, \"showgrid\": false}, \"yaxis\": {\"range\": [0, 2]}}, {\"showLink\": true, \"linkText\": \"Export to plot.ly\", \"plotlyServerURL\": \"https://plot.ly\"})});</script><script type=\"text/javascript\">window.addEventListener(\"resize\", function(){window._Plotly.Plots.resize(document.getElementById(\"77b58a02-80c1-444a-90c6-ef9ee5f454c5\"));});</script>"
      ],
      "text/vnd.plotly.v1+html": [
       "<div id=\"77b58a02-80c1-444a-90c6-ef9ee5f454c5\" style=\"height: 525px; width: 100%;\" class=\"plotly-graph-div\"></div><script type=\"text/javascript\">require([\"plotly\"], function(Plotly) { window.PLOTLYENV=window.PLOTLYENV || {};window.PLOTLYENV.BASE_URL=\"https://plot.ly\";Plotly.newPlot(\"77b58a02-80c1-444a-90c6-ef9ee5f454c5\", [{\"mode\": \"text\", \"text\": [], \"x\": [], \"y\": [], \"type\": \"scatter\", \"uid\": \"ec70ca8c-663e-4e24-b07a-ae1e3046a68d\"}], {\"xaxis\": {\"autorange\": true, \"showgrid\": false}, \"yaxis\": {\"range\": [0, 2]}}, {\"showLink\": true, \"linkText\": \"Export to plot.ly\", \"plotlyServerURL\": \"https://plot.ly\"})});</script><script type=\"text/javascript\">window.addEventListener(\"resize\", function(){window._Plotly.Plots.resize(document.getElementById(\"77b58a02-80c1-444a-90c6-ef9ee5f454c5\"));});</script>"
      ]
     },
     "metadata": {},
     "output_type": "display_data"
    }
   ],
   "source": [
    "input_file = None\n",
    "input_file = 'inputs/sample1.json'\n",
    "\n",
    "my_workplace = Workplace(input_file)\n",
    "\n",
    "my_workplace.print_current_state()"
   ]
  },
  {
   "cell_type": "code",
   "execution_count": null,
   "metadata": {},
   "outputs": [],
   "source": [
    "my_workplace.process_tasks()"
   ]
  },
  {
   "cell_type": "code",
   "execution_count": null,
   "metadata": {},
   "outputs": [],
   "source": [
    "my_workplace.print_current_state()"
   ]
  },
  {
   "cell_type": "code",
   "execution_count": null,
   "metadata": {},
   "outputs": [],
   "source": []
  }
 ],
 "metadata": {
  "kernelspec": {
   "display_name": "Python 3",
   "language": "python",
   "name": "python3"
  },
  "language_info": {
   "codemirror_mode": {
    "name": "ipython",
    "version": 3
   },
   "file_extension": ".py",
   "mimetype": "text/x-python",
   "name": "python",
   "nbconvert_exporter": "python",
   "pygments_lexer": "ipython3",
   "version": "3.6.7"
  }
 },
 "nbformat": 4,
 "nbformat_minor": 2
}
