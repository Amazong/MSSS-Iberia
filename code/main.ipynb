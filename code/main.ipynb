{
 "cells": [
  {
   "cell_type": "code",
   "execution_count": null,
   "metadata": {},
   "outputs": [],
   "source": [
    "#### Import plotting library ####\n",
    "\n",
    "from plotly.offline import download_plotlyjs, init_notebook_mode, plot, iplot\n",
    "import plotly.graph_objs as go\n",
    "init_notebook_mode(connected=True)"
   ]
  },
  {
   "cell_type": "code",
   "execution_count": null,
   "metadata": {},
   "outputs": [],
   "source": [
    "#### Import class definitions ####\n",
    "\n",
    "# List existing classes\n",
    "from os import listdir\n",
    "from os.path import isfile, join\n",
    "classes = [f for f in listdir('classes') if isfile(join('classes', f))]\n",
    "\n",
    "# Import procedure\n",
    "for _class in classes:\n",
    "    %run classes/$_class\n",
    "    print('✅ Successfully imported ' + _class)"
   ]
  },
  {
   "cell_type": "code",
   "execution_count": null,
   "metadata": {},
   "outputs": [],
   "source": [
    "input_file = None\n",
    "input_file = 'IO/inputs/Exp1a_Zoethout.json'\n",
    "input_file = 'IO/inputs/Exp1b_Zoethout.json'\n",
    "input_file = 'IO/inputs/Exp2_Zoethout.json'\n",
    "input_file_lg = 'IO/inputs/frustration_low_good.json'\n",
    "input_file_lb = 'IO/inputs/frustration_low_bad.json'\n",
    "input_file_hg = 'IO/inputs/frustration_high_good.json'\n",
    "input_file_hb = 'IO/inputs/frustration_high_bad.json'"
   ]
  },
  {
   "cell_type": "code",
   "execution_count": null,
   "metadata": {},
   "outputs": [],
   "source": [
    "my_workplace = Workplace(input_file)\n",
    "\n",
    "print('These will be the parameters used:')\n",
    "my_workplace.print_parameters()"
   ]
  },
  {
   "cell_type": "code",
   "execution_count": null,
   "metadata": {},
   "outputs": [],
   "source": [
    "#my_workplace.process_tasks()"
   ]
  },
  {
   "cell_type": "code",
   "execution_count": null,
   "metadata": {},
   "outputs": [],
   "source": [
    "my_workplace.plot_skills(my_workplace.agents[0])"
   ]
  },
  {
   "cell_type": "code",
   "execution_count": null,
   "metadata": {
    "scrolled": true
   },
   "outputs": [],
   "source": [
    "my_workplace.plot_skills(my_workplace.agents[1])"
   ]
  },
  {
   "cell_type": "code",
   "execution_count": null,
   "metadata": {},
   "outputs": [],
   "source": [
    "my_workplace.plot_performance()"
   ]
  },
  {
   "cell_type": "code",
   "execution_count": null,
   "metadata": {
    "scrolled": true
   },
   "outputs": [],
   "source": [
    "my_workplace.plot_frustration()"
   ]
  },
  {
   "cell_type": "code",
   "execution_count": null,
   "metadata": {},
   "outputs": [],
   "source": [
    "my_workplace.plot_allocations()"
   ]
  },
  {
   "cell_type": "code",
   "execution_count": null,
   "metadata": {},
   "outputs": [],
   "source": [
    "my_workplace_lg = Workplace(input_file_lg)\n",
    "my_workplace_lb = Workplace(input_file_lb)\n",
    "my_workplace_hg = Workplace(input_file_hg)\n",
    "my_workplace_hb = Workplace(input_file_hb)\n",
    "\n",
    "my_workplace_lg.process_tasks()\n",
    "my_workplace_lb.process_tasks()\n",
    "my_workplace_hg.process_tasks()\n",
    "my_workplace_hb.process_tasks()"
   ]
  },
  {
   "cell_type": "code",
   "execution_count": null,
   "metadata": {},
   "outputs": [],
   "source": [
    "print(my_workplace_lg.agents[0].validate_mbti())\n",
    "print(my_workplace_lg.agents[1].validate_mbti())\n",
    "print(my_workplace_lg.agents[1].get_mbti_ix())\n",
    "print(my_workplace_lg.agents[1].get_mbti_ix())\n",
    "\n",
    "get_relationship(my_workplace_lg.agents[0], my_workplace_lg.agents[1])"
   ]
  },
  {
   "cell_type": "code",
   "execution_count": null,
   "metadata": {},
   "outputs": [],
   "source": [
    "print(my_workplace_lg.get_sum_perf_time())\n",
    "my_workplace_lg.plot_performance()\n",
    "my_workplace_lg.plot_frustration()"
   ]
  },
  {
   "cell_type": "code",
   "execution_count": null,
   "metadata": {},
   "outputs": [],
   "source": [
    "print(my_workplace_lb.get_sum_perf_time())\n",
    "my_workplace_lb.plot_performance()\n",
    "my_workplace_lb.plot_frustration()"
   ]
  },
  {
   "cell_type": "code",
   "execution_count": null,
   "metadata": {},
   "outputs": [],
   "source": [
    "print(my_workplace_hg.get_sum_perf_time())\n",
    "my_workplace_hg.plot_performance()\n",
    "my_workplace_hg.plot_frustration()"
   ]
  },
  {
   "cell_type": "code",
   "execution_count": null,
   "metadata": {},
   "outputs": [],
   "source": [
    "print(my_workplace_hb.get_sum_perf_time())\n",
    "my_workplace_hb.plot_performance()\n",
    "my_workplace_hb.plot_frustration()"
   ]
  }
 ],
 "metadata": {
  "kernelspec": {
   "display_name": "Python 3",
   "language": "python",
   "name": "python3"
  },
  "language_info": {
   "codemirror_mode": {
    "name": "ipython",
    "version": 3
   },
   "file_extension": ".py",
   "mimetype": "text/x-python",
   "name": "python",
   "nbconvert_exporter": "python",
   "pygments_lexer": "ipython3",
   "version": "3.6.7"
  }
 },
 "nbformat": 4,
 "nbformat_minor": 2
}
