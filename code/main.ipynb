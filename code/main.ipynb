{
 "cells": [
  {
   "cell_type": "code",
   "execution_count": 1,
   "metadata": {},
   "outputs": [
    {
     "data": {
      "text/html": [
       "<script type=\"text/javascript\">window.PlotlyConfig = {MathJaxConfig: 'local'};</script><script type=\"text/javascript\">if (window.MathJax) {MathJax.Hub.Config({SVG: {font: \"STIX-Web\"}});}</script><script>requirejs.config({paths: { 'plotly': ['https://cdn.plot.ly/plotly-latest.min']},});if(!window._Plotly) {require(['plotly'],function(plotly) {window._Plotly=plotly;});}</script>"
      ],
      "text/vnd.plotly.v1+html": [
       "<script type=\"text/javascript\">window.PlotlyConfig = {MathJaxConfig: 'local'};</script><script type=\"text/javascript\">if (window.MathJax) {MathJax.Hub.Config({SVG: {font: \"STIX-Web\"}});}</script><script>requirejs.config({paths: { 'plotly': ['https://cdn.plot.ly/plotly-latest.min']},});if(!window._Plotly) {require(['plotly'],function(plotly) {window._Plotly=plotly;});}</script>"
      ]
     },
     "metadata": {},
     "output_type": "display_data"
    }
   ],
   "source": [
    "#### Import plotting library ####\n",
    "\n",
    "from plotly.offline import download_plotlyjs, init_notebook_mode, plot, iplot\n",
    "import plotly.graph_objs as go\n",
    "init_notebook_mode(connected=True)"
   ]
  },
  {
   "cell_type": "code",
   "execution_count": 2,
   "metadata": {},
   "outputs": [
    {
     "name": "stdout",
     "output_type": "stream",
     "text": [
      "✅ Successfully imported skill.py\n",
      "✅ Successfully imported workplace.py\n",
      "✅ Successfully imported task.py\n",
      "✅ Successfully imported timeline.py\n",
      "✅ Successfully imported agent.py\n",
      "✅ Successfully imported PARAMETERS.py\n"
     ]
    }
   ],
   "source": [
    "#### Import class definitions ####\n",
    "\n",
    "# List existing classes\n",
    "from os import listdir\n",
    "from os.path import isfile, join\n",
    "classes = [f for f in listdir('classes') if isfile(join('classes', f))]\n",
    "\n",
    "# Import procedure\n",
    "for _class in classes:\n",
    "    %run classes/$_class\n",
    "    print('✅ Successfully imported ' + _class)"
   ]
  },
  {
   "cell_type": "code",
   "execution_count": 3,
   "metadata": {},
   "outputs": [
    {
     "name": "stdout",
     "output_type": "stream",
     "text": [
      "Reading from input file inputs/frustration_low_good.json...\n",
      "\n",
      "task_unit_duration: 10\n",
      "alpha_e: 0.5\n",
      "alpha_m: 0.5\n",
      "alpha_h: 0\n",
      "lam_learn: 1\n",
      "lam_motiv: 0\n",
      "mu_learn: 0.5\n",
      "mu_motiv: 0\n",
      "th_e: 10\n",
      "th_m: 10\n",
      "max_e: 25\n",
      "max_m: 25\n",
      "excite: 0.1\n",
      "inhibit: 0.1\n",
      "Time elapsed:\n",
      "0 time units.\n",
      "\n",
      "Completed tasks:\n",
      "Current task:\n",
      "None\n",
      "Future tasks:\n",
      "--- TASK 0 ---\n",
      "\tAction 0 | Skill ID 0 | Duration 30 | Completion 0\n",
      "\tAction 1 | Skill ID 1 | Duration 30 | Completion 0\n",
      "\n",
      "Currently employed agents:\n",
      "--- AGENT 0 ---\n",
      "Short-term memory:\n",
      "\n",
      "Long-term memory:\n",
      "< skill_id: 0, expertise: [16], motivation: [16] >\n",
      "< skill_id: 1, expertise: [14], motivation: [14] >\n",
      "Current action:\n",
      "[]\n",
      "Action history:\n",
      "[]\n",
      "\n",
      "--- AGENT 1 ---\n",
      "Short-term memory:\n",
      "\n",
      "Long-term memory:\n",
      "< skill_id: 0, expertise: [14], motivation: [14] >\n",
      "< skill_id: 1, expertise: [16], motivation: [16] >\n",
      "Current action:\n",
      "[]\n",
      "Action history:\n",
      "[]\n",
      "\n",
      "History:\n"
     ]
    },
    {
     "data": {
      "application/vnd.plotly.v1+json": {
       "config": {
        "linkText": "Export to plot.ly",
        "plotlyServerURL": "https://plot.ly",
        "showLink": true
       },
       "data": [
        {
         "mode": "text",
         "text": [],
         "type": "scatter",
         "uid": "7dd52e37-433d-4d97-811e-98693c21e1fe",
         "x": [],
         "y": []
        }
       ],
       "layout": {
        "xaxis": {
         "autorange": true,
         "showgrid": false
        },
        "yaxis": {
         "range": [
          0,
          2
         ]
        }
       }
      },
      "text/html": [
       "<div id=\"3d533018-9119-4edf-a8c0-47fca9741d35\" style=\"height: 525px; width: 100%;\" class=\"plotly-graph-div\"></div><script type=\"text/javascript\">require([\"plotly\"], function(Plotly) { window.PLOTLYENV=window.PLOTLYENV || {};window.PLOTLYENV.BASE_URL=\"https://plot.ly\";Plotly.newPlot(\"3d533018-9119-4edf-a8c0-47fca9741d35\", [{\"mode\": \"text\", \"text\": [], \"x\": [], \"y\": [], \"type\": \"scatter\", \"uid\": \"94a0df92-577c-4a3c-90fb-9cbe86a4d565\"}], {\"xaxis\": {\"autorange\": true, \"showgrid\": false}, \"yaxis\": {\"range\": [0, 2]}}, {\"showLink\": true, \"linkText\": \"Export to plot.ly\", \"plotlyServerURL\": \"https://plot.ly\"})});</script><script type=\"text/javascript\">window.addEventListener(\"resize\", function(){window._Plotly.Plots.resize(document.getElementById(\"3d533018-9119-4edf-a8c0-47fca9741d35\"));});</script>"
      ],
      "text/vnd.plotly.v1+html": [
       "<div id=\"3d533018-9119-4edf-a8c0-47fca9741d35\" style=\"height: 525px; width: 100%;\" class=\"plotly-graph-div\"></div><script type=\"text/javascript\">require([\"plotly\"], function(Plotly) { window.PLOTLYENV=window.PLOTLYENV || {};window.PLOTLYENV.BASE_URL=\"https://plot.ly\";Plotly.newPlot(\"3d533018-9119-4edf-a8c0-47fca9741d35\", [{\"mode\": \"text\", \"text\": [], \"x\": [], \"y\": [], \"type\": \"scatter\", \"uid\": \"94a0df92-577c-4a3c-90fb-9cbe86a4d565\"}], {\"xaxis\": {\"autorange\": true, \"showgrid\": false}, \"yaxis\": {\"range\": [0, 2]}}, {\"showLink\": true, \"linkText\": \"Export to plot.ly\", \"plotlyServerURL\": \"https://plot.ly\"})});</script><script type=\"text/javascript\">window.addEventListener(\"resize\", function(){window._Plotly.Plots.resize(document.getElementById(\"3d533018-9119-4edf-a8c0-47fca9741d35\"));});</script>"
      ]
     },
     "metadata": {},
     "output_type": "display_data"
    }
   ],
   "source": [
    "input_file = None\n",
    "#input_file = 'inputs/sample1.json'\n",
    "#input_file = 'inputs/Exp1a_Zoethout.json'\n",
    "#input_file = 'inputs/Exp1b_Zoethout.json'\n",
    "#input_file = 'inputs/Exp2_Zoethout.json'\n",
    "input_file = 'inputs/frustration_low_good.json'\n",
    "#input_file = 'inputs/frustration_low_bad.json'\n",
    "#input_file = 'inputs/frustration_high_good.json'\n",
    "#input_file = 'inputs/frustration_high_bad.json'\n",
    "\n",
    "my_workplace = Workplace(input_file)\n",
    "\n",
    "my_workplace.print_params()\n",
    "my_workplace.print_current_state()"
   ]
  },
  {
   "cell_type": "markdown",
   "metadata": {},
   "source": [
    "a0 = my_workplace.agents[0]\n",
    "a1 = my_workplace.agents[1]\n",
    "\n",
    "i0, you0 = a0.get_initial_i_you(my_workplace, 0)\n",
    "i1, you1 = a1.get_initial_i_you(my_workplace, 0)\n",
    "inh, exc = .1, .1\n",
    "\n",
    "negotiate(i0, you0, i1, you1, inh, exc)\n",
    "input()"
   ]
  },
  {
   "cell_type": "code",
   "execution_count": 4,
   "metadata": {},
   "outputs": [
    {
     "name": "stdout",
     "output_type": "stream",
     "text": [
      "Processed task:\n",
      "--- TASK 0 ---\n",
      "\tAction 0 | Skill ID 0 | Duration 30 | Completion 30\n",
      "\tAction 1 | Skill ID 1 | Duration 30 | Completion 30\n",
      ":\n",
      "\n"
     ]
    }
   ],
   "source": [
    "my_workplace.process_tasks()"
   ]
  },
  {
   "cell_type": "code",
   "execution_count": 5,
   "metadata": {},
   "outputs": [
    {
     "name": "stdout",
     "output_type": "stream",
     "text": [
      "Time elapsed:\n",
      "30 time units.\n",
      "\n",
      "Completed tasks:\n",
      "--- TASK 0 ---\n",
      "\tAction 0 | Skill ID 0 | Duration 30 | Completion 30\n",
      "\tAction 1 | Skill ID 1 | Duration 30 | Completion 30\n",
      "\n",
      "Current task:\n",
      "None\n",
      "Future tasks:\n",
      "Currently employed agents:\n",
      "--- AGENT 0 ---\n",
      "Short-term memory:\n",
      "< skill_id: 0, expertise: [16, 16.36, 16.7056, 17.037376000000002, 17.35588096, 17.6616457216, 17.955179892736, 18.23697269702656, 18.507493789145496, 18.767194037579674, 19.016506276076488, 19.255846025033428, 19.485612184032092, 19.70618769667081, 19.91794018880398, 20.121222581251818, 20.316373678001746, 20.503718730881676, 20.68356998164641, 20.856227182380554, 21.02197809508533, 21.181098971281916, 21.33385501243064, 21.480500811933414, 21.62128077945608, 21.756429548277836, 21.886172366346724, 22.010725471692854, 22.13029645282514, 22.245084594712132, 22.355281210923646], motivation: [16, 16.0, 16.0, 16.0, 16.0, 16.0, 16.0, 16.0, 16.0, 16.0, 16.0, 16.0, 16.0, 16.0, 16.0, 16.0, 16.0, 16.0, 16.0, 16.0, 16.0, 16.0, 16.0, 16.0, 16.0, 16.0, 16.0, 16.0, 16.0, 16.0, 16.0] >\n",
      "Long-term memory:\n",
      "< skill_id: 1, expertise: [14, 13.775510204081632, 13.546438983756767, 13.312692840568129, 13.074176367926663, 12.830792212170065, 12.582441032826598, 12.329021462067956, 12.07043006333465, 11.80656128911699, 11.537307437874478, 11.262558610075999, 10.982202663342855, 10.696125166676383, 10.404209353751412, 10.106336075256543, 9.802383750261779, 9.492228316593652, 9.175743180197603, 8.852799163466942, 8.523264452517289, 8.187004543384989, 7.843882187127539, 7.493757333803611, 7.136487075309807, 6.7719255870508235, 6.399924068419208, 6.0203306820604165, 5.632990491898385, 5.237745399896311, 4.834434081526847], motivation: [14, 14.0, 14.0, 14.0, 14.0, 14.0, 14.0, 14.0, 14.0, 14.0, 14.0, 14.0, 14.0, 14.0, 14.0, 14.0, 14.0, 14.0, 14.0, 14.0, 14.0, 14.0, 14.0, 14.0, 14.0, 14.0, 14.0, 14.0, 14.0, 14.0, 14.0] >\n",
      "Current action:\n",
      "[{'task': 0, 'action': 0, 'start_time': 29}]\n",
      "Action history:\n",
      "[{'task': 0, 'action': 0, 'start_time': 0}, {'task': 0, 'action': 0, 'start_time': 1}, {'task': 0, 'action': 0, 'start_time': 2}, {'task': 0, 'action': 0, 'start_time': 3}, {'task': 0, 'action': 0, 'start_time': 4}, {'task': 0, 'action': 0, 'start_time': 5}, {'task': 0, 'action': 0, 'start_time': 6}, {'task': 0, 'action': 0, 'start_time': 7}, {'task': 0, 'action': 0, 'start_time': 8}, {'task': 0, 'action': 0, 'start_time': 9}, {'task': 0, 'action': 0, 'start_time': 10}, {'task': 0, 'action': 0, 'start_time': 11}, {'task': 0, 'action': 0, 'start_time': 12}, {'task': 0, 'action': 0, 'start_time': 13}, {'task': 0, 'action': 0, 'start_time': 14}, {'task': 0, 'action': 0, 'start_time': 15}, {'task': 0, 'action': 0, 'start_time': 16}, {'task': 0, 'action': 0, 'start_time': 17}, {'task': 0, 'action': 0, 'start_time': 18}, {'task': 0, 'action': 0, 'start_time': 19}, {'task': 0, 'action': 0, 'start_time': 20}, {'task': 0, 'action': 0, 'start_time': 21}, {'task': 0, 'action': 0, 'start_time': 22}, {'task': 0, 'action': 0, 'start_time': 23}, {'task': 0, 'action': 0, 'start_time': 24}, {'task': 0, 'action': 0, 'start_time': 25}, {'task': 0, 'action': 0, 'start_time': 26}, {'task': 0, 'action': 0, 'start_time': 27}, {'task': 0, 'action': 0, 'start_time': 28}]\n",
      "\n",
      "--- AGENT 1 ---\n",
      "Short-term memory:\n",
      "< skill_id: 1, expertise: [16, 16.36, 16.7056, 17.037376000000002, 17.35588096, 17.6616457216, 17.955179892736, 18.23697269702656, 18.507493789145496, 18.767194037579674, 19.016506276076488, 19.255846025033428, 19.485612184032092, 19.70618769667081, 19.91794018880398, 20.121222581251818, 20.316373678001746, 20.503718730881676, 20.68356998164641, 20.856227182380554, 21.02197809508533, 21.181098971281916, 21.33385501243064, 21.480500811933414, 21.62128077945608, 21.756429548277836, 21.886172366346724, 22.010725471692854, 22.13029645282514, 22.245084594712132, 22.355281210923646], motivation: [16, 16.0, 16.0, 16.0, 16.0, 16.0, 16.0, 16.0, 16.0, 16.0, 16.0, 16.0, 16.0, 16.0, 16.0, 16.0, 16.0, 16.0, 16.0, 16.0, 16.0, 16.0, 16.0, 16.0, 16.0, 16.0, 16.0, 16.0, 16.0, 16.0, 16.0] >\n",
      "Long-term memory:\n",
      "< skill_id: 0, expertise: [14, 13.775510204081632, 13.546438983756767, 13.312692840568129, 13.074176367926663, 12.830792212170065, 12.582441032826598, 12.329021462067956, 12.07043006333465, 11.80656128911699, 11.537307437874478, 11.262558610075999, 10.982202663342855, 10.696125166676383, 10.404209353751412, 10.106336075256543, 9.802383750261779, 9.492228316593652, 9.175743180197603, 8.852799163466942, 8.523264452517289, 8.187004543384989, 7.843882187127539, 7.493757333803611, 7.136487075309807, 6.7719255870508235, 6.399924068419208, 6.0203306820604165, 5.632990491898385, 5.237745399896311, 4.834434081526847], motivation: [14, 14.0, 14.0, 14.0, 14.0, 14.0, 14.0, 14.0, 14.0, 14.0, 14.0, 14.0, 14.0, 14.0, 14.0, 14.0, 14.0, 14.0, 14.0, 14.0, 14.0, 14.0, 14.0, 14.0, 14.0, 14.0, 14.0, 14.0, 14.0, 14.0, 14.0] >\n",
      "Current action:\n",
      "[{'task': 0, 'action': 1, 'start_time': 29}]\n",
      "Action history:\n",
      "[{'task': 0, 'action': 1, 'start_time': 0}, {'task': 0, 'action': 1, 'start_time': 1}, {'task': 0, 'action': 1, 'start_time': 2}, {'task': 0, 'action': 1, 'start_time': 3}, {'task': 0, 'action': 1, 'start_time': 4}, {'task': 0, 'action': 1, 'start_time': 5}, {'task': 0, 'action': 1, 'start_time': 6}, {'task': 0, 'action': 1, 'start_time': 7}, {'task': 0, 'action': 1, 'start_time': 8}, {'task': 0, 'action': 1, 'start_time': 9}, {'task': 0, 'action': 1, 'start_time': 10}, {'task': 0, 'action': 1, 'start_time': 11}, {'task': 0, 'action': 1, 'start_time': 12}, {'task': 0, 'action': 1, 'start_time': 13}, {'task': 0, 'action': 1, 'start_time': 14}, {'task': 0, 'action': 1, 'start_time': 15}, {'task': 0, 'action': 1, 'start_time': 16}, {'task': 0, 'action': 1, 'start_time': 17}, {'task': 0, 'action': 1, 'start_time': 18}, {'task': 0, 'action': 1, 'start_time': 19}, {'task': 0, 'action': 1, 'start_time': 20}, {'task': 0, 'action': 1, 'start_time': 21}, {'task': 0, 'action': 1, 'start_time': 22}, {'task': 0, 'action': 1, 'start_time': 23}, {'task': 0, 'action': 1, 'start_time': 24}, {'task': 0, 'action': 1, 'start_time': 25}, {'task': 0, 'action': 1, 'start_time': 26}, {'task': 0, 'action': 1, 'start_time': 27}, {'task': 0, 'action': 1, 'start_time': 28}]\n",
      "\n",
      "History:\n"
     ]
    },
    {
     "data": {
      "application/vnd.plotly.v1+json": {
       "config": {
        "linkText": "Export to plot.ly",
        "plotlyServerURL": "https://plot.ly",
        "showLink": true
       },
       "data": [
        {
         "mode": "text",
         "text": [
          "Agent 0<br><b>T0 | A0</b>",
          "Agent 1<br><b>T0 | A1</b>",
          "Agent 0<br><b>T0 | A0</b>",
          "Agent 1<br><b>T0 | A1</b>",
          "Agent 0<br><b>T0 | A0</b>",
          "Agent 1<br><b>T0 | A1</b>",
          "Agent 0<br><b>T0 | A0</b>",
          "Agent 1<br><b>T0 | A1</b>",
          "Agent 0<br><b>T0 | A0</b>",
          "Agent 1<br><b>T0 | A1</b>",
          "Agent 0<br><b>T0 | A0</b>",
          "Agent 1<br><b>T0 | A1</b>",
          "Agent 0<br><b>T0 | A0</b>",
          "Agent 1<br><b>T0 | A1</b>",
          "Agent 0<br><b>T0 | A0</b>",
          "Agent 1<br><b>T0 | A1</b>",
          "Agent 0<br><b>T0 | A0</b>",
          "Agent 1<br><b>T0 | A1</b>",
          "Agent 0<br><b>T0 | A0</b>",
          "Agent 1<br><b>T0 | A1</b>",
          "Agent 0<br><b>T0 | A0</b>",
          "Agent 1<br><b>T0 | A1</b>",
          "Agent 0<br><b>T0 | A0</b>",
          "Agent 1<br><b>T0 | A1</b>",
          "Agent 0<br><b>T0 | A0</b>",
          "Agent 1<br><b>T0 | A1</b>",
          "Agent 0<br><b>T0 | A0</b>",
          "Agent 1<br><b>T0 | A1</b>",
          "Agent 0<br><b>T0 | A0</b>",
          "Agent 1<br><b>T0 | A1</b>",
          "Agent 0<br><b>T0 | A0</b>",
          "Agent 1<br><b>T0 | A1</b>",
          "Agent 0<br><b>T0 | A0</b>",
          "Agent 1<br><b>T0 | A1</b>",
          "Agent 0<br><b>T0 | A0</b>",
          "Agent 1<br><b>T0 | A1</b>",
          "Agent 0<br><b>T0 | A0</b>",
          "Agent 1<br><b>T0 | A1</b>",
          "Agent 0<br><b>T0 | A0</b>",
          "Agent 1<br><b>T0 | A1</b>",
          "Agent 0<br><b>T0 | A0</b>",
          "Agent 1<br><b>T0 | A1</b>",
          "Agent 0<br><b>T0 | A0</b>",
          "Agent 1<br><b>T0 | A1</b>",
          "Agent 0<br><b>T0 | A0</b>",
          "Agent 1<br><b>T0 | A1</b>",
          "Agent 0<br><b>T0 | A0</b>",
          "Agent 1<br><b>T0 | A1</b>",
          "Agent 0<br><b>T0 | A0</b>",
          "Agent 1<br><b>T0 | A1</b>",
          "Agent 0<br><b>T0 | A0</b>",
          "Agent 1<br><b>T0 | A1</b>",
          "Agent 0<br><b>T0 | A0</b>",
          "Agent 1<br><b>T0 | A1</b>",
          "Agent 0<br><b>T0 | A0</b>",
          "Agent 1<br><b>T0 | A1</b>",
          "Agent 0<br><b>T0 | A0</b>",
          "Agent 1<br><b>T0 | A1</b>",
          "Agent 0<br><b>T0 | A0</b>",
          "Agent 1<br><b>T0 | A1</b>"
         ],
         "type": "scatter",
         "uid": "f906442b-29bb-4115-b529-562f9892c89a",
         "x": [
          0.5,
          0.5,
          1.5,
          1.5,
          2.5,
          2.5,
          3.5,
          3.5,
          4.5,
          4.5,
          5.5,
          5.5,
          6.5,
          6.5,
          7.5,
          7.5,
          8.5,
          8.5,
          9.5,
          9.5,
          10.5,
          10.5,
          11.5,
          11.5,
          12.5,
          12.5,
          13.5,
          13.5,
          14.5,
          14.5,
          15.5,
          15.5,
          16.5,
          16.5,
          17.5,
          17.5,
          18.5,
          18.5,
          19.5,
          19.5,
          20.5,
          20.5,
          21.5,
          21.5,
          22.5,
          22.5,
          23.5,
          23.5,
          24.5,
          24.5,
          25.5,
          25.5,
          26.5,
          26.5,
          27.5,
          27.5,
          28.5,
          28.5,
          29.5,
          29.5
         ],
         "y": [
          0.5,
          1.5,
          2.5,
          3.5,
          4.5,
          5.5,
          6.5,
          7.5,
          8.5,
          9.5,
          10.5,
          11.5,
          12.5,
          13.5,
          14.5,
          15.5,
          16.5,
          17.5,
          18.5,
          19.5,
          20.5,
          21.5,
          22.5,
          23.5,
          24.5,
          25.5,
          26.5,
          27.5,
          28.5,
          29.5,
          30.5,
          31.5,
          32.5,
          33.5,
          34.5,
          35.5,
          36.5,
          37.5,
          38.5,
          39.5,
          40.5,
          41.5,
          42.5,
          43.5,
          44.5,
          45.5,
          46.5,
          47.5,
          48.5,
          49.5,
          50.5,
          51.5,
          52.5,
          53.5,
          54.5,
          55.5,
          56.5,
          57.5,
          58.5,
          59.5
         ]
        }
       ],
       "layout": {
        "shapes": [
         {
          "fillcolor": "rgba(53, 208, 255, 0.7)",
          "line": {
           "color": "rgba(53, 208, 255, 1)",
           "width": 2
          },
          "type": "rect",
          "x0": 0,
          "x1": 1,
          "y0": 0,
          "y1": 1
         },
         {
          "fillcolor": "rgba(53, 208, 255, 0.7)",
          "line": {
           "color": "rgba(53, 208, 255, 1)",
           "width": 2
          },
          "type": "rect",
          "x0": 0,
          "x1": 1,
          "y0": 1,
          "y1": 2
         },
         {
          "fillcolor": "rgba(53, 208, 255, 0.7)",
          "line": {
           "color": "rgba(53, 208, 255, 1)",
           "width": 2
          },
          "type": "rect",
          "x0": 1,
          "x1": 2,
          "y0": 2,
          "y1": 3
         },
         {
          "fillcolor": "rgba(53, 208, 255, 0.7)",
          "line": {
           "color": "rgba(53, 208, 255, 1)",
           "width": 2
          },
          "type": "rect",
          "x0": 1,
          "x1": 2,
          "y0": 3,
          "y1": 4
         },
         {
          "fillcolor": "rgba(53, 208, 255, 0.7)",
          "line": {
           "color": "rgba(53, 208, 255, 1)",
           "width": 2
          },
          "type": "rect",
          "x0": 2,
          "x1": 3,
          "y0": 4,
          "y1": 5
         },
         {
          "fillcolor": "rgba(53, 208, 255, 0.7)",
          "line": {
           "color": "rgba(53, 208, 255, 1)",
           "width": 2
          },
          "type": "rect",
          "x0": 2,
          "x1": 3,
          "y0": 5,
          "y1": 6
         },
         {
          "fillcolor": "rgba(53, 208, 255, 0.7)",
          "line": {
           "color": "rgba(53, 208, 255, 1)",
           "width": 2
          },
          "type": "rect",
          "x0": 3,
          "x1": 4,
          "y0": 6,
          "y1": 7
         },
         {
          "fillcolor": "rgba(53, 208, 255, 0.7)",
          "line": {
           "color": "rgba(53, 208, 255, 1)",
           "width": 2
          },
          "type": "rect",
          "x0": 3,
          "x1": 4,
          "y0": 7,
          "y1": 8
         },
         {
          "fillcolor": "rgba(53, 208, 255, 0.7)",
          "line": {
           "color": "rgba(53, 208, 255, 1)",
           "width": 2
          },
          "type": "rect",
          "x0": 4,
          "x1": 5,
          "y0": 8,
          "y1": 9
         },
         {
          "fillcolor": "rgba(53, 208, 255, 0.7)",
          "line": {
           "color": "rgba(53, 208, 255, 1)",
           "width": 2
          },
          "type": "rect",
          "x0": 4,
          "x1": 5,
          "y0": 9,
          "y1": 10
         },
         {
          "fillcolor": "rgba(53, 208, 255, 0.7)",
          "line": {
           "color": "rgba(53, 208, 255, 1)",
           "width": 2
          },
          "type": "rect",
          "x0": 5,
          "x1": 6,
          "y0": 10,
          "y1": 11
         },
         {
          "fillcolor": "rgba(53, 208, 255, 0.7)",
          "line": {
           "color": "rgba(53, 208, 255, 1)",
           "width": 2
          },
          "type": "rect",
          "x0": 5,
          "x1": 6,
          "y0": 11,
          "y1": 12
         },
         {
          "fillcolor": "rgba(53, 208, 255, 0.7)",
          "line": {
           "color": "rgba(53, 208, 255, 1)",
           "width": 2
          },
          "type": "rect",
          "x0": 6,
          "x1": 7,
          "y0": 12,
          "y1": 13
         },
         {
          "fillcolor": "rgba(53, 208, 255, 0.7)",
          "line": {
           "color": "rgba(53, 208, 255, 1)",
           "width": 2
          },
          "type": "rect",
          "x0": 6,
          "x1": 7,
          "y0": 13,
          "y1": 14
         },
         {
          "fillcolor": "rgba(53, 208, 255, 0.7)",
          "line": {
           "color": "rgba(53, 208, 255, 1)",
           "width": 2
          },
          "type": "rect",
          "x0": 7,
          "x1": 8,
          "y0": 14,
          "y1": 15
         },
         {
          "fillcolor": "rgba(53, 208, 255, 0.7)",
          "line": {
           "color": "rgba(53, 208, 255, 1)",
           "width": 2
          },
          "type": "rect",
          "x0": 7,
          "x1": 8,
          "y0": 15,
          "y1": 16
         },
         {
          "fillcolor": "rgba(53, 208, 255, 0.7)",
          "line": {
           "color": "rgba(53, 208, 255, 1)",
           "width": 2
          },
          "type": "rect",
          "x0": 8,
          "x1": 9,
          "y0": 16,
          "y1": 17
         },
         {
          "fillcolor": "rgba(53, 208, 255, 0.7)",
          "line": {
           "color": "rgba(53, 208, 255, 1)",
           "width": 2
          },
          "type": "rect",
          "x0": 8,
          "x1": 9,
          "y0": 17,
          "y1": 18
         },
         {
          "fillcolor": "rgba(53, 208, 255, 0.7)",
          "line": {
           "color": "rgba(53, 208, 255, 1)",
           "width": 2
          },
          "type": "rect",
          "x0": 9,
          "x1": 10,
          "y0": 18,
          "y1": 19
         },
         {
          "fillcolor": "rgba(53, 208, 255, 0.7)",
          "line": {
           "color": "rgba(53, 208, 255, 1)",
           "width": 2
          },
          "type": "rect",
          "x0": 9,
          "x1": 10,
          "y0": 19,
          "y1": 20
         },
         {
          "fillcolor": "rgba(53, 208, 255, 0.7)",
          "line": {
           "color": "rgba(53, 208, 255, 1)",
           "width": 2
          },
          "type": "rect",
          "x0": 10,
          "x1": 11,
          "y0": 20,
          "y1": 21
         },
         {
          "fillcolor": "rgba(53, 208, 255, 0.7)",
          "line": {
           "color": "rgba(53, 208, 255, 1)",
           "width": 2
          },
          "type": "rect",
          "x0": 10,
          "x1": 11,
          "y0": 21,
          "y1": 22
         },
         {
          "fillcolor": "rgba(53, 208, 255, 0.7)",
          "line": {
           "color": "rgba(53, 208, 255, 1)",
           "width": 2
          },
          "type": "rect",
          "x0": 11,
          "x1": 12,
          "y0": 22,
          "y1": 23
         },
         {
          "fillcolor": "rgba(53, 208, 255, 0.7)",
          "line": {
           "color": "rgba(53, 208, 255, 1)",
           "width": 2
          },
          "type": "rect",
          "x0": 11,
          "x1": 12,
          "y0": 23,
          "y1": 24
         },
         {
          "fillcolor": "rgba(53, 208, 255, 0.7)",
          "line": {
           "color": "rgba(53, 208, 255, 1)",
           "width": 2
          },
          "type": "rect",
          "x0": 12,
          "x1": 13,
          "y0": 24,
          "y1": 25
         },
         {
          "fillcolor": "rgba(53, 208, 255, 0.7)",
          "line": {
           "color": "rgba(53, 208, 255, 1)",
           "width": 2
          },
          "type": "rect",
          "x0": 12,
          "x1": 13,
          "y0": 25,
          "y1": 26
         },
         {
          "fillcolor": "rgba(53, 208, 255, 0.7)",
          "line": {
           "color": "rgba(53, 208, 255, 1)",
           "width": 2
          },
          "type": "rect",
          "x0": 13,
          "x1": 14,
          "y0": 26,
          "y1": 27
         },
         {
          "fillcolor": "rgba(53, 208, 255, 0.7)",
          "line": {
           "color": "rgba(53, 208, 255, 1)",
           "width": 2
          },
          "type": "rect",
          "x0": 13,
          "x1": 14,
          "y0": 27,
          "y1": 28
         },
         {
          "fillcolor": "rgba(53, 208, 255, 0.7)",
          "line": {
           "color": "rgba(53, 208, 255, 1)",
           "width": 2
          },
          "type": "rect",
          "x0": 14,
          "x1": 15,
          "y0": 28,
          "y1": 29
         },
         {
          "fillcolor": "rgba(53, 208, 255, 0.7)",
          "line": {
           "color": "rgba(53, 208, 255, 1)",
           "width": 2
          },
          "type": "rect",
          "x0": 14,
          "x1": 15,
          "y0": 29,
          "y1": 30
         },
         {
          "fillcolor": "rgba(53, 208, 255, 0.7)",
          "line": {
           "color": "rgba(53, 208, 255, 1)",
           "width": 2
          },
          "type": "rect",
          "x0": 15,
          "x1": 16,
          "y0": 30,
          "y1": 31
         },
         {
          "fillcolor": "rgba(53, 208, 255, 0.7)",
          "line": {
           "color": "rgba(53, 208, 255, 1)",
           "width": 2
          },
          "type": "rect",
          "x0": 15,
          "x1": 16,
          "y0": 31,
          "y1": 32
         },
         {
          "fillcolor": "rgba(53, 208, 255, 0.7)",
          "line": {
           "color": "rgba(53, 208, 255, 1)",
           "width": 2
          },
          "type": "rect",
          "x0": 16,
          "x1": 17,
          "y0": 32,
          "y1": 33
         },
         {
          "fillcolor": "rgba(53, 208, 255, 0.7)",
          "line": {
           "color": "rgba(53, 208, 255, 1)",
           "width": 2
          },
          "type": "rect",
          "x0": 16,
          "x1": 17,
          "y0": 33,
          "y1": 34
         },
         {
          "fillcolor": "rgba(53, 208, 255, 0.7)",
          "line": {
           "color": "rgba(53, 208, 255, 1)",
           "width": 2
          },
          "type": "rect",
          "x0": 17,
          "x1": 18,
          "y0": 34,
          "y1": 35
         },
         {
          "fillcolor": "rgba(53, 208, 255, 0.7)",
          "line": {
           "color": "rgba(53, 208, 255, 1)",
           "width": 2
          },
          "type": "rect",
          "x0": 17,
          "x1": 18,
          "y0": 35,
          "y1": 36
         },
         {
          "fillcolor": "rgba(53, 208, 255, 0.7)",
          "line": {
           "color": "rgba(53, 208, 255, 1)",
           "width": 2
          },
          "type": "rect",
          "x0": 18,
          "x1": 19,
          "y0": 36,
          "y1": 37
         },
         {
          "fillcolor": "rgba(53, 208, 255, 0.7)",
          "line": {
           "color": "rgba(53, 208, 255, 1)",
           "width": 2
          },
          "type": "rect",
          "x0": 18,
          "x1": 19,
          "y0": 37,
          "y1": 38
         },
         {
          "fillcolor": "rgba(53, 208, 255, 0.7)",
          "line": {
           "color": "rgba(53, 208, 255, 1)",
           "width": 2
          },
          "type": "rect",
          "x0": 19,
          "x1": 20,
          "y0": 38,
          "y1": 39
         },
         {
          "fillcolor": "rgba(53, 208, 255, 0.7)",
          "line": {
           "color": "rgba(53, 208, 255, 1)",
           "width": 2
          },
          "type": "rect",
          "x0": 19,
          "x1": 20,
          "y0": 39,
          "y1": 40
         },
         {
          "fillcolor": "rgba(53, 208, 255, 0.7)",
          "line": {
           "color": "rgba(53, 208, 255, 1)",
           "width": 2
          },
          "type": "rect",
          "x0": 20,
          "x1": 21,
          "y0": 40,
          "y1": 41
         },
         {
          "fillcolor": "rgba(53, 208, 255, 0.7)",
          "line": {
           "color": "rgba(53, 208, 255, 1)",
           "width": 2
          },
          "type": "rect",
          "x0": 20,
          "x1": 21,
          "y0": 41,
          "y1": 42
         },
         {
          "fillcolor": "rgba(53, 208, 255, 0.7)",
          "line": {
           "color": "rgba(53, 208, 255, 1)",
           "width": 2
          },
          "type": "rect",
          "x0": 21,
          "x1": 22,
          "y0": 42,
          "y1": 43
         },
         {
          "fillcolor": "rgba(53, 208, 255, 0.7)",
          "line": {
           "color": "rgba(53, 208, 255, 1)",
           "width": 2
          },
          "type": "rect",
          "x0": 21,
          "x1": 22,
          "y0": 43,
          "y1": 44
         },
         {
          "fillcolor": "rgba(53, 208, 255, 0.7)",
          "line": {
           "color": "rgba(53, 208, 255, 1)",
           "width": 2
          },
          "type": "rect",
          "x0": 22,
          "x1": 23,
          "y0": 44,
          "y1": 45
         },
         {
          "fillcolor": "rgba(53, 208, 255, 0.7)",
          "line": {
           "color": "rgba(53, 208, 255, 1)",
           "width": 2
          },
          "type": "rect",
          "x0": 22,
          "x1": 23,
          "y0": 45,
          "y1": 46
         },
         {
          "fillcolor": "rgba(53, 208, 255, 0.7)",
          "line": {
           "color": "rgba(53, 208, 255, 1)",
           "width": 2
          },
          "type": "rect",
          "x0": 23,
          "x1": 24,
          "y0": 46,
          "y1": 47
         },
         {
          "fillcolor": "rgba(53, 208, 255, 0.7)",
          "line": {
           "color": "rgba(53, 208, 255, 1)",
           "width": 2
          },
          "type": "rect",
          "x0": 23,
          "x1": 24,
          "y0": 47,
          "y1": 48
         },
         {
          "fillcolor": "rgba(53, 208, 255, 0.7)",
          "line": {
           "color": "rgba(53, 208, 255, 1)",
           "width": 2
          },
          "type": "rect",
          "x0": 24,
          "x1": 25,
          "y0": 48,
          "y1": 49
         },
         {
          "fillcolor": "rgba(53, 208, 255, 0.7)",
          "line": {
           "color": "rgba(53, 208, 255, 1)",
           "width": 2
          },
          "type": "rect",
          "x0": 24,
          "x1": 25,
          "y0": 49,
          "y1": 50
         },
         {
          "fillcolor": "rgba(53, 208, 255, 0.7)",
          "line": {
           "color": "rgba(53, 208, 255, 1)",
           "width": 2
          },
          "type": "rect",
          "x0": 25,
          "x1": 26,
          "y0": 50,
          "y1": 51
         },
         {
          "fillcolor": "rgba(53, 208, 255, 0.7)",
          "line": {
           "color": "rgba(53, 208, 255, 1)",
           "width": 2
          },
          "type": "rect",
          "x0": 25,
          "x1": 26,
          "y0": 51,
          "y1": 52
         },
         {
          "fillcolor": "rgba(53, 208, 255, 0.7)",
          "line": {
           "color": "rgba(53, 208, 255, 1)",
           "width": 2
          },
          "type": "rect",
          "x0": 26,
          "x1": 27,
          "y0": 52,
          "y1": 53
         },
         {
          "fillcolor": "rgba(53, 208, 255, 0.7)",
          "line": {
           "color": "rgba(53, 208, 255, 1)",
           "width": 2
          },
          "type": "rect",
          "x0": 26,
          "x1": 27,
          "y0": 53,
          "y1": 54
         },
         {
          "fillcolor": "rgba(53, 208, 255, 0.7)",
          "line": {
           "color": "rgba(53, 208, 255, 1)",
           "width": 2
          },
          "type": "rect",
          "x0": 27,
          "x1": 28,
          "y0": 54,
          "y1": 55
         },
         {
          "fillcolor": "rgba(53, 208, 255, 0.7)",
          "line": {
           "color": "rgba(53, 208, 255, 1)",
           "width": 2
          },
          "type": "rect",
          "x0": 27,
          "x1": 28,
          "y0": 55,
          "y1": 56
         },
         {
          "fillcolor": "rgba(53, 208, 255, 0.7)",
          "line": {
           "color": "rgba(53, 208, 255, 1)",
           "width": 2
          },
          "type": "rect",
          "x0": 28,
          "x1": 29,
          "y0": 56,
          "y1": 57
         },
         {
          "fillcolor": "rgba(53, 208, 255, 0.7)",
          "line": {
           "color": "rgba(53, 208, 255, 1)",
           "width": 2
          },
          "type": "rect",
          "x0": 28,
          "x1": 29,
          "y0": 57,
          "y1": 58
         },
         {
          "fillcolor": "rgba(53, 208, 255, 0.7)",
          "line": {
           "color": "rgba(53, 208, 255, 1)",
           "width": 2
          },
          "type": "rect",
          "x0": 29,
          "x1": 30,
          "y0": 58,
          "y1": 59
         },
         {
          "fillcolor": "rgba(53, 208, 255, 0.7)",
          "line": {
           "color": "rgba(53, 208, 255, 1)",
           "width": 2
          },
          "type": "rect",
          "x0": 29,
          "x1": 30,
          "y0": 59,
          "y1": 60
         }
        ],
        "xaxis": {
         "autorange": true,
         "showgrid": false
        },
        "yaxis": {
         "range": [
          0,
          62
         ]
        }
       }
      },
      "text/html": [
       "<div id=\"3f26c3c0-4fc1-4821-b5db-53acf3e62116\" style=\"height: 525px; width: 100%;\" class=\"plotly-graph-div\"></div><script type=\"text/javascript\">require([\"plotly\"], function(Plotly) { window.PLOTLYENV=window.PLOTLYENV || {};window.PLOTLYENV.BASE_URL=\"https://plot.ly\";Plotly.newPlot(\"3f26c3c0-4fc1-4821-b5db-53acf3e62116\", [{\"mode\": \"text\", \"text\": [\"Agent 0<br><b>T0 | A0</b>\", \"Agent 1<br><b>T0 | A1</b>\", \"Agent 0<br><b>T0 | A0</b>\", \"Agent 1<br><b>T0 | A1</b>\", \"Agent 0<br><b>T0 | A0</b>\", \"Agent 1<br><b>T0 | A1</b>\", \"Agent 0<br><b>T0 | A0</b>\", \"Agent 1<br><b>T0 | A1</b>\", \"Agent 0<br><b>T0 | A0</b>\", \"Agent 1<br><b>T0 | A1</b>\", \"Agent 0<br><b>T0 | A0</b>\", \"Agent 1<br><b>T0 | A1</b>\", \"Agent 0<br><b>T0 | A0</b>\", \"Agent 1<br><b>T0 | A1</b>\", \"Agent 0<br><b>T0 | A0</b>\", \"Agent 1<br><b>T0 | A1</b>\", \"Agent 0<br><b>T0 | A0</b>\", \"Agent 1<br><b>T0 | A1</b>\", \"Agent 0<br><b>T0 | A0</b>\", \"Agent 1<br><b>T0 | A1</b>\", \"Agent 0<br><b>T0 | A0</b>\", \"Agent 1<br><b>T0 | A1</b>\", \"Agent 0<br><b>T0 | A0</b>\", \"Agent 1<br><b>T0 | A1</b>\", \"Agent 0<br><b>T0 | A0</b>\", \"Agent 1<br><b>T0 | A1</b>\", \"Agent 0<br><b>T0 | A0</b>\", \"Agent 1<br><b>T0 | A1</b>\", \"Agent 0<br><b>T0 | A0</b>\", \"Agent 1<br><b>T0 | A1</b>\", \"Agent 0<br><b>T0 | A0</b>\", \"Agent 1<br><b>T0 | A1</b>\", \"Agent 0<br><b>T0 | A0</b>\", \"Agent 1<br><b>T0 | A1</b>\", \"Agent 0<br><b>T0 | A0</b>\", \"Agent 1<br><b>T0 | A1</b>\", \"Agent 0<br><b>T0 | A0</b>\", \"Agent 1<br><b>T0 | A1</b>\", \"Agent 0<br><b>T0 | A0</b>\", \"Agent 1<br><b>T0 | A1</b>\", \"Agent 0<br><b>T0 | A0</b>\", \"Agent 1<br><b>T0 | A1</b>\", \"Agent 0<br><b>T0 | A0</b>\", \"Agent 1<br><b>T0 | A1</b>\", \"Agent 0<br><b>T0 | A0</b>\", \"Agent 1<br><b>T0 | A1</b>\", \"Agent 0<br><b>T0 | A0</b>\", \"Agent 1<br><b>T0 | A1</b>\", \"Agent 0<br><b>T0 | A0</b>\", \"Agent 1<br><b>T0 | A1</b>\", \"Agent 0<br><b>T0 | A0</b>\", \"Agent 1<br><b>T0 | A1</b>\", \"Agent 0<br><b>T0 | A0</b>\", \"Agent 1<br><b>T0 | A1</b>\", \"Agent 0<br><b>T0 | A0</b>\", \"Agent 1<br><b>T0 | A1</b>\", \"Agent 0<br><b>T0 | A0</b>\", \"Agent 1<br><b>T0 | A1</b>\", \"Agent 0<br><b>T0 | A0</b>\", \"Agent 1<br><b>T0 | A1</b>\"], \"x\": [0.5, 0.5, 1.5, 1.5, 2.5, 2.5, 3.5, 3.5, 4.5, 4.5, 5.5, 5.5, 6.5, 6.5, 7.5, 7.5, 8.5, 8.5, 9.5, 9.5, 10.5, 10.5, 11.5, 11.5, 12.5, 12.5, 13.5, 13.5, 14.5, 14.5, 15.5, 15.5, 16.5, 16.5, 17.5, 17.5, 18.5, 18.5, 19.5, 19.5, 20.5, 20.5, 21.5, 21.5, 22.5, 22.5, 23.5, 23.5, 24.5, 24.5, 25.5, 25.5, 26.5, 26.5, 27.5, 27.5, 28.5, 28.5, 29.5, 29.5], \"y\": [0.5, 1.5, 2.5, 3.5, 4.5, 5.5, 6.5, 7.5, 8.5, 9.5, 10.5, 11.5, 12.5, 13.5, 14.5, 15.5, 16.5, 17.5, 18.5, 19.5, 20.5, 21.5, 22.5, 23.5, 24.5, 25.5, 26.5, 27.5, 28.5, 29.5, 30.5, 31.5, 32.5, 33.5, 34.5, 35.5, 36.5, 37.5, 38.5, 39.5, 40.5, 41.5, 42.5, 43.5, 44.5, 45.5, 46.5, 47.5, 48.5, 49.5, 50.5, 51.5, 52.5, 53.5, 54.5, 55.5, 56.5, 57.5, 58.5, 59.5], \"type\": \"scatter\", \"uid\": \"3af1dbed-d2aa-4078-a0e8-a32868a36b6b\"}], {\"shapes\": [{\"fillcolor\": \"rgba(53, 208, 255, 0.7)\", \"line\": {\"color\": \"rgba(53, 208, 255, 1)\", \"width\": 2}, \"type\": \"rect\", \"x0\": 0, \"x1\": 1, \"y0\": 0, \"y1\": 1}, {\"fillcolor\": \"rgba(53, 208, 255, 0.7)\", \"line\": {\"color\": \"rgba(53, 208, 255, 1)\", \"width\": 2}, \"type\": \"rect\", \"x0\": 0, \"x1\": 1, \"y0\": 1, \"y1\": 2}, {\"fillcolor\": \"rgba(53, 208, 255, 0.7)\", \"line\": {\"color\": \"rgba(53, 208, 255, 1)\", \"width\": 2}, \"type\": \"rect\", \"x0\": 1, \"x1\": 2, \"y0\": 2, \"y1\": 3}, {\"fillcolor\": \"rgba(53, 208, 255, 0.7)\", \"line\": {\"color\": \"rgba(53, 208, 255, 1)\", \"width\": 2}, \"type\": \"rect\", \"x0\": 1, \"x1\": 2, \"y0\": 3, \"y1\": 4}, {\"fillcolor\": \"rgba(53, 208, 255, 0.7)\", \"line\": {\"color\": \"rgba(53, 208, 255, 1)\", \"width\": 2}, \"type\": \"rect\", \"x0\": 2, \"x1\": 3, \"y0\": 4, \"y1\": 5}, {\"fillcolor\": \"rgba(53, 208, 255, 0.7)\", \"line\": {\"color\": \"rgba(53, 208, 255, 1)\", \"width\": 2}, \"type\": \"rect\", \"x0\": 2, \"x1\": 3, \"y0\": 5, \"y1\": 6}, {\"fillcolor\": \"rgba(53, 208, 255, 0.7)\", \"line\": {\"color\": \"rgba(53, 208, 255, 1)\", \"width\": 2}, \"type\": \"rect\", \"x0\": 3, \"x1\": 4, \"y0\": 6, \"y1\": 7}, {\"fillcolor\": \"rgba(53, 208, 255, 0.7)\", \"line\": {\"color\": \"rgba(53, 208, 255, 1)\", \"width\": 2}, \"type\": \"rect\", \"x0\": 3, \"x1\": 4, \"y0\": 7, \"y1\": 8}, {\"fillcolor\": \"rgba(53, 208, 255, 0.7)\", \"line\": {\"color\": \"rgba(53, 208, 255, 1)\", \"width\": 2}, \"type\": \"rect\", \"x0\": 4, \"x1\": 5, \"y0\": 8, \"y1\": 9}, {\"fillcolor\": \"rgba(53, 208, 255, 0.7)\", \"line\": {\"color\": \"rgba(53, 208, 255, 1)\", \"width\": 2}, \"type\": \"rect\", \"x0\": 4, \"x1\": 5, \"y0\": 9, \"y1\": 10}, {\"fillcolor\": \"rgba(53, 208, 255, 0.7)\", \"line\": {\"color\": \"rgba(53, 208, 255, 1)\", \"width\": 2}, \"type\": \"rect\", \"x0\": 5, \"x1\": 6, \"y0\": 10, \"y1\": 11}, {\"fillcolor\": \"rgba(53, 208, 255, 0.7)\", \"line\": {\"color\": \"rgba(53, 208, 255, 1)\", \"width\": 2}, \"type\": \"rect\", \"x0\": 5, \"x1\": 6, \"y0\": 11, \"y1\": 12}, {\"fillcolor\": \"rgba(53, 208, 255, 0.7)\", \"line\": {\"color\": \"rgba(53, 208, 255, 1)\", \"width\": 2}, \"type\": \"rect\", \"x0\": 6, \"x1\": 7, \"y0\": 12, \"y1\": 13}, {\"fillcolor\": \"rgba(53, 208, 255, 0.7)\", \"line\": {\"color\": \"rgba(53, 208, 255, 1)\", \"width\": 2}, \"type\": \"rect\", \"x0\": 6, \"x1\": 7, \"y0\": 13, \"y1\": 14}, {\"fillcolor\": \"rgba(53, 208, 255, 0.7)\", \"line\": {\"color\": \"rgba(53, 208, 255, 1)\", \"width\": 2}, \"type\": \"rect\", \"x0\": 7, \"x1\": 8, \"y0\": 14, \"y1\": 15}, {\"fillcolor\": \"rgba(53, 208, 255, 0.7)\", \"line\": {\"color\": \"rgba(53, 208, 255, 1)\", \"width\": 2}, \"type\": \"rect\", \"x0\": 7, \"x1\": 8, \"y0\": 15, \"y1\": 16}, {\"fillcolor\": \"rgba(53, 208, 255, 0.7)\", \"line\": {\"color\": \"rgba(53, 208, 255, 1)\", \"width\": 2}, \"type\": \"rect\", \"x0\": 8, \"x1\": 9, \"y0\": 16, \"y1\": 17}, {\"fillcolor\": \"rgba(53, 208, 255, 0.7)\", \"line\": {\"color\": \"rgba(53, 208, 255, 1)\", \"width\": 2}, \"type\": \"rect\", \"x0\": 8, \"x1\": 9, \"y0\": 17, \"y1\": 18}, {\"fillcolor\": \"rgba(53, 208, 255, 0.7)\", \"line\": {\"color\": \"rgba(53, 208, 255, 1)\", \"width\": 2}, \"type\": \"rect\", \"x0\": 9, \"x1\": 10, \"y0\": 18, \"y1\": 19}, {\"fillcolor\": \"rgba(53, 208, 255, 0.7)\", \"line\": {\"color\": \"rgba(53, 208, 255, 1)\", \"width\": 2}, \"type\": \"rect\", \"x0\": 9, \"x1\": 10, \"y0\": 19, \"y1\": 20}, {\"fillcolor\": \"rgba(53, 208, 255, 0.7)\", \"line\": {\"color\": \"rgba(53, 208, 255, 1)\", \"width\": 2}, \"type\": \"rect\", \"x0\": 10, \"x1\": 11, \"y0\": 20, \"y1\": 21}, {\"fillcolor\": \"rgba(53, 208, 255, 0.7)\", \"line\": {\"color\": \"rgba(53, 208, 255, 1)\", \"width\": 2}, \"type\": \"rect\", \"x0\": 10, \"x1\": 11, \"y0\": 21, \"y1\": 22}, {\"fillcolor\": \"rgba(53, 208, 255, 0.7)\", \"line\": {\"color\": \"rgba(53, 208, 255, 1)\", \"width\": 2}, \"type\": \"rect\", \"x0\": 11, \"x1\": 12, \"y0\": 22, \"y1\": 23}, {\"fillcolor\": \"rgba(53, 208, 255, 0.7)\", \"line\": {\"color\": \"rgba(53, 208, 255, 1)\", \"width\": 2}, \"type\": \"rect\", \"x0\": 11, \"x1\": 12, \"y0\": 23, \"y1\": 24}, {\"fillcolor\": \"rgba(53, 208, 255, 0.7)\", \"line\": {\"color\": \"rgba(53, 208, 255, 1)\", \"width\": 2}, \"type\": \"rect\", \"x0\": 12, \"x1\": 13, \"y0\": 24, \"y1\": 25}, {\"fillcolor\": \"rgba(53, 208, 255, 0.7)\", \"line\": {\"color\": \"rgba(53, 208, 255, 1)\", \"width\": 2}, \"type\": \"rect\", \"x0\": 12, \"x1\": 13, \"y0\": 25, \"y1\": 26}, {\"fillcolor\": \"rgba(53, 208, 255, 0.7)\", \"line\": {\"color\": \"rgba(53, 208, 255, 1)\", \"width\": 2}, \"type\": \"rect\", \"x0\": 13, \"x1\": 14, \"y0\": 26, \"y1\": 27}, {\"fillcolor\": \"rgba(53, 208, 255, 0.7)\", \"line\": {\"color\": \"rgba(53, 208, 255, 1)\", \"width\": 2}, \"type\": \"rect\", \"x0\": 13, \"x1\": 14, \"y0\": 27, \"y1\": 28}, {\"fillcolor\": \"rgba(53, 208, 255, 0.7)\", \"line\": {\"color\": \"rgba(53, 208, 255, 1)\", \"width\": 2}, \"type\": \"rect\", \"x0\": 14, \"x1\": 15, \"y0\": 28, \"y1\": 29}, {\"fillcolor\": \"rgba(53, 208, 255, 0.7)\", \"line\": {\"color\": \"rgba(53, 208, 255, 1)\", \"width\": 2}, \"type\": \"rect\", \"x0\": 14, \"x1\": 15, \"y0\": 29, \"y1\": 30}, {\"fillcolor\": \"rgba(53, 208, 255, 0.7)\", \"line\": {\"color\": \"rgba(53, 208, 255, 1)\", \"width\": 2}, \"type\": \"rect\", \"x0\": 15, \"x1\": 16, \"y0\": 30, \"y1\": 31}, {\"fillcolor\": \"rgba(53, 208, 255, 0.7)\", \"line\": {\"color\": \"rgba(53, 208, 255, 1)\", \"width\": 2}, \"type\": \"rect\", \"x0\": 15, \"x1\": 16, \"y0\": 31, \"y1\": 32}, {\"fillcolor\": \"rgba(53, 208, 255, 0.7)\", \"line\": {\"color\": \"rgba(53, 208, 255, 1)\", \"width\": 2}, \"type\": \"rect\", \"x0\": 16, \"x1\": 17, \"y0\": 32, \"y1\": 33}, {\"fillcolor\": \"rgba(53, 208, 255, 0.7)\", \"line\": {\"color\": \"rgba(53, 208, 255, 1)\", \"width\": 2}, \"type\": \"rect\", \"x0\": 16, \"x1\": 17, \"y0\": 33, \"y1\": 34}, {\"fillcolor\": \"rgba(53, 208, 255, 0.7)\", \"line\": {\"color\": \"rgba(53, 208, 255, 1)\", \"width\": 2}, \"type\": \"rect\", \"x0\": 17, \"x1\": 18, \"y0\": 34, \"y1\": 35}, {\"fillcolor\": \"rgba(53, 208, 255, 0.7)\", \"line\": {\"color\": \"rgba(53, 208, 255, 1)\", \"width\": 2}, \"type\": \"rect\", \"x0\": 17, \"x1\": 18, \"y0\": 35, \"y1\": 36}, {\"fillcolor\": \"rgba(53, 208, 255, 0.7)\", \"line\": {\"color\": \"rgba(53, 208, 255, 1)\", \"width\": 2}, \"type\": \"rect\", \"x0\": 18, \"x1\": 19, \"y0\": 36, \"y1\": 37}, {\"fillcolor\": \"rgba(53, 208, 255, 0.7)\", \"line\": {\"color\": \"rgba(53, 208, 255, 1)\", \"width\": 2}, \"type\": \"rect\", \"x0\": 18, \"x1\": 19, \"y0\": 37, \"y1\": 38}, {\"fillcolor\": \"rgba(53, 208, 255, 0.7)\", \"line\": {\"color\": \"rgba(53, 208, 255, 1)\", \"width\": 2}, \"type\": \"rect\", \"x0\": 19, \"x1\": 20, \"y0\": 38, \"y1\": 39}, {\"fillcolor\": \"rgba(53, 208, 255, 0.7)\", \"line\": {\"color\": \"rgba(53, 208, 255, 1)\", \"width\": 2}, \"type\": \"rect\", \"x0\": 19, \"x1\": 20, \"y0\": 39, \"y1\": 40}, {\"fillcolor\": \"rgba(53, 208, 255, 0.7)\", \"line\": {\"color\": \"rgba(53, 208, 255, 1)\", \"width\": 2}, \"type\": \"rect\", \"x0\": 20, \"x1\": 21, \"y0\": 40, \"y1\": 41}, {\"fillcolor\": \"rgba(53, 208, 255, 0.7)\", \"line\": {\"color\": \"rgba(53, 208, 255, 1)\", \"width\": 2}, \"type\": \"rect\", \"x0\": 20, \"x1\": 21, \"y0\": 41, \"y1\": 42}, {\"fillcolor\": \"rgba(53, 208, 255, 0.7)\", \"line\": {\"color\": \"rgba(53, 208, 255, 1)\", \"width\": 2}, \"type\": \"rect\", \"x0\": 21, \"x1\": 22, \"y0\": 42, \"y1\": 43}, {\"fillcolor\": \"rgba(53, 208, 255, 0.7)\", \"line\": {\"color\": \"rgba(53, 208, 255, 1)\", \"width\": 2}, \"type\": \"rect\", \"x0\": 21, \"x1\": 22, \"y0\": 43, \"y1\": 44}, {\"fillcolor\": \"rgba(53, 208, 255, 0.7)\", \"line\": {\"color\": \"rgba(53, 208, 255, 1)\", \"width\": 2}, \"type\": \"rect\", \"x0\": 22, \"x1\": 23, \"y0\": 44, \"y1\": 45}, {\"fillcolor\": \"rgba(53, 208, 255, 0.7)\", \"line\": {\"color\": \"rgba(53, 208, 255, 1)\", \"width\": 2}, \"type\": \"rect\", \"x0\": 22, \"x1\": 23, \"y0\": 45, \"y1\": 46}, {\"fillcolor\": \"rgba(53, 208, 255, 0.7)\", \"line\": {\"color\": \"rgba(53, 208, 255, 1)\", \"width\": 2}, \"type\": \"rect\", \"x0\": 23, \"x1\": 24, \"y0\": 46, \"y1\": 47}, {\"fillcolor\": \"rgba(53, 208, 255, 0.7)\", \"line\": {\"color\": \"rgba(53, 208, 255, 1)\", \"width\": 2}, \"type\": \"rect\", \"x0\": 23, \"x1\": 24, \"y0\": 47, \"y1\": 48}, {\"fillcolor\": \"rgba(53, 208, 255, 0.7)\", \"line\": {\"color\": \"rgba(53, 208, 255, 1)\", \"width\": 2}, \"type\": \"rect\", \"x0\": 24, \"x1\": 25, \"y0\": 48, \"y1\": 49}, {\"fillcolor\": \"rgba(53, 208, 255, 0.7)\", \"line\": {\"color\": \"rgba(53, 208, 255, 1)\", \"width\": 2}, \"type\": \"rect\", \"x0\": 24, \"x1\": 25, \"y0\": 49, \"y1\": 50}, {\"fillcolor\": \"rgba(53, 208, 255, 0.7)\", \"line\": {\"color\": \"rgba(53, 208, 255, 1)\", \"width\": 2}, \"type\": \"rect\", \"x0\": 25, \"x1\": 26, \"y0\": 50, \"y1\": 51}, {\"fillcolor\": \"rgba(53, 208, 255, 0.7)\", \"line\": {\"color\": \"rgba(53, 208, 255, 1)\", \"width\": 2}, \"type\": \"rect\", \"x0\": 25, \"x1\": 26, \"y0\": 51, \"y1\": 52}, {\"fillcolor\": \"rgba(53, 208, 255, 0.7)\", \"line\": {\"color\": \"rgba(53, 208, 255, 1)\", \"width\": 2}, \"type\": \"rect\", \"x0\": 26, \"x1\": 27, \"y0\": 52, \"y1\": 53}, {\"fillcolor\": \"rgba(53, 208, 255, 0.7)\", \"line\": {\"color\": \"rgba(53, 208, 255, 1)\", \"width\": 2}, \"type\": \"rect\", \"x0\": 26, \"x1\": 27, \"y0\": 53, \"y1\": 54}, {\"fillcolor\": \"rgba(53, 208, 255, 0.7)\", \"line\": {\"color\": \"rgba(53, 208, 255, 1)\", \"width\": 2}, \"type\": \"rect\", \"x0\": 27, \"x1\": 28, \"y0\": 54, \"y1\": 55}, {\"fillcolor\": \"rgba(53, 208, 255, 0.7)\", \"line\": {\"color\": \"rgba(53, 208, 255, 1)\", \"width\": 2}, \"type\": \"rect\", \"x0\": 27, \"x1\": 28, \"y0\": 55, \"y1\": 56}, {\"fillcolor\": \"rgba(53, 208, 255, 0.7)\", \"line\": {\"color\": \"rgba(53, 208, 255, 1)\", \"width\": 2}, \"type\": \"rect\", \"x0\": 28, \"x1\": 29, \"y0\": 56, \"y1\": 57}, {\"fillcolor\": \"rgba(53, 208, 255, 0.7)\", \"line\": {\"color\": \"rgba(53, 208, 255, 1)\", \"width\": 2}, \"type\": \"rect\", \"x0\": 28, \"x1\": 29, \"y0\": 57, \"y1\": 58}, {\"fillcolor\": \"rgba(53, 208, 255, 0.7)\", \"line\": {\"color\": \"rgba(53, 208, 255, 1)\", \"width\": 2}, \"type\": \"rect\", \"x0\": 29, \"x1\": 30, \"y0\": 58, \"y1\": 59}, {\"fillcolor\": \"rgba(53, 208, 255, 0.7)\", \"line\": {\"color\": \"rgba(53, 208, 255, 1)\", \"width\": 2}, \"type\": \"rect\", \"x0\": 29, \"x1\": 30, \"y0\": 59, \"y1\": 60}], \"xaxis\": {\"autorange\": true, \"showgrid\": false}, \"yaxis\": {\"range\": [0, 62]}}, {\"showLink\": true, \"linkText\": \"Export to plot.ly\", \"plotlyServerURL\": \"https://plot.ly\"})});</script><script type=\"text/javascript\">window.addEventListener(\"resize\", function(){window._Plotly.Plots.resize(document.getElementById(\"3f26c3c0-4fc1-4821-b5db-53acf3e62116\"));});</script>"
      ],
      "text/vnd.plotly.v1+html": [
       "<div id=\"3f26c3c0-4fc1-4821-b5db-53acf3e62116\" style=\"height: 525px; width: 100%;\" class=\"plotly-graph-div\"></div><script type=\"text/javascript\">require([\"plotly\"], function(Plotly) { window.PLOTLYENV=window.PLOTLYENV || {};window.PLOTLYENV.BASE_URL=\"https://plot.ly\";Plotly.newPlot(\"3f26c3c0-4fc1-4821-b5db-53acf3e62116\", [{\"mode\": \"text\", \"text\": [\"Agent 0<br><b>T0 | A0</b>\", \"Agent 1<br><b>T0 | A1</b>\", \"Agent 0<br><b>T0 | A0</b>\", \"Agent 1<br><b>T0 | A1</b>\", \"Agent 0<br><b>T0 | A0</b>\", \"Agent 1<br><b>T0 | A1</b>\", \"Agent 0<br><b>T0 | A0</b>\", \"Agent 1<br><b>T0 | A1</b>\", \"Agent 0<br><b>T0 | A0</b>\", \"Agent 1<br><b>T0 | A1</b>\", \"Agent 0<br><b>T0 | A0</b>\", \"Agent 1<br><b>T0 | A1</b>\", \"Agent 0<br><b>T0 | A0</b>\", \"Agent 1<br><b>T0 | A1</b>\", \"Agent 0<br><b>T0 | A0</b>\", \"Agent 1<br><b>T0 | A1</b>\", \"Agent 0<br><b>T0 | A0</b>\", \"Agent 1<br><b>T0 | A1</b>\", \"Agent 0<br><b>T0 | A0</b>\", \"Agent 1<br><b>T0 | A1</b>\", \"Agent 0<br><b>T0 | A0</b>\", \"Agent 1<br><b>T0 | A1</b>\", \"Agent 0<br><b>T0 | A0</b>\", \"Agent 1<br><b>T0 | A1</b>\", \"Agent 0<br><b>T0 | A0</b>\", \"Agent 1<br><b>T0 | A1</b>\", \"Agent 0<br><b>T0 | A0</b>\", \"Agent 1<br><b>T0 | A1</b>\", \"Agent 0<br><b>T0 | A0</b>\", \"Agent 1<br><b>T0 | A1</b>\", \"Agent 0<br><b>T0 | A0</b>\", \"Agent 1<br><b>T0 | A1</b>\", \"Agent 0<br><b>T0 | A0</b>\", \"Agent 1<br><b>T0 | A1</b>\", \"Agent 0<br><b>T0 | A0</b>\", \"Agent 1<br><b>T0 | A1</b>\", \"Agent 0<br><b>T0 | A0</b>\", \"Agent 1<br><b>T0 | A1</b>\", \"Agent 0<br><b>T0 | A0</b>\", \"Agent 1<br><b>T0 | A1</b>\", \"Agent 0<br><b>T0 | A0</b>\", \"Agent 1<br><b>T0 | A1</b>\", \"Agent 0<br><b>T0 | A0</b>\", \"Agent 1<br><b>T0 | A1</b>\", \"Agent 0<br><b>T0 | A0</b>\", \"Agent 1<br><b>T0 | A1</b>\", \"Agent 0<br><b>T0 | A0</b>\", \"Agent 1<br><b>T0 | A1</b>\", \"Agent 0<br><b>T0 | A0</b>\", \"Agent 1<br><b>T0 | A1</b>\", \"Agent 0<br><b>T0 | A0</b>\", \"Agent 1<br><b>T0 | A1</b>\", \"Agent 0<br><b>T0 | A0</b>\", \"Agent 1<br><b>T0 | A1</b>\", \"Agent 0<br><b>T0 | A0</b>\", \"Agent 1<br><b>T0 | A1</b>\", \"Agent 0<br><b>T0 | A0</b>\", \"Agent 1<br><b>T0 | A1</b>\", \"Agent 0<br><b>T0 | A0</b>\", \"Agent 1<br><b>T0 | A1</b>\"], \"x\": [0.5, 0.5, 1.5, 1.5, 2.5, 2.5, 3.5, 3.5, 4.5, 4.5, 5.5, 5.5, 6.5, 6.5, 7.5, 7.5, 8.5, 8.5, 9.5, 9.5, 10.5, 10.5, 11.5, 11.5, 12.5, 12.5, 13.5, 13.5, 14.5, 14.5, 15.5, 15.5, 16.5, 16.5, 17.5, 17.5, 18.5, 18.5, 19.5, 19.5, 20.5, 20.5, 21.5, 21.5, 22.5, 22.5, 23.5, 23.5, 24.5, 24.5, 25.5, 25.5, 26.5, 26.5, 27.5, 27.5, 28.5, 28.5, 29.5, 29.5], \"y\": [0.5, 1.5, 2.5, 3.5, 4.5, 5.5, 6.5, 7.5, 8.5, 9.5, 10.5, 11.5, 12.5, 13.5, 14.5, 15.5, 16.5, 17.5, 18.5, 19.5, 20.5, 21.5, 22.5, 23.5, 24.5, 25.5, 26.5, 27.5, 28.5, 29.5, 30.5, 31.5, 32.5, 33.5, 34.5, 35.5, 36.5, 37.5, 38.5, 39.5, 40.5, 41.5, 42.5, 43.5, 44.5, 45.5, 46.5, 47.5, 48.5, 49.5, 50.5, 51.5, 52.5, 53.5, 54.5, 55.5, 56.5, 57.5, 58.5, 59.5], \"type\": \"scatter\", \"uid\": \"3af1dbed-d2aa-4078-a0e8-a32868a36b6b\"}], {\"shapes\": [{\"fillcolor\": \"rgba(53, 208, 255, 0.7)\", \"line\": {\"color\": \"rgba(53, 208, 255, 1)\", \"width\": 2}, \"type\": \"rect\", \"x0\": 0, \"x1\": 1, \"y0\": 0, \"y1\": 1}, {\"fillcolor\": \"rgba(53, 208, 255, 0.7)\", \"line\": {\"color\": \"rgba(53, 208, 255, 1)\", \"width\": 2}, \"type\": \"rect\", \"x0\": 0, \"x1\": 1, \"y0\": 1, \"y1\": 2}, {\"fillcolor\": \"rgba(53, 208, 255, 0.7)\", \"line\": {\"color\": \"rgba(53, 208, 255, 1)\", \"width\": 2}, \"type\": \"rect\", \"x0\": 1, \"x1\": 2, \"y0\": 2, \"y1\": 3}, {\"fillcolor\": \"rgba(53, 208, 255, 0.7)\", \"line\": {\"color\": \"rgba(53, 208, 255, 1)\", \"width\": 2}, \"type\": \"rect\", \"x0\": 1, \"x1\": 2, \"y0\": 3, \"y1\": 4}, {\"fillcolor\": \"rgba(53, 208, 255, 0.7)\", \"line\": {\"color\": \"rgba(53, 208, 255, 1)\", \"width\": 2}, \"type\": \"rect\", \"x0\": 2, \"x1\": 3, \"y0\": 4, \"y1\": 5}, {\"fillcolor\": \"rgba(53, 208, 255, 0.7)\", \"line\": {\"color\": \"rgba(53, 208, 255, 1)\", \"width\": 2}, \"type\": \"rect\", \"x0\": 2, \"x1\": 3, \"y0\": 5, \"y1\": 6}, {\"fillcolor\": \"rgba(53, 208, 255, 0.7)\", \"line\": {\"color\": \"rgba(53, 208, 255, 1)\", \"width\": 2}, \"type\": \"rect\", \"x0\": 3, \"x1\": 4, \"y0\": 6, \"y1\": 7}, {\"fillcolor\": \"rgba(53, 208, 255, 0.7)\", \"line\": {\"color\": \"rgba(53, 208, 255, 1)\", \"width\": 2}, \"type\": \"rect\", \"x0\": 3, \"x1\": 4, \"y0\": 7, \"y1\": 8}, {\"fillcolor\": \"rgba(53, 208, 255, 0.7)\", \"line\": {\"color\": \"rgba(53, 208, 255, 1)\", \"width\": 2}, \"type\": \"rect\", \"x0\": 4, \"x1\": 5, \"y0\": 8, \"y1\": 9}, {\"fillcolor\": \"rgba(53, 208, 255, 0.7)\", \"line\": {\"color\": \"rgba(53, 208, 255, 1)\", \"width\": 2}, \"type\": \"rect\", \"x0\": 4, \"x1\": 5, \"y0\": 9, \"y1\": 10}, {\"fillcolor\": \"rgba(53, 208, 255, 0.7)\", \"line\": {\"color\": \"rgba(53, 208, 255, 1)\", \"width\": 2}, \"type\": \"rect\", \"x0\": 5, \"x1\": 6, \"y0\": 10, \"y1\": 11}, {\"fillcolor\": \"rgba(53, 208, 255, 0.7)\", \"line\": {\"color\": \"rgba(53, 208, 255, 1)\", \"width\": 2}, \"type\": \"rect\", \"x0\": 5, \"x1\": 6, \"y0\": 11, \"y1\": 12}, {\"fillcolor\": \"rgba(53, 208, 255, 0.7)\", \"line\": {\"color\": \"rgba(53, 208, 255, 1)\", \"width\": 2}, \"type\": \"rect\", \"x0\": 6, \"x1\": 7, \"y0\": 12, \"y1\": 13}, {\"fillcolor\": \"rgba(53, 208, 255, 0.7)\", \"line\": {\"color\": \"rgba(53, 208, 255, 1)\", \"width\": 2}, \"type\": \"rect\", \"x0\": 6, \"x1\": 7, \"y0\": 13, \"y1\": 14}, {\"fillcolor\": \"rgba(53, 208, 255, 0.7)\", \"line\": {\"color\": \"rgba(53, 208, 255, 1)\", \"width\": 2}, \"type\": \"rect\", \"x0\": 7, \"x1\": 8, \"y0\": 14, \"y1\": 15}, {\"fillcolor\": \"rgba(53, 208, 255, 0.7)\", \"line\": {\"color\": \"rgba(53, 208, 255, 1)\", \"width\": 2}, \"type\": \"rect\", \"x0\": 7, \"x1\": 8, \"y0\": 15, \"y1\": 16}, {\"fillcolor\": \"rgba(53, 208, 255, 0.7)\", \"line\": {\"color\": \"rgba(53, 208, 255, 1)\", \"width\": 2}, \"type\": \"rect\", \"x0\": 8, \"x1\": 9, \"y0\": 16, \"y1\": 17}, {\"fillcolor\": \"rgba(53, 208, 255, 0.7)\", \"line\": {\"color\": \"rgba(53, 208, 255, 1)\", \"width\": 2}, \"type\": \"rect\", \"x0\": 8, \"x1\": 9, \"y0\": 17, \"y1\": 18}, {\"fillcolor\": \"rgba(53, 208, 255, 0.7)\", \"line\": {\"color\": \"rgba(53, 208, 255, 1)\", \"width\": 2}, \"type\": \"rect\", \"x0\": 9, \"x1\": 10, \"y0\": 18, \"y1\": 19}, {\"fillcolor\": \"rgba(53, 208, 255, 0.7)\", \"line\": {\"color\": \"rgba(53, 208, 255, 1)\", \"width\": 2}, \"type\": \"rect\", \"x0\": 9, \"x1\": 10, \"y0\": 19, \"y1\": 20}, {\"fillcolor\": \"rgba(53, 208, 255, 0.7)\", \"line\": {\"color\": \"rgba(53, 208, 255, 1)\", \"width\": 2}, \"type\": \"rect\", \"x0\": 10, \"x1\": 11, \"y0\": 20, \"y1\": 21}, {\"fillcolor\": \"rgba(53, 208, 255, 0.7)\", \"line\": {\"color\": \"rgba(53, 208, 255, 1)\", \"width\": 2}, \"type\": \"rect\", \"x0\": 10, \"x1\": 11, \"y0\": 21, \"y1\": 22}, {\"fillcolor\": \"rgba(53, 208, 255, 0.7)\", \"line\": {\"color\": \"rgba(53, 208, 255, 1)\", \"width\": 2}, \"type\": \"rect\", \"x0\": 11, \"x1\": 12, \"y0\": 22, \"y1\": 23}, {\"fillcolor\": \"rgba(53, 208, 255, 0.7)\", \"line\": {\"color\": \"rgba(53, 208, 255, 1)\", \"width\": 2}, \"type\": \"rect\", \"x0\": 11, \"x1\": 12, \"y0\": 23, \"y1\": 24}, {\"fillcolor\": \"rgba(53, 208, 255, 0.7)\", \"line\": {\"color\": \"rgba(53, 208, 255, 1)\", \"width\": 2}, \"type\": \"rect\", \"x0\": 12, \"x1\": 13, \"y0\": 24, \"y1\": 25}, {\"fillcolor\": \"rgba(53, 208, 255, 0.7)\", \"line\": {\"color\": \"rgba(53, 208, 255, 1)\", \"width\": 2}, \"type\": \"rect\", \"x0\": 12, \"x1\": 13, \"y0\": 25, \"y1\": 26}, {\"fillcolor\": \"rgba(53, 208, 255, 0.7)\", \"line\": {\"color\": \"rgba(53, 208, 255, 1)\", \"width\": 2}, \"type\": \"rect\", \"x0\": 13, \"x1\": 14, \"y0\": 26, \"y1\": 27}, {\"fillcolor\": \"rgba(53, 208, 255, 0.7)\", \"line\": {\"color\": \"rgba(53, 208, 255, 1)\", \"width\": 2}, \"type\": \"rect\", \"x0\": 13, \"x1\": 14, \"y0\": 27, \"y1\": 28}, {\"fillcolor\": \"rgba(53, 208, 255, 0.7)\", \"line\": {\"color\": \"rgba(53, 208, 255, 1)\", \"width\": 2}, \"type\": \"rect\", \"x0\": 14, \"x1\": 15, \"y0\": 28, \"y1\": 29}, {\"fillcolor\": \"rgba(53, 208, 255, 0.7)\", \"line\": {\"color\": \"rgba(53, 208, 255, 1)\", \"width\": 2}, \"type\": \"rect\", \"x0\": 14, \"x1\": 15, \"y0\": 29, \"y1\": 30}, {\"fillcolor\": \"rgba(53, 208, 255, 0.7)\", \"line\": {\"color\": \"rgba(53, 208, 255, 1)\", \"width\": 2}, \"type\": \"rect\", \"x0\": 15, \"x1\": 16, \"y0\": 30, \"y1\": 31}, {\"fillcolor\": \"rgba(53, 208, 255, 0.7)\", \"line\": {\"color\": \"rgba(53, 208, 255, 1)\", \"width\": 2}, \"type\": \"rect\", \"x0\": 15, \"x1\": 16, \"y0\": 31, \"y1\": 32}, {\"fillcolor\": \"rgba(53, 208, 255, 0.7)\", \"line\": {\"color\": \"rgba(53, 208, 255, 1)\", \"width\": 2}, \"type\": \"rect\", \"x0\": 16, \"x1\": 17, \"y0\": 32, \"y1\": 33}, {\"fillcolor\": \"rgba(53, 208, 255, 0.7)\", \"line\": {\"color\": \"rgba(53, 208, 255, 1)\", \"width\": 2}, \"type\": \"rect\", \"x0\": 16, \"x1\": 17, \"y0\": 33, \"y1\": 34}, {\"fillcolor\": \"rgba(53, 208, 255, 0.7)\", \"line\": {\"color\": \"rgba(53, 208, 255, 1)\", \"width\": 2}, \"type\": \"rect\", \"x0\": 17, \"x1\": 18, \"y0\": 34, \"y1\": 35}, {\"fillcolor\": \"rgba(53, 208, 255, 0.7)\", \"line\": {\"color\": \"rgba(53, 208, 255, 1)\", \"width\": 2}, \"type\": \"rect\", \"x0\": 17, \"x1\": 18, \"y0\": 35, \"y1\": 36}, {\"fillcolor\": \"rgba(53, 208, 255, 0.7)\", \"line\": {\"color\": \"rgba(53, 208, 255, 1)\", \"width\": 2}, \"type\": \"rect\", \"x0\": 18, \"x1\": 19, \"y0\": 36, \"y1\": 37}, {\"fillcolor\": \"rgba(53, 208, 255, 0.7)\", \"line\": {\"color\": \"rgba(53, 208, 255, 1)\", \"width\": 2}, \"type\": \"rect\", \"x0\": 18, \"x1\": 19, \"y0\": 37, \"y1\": 38}, {\"fillcolor\": \"rgba(53, 208, 255, 0.7)\", \"line\": {\"color\": \"rgba(53, 208, 255, 1)\", \"width\": 2}, \"type\": \"rect\", \"x0\": 19, \"x1\": 20, \"y0\": 38, \"y1\": 39}, {\"fillcolor\": \"rgba(53, 208, 255, 0.7)\", \"line\": {\"color\": \"rgba(53, 208, 255, 1)\", \"width\": 2}, \"type\": \"rect\", \"x0\": 19, \"x1\": 20, \"y0\": 39, \"y1\": 40}, {\"fillcolor\": \"rgba(53, 208, 255, 0.7)\", \"line\": {\"color\": \"rgba(53, 208, 255, 1)\", \"width\": 2}, \"type\": \"rect\", \"x0\": 20, \"x1\": 21, \"y0\": 40, \"y1\": 41}, {\"fillcolor\": \"rgba(53, 208, 255, 0.7)\", \"line\": {\"color\": \"rgba(53, 208, 255, 1)\", \"width\": 2}, \"type\": \"rect\", \"x0\": 20, \"x1\": 21, \"y0\": 41, \"y1\": 42}, {\"fillcolor\": \"rgba(53, 208, 255, 0.7)\", \"line\": {\"color\": \"rgba(53, 208, 255, 1)\", \"width\": 2}, \"type\": \"rect\", \"x0\": 21, \"x1\": 22, \"y0\": 42, \"y1\": 43}, {\"fillcolor\": \"rgba(53, 208, 255, 0.7)\", \"line\": {\"color\": \"rgba(53, 208, 255, 1)\", \"width\": 2}, \"type\": \"rect\", \"x0\": 21, \"x1\": 22, \"y0\": 43, \"y1\": 44}, {\"fillcolor\": \"rgba(53, 208, 255, 0.7)\", \"line\": {\"color\": \"rgba(53, 208, 255, 1)\", \"width\": 2}, \"type\": \"rect\", \"x0\": 22, \"x1\": 23, \"y0\": 44, \"y1\": 45}, {\"fillcolor\": \"rgba(53, 208, 255, 0.7)\", \"line\": {\"color\": \"rgba(53, 208, 255, 1)\", \"width\": 2}, \"type\": \"rect\", \"x0\": 22, \"x1\": 23, \"y0\": 45, \"y1\": 46}, {\"fillcolor\": \"rgba(53, 208, 255, 0.7)\", \"line\": {\"color\": \"rgba(53, 208, 255, 1)\", \"width\": 2}, \"type\": \"rect\", \"x0\": 23, \"x1\": 24, \"y0\": 46, \"y1\": 47}, {\"fillcolor\": \"rgba(53, 208, 255, 0.7)\", \"line\": {\"color\": \"rgba(53, 208, 255, 1)\", \"width\": 2}, \"type\": \"rect\", \"x0\": 23, \"x1\": 24, \"y0\": 47, \"y1\": 48}, {\"fillcolor\": \"rgba(53, 208, 255, 0.7)\", \"line\": {\"color\": \"rgba(53, 208, 255, 1)\", \"width\": 2}, \"type\": \"rect\", \"x0\": 24, \"x1\": 25, \"y0\": 48, \"y1\": 49}, {\"fillcolor\": \"rgba(53, 208, 255, 0.7)\", \"line\": {\"color\": \"rgba(53, 208, 255, 1)\", \"width\": 2}, \"type\": \"rect\", \"x0\": 24, \"x1\": 25, \"y0\": 49, \"y1\": 50}, {\"fillcolor\": \"rgba(53, 208, 255, 0.7)\", \"line\": {\"color\": \"rgba(53, 208, 255, 1)\", \"width\": 2}, \"type\": \"rect\", \"x0\": 25, \"x1\": 26, \"y0\": 50, \"y1\": 51}, {\"fillcolor\": \"rgba(53, 208, 255, 0.7)\", \"line\": {\"color\": \"rgba(53, 208, 255, 1)\", \"width\": 2}, \"type\": \"rect\", \"x0\": 25, \"x1\": 26, \"y0\": 51, \"y1\": 52}, {\"fillcolor\": \"rgba(53, 208, 255, 0.7)\", \"line\": {\"color\": \"rgba(53, 208, 255, 1)\", \"width\": 2}, \"type\": \"rect\", \"x0\": 26, \"x1\": 27, \"y0\": 52, \"y1\": 53}, {\"fillcolor\": \"rgba(53, 208, 255, 0.7)\", \"line\": {\"color\": \"rgba(53, 208, 255, 1)\", \"width\": 2}, \"type\": \"rect\", \"x0\": 26, \"x1\": 27, \"y0\": 53, \"y1\": 54}, {\"fillcolor\": \"rgba(53, 208, 255, 0.7)\", \"line\": {\"color\": \"rgba(53, 208, 255, 1)\", \"width\": 2}, \"type\": \"rect\", \"x0\": 27, \"x1\": 28, \"y0\": 54, \"y1\": 55}, {\"fillcolor\": \"rgba(53, 208, 255, 0.7)\", \"line\": {\"color\": \"rgba(53, 208, 255, 1)\", \"width\": 2}, \"type\": \"rect\", \"x0\": 27, \"x1\": 28, \"y0\": 55, \"y1\": 56}, {\"fillcolor\": \"rgba(53, 208, 255, 0.7)\", \"line\": {\"color\": \"rgba(53, 208, 255, 1)\", \"width\": 2}, \"type\": \"rect\", \"x0\": 28, \"x1\": 29, \"y0\": 56, \"y1\": 57}, {\"fillcolor\": \"rgba(53, 208, 255, 0.7)\", \"line\": {\"color\": \"rgba(53, 208, 255, 1)\", \"width\": 2}, \"type\": \"rect\", \"x0\": 28, \"x1\": 29, \"y0\": 57, \"y1\": 58}, {\"fillcolor\": \"rgba(53, 208, 255, 0.7)\", \"line\": {\"color\": \"rgba(53, 208, 255, 1)\", \"width\": 2}, \"type\": \"rect\", \"x0\": 29, \"x1\": 30, \"y0\": 58, \"y1\": 59}, {\"fillcolor\": \"rgba(53, 208, 255, 0.7)\", \"line\": {\"color\": \"rgba(53, 208, 255, 1)\", \"width\": 2}, \"type\": \"rect\", \"x0\": 29, \"x1\": 30, \"y0\": 59, \"y1\": 60}], \"xaxis\": {\"autorange\": true, \"showgrid\": false}, \"yaxis\": {\"range\": [0, 62]}}, {\"showLink\": true, \"linkText\": \"Export to plot.ly\", \"plotlyServerURL\": \"https://plot.ly\"})});</script><script type=\"text/javascript\">window.addEventListener(\"resize\", function(){window._Plotly.Plots.resize(document.getElementById(\"3f26c3c0-4fc1-4821-b5db-53acf3e62116\"));});</script>"
      ]
     },
     "metadata": {},
     "output_type": "display_data"
    }
   ],
   "source": [
    "my_workplace.print_current_state()"
   ]
  },
  {
   "cell_type": "code",
   "execution_count": 6,
   "metadata": {},
   "outputs": [
    {
     "data": {
      "application/vnd.plotly.v1+json": {
       "config": {
        "linkText": "Export to plot.ly",
        "plotlyServerURL": "https://plot.ly",
        "showLink": true
       },
       "data": [
        {
         "mode": "lines+markers",
         "name": "Skill 1",
         "type": "scatter",
         "uid": "e5e58c54-2bf8-4586-baf9-69019dc6f5ae",
         "x": [
          0,
          1,
          2,
          3,
          4,
          5,
          6,
          7,
          8,
          9,
          10,
          11,
          12,
          13,
          14,
          15,
          16,
          17,
          18,
          19,
          20,
          21,
          22,
          23,
          24,
          25,
          26,
          27,
          28,
          29,
          30
         ],
         "y": [
          16,
          16,
          17,
          17,
          17,
          18,
          18,
          18,
          19,
          19,
          19,
          19,
          19,
          20,
          20,
          20,
          20,
          21,
          21,
          21,
          21,
          21,
          21,
          21,
          22,
          22,
          22,
          22,
          22,
          22,
          22
         ]
        },
        {
         "mode": "lines+markers",
         "name": "Skill 2",
         "type": "scatter",
         "uid": "80456cbd-e59c-4d5a-9172-4d2aea723e85",
         "x": [
          0,
          1,
          2,
          3,
          4,
          5,
          6,
          7,
          8,
          9,
          10,
          11,
          12,
          13,
          14,
          15,
          16,
          17,
          18,
          19,
          20,
          21,
          22,
          23,
          24,
          25,
          26,
          27,
          28,
          29,
          30
         ],
         "y": [
          14,
          14,
          14,
          13,
          13,
          13,
          13,
          12,
          12,
          12,
          12,
          11,
          11,
          11,
          10,
          10,
          10,
          9,
          9,
          9,
          9,
          8,
          8,
          7,
          7,
          7,
          6,
          6,
          6,
          5,
          5
         ]
        }
       ],
       "layout": {
        "xaxis": {
         "title": "Cycles",
         "titlefont": {
          "color": "darkgrey",
          "family": "Arial, sans-serif",
          "size": 18
         }
        },
        "yaxis": {
         "title": "Expertise",
         "titlefont": {
          "color": "darkgrey",
          "family": "Arial, sans-serif",
          "size": 18
         }
        }
       }
      },
      "text/html": [
       "<div id=\"507693c3-e266-4ac7-b18b-31461959ed0e\" style=\"height: 525px; width: 100%;\" class=\"plotly-graph-div\"></div><script type=\"text/javascript\">require([\"plotly\"], function(Plotly) { window.PLOTLYENV=window.PLOTLYENV || {};window.PLOTLYENV.BASE_URL=\"https://plot.ly\";Plotly.newPlot(\"507693c3-e266-4ac7-b18b-31461959ed0e\", [{\"mode\": \"lines+markers\", \"name\": \"Skill 1\", \"x\": [0, 1, 2, 3, 4, 5, 6, 7, 8, 9, 10, 11, 12, 13, 14, 15, 16, 17, 18, 19, 20, 21, 22, 23, 24, 25, 26, 27, 28, 29, 30], \"y\": [16.0, 16.0, 17.0, 17.0, 17.0, 18.0, 18.0, 18.0, 19.0, 19.0, 19.0, 19.0, 19.0, 20.0, 20.0, 20.0, 20.0, 21.0, 21.0, 21.0, 21.0, 21.0, 21.0, 21.0, 22.0, 22.0, 22.0, 22.0, 22.0, 22.0, 22.0], \"type\": \"scatter\", \"uid\": \"e5e58c54-2bf8-4586-baf9-69019dc6f5ae\"}, {\"mode\": \"lines+markers\", \"name\": \"Skill 2\", \"x\": [0, 1, 2, 3, 4, 5, 6, 7, 8, 9, 10, 11, 12, 13, 14, 15, 16, 17, 18, 19, 20, 21, 22, 23, 24, 25, 26, 27, 28, 29, 30], \"y\": [14.0, 14.0, 14.0, 13.0, 13.0, 13.0, 13.0, 12.0, 12.0, 12.0, 12.0, 11.0, 11.0, 11.0, 10.0, 10.0, 10.0, 9.0, 9.0, 9.0, 9.0, 8.0, 8.0, 7.0, 7.0, 7.0, 6.0, 6.0, 6.0, 5.0, 5.0], \"type\": \"scatter\", \"uid\": \"80456cbd-e59c-4d5a-9172-4d2aea723e85\"}], {\"xaxis\": {\"title\": \"Cycles\", \"titlefont\": {\"color\": \"darkgrey\", \"family\": \"Arial, sans-serif\", \"size\": 18}}, \"yaxis\": {\"title\": \"Expertise\", \"titlefont\": {\"color\": \"darkgrey\", \"family\": \"Arial, sans-serif\", \"size\": 18}}}, {\"showLink\": true, \"linkText\": \"Export to plot.ly\", \"plotlyServerURL\": \"https://plot.ly\"})});</script><script type=\"text/javascript\">window.addEventListener(\"resize\", function(){window._Plotly.Plots.resize(document.getElementById(\"507693c3-e266-4ac7-b18b-31461959ed0e\"));});</script>"
      ],
      "text/vnd.plotly.v1+html": [
       "<div id=\"507693c3-e266-4ac7-b18b-31461959ed0e\" style=\"height: 525px; width: 100%;\" class=\"plotly-graph-div\"></div><script type=\"text/javascript\">require([\"plotly\"], function(Plotly) { window.PLOTLYENV=window.PLOTLYENV || {};window.PLOTLYENV.BASE_URL=\"https://plot.ly\";Plotly.newPlot(\"507693c3-e266-4ac7-b18b-31461959ed0e\", [{\"mode\": \"lines+markers\", \"name\": \"Skill 1\", \"x\": [0, 1, 2, 3, 4, 5, 6, 7, 8, 9, 10, 11, 12, 13, 14, 15, 16, 17, 18, 19, 20, 21, 22, 23, 24, 25, 26, 27, 28, 29, 30], \"y\": [16.0, 16.0, 17.0, 17.0, 17.0, 18.0, 18.0, 18.0, 19.0, 19.0, 19.0, 19.0, 19.0, 20.0, 20.0, 20.0, 20.0, 21.0, 21.0, 21.0, 21.0, 21.0, 21.0, 21.0, 22.0, 22.0, 22.0, 22.0, 22.0, 22.0, 22.0], \"type\": \"scatter\", \"uid\": \"e5e58c54-2bf8-4586-baf9-69019dc6f5ae\"}, {\"mode\": \"lines+markers\", \"name\": \"Skill 2\", \"x\": [0, 1, 2, 3, 4, 5, 6, 7, 8, 9, 10, 11, 12, 13, 14, 15, 16, 17, 18, 19, 20, 21, 22, 23, 24, 25, 26, 27, 28, 29, 30], \"y\": [14.0, 14.0, 14.0, 13.0, 13.0, 13.0, 13.0, 12.0, 12.0, 12.0, 12.0, 11.0, 11.0, 11.0, 10.0, 10.0, 10.0, 9.0, 9.0, 9.0, 9.0, 8.0, 8.0, 7.0, 7.0, 7.0, 6.0, 6.0, 6.0, 5.0, 5.0], \"type\": \"scatter\", \"uid\": \"80456cbd-e59c-4d5a-9172-4d2aea723e85\"}], {\"xaxis\": {\"title\": \"Cycles\", \"titlefont\": {\"color\": \"darkgrey\", \"family\": \"Arial, sans-serif\", \"size\": 18}}, \"yaxis\": {\"title\": \"Expertise\", \"titlefont\": {\"color\": \"darkgrey\", \"family\": \"Arial, sans-serif\", \"size\": 18}}}, {\"showLink\": true, \"linkText\": \"Export to plot.ly\", \"plotlyServerURL\": \"https://plot.ly\"})});</script><script type=\"text/javascript\">window.addEventListener(\"resize\", function(){window._Plotly.Plots.resize(document.getElementById(\"507693c3-e266-4ac7-b18b-31461959ed0e\"));});</script>"
      ]
     },
     "metadata": {},
     "output_type": "display_data"
    }
   ],
   "source": [
    "my_workplace.plot_skills(my_workplace.agents[0])"
   ]
  },
  {
   "cell_type": "code",
   "execution_count": 7,
   "metadata": {
    "scrolled": true
   },
   "outputs": [
    {
     "data": {
      "application/vnd.plotly.v1+json": {
       "config": {
        "linkText": "Export to plot.ly",
        "plotlyServerURL": "https://plot.ly",
        "showLink": true
       },
       "data": [
        {
         "mode": "lines+markers",
         "name": "Skill 1",
         "type": "scatter",
         "uid": "c73c6c98-c27a-49d6-9c9d-a959bbe0c854",
         "x": [
          0,
          1,
          2,
          3,
          4,
          5,
          6,
          7,
          8,
          9,
          10,
          11,
          12,
          13,
          14,
          15,
          16,
          17,
          18,
          19,
          20,
          21,
          22,
          23,
          24,
          25,
          26,
          27,
          28,
          29,
          30
         ],
         "y": [
          14,
          14,
          14,
          13,
          13,
          13,
          13,
          12,
          12,
          12,
          12,
          11,
          11,
          11,
          10,
          10,
          10,
          9,
          9,
          9,
          9,
          8,
          8,
          7,
          7,
          7,
          6,
          6,
          6,
          5,
          5
         ]
        },
        {
         "mode": "lines+markers",
         "name": "Skill 2",
         "type": "scatter",
         "uid": "375904c5-004c-4707-889d-33c3d11d715c",
         "x": [
          0,
          1,
          2,
          3,
          4,
          5,
          6,
          7,
          8,
          9,
          10,
          11,
          12,
          13,
          14,
          15,
          16,
          17,
          18,
          19,
          20,
          21,
          22,
          23,
          24,
          25,
          26,
          27,
          28,
          29,
          30
         ],
         "y": [
          16,
          16,
          17,
          17,
          17,
          18,
          18,
          18,
          19,
          19,
          19,
          19,
          19,
          20,
          20,
          20,
          20,
          21,
          21,
          21,
          21,
          21,
          21,
          21,
          22,
          22,
          22,
          22,
          22,
          22,
          22
         ]
        }
       ],
       "layout": {
        "xaxis": {
         "title": "Cycles",
         "titlefont": {
          "color": "darkgrey",
          "family": "Arial, sans-serif",
          "size": 18
         }
        },
        "yaxis": {
         "title": "Expertise",
         "titlefont": {
          "color": "darkgrey",
          "family": "Arial, sans-serif",
          "size": 18
         }
        }
       }
      },
      "text/html": [
       "<div id=\"dce57020-9ee2-4b71-a4c0-9be4908a294c\" style=\"height: 525px; width: 100%;\" class=\"plotly-graph-div\"></div><script type=\"text/javascript\">require([\"plotly\"], function(Plotly) { window.PLOTLYENV=window.PLOTLYENV || {};window.PLOTLYENV.BASE_URL=\"https://plot.ly\";Plotly.newPlot(\"dce57020-9ee2-4b71-a4c0-9be4908a294c\", [{\"mode\": \"lines+markers\", \"name\": \"Skill 1\", \"x\": [0, 1, 2, 3, 4, 5, 6, 7, 8, 9, 10, 11, 12, 13, 14, 15, 16, 17, 18, 19, 20, 21, 22, 23, 24, 25, 26, 27, 28, 29, 30], \"y\": [14.0, 14.0, 14.0, 13.0, 13.0, 13.0, 13.0, 12.0, 12.0, 12.0, 12.0, 11.0, 11.0, 11.0, 10.0, 10.0, 10.0, 9.0, 9.0, 9.0, 9.0, 8.0, 8.0, 7.0, 7.0, 7.0, 6.0, 6.0, 6.0, 5.0, 5.0], \"type\": \"scatter\", \"uid\": \"c73c6c98-c27a-49d6-9c9d-a959bbe0c854\"}, {\"mode\": \"lines+markers\", \"name\": \"Skill 2\", \"x\": [0, 1, 2, 3, 4, 5, 6, 7, 8, 9, 10, 11, 12, 13, 14, 15, 16, 17, 18, 19, 20, 21, 22, 23, 24, 25, 26, 27, 28, 29, 30], \"y\": [16.0, 16.0, 17.0, 17.0, 17.0, 18.0, 18.0, 18.0, 19.0, 19.0, 19.0, 19.0, 19.0, 20.0, 20.0, 20.0, 20.0, 21.0, 21.0, 21.0, 21.0, 21.0, 21.0, 21.0, 22.0, 22.0, 22.0, 22.0, 22.0, 22.0, 22.0], \"type\": \"scatter\", \"uid\": \"375904c5-004c-4707-889d-33c3d11d715c\"}], {\"xaxis\": {\"title\": \"Cycles\", \"titlefont\": {\"color\": \"darkgrey\", \"family\": \"Arial, sans-serif\", \"size\": 18}}, \"yaxis\": {\"title\": \"Expertise\", \"titlefont\": {\"color\": \"darkgrey\", \"family\": \"Arial, sans-serif\", \"size\": 18}}}, {\"showLink\": true, \"linkText\": \"Export to plot.ly\", \"plotlyServerURL\": \"https://plot.ly\"})});</script><script type=\"text/javascript\">window.addEventListener(\"resize\", function(){window._Plotly.Plots.resize(document.getElementById(\"dce57020-9ee2-4b71-a4c0-9be4908a294c\"));});</script>"
      ],
      "text/vnd.plotly.v1+html": [
       "<div id=\"dce57020-9ee2-4b71-a4c0-9be4908a294c\" style=\"height: 525px; width: 100%;\" class=\"plotly-graph-div\"></div><script type=\"text/javascript\">require([\"plotly\"], function(Plotly) { window.PLOTLYENV=window.PLOTLYENV || {};window.PLOTLYENV.BASE_URL=\"https://plot.ly\";Plotly.newPlot(\"dce57020-9ee2-4b71-a4c0-9be4908a294c\", [{\"mode\": \"lines+markers\", \"name\": \"Skill 1\", \"x\": [0, 1, 2, 3, 4, 5, 6, 7, 8, 9, 10, 11, 12, 13, 14, 15, 16, 17, 18, 19, 20, 21, 22, 23, 24, 25, 26, 27, 28, 29, 30], \"y\": [14.0, 14.0, 14.0, 13.0, 13.0, 13.0, 13.0, 12.0, 12.0, 12.0, 12.0, 11.0, 11.0, 11.0, 10.0, 10.0, 10.0, 9.0, 9.0, 9.0, 9.0, 8.0, 8.0, 7.0, 7.0, 7.0, 6.0, 6.0, 6.0, 5.0, 5.0], \"type\": \"scatter\", \"uid\": \"c73c6c98-c27a-49d6-9c9d-a959bbe0c854\"}, {\"mode\": \"lines+markers\", \"name\": \"Skill 2\", \"x\": [0, 1, 2, 3, 4, 5, 6, 7, 8, 9, 10, 11, 12, 13, 14, 15, 16, 17, 18, 19, 20, 21, 22, 23, 24, 25, 26, 27, 28, 29, 30], \"y\": [16.0, 16.0, 17.0, 17.0, 17.0, 18.0, 18.0, 18.0, 19.0, 19.0, 19.0, 19.0, 19.0, 20.0, 20.0, 20.0, 20.0, 21.0, 21.0, 21.0, 21.0, 21.0, 21.0, 21.0, 22.0, 22.0, 22.0, 22.0, 22.0, 22.0, 22.0], \"type\": \"scatter\", \"uid\": \"375904c5-004c-4707-889d-33c3d11d715c\"}], {\"xaxis\": {\"title\": \"Cycles\", \"titlefont\": {\"color\": \"darkgrey\", \"family\": \"Arial, sans-serif\", \"size\": 18}}, \"yaxis\": {\"title\": \"Expertise\", \"titlefont\": {\"color\": \"darkgrey\", \"family\": \"Arial, sans-serif\", \"size\": 18}}}, {\"showLink\": true, \"linkText\": \"Export to plot.ly\", \"plotlyServerURL\": \"https://plot.ly\"})});</script><script type=\"text/javascript\">window.addEventListener(\"resize\", function(){window._Plotly.Plots.resize(document.getElementById(\"dce57020-9ee2-4b71-a4c0-9be4908a294c\"));});</script>"
      ]
     },
     "metadata": {},
     "output_type": "display_data"
    }
   ],
   "source": [
    "my_workplace.plot_skills(my_workplace.agents[1])"
   ]
  },
  {
   "cell_type": "code",
   "execution_count": 8,
   "metadata": {},
   "outputs": [
    {
     "data": {
      "application/vnd.plotly.v1+json": {
       "config": {
        "linkText": "Export to plot.ly",
        "plotlyServerURL": "https://plot.ly",
        "showLink": true
       },
       "data": [
        {
         "mode": "lines+markers",
         "name": "System",
         "type": "scatter",
         "uid": "285c727c-ce69-4e43-9585-b57d6217bd55",
         "x": [
          0,
          1,
          2,
          3,
          4,
          5,
          6,
          7,
          8,
          9,
          10,
          11,
          12,
          13,
          14,
          15,
          16,
          17,
          18,
          19,
          20,
          21,
          22,
          23,
          24,
          25,
          26,
          27,
          28,
          29
         ],
         "y": [
          118,
          99,
          85,
          73,
          65,
          59,
          53,
          49,
          44,
          40,
          38,
          34,
          32,
          30,
          28,
          26,
          14,
          14,
          14,
          14,
          14,
          13,
          13,
          13,
          13,
          13,
          13,
          13,
          13,
          13
         ]
        },
        {
         "mode": "lines+markers",
         "name": "Coordination Time",
         "type": "scatter",
         "uid": "9437422c-27e0-4a4d-acd2-ca006200aea3",
         "x": [
          0,
          1,
          2,
          3,
          4,
          5,
          6,
          7,
          8,
          9,
          10,
          11,
          12,
          13,
          14,
          15,
          16,
          17,
          18,
          19,
          20,
          21,
          22,
          23,
          24,
          25,
          26,
          27,
          28,
          29
         ],
         "y": [
          102,
          84,
          70,
          58,
          50,
          44,
          38,
          34,
          30,
          26,
          24,
          20,
          18,
          16,
          14,
          12,
          0,
          0,
          0,
          0,
          0,
          0,
          0,
          0,
          0,
          0,
          0,
          0,
          0,
          0
         ]
        },
        {
         "mode": "lines+markers",
         "name": "Agent 1",
         "type": "scatter",
         "uid": "2ac51445-9015-4afd-b7af-d04cdf44e9b2",
         "x": [
          0,
          1,
          2,
          3,
          4,
          5,
          6,
          7,
          8,
          9,
          10,
          11,
          12,
          13,
          14,
          15,
          16,
          17,
          18,
          19,
          20,
          21,
          22,
          23,
          24,
          25,
          26,
          27,
          28,
          29
         ],
         "y": [
          16,
          15,
          15,
          15,
          15,
          15,
          15,
          15,
          14,
          14,
          14,
          14,
          14,
          14,
          14,
          14,
          14,
          14,
          14,
          14,
          14,
          13,
          13,
          13,
          13,
          13,
          13,
          13,
          13,
          13
         ]
        },
        {
         "mode": "lines+markers",
         "name": "Agent 2",
         "type": "scatter",
         "uid": "9fe215c7-2289-468f-8186-c5fefe28606b",
         "x": [
          0,
          1,
          2,
          3,
          4,
          5,
          6,
          7,
          8,
          9,
          10,
          11,
          12,
          13,
          14,
          15,
          16,
          17,
          18,
          19,
          20,
          21,
          22,
          23,
          24,
          25,
          26,
          27,
          28,
          29
         ],
         "y": [
          16,
          15,
          15,
          15,
          15,
          15,
          15,
          15,
          14,
          14,
          14,
          14,
          14,
          14,
          14,
          14,
          14,
          14,
          14,
          14,
          14,
          13,
          13,
          13,
          13,
          13,
          13,
          13,
          13,
          13
         ]
        }
       ],
       "layout": {
        "xaxis": {
         "title": "Cycles",
         "titlefont": {
          "color": "darkgrey",
          "family": "Arial, sans-serif",
          "size": 18
         }
        },
        "yaxis": {
         "title": "Expertise",
         "titlefont": {
          "color": "darkgrey",
          "family": "Arial, sans-serif",
          "size": 18
         }
        }
       }
      },
      "text/html": [
       "<div id=\"c24d0fd8-88df-41b7-9c47-5c61c6549ecf\" style=\"height: 525px; width: 100%;\" class=\"plotly-graph-div\"></div><script type=\"text/javascript\">require([\"plotly\"], function(Plotly) { window.PLOTLYENV=window.PLOTLYENV || {};window.PLOTLYENV.BASE_URL=\"https://plot.ly\";Plotly.newPlot(\"c24d0fd8-88df-41b7-9c47-5c61c6549ecf\", [{\"mode\": \"lines+markers\", \"name\": \"System\", \"x\": [0, 1, 2, 3, 4, 5, 6, 7, 8, 9, 10, 11, 12, 13, 14, 15, 16, 17, 18, 19, 20, 21, 22, 23, 24, 25, 26, 27, 28, 29], \"y\": [118.0, 99.0, 85.0, 73.0, 65.0, 59.0, 53.0, 49.0, 44.0, 40.0, 38.0, 34.0, 32.0, 30.0, 28.0, 26.0, 14.0, 14.0, 14.0, 14.0, 14.0, 13.0, 13.0, 13.0, 13.0, 13.0, 13.0, 13.0, 13.0, 13.0], \"type\": \"scatter\", \"uid\": \"285c727c-ce69-4e43-9585-b57d6217bd55\"}, {\"mode\": \"lines+markers\", \"name\": \"Coordination Time\", \"x\": [0, 1, 2, 3, 4, 5, 6, 7, 8, 9, 10, 11, 12, 13, 14, 15, 16, 17, 18, 19, 20, 21, 22, 23, 24, 25, 26, 27, 28, 29], \"y\": [102.0, 84.0, 70.0, 58.0, 50.0, 44.0, 38.0, 34.0, 30.0, 26.0, 24.0, 20.0, 18.0, 16.0, 14.0, 12.0, 0.0, 0.0, 0.0, 0.0, 0.0, 0.0, 0.0, 0.0, 0.0, 0.0, 0.0, 0.0, 0.0, 0.0], \"type\": \"scatter\", \"uid\": \"9437422c-27e0-4a4d-acd2-ca006200aea3\"}, {\"mode\": \"lines+markers\", \"name\": \"Agent 1\", \"x\": [0, 1, 2, 3, 4, 5, 6, 7, 8, 9, 10, 11, 12, 13, 14, 15, 16, 17, 18, 19, 20, 21, 22, 23, 24, 25, 26, 27, 28, 29], \"y\": [16.0, 15.0, 15.0, 15.0, 15.0, 15.0, 15.0, 15.0, 14.0, 14.0, 14.0, 14.0, 14.0, 14.0, 14.0, 14.0, 14.0, 14.0, 14.0, 14.0, 14.0, 13.0, 13.0, 13.0, 13.0, 13.0, 13.0, 13.0, 13.0, 13.0], \"type\": \"scatter\", \"uid\": \"2ac51445-9015-4afd-b7af-d04cdf44e9b2\"}, {\"mode\": \"lines+markers\", \"name\": \"Agent 2\", \"x\": [0, 1, 2, 3, 4, 5, 6, 7, 8, 9, 10, 11, 12, 13, 14, 15, 16, 17, 18, 19, 20, 21, 22, 23, 24, 25, 26, 27, 28, 29], \"y\": [16.0, 15.0, 15.0, 15.0, 15.0, 15.0, 15.0, 15.0, 14.0, 14.0, 14.0, 14.0, 14.0, 14.0, 14.0, 14.0, 14.0, 14.0, 14.0, 14.0, 14.0, 13.0, 13.0, 13.0, 13.0, 13.0, 13.0, 13.0, 13.0, 13.0], \"type\": \"scatter\", \"uid\": \"9fe215c7-2289-468f-8186-c5fefe28606b\"}], {\"xaxis\": {\"title\": \"Cycles\", \"titlefont\": {\"color\": \"darkgrey\", \"family\": \"Arial, sans-serif\", \"size\": 18}}, \"yaxis\": {\"title\": \"Expertise\", \"titlefont\": {\"color\": \"darkgrey\", \"family\": \"Arial, sans-serif\", \"size\": 18}}}, {\"showLink\": true, \"linkText\": \"Export to plot.ly\", \"plotlyServerURL\": \"https://plot.ly\"})});</script><script type=\"text/javascript\">window.addEventListener(\"resize\", function(){window._Plotly.Plots.resize(document.getElementById(\"c24d0fd8-88df-41b7-9c47-5c61c6549ecf\"));});</script>"
      ],
      "text/vnd.plotly.v1+html": [
       "<div id=\"c24d0fd8-88df-41b7-9c47-5c61c6549ecf\" style=\"height: 525px; width: 100%;\" class=\"plotly-graph-div\"></div><script type=\"text/javascript\">require([\"plotly\"], function(Plotly) { window.PLOTLYENV=window.PLOTLYENV || {};window.PLOTLYENV.BASE_URL=\"https://plot.ly\";Plotly.newPlot(\"c24d0fd8-88df-41b7-9c47-5c61c6549ecf\", [{\"mode\": \"lines+markers\", \"name\": \"System\", \"x\": [0, 1, 2, 3, 4, 5, 6, 7, 8, 9, 10, 11, 12, 13, 14, 15, 16, 17, 18, 19, 20, 21, 22, 23, 24, 25, 26, 27, 28, 29], \"y\": [118.0, 99.0, 85.0, 73.0, 65.0, 59.0, 53.0, 49.0, 44.0, 40.0, 38.0, 34.0, 32.0, 30.0, 28.0, 26.0, 14.0, 14.0, 14.0, 14.0, 14.0, 13.0, 13.0, 13.0, 13.0, 13.0, 13.0, 13.0, 13.0, 13.0], \"type\": \"scatter\", \"uid\": \"285c727c-ce69-4e43-9585-b57d6217bd55\"}, {\"mode\": \"lines+markers\", \"name\": \"Coordination Time\", \"x\": [0, 1, 2, 3, 4, 5, 6, 7, 8, 9, 10, 11, 12, 13, 14, 15, 16, 17, 18, 19, 20, 21, 22, 23, 24, 25, 26, 27, 28, 29], \"y\": [102.0, 84.0, 70.0, 58.0, 50.0, 44.0, 38.0, 34.0, 30.0, 26.0, 24.0, 20.0, 18.0, 16.0, 14.0, 12.0, 0.0, 0.0, 0.0, 0.0, 0.0, 0.0, 0.0, 0.0, 0.0, 0.0, 0.0, 0.0, 0.0, 0.0], \"type\": \"scatter\", \"uid\": \"9437422c-27e0-4a4d-acd2-ca006200aea3\"}, {\"mode\": \"lines+markers\", \"name\": \"Agent 1\", \"x\": [0, 1, 2, 3, 4, 5, 6, 7, 8, 9, 10, 11, 12, 13, 14, 15, 16, 17, 18, 19, 20, 21, 22, 23, 24, 25, 26, 27, 28, 29], \"y\": [16.0, 15.0, 15.0, 15.0, 15.0, 15.0, 15.0, 15.0, 14.0, 14.0, 14.0, 14.0, 14.0, 14.0, 14.0, 14.0, 14.0, 14.0, 14.0, 14.0, 14.0, 13.0, 13.0, 13.0, 13.0, 13.0, 13.0, 13.0, 13.0, 13.0], \"type\": \"scatter\", \"uid\": \"2ac51445-9015-4afd-b7af-d04cdf44e9b2\"}, {\"mode\": \"lines+markers\", \"name\": \"Agent 2\", \"x\": [0, 1, 2, 3, 4, 5, 6, 7, 8, 9, 10, 11, 12, 13, 14, 15, 16, 17, 18, 19, 20, 21, 22, 23, 24, 25, 26, 27, 28, 29], \"y\": [16.0, 15.0, 15.0, 15.0, 15.0, 15.0, 15.0, 15.0, 14.0, 14.0, 14.0, 14.0, 14.0, 14.0, 14.0, 14.0, 14.0, 14.0, 14.0, 14.0, 14.0, 13.0, 13.0, 13.0, 13.0, 13.0, 13.0, 13.0, 13.0, 13.0], \"type\": \"scatter\", \"uid\": \"9fe215c7-2289-468f-8186-c5fefe28606b\"}], {\"xaxis\": {\"title\": \"Cycles\", \"titlefont\": {\"color\": \"darkgrey\", \"family\": \"Arial, sans-serif\", \"size\": 18}}, \"yaxis\": {\"title\": \"Expertise\", \"titlefont\": {\"color\": \"darkgrey\", \"family\": \"Arial, sans-serif\", \"size\": 18}}}, {\"showLink\": true, \"linkText\": \"Export to plot.ly\", \"plotlyServerURL\": \"https://plot.ly\"})});</script><script type=\"text/javascript\">window.addEventListener(\"resize\", function(){window._Plotly.Plots.resize(document.getElementById(\"c24d0fd8-88df-41b7-9c47-5c61c6549ecf\"));});</script>"
      ]
     },
     "metadata": {},
     "output_type": "display_data"
    }
   ],
   "source": [
    "my_workplace.plot_performance()"
   ]
  },
  {
   "cell_type": "code",
   "execution_count": 9,
   "metadata": {
    "scrolled": true
   },
   "outputs": [
    {
     "data": {
      "application/vnd.plotly.v1+json": {
       "config": {
        "linkText": "Export to plot.ly",
        "plotlyServerURL": "https://plot.ly",
        "showLink": true
       },
       "data": [
        {
         "mode": "lines+markers",
         "name": "Agent 1",
         "type": "scatter",
         "uid": "d4aca70c-6676-42dc-80ea-77f377837a23",
         "x": [
          0,
          1,
          2,
          3,
          4,
          5,
          6,
          7,
          8,
          9,
          10,
          11,
          12,
          13,
          14,
          15,
          16,
          17,
          18,
          19,
          20,
          21,
          22,
          23,
          24,
          25,
          26,
          27,
          28,
          29,
          30,
          31,
          32,
          33,
          34,
          35,
          36,
          37,
          38,
          39,
          40,
          41,
          42,
          43,
          44,
          45,
          46,
          47,
          48,
          49,
          50,
          51,
          52,
          53,
          54,
          55,
          56,
          57,
          58,
          59,
          60
         ],
         "y": [
          10,
          10.825530229353886,
          11.485954412836994,
          11.38734034751376,
          11.308449095255174,
          10.79671479859932,
          10.387327361274636,
          9.703579801259465,
          9.15658175324733,
          8.49562371077462,
          7.9668572767964525,
          7.3834632543670455,
          6.91674803642352,
          6.38889247184266,
          5.966608020177972,
          5.528962713936755,
          5.178846468943781,
          4.801396863153269,
          4.499437178520861,
          4.162908192891306,
          3.8936850043876623,
          3.6317035022272526,
          3.4221183004989246,
          3.1629584967489848,
          2.955630653749033,
          2.7448633526891446,
          2.576249511841234,
          2.397003126152825,
          2.253606017602097,
          2.095074687317251,
          1.968249623089374,
          1.8235096165571734,
          1.7077176113314128,
          1.3661740890651304,
          1.0929392712521044,
          0.8743514170016836,
          0.6994811336013469,
          0.5595849068810775,
          0.44766792550486206,
          0.3581343404038897,
          0.28650747232311174,
          0.2292059778584894,
          0.18336478228679154,
          0.14669182582943324,
          0.1173534606635466,
          0.09388276853083728,
          0.07510621482466984,
          0.060084971859735874,
          0.0480679774877887,
          0.03845438199023096,
          0.03076350559218477,
          0.02461080447374782,
          0.019688643578998258,
          0.015750914863198608,
          0.012600731890558887,
          0.01008058551244711,
          0.00806446840995769,
          0.006451574727966152,
          0.005161259782372921,
          0.004129007825898337,
          0.00330320626071867
         ]
        },
        {
         "mode": "lines+markers",
         "name": "Agent 2",
         "type": "scatter",
         "uid": "28b064a5-be55-41d7-8372-7523fcf97b76",
         "x": [
          0,
          1,
          2,
          3,
          4,
          5,
          6,
          7,
          8,
          9,
          10,
          11,
          12,
          13,
          14,
          15,
          16,
          17,
          18,
          19,
          20,
          21,
          22,
          23,
          24,
          25,
          26,
          27,
          28,
          29,
          30,
          31,
          32,
          33,
          34,
          35,
          36,
          37,
          38,
          39,
          40,
          41,
          42,
          43,
          44,
          45,
          46,
          47,
          48,
          49,
          50,
          51,
          52,
          53,
          54,
          55,
          56,
          57,
          58,
          59,
          60
         ],
         "y": [
          15,
          14.825530229353886,
          14.685954412836995,
          13.947340347513762,
          13.356449095255176,
          12.43511479859932,
          11.698047361274636,
          10.752155801259466,
          9.99544255324733,
          9.16671235077462,
          8.503728188796453,
          7.812959983967046,
          7.260345420103521,
          6.66377037878666,
          6.186510345733172,
          5.704884574380915,
          5.319583957299109,
          4.913986853837532,
          4.58950917106827,
          4.234965786929234,
          3.9513310796180043,
          3.677820362411526,
          3.459011788646343,
          3.1924732872669197,
          2.979242486163381,
          2.763752818620623,
          2.591361084586417,
          2.409092384348971,
          2.263277424159014,
          2.1028118125627846,
          1.974439323285801,
          1.828461376714315,
          1.711679019457126,
          1.369343215565701,
          1.095474572452561,
          0.8763796579620489,
          0.7011037263696391,
          0.5608829810957113,
          0.4487063848765691,
          0.3589651079012553,
          0.28717208632100427,
          0.22973766905680343,
          0.18379013524544274,
          0.1470321081963542,
          0.11762568655708337,
          0.0941005492456667,
          0.07528043939653337,
          0.060224351517226694,
          0.04817948121378136,
          0.038543584971025086,
          0.03083486797682007,
          0.024667894381456057,
          0.019734315505164846,
          0.015787452404131878,
          0.012629961923305504,
          0.010103969538644404,
          0.008083175630915524,
          0.00646654050473242,
          0.005173232403785936,
          0.004138585923028749,
          0.0033108687384229996
         ]
        }
       ],
       "layout": {
        "xaxis": {
         "title": "Cycles",
         "titlefont": {
          "color": "darkgrey",
          "family": "Arial, sans-serif",
          "size": 18
         }
        },
        "yaxis": {
         "title": "Frustration",
         "titlefont": {
          "color": "darkgrey",
          "family": "Arial, sans-serif",
          "size": 18
         }
        }
       }
      },
      "text/html": [
       "<div id=\"eff63bdb-036d-4421-8f46-579ade4266fd\" style=\"height: 525px; width: 100%;\" class=\"plotly-graph-div\"></div><script type=\"text/javascript\">require([\"plotly\"], function(Plotly) { window.PLOTLYENV=window.PLOTLYENV || {};window.PLOTLYENV.BASE_URL=\"https://plot.ly\";Plotly.newPlot(\"eff63bdb-036d-4421-8f46-579ade4266fd\", [{\"mode\": \"lines+markers\", \"name\": \"Agent 1\", \"x\": [0, 1, 2, 3, 4, 5, 6, 7, 8, 9, 10, 11, 12, 13, 14, 15, 16, 17, 18, 19, 20, 21, 22, 23, 24, 25, 26, 27, 28, 29, 30, 31, 32, 33, 34, 35, 36, 37, 38, 39, 40, 41, 42, 43, 44, 45, 46, 47, 48, 49, 50, 51, 52, 53, 54, 55, 56, 57, 58, 59, 60], \"y\": [10.0, 10.825530229353886, 11.485954412836994, 11.38734034751376, 11.308449095255174, 10.79671479859932, 10.387327361274636, 9.703579801259465, 9.15658175324733, 8.49562371077462, 7.9668572767964525, 7.3834632543670455, 6.91674803642352, 6.38889247184266, 5.966608020177972, 5.528962713936755, 5.178846468943781, 4.801396863153269, 4.499437178520861, 4.162908192891306, 3.8936850043876623, 3.6317035022272526, 3.4221183004989246, 3.1629584967489848, 2.955630653749033, 2.7448633526891446, 2.576249511841234, 2.397003126152825, 2.253606017602097, 2.095074687317251, 1.968249623089374, 1.8235096165571734, 1.7077176113314128, 1.3661740890651304, 1.0929392712521044, 0.8743514170016836, 0.6994811336013469, 0.5595849068810775, 0.44766792550486206, 0.3581343404038897, 0.28650747232311174, 0.2292059778584894, 0.18336478228679154, 0.14669182582943324, 0.1173534606635466, 0.09388276853083728, 0.07510621482466984, 0.060084971859735874, 0.0480679774877887, 0.03845438199023096, 0.03076350559218477, 0.02461080447374782, 0.019688643578998258, 0.015750914863198608, 0.012600731890558887, 0.01008058551244711, 0.00806446840995769, 0.006451574727966152, 0.005161259782372921, 0.004129007825898337, 0.00330320626071867], \"type\": \"scatter\", \"uid\": \"d4aca70c-6676-42dc-80ea-77f377837a23\"}, {\"mode\": \"lines+markers\", \"name\": \"Agent 2\", \"x\": [0, 1, 2, 3, 4, 5, 6, 7, 8, 9, 10, 11, 12, 13, 14, 15, 16, 17, 18, 19, 20, 21, 22, 23, 24, 25, 26, 27, 28, 29, 30, 31, 32, 33, 34, 35, 36, 37, 38, 39, 40, 41, 42, 43, 44, 45, 46, 47, 48, 49, 50, 51, 52, 53, 54, 55, 56, 57, 58, 59, 60], \"y\": [15.0, 14.825530229353886, 14.685954412836995, 13.947340347513762, 13.356449095255176, 12.43511479859932, 11.698047361274636, 10.752155801259466, 9.99544255324733, 9.16671235077462, 8.503728188796453, 7.812959983967046, 7.260345420103521, 6.66377037878666, 6.186510345733172, 5.704884574380915, 5.319583957299109, 4.913986853837532, 4.58950917106827, 4.234965786929234, 3.9513310796180043, 3.677820362411526, 3.459011788646343, 3.1924732872669197, 2.979242486163381, 2.763752818620623, 2.591361084586417, 2.409092384348971, 2.263277424159014, 2.1028118125627846, 1.974439323285801, 1.828461376714315, 1.711679019457126, 1.369343215565701, 1.095474572452561, 0.8763796579620489, 0.7011037263696391, 0.5608829810957113, 0.4487063848765691, 0.3589651079012553, 0.28717208632100427, 0.22973766905680343, 0.18379013524544274, 0.1470321081963542, 0.11762568655708337, 0.0941005492456667, 0.07528043939653337, 0.060224351517226694, 0.04817948121378136, 0.038543584971025086, 0.03083486797682007, 0.024667894381456057, 0.019734315505164846, 0.015787452404131878, 0.012629961923305504, 0.010103969538644404, 0.008083175630915524, 0.00646654050473242, 0.005173232403785936, 0.004138585923028749, 0.0033108687384229996], \"type\": \"scatter\", \"uid\": \"28b064a5-be55-41d7-8372-7523fcf97b76\"}], {\"xaxis\": {\"title\": \"Cycles\", \"titlefont\": {\"color\": \"darkgrey\", \"family\": \"Arial, sans-serif\", \"size\": 18}}, \"yaxis\": {\"title\": \"Frustration\", \"titlefont\": {\"color\": \"darkgrey\", \"family\": \"Arial, sans-serif\", \"size\": 18}}}, {\"showLink\": true, \"linkText\": \"Export to plot.ly\", \"plotlyServerURL\": \"https://plot.ly\"})});</script><script type=\"text/javascript\">window.addEventListener(\"resize\", function(){window._Plotly.Plots.resize(document.getElementById(\"eff63bdb-036d-4421-8f46-579ade4266fd\"));});</script>"
      ],
      "text/vnd.plotly.v1+html": [
       "<div id=\"eff63bdb-036d-4421-8f46-579ade4266fd\" style=\"height: 525px; width: 100%;\" class=\"plotly-graph-div\"></div><script type=\"text/javascript\">require([\"plotly\"], function(Plotly) { window.PLOTLYENV=window.PLOTLYENV || {};window.PLOTLYENV.BASE_URL=\"https://plot.ly\";Plotly.newPlot(\"eff63bdb-036d-4421-8f46-579ade4266fd\", [{\"mode\": \"lines+markers\", \"name\": \"Agent 1\", \"x\": [0, 1, 2, 3, 4, 5, 6, 7, 8, 9, 10, 11, 12, 13, 14, 15, 16, 17, 18, 19, 20, 21, 22, 23, 24, 25, 26, 27, 28, 29, 30, 31, 32, 33, 34, 35, 36, 37, 38, 39, 40, 41, 42, 43, 44, 45, 46, 47, 48, 49, 50, 51, 52, 53, 54, 55, 56, 57, 58, 59, 60], \"y\": [10.0, 10.825530229353886, 11.485954412836994, 11.38734034751376, 11.308449095255174, 10.79671479859932, 10.387327361274636, 9.703579801259465, 9.15658175324733, 8.49562371077462, 7.9668572767964525, 7.3834632543670455, 6.91674803642352, 6.38889247184266, 5.966608020177972, 5.528962713936755, 5.178846468943781, 4.801396863153269, 4.499437178520861, 4.162908192891306, 3.8936850043876623, 3.6317035022272526, 3.4221183004989246, 3.1629584967489848, 2.955630653749033, 2.7448633526891446, 2.576249511841234, 2.397003126152825, 2.253606017602097, 2.095074687317251, 1.968249623089374, 1.8235096165571734, 1.7077176113314128, 1.3661740890651304, 1.0929392712521044, 0.8743514170016836, 0.6994811336013469, 0.5595849068810775, 0.44766792550486206, 0.3581343404038897, 0.28650747232311174, 0.2292059778584894, 0.18336478228679154, 0.14669182582943324, 0.1173534606635466, 0.09388276853083728, 0.07510621482466984, 0.060084971859735874, 0.0480679774877887, 0.03845438199023096, 0.03076350559218477, 0.02461080447374782, 0.019688643578998258, 0.015750914863198608, 0.012600731890558887, 0.01008058551244711, 0.00806446840995769, 0.006451574727966152, 0.005161259782372921, 0.004129007825898337, 0.00330320626071867], \"type\": \"scatter\", \"uid\": \"d4aca70c-6676-42dc-80ea-77f377837a23\"}, {\"mode\": \"lines+markers\", \"name\": \"Agent 2\", \"x\": [0, 1, 2, 3, 4, 5, 6, 7, 8, 9, 10, 11, 12, 13, 14, 15, 16, 17, 18, 19, 20, 21, 22, 23, 24, 25, 26, 27, 28, 29, 30, 31, 32, 33, 34, 35, 36, 37, 38, 39, 40, 41, 42, 43, 44, 45, 46, 47, 48, 49, 50, 51, 52, 53, 54, 55, 56, 57, 58, 59, 60], \"y\": [15.0, 14.825530229353886, 14.685954412836995, 13.947340347513762, 13.356449095255176, 12.43511479859932, 11.698047361274636, 10.752155801259466, 9.99544255324733, 9.16671235077462, 8.503728188796453, 7.812959983967046, 7.260345420103521, 6.66377037878666, 6.186510345733172, 5.704884574380915, 5.319583957299109, 4.913986853837532, 4.58950917106827, 4.234965786929234, 3.9513310796180043, 3.677820362411526, 3.459011788646343, 3.1924732872669197, 2.979242486163381, 2.763752818620623, 2.591361084586417, 2.409092384348971, 2.263277424159014, 2.1028118125627846, 1.974439323285801, 1.828461376714315, 1.711679019457126, 1.369343215565701, 1.095474572452561, 0.8763796579620489, 0.7011037263696391, 0.5608829810957113, 0.4487063848765691, 0.3589651079012553, 0.28717208632100427, 0.22973766905680343, 0.18379013524544274, 0.1470321081963542, 0.11762568655708337, 0.0941005492456667, 0.07528043939653337, 0.060224351517226694, 0.04817948121378136, 0.038543584971025086, 0.03083486797682007, 0.024667894381456057, 0.019734315505164846, 0.015787452404131878, 0.012629961923305504, 0.010103969538644404, 0.008083175630915524, 0.00646654050473242, 0.005173232403785936, 0.004138585923028749, 0.0033108687384229996], \"type\": \"scatter\", \"uid\": \"28b064a5-be55-41d7-8372-7523fcf97b76\"}], {\"xaxis\": {\"title\": \"Cycles\", \"titlefont\": {\"color\": \"darkgrey\", \"family\": \"Arial, sans-serif\", \"size\": 18}}, \"yaxis\": {\"title\": \"Frustration\", \"titlefont\": {\"color\": \"darkgrey\", \"family\": \"Arial, sans-serif\", \"size\": 18}}}, {\"showLink\": true, \"linkText\": \"Export to plot.ly\", \"plotlyServerURL\": \"https://plot.ly\"})});</script><script type=\"text/javascript\">window.addEventListener(\"resize\", function(){window._Plotly.Plots.resize(document.getElementById(\"eff63bdb-036d-4421-8f46-579ade4266fd\"));});</script>"
      ]
     },
     "metadata": {},
     "output_type": "display_data"
    }
   ],
   "source": [
    "my_workplace.plot_frustration()"
   ]
  },
  {
   "cell_type": "code",
   "execution_count": 10,
   "metadata": {},
   "outputs": [
    {
     "data": {
      "application/vnd.plotly.v1+json": {
       "config": {
        "linkText": "Export to plot.ly",
        "plotlyServerURL": "https://plot.ly",
        "showLink": true
       },
       "data": [
        {
         "mode": "lines+markers",
         "name": "Agent 1",
         "type": "scatter",
         "uid": "7be69799-e5ee-45b6-bcf1-41ee643e7727",
         "x": [
          0,
          1,
          2,
          3,
          4,
          5,
          6,
          7,
          8,
          9,
          10,
          11,
          12,
          13,
          14,
          15,
          16,
          17,
          18,
          19,
          20,
          21,
          22,
          23,
          24,
          25,
          26,
          27,
          28,
          29,
          30,
          31,
          32,
          33,
          34,
          35,
          36,
          37,
          38,
          39,
          40,
          41,
          42,
          43,
          44,
          45,
          46,
          47,
          48,
          49,
          50,
          51,
          52,
          53,
          54,
          55,
          56,
          57,
          58,
          59
         ],
         "y": [
          51,
          51,
          42,
          42,
          35,
          35,
          29,
          29,
          25,
          25,
          22,
          22,
          19,
          19,
          17,
          17,
          15,
          15,
          13,
          13,
          12,
          12,
          10,
          10,
          9,
          9,
          8,
          8,
          7,
          7,
          6,
          6,
          0,
          0,
          0,
          0,
          0,
          0,
          0,
          0,
          0,
          0,
          0,
          0,
          0,
          0,
          0,
          0,
          0,
          0,
          0,
          0,
          0,
          0,
          0,
          0,
          0,
          0,
          0,
          0
         ]
        },
        {
         "mode": "lines+markers",
         "name": "Agent 2",
         "type": "scatter",
         "uid": "fe7bfbee-451a-47c4-a628-7669c7fa3df7",
         "x": [
          0,
          1,
          2,
          3,
          4,
          5,
          6,
          7,
          8,
          9,
          10,
          11,
          12,
          13,
          14,
          15,
          16,
          17,
          18,
          19,
          20,
          21,
          22,
          23,
          24,
          25,
          26,
          27,
          28,
          29,
          30,
          31,
          32,
          33,
          34,
          35,
          36,
          37,
          38,
          39,
          40,
          41,
          42,
          43,
          44,
          45,
          46,
          47,
          48,
          49,
          50,
          51,
          52,
          53,
          54,
          55,
          56,
          57,
          58,
          59
         ],
         "y": [
          51,
          51,
          42,
          42,
          35,
          35,
          29,
          29,
          25,
          25,
          22,
          22,
          19,
          19,
          17,
          17,
          15,
          15,
          13,
          13,
          12,
          12,
          10,
          10,
          9,
          9,
          8,
          8,
          7,
          7,
          6,
          6,
          0,
          0,
          0,
          0,
          0,
          0,
          0,
          0,
          0,
          0,
          0,
          0,
          0,
          0,
          0,
          0,
          0,
          0,
          0,
          0,
          0,
          0,
          0,
          0,
          0,
          0,
          0,
          0
         ]
        }
       ],
       "layout": {
        "xaxis": {
         "title": "Cycles",
         "titlefont": {
          "color": "darkgrey",
          "family": "Arial, sans-serif",
          "size": 18
         }
        },
        "yaxis": {
         "title": "Allocation time",
         "titlefont": {
          "color": "darkgrey",
          "family": "Arial, sans-serif",
          "size": 18
         }
        }
       }
      },
      "text/html": [
       "<div id=\"78696279-4c02-43fa-b324-a9bbd793d28d\" style=\"height: 525px; width: 100%;\" class=\"plotly-graph-div\"></div><script type=\"text/javascript\">require([\"plotly\"], function(Plotly) { window.PLOTLYENV=window.PLOTLYENV || {};window.PLOTLYENV.BASE_URL=\"https://plot.ly\";Plotly.newPlot(\"78696279-4c02-43fa-b324-a9bbd793d28d\", [{\"mode\": \"lines+markers\", \"name\": \"Agent 1\", \"x\": [0, 1, 2, 3, 4, 5, 6, 7, 8, 9, 10, 11, 12, 13, 14, 15, 16, 17, 18, 19, 20, 21, 22, 23, 24, 25, 26, 27, 28, 29, 30, 31, 32, 33, 34, 35, 36, 37, 38, 39, 40, 41, 42, 43, 44, 45, 46, 47, 48, 49, 50, 51, 52, 53, 54, 55, 56, 57, 58, 59], \"y\": [51.0, 51.0, 42.0, 42.0, 35.0, 35.0, 29.0, 29.0, 25.0, 25.0, 22.0, 22.0, 19.0, 19.0, 17.0, 17.0, 15.0, 15.0, 13.0, 13.0, 12.0, 12.0, 10.0, 10.0, 9.0, 9.0, 8.0, 8.0, 7.0, 7.0, 6.0, 6.0, 0.0, 0.0, 0.0, 0.0, 0.0, 0.0, 0.0, 0.0, 0.0, 0.0, 0.0, 0.0, 0.0, 0.0, 0.0, 0.0, 0.0, 0.0, 0.0, 0.0, 0.0, 0.0, 0.0, 0.0, 0.0, 0.0, 0.0, 0.0], \"type\": \"scatter\", \"uid\": \"7be69799-e5ee-45b6-bcf1-41ee643e7727\"}, {\"mode\": \"lines+markers\", \"name\": \"Agent 2\", \"x\": [0, 1, 2, 3, 4, 5, 6, 7, 8, 9, 10, 11, 12, 13, 14, 15, 16, 17, 18, 19, 20, 21, 22, 23, 24, 25, 26, 27, 28, 29, 30, 31, 32, 33, 34, 35, 36, 37, 38, 39, 40, 41, 42, 43, 44, 45, 46, 47, 48, 49, 50, 51, 52, 53, 54, 55, 56, 57, 58, 59], \"y\": [51.0, 51.0, 42.0, 42.0, 35.0, 35.0, 29.0, 29.0, 25.0, 25.0, 22.0, 22.0, 19.0, 19.0, 17.0, 17.0, 15.0, 15.0, 13.0, 13.0, 12.0, 12.0, 10.0, 10.0, 9.0, 9.0, 8.0, 8.0, 7.0, 7.0, 6.0, 6.0, 0.0, 0.0, 0.0, 0.0, 0.0, 0.0, 0.0, 0.0, 0.0, 0.0, 0.0, 0.0, 0.0, 0.0, 0.0, 0.0, 0.0, 0.0, 0.0, 0.0, 0.0, 0.0, 0.0, 0.0, 0.0, 0.0, 0.0, 0.0], \"type\": \"scatter\", \"uid\": \"fe7bfbee-451a-47c4-a628-7669c7fa3df7\"}], {\"xaxis\": {\"title\": \"Cycles\", \"titlefont\": {\"color\": \"darkgrey\", \"family\": \"Arial, sans-serif\", \"size\": 18}}, \"yaxis\": {\"title\": \"Allocation time\", \"titlefont\": {\"color\": \"darkgrey\", \"family\": \"Arial, sans-serif\", \"size\": 18}}}, {\"showLink\": true, \"linkText\": \"Export to plot.ly\", \"plotlyServerURL\": \"https://plot.ly\"})});</script><script type=\"text/javascript\">window.addEventListener(\"resize\", function(){window._Plotly.Plots.resize(document.getElementById(\"78696279-4c02-43fa-b324-a9bbd793d28d\"));});</script>"
      ],
      "text/vnd.plotly.v1+html": [
       "<div id=\"78696279-4c02-43fa-b324-a9bbd793d28d\" style=\"height: 525px; width: 100%;\" class=\"plotly-graph-div\"></div><script type=\"text/javascript\">require([\"plotly\"], function(Plotly) { window.PLOTLYENV=window.PLOTLYENV || {};window.PLOTLYENV.BASE_URL=\"https://plot.ly\";Plotly.newPlot(\"78696279-4c02-43fa-b324-a9bbd793d28d\", [{\"mode\": \"lines+markers\", \"name\": \"Agent 1\", \"x\": [0, 1, 2, 3, 4, 5, 6, 7, 8, 9, 10, 11, 12, 13, 14, 15, 16, 17, 18, 19, 20, 21, 22, 23, 24, 25, 26, 27, 28, 29, 30, 31, 32, 33, 34, 35, 36, 37, 38, 39, 40, 41, 42, 43, 44, 45, 46, 47, 48, 49, 50, 51, 52, 53, 54, 55, 56, 57, 58, 59], \"y\": [51.0, 51.0, 42.0, 42.0, 35.0, 35.0, 29.0, 29.0, 25.0, 25.0, 22.0, 22.0, 19.0, 19.0, 17.0, 17.0, 15.0, 15.0, 13.0, 13.0, 12.0, 12.0, 10.0, 10.0, 9.0, 9.0, 8.0, 8.0, 7.0, 7.0, 6.0, 6.0, 0.0, 0.0, 0.0, 0.0, 0.0, 0.0, 0.0, 0.0, 0.0, 0.0, 0.0, 0.0, 0.0, 0.0, 0.0, 0.0, 0.0, 0.0, 0.0, 0.0, 0.0, 0.0, 0.0, 0.0, 0.0, 0.0, 0.0, 0.0], \"type\": \"scatter\", \"uid\": \"7be69799-e5ee-45b6-bcf1-41ee643e7727\"}, {\"mode\": \"lines+markers\", \"name\": \"Agent 2\", \"x\": [0, 1, 2, 3, 4, 5, 6, 7, 8, 9, 10, 11, 12, 13, 14, 15, 16, 17, 18, 19, 20, 21, 22, 23, 24, 25, 26, 27, 28, 29, 30, 31, 32, 33, 34, 35, 36, 37, 38, 39, 40, 41, 42, 43, 44, 45, 46, 47, 48, 49, 50, 51, 52, 53, 54, 55, 56, 57, 58, 59], \"y\": [51.0, 51.0, 42.0, 42.0, 35.0, 35.0, 29.0, 29.0, 25.0, 25.0, 22.0, 22.0, 19.0, 19.0, 17.0, 17.0, 15.0, 15.0, 13.0, 13.0, 12.0, 12.0, 10.0, 10.0, 9.0, 9.0, 8.0, 8.0, 7.0, 7.0, 6.0, 6.0, 0.0, 0.0, 0.0, 0.0, 0.0, 0.0, 0.0, 0.0, 0.0, 0.0, 0.0, 0.0, 0.0, 0.0, 0.0, 0.0, 0.0, 0.0, 0.0, 0.0, 0.0, 0.0, 0.0, 0.0, 0.0, 0.0, 0.0, 0.0], \"type\": \"scatter\", \"uid\": \"fe7bfbee-451a-47c4-a628-7669c7fa3df7\"}], {\"xaxis\": {\"title\": \"Cycles\", \"titlefont\": {\"color\": \"darkgrey\", \"family\": \"Arial, sans-serif\", \"size\": 18}}, \"yaxis\": {\"title\": \"Allocation time\", \"titlefont\": {\"color\": \"darkgrey\", \"family\": \"Arial, sans-serif\", \"size\": 18}}}, {\"showLink\": true, \"linkText\": \"Export to plot.ly\", \"plotlyServerURL\": \"https://plot.ly\"})});</script><script type=\"text/javascript\">window.addEventListener(\"resize\", function(){window._Plotly.Plots.resize(document.getElementById(\"78696279-4c02-43fa-b324-a9bbd793d28d\"));});</script>"
      ]
     },
     "metadata": {},
     "output_type": "display_data"
    }
   ],
   "source": [
    "my_workplace.plot_allocations()"
   ]
  },
  {
   "cell_type": "code",
   "execution_count": null,
   "metadata": {},
   "outputs": [],
   "source": [
    "   "
   ]
  }
 ],
 "metadata": {
  "kernelspec": {
   "display_name": "Python 3",
   "language": "python",
   "name": "python3"
  },
  "language_info": {
   "codemirror_mode": {
    "name": "ipython",
    "version": 3
   },
   "file_extension": ".py",
   "mimetype": "text/x-python",
   "name": "python",
   "nbconvert_exporter": "python",
   "pygments_lexer": "ipython3",
   "version": "3.6.7"
  }
 },
 "nbformat": 4,
 "nbformat_minor": 2
}
