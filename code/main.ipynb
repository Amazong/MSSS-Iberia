{
 "cells": [
  {
   "cell_type": "code",
   "execution_count": 1,
   "metadata": {},
   "outputs": [
    {
     "data": {
      "text/html": [
       "<script type=\"text/javascript\">window.PlotlyConfig = {MathJaxConfig: 'local'};</script><script type=\"text/javascript\">if (window.MathJax) {MathJax.Hub.Config({SVG: {font: \"STIX-Web\"}});}</script><script>requirejs.config({paths: { 'plotly': ['https://cdn.plot.ly/plotly-latest.min']},});if(!window._Plotly) {require(['plotly'],function(plotly) {window._Plotly=plotly;});}</script>"
      ],
      "text/vnd.plotly.v1+html": [
       "<script type=\"text/javascript\">window.PlotlyConfig = {MathJaxConfig: 'local'};</script><script type=\"text/javascript\">if (window.MathJax) {MathJax.Hub.Config({SVG: {font: \"STIX-Web\"}});}</script><script>requirejs.config({paths: { 'plotly': ['https://cdn.plot.ly/plotly-latest.min']},});if(!window._Plotly) {require(['plotly'],function(plotly) {window._Plotly=plotly;});}</script>"
      ]
     },
     "metadata": {},
     "output_type": "display_data"
    }
   ],
   "source": [
    "#### Import plotting library ####\n",
    "\n",
    "from plotly.offline import download_plotlyjs, init_notebook_mode, plot, iplot\n",
    "import plotly.graph_objs as go\n",
    "init_notebook_mode(connected=True)"
   ]
  },
  {
   "cell_type": "code",
   "execution_count": 2,
   "metadata": {},
   "outputs": [
    {
     "name": "stdout",
     "output_type": "stream",
     "text": [
      "✅ Successfully imported skill.py\n",
      "✅ Successfully imported workplace.py\n",
      "✅ Successfully imported task.py\n",
      "✅ Successfully imported timeline.py\n",
      "✅ Successfully imported agent.py\n"
     ]
    }
   ],
   "source": [
    "#### Import class definitions ####\n",
    "\n",
    "# List existing classes\n",
    "from os import listdir\n",
    "from os.path import isfile, join\n",
    "classes = [f for f in listdir('classes') if isfile(join('classes', f))]\n",
    "\n",
    "# Import procedure\n",
    "for _class in classes:\n",
    "    %run classes/$_class\n",
    "    print('✅ Successfully imported ' + _class)"
   ]
  },
  {
   "cell_type": "code",
   "execution_count": 3,
   "metadata": {},
   "outputs": [
    {
     "data": {
      "application/vnd.plotly.v1+json": {
       "config": {
        "linkText": "Export to plot.ly",
        "plotlyServerURL": "https://plot.ly",
        "showLink": true
       },
       "data": [
        {
         "mode": "text",
         "text": [
          "Agent -1<br><b>Task -1</b>",
          "Agent -1<br><b>Task -1</b>",
          "Agent -1<br><b>Task -1</b>",
          "Agent -1<br><b>Task -1</b>",
          "Agent -1<br><b>Task -1</b>",
          "Agent -1<br><b>Task -1</b>"
         ],
         "type": "scatter",
         "uid": "02283ae2-09a8-48fe-9fd5-e20bfa0ce763",
         "x": [
          0.5,
          2.5,
          4,
          5.5,
          5.5,
          8.5
         ],
         "y": [
          0.5,
          1.5,
          2.5,
          3.5,
          4.5,
          5.5
         ]
        }
       ],
       "layout": {
        "shapes": [
         {
          "fillcolor": "rgba(53, 208, 255, 0.7)",
          "line": {
           "color": "rgba(53, 208, 255, 1)",
           "width": 2
          },
          "type": "rect",
          "x0": 0,
          "x1": 1,
          "y0": 0,
          "y1": 1
         },
         {
          "fillcolor": "rgba(53, 208, 255, 0.7)",
          "line": {
           "color": "rgba(53, 208, 255, 1)",
           "width": 2
          },
          "type": "rect",
          "x0": 2,
          "x1": 3,
          "y0": 1,
          "y1": 2
         },
         {
          "fillcolor": "rgba(53, 208, 255, 0.7)",
          "line": {
           "color": "rgba(53, 208, 255, 1)",
           "width": 2
          },
          "type": "rect",
          "x0": 3,
          "x1": 5,
          "y0": 2,
          "y1": 3
         },
         {
          "fillcolor": "rgba(53, 208, 255, 0.7)",
          "line": {
           "color": "rgba(53, 208, 255, 1)",
           "width": 2
          },
          "type": "rect",
          "x0": 4,
          "x1": 7,
          "y0": 3,
          "y1": 4
         },
         {
          "fillcolor": "rgba(53, 208, 255, 0.7)",
          "line": {
           "color": "rgba(53, 208, 255, 1)",
           "width": 2
          },
          "type": "rect",
          "x0": 5,
          "x1": 6,
          "y0": 4,
          "y1": 5
         },
         {
          "fillcolor": "rgba(53, 208, 255, 0.7)",
          "line": {
           "color": "rgba(53, 208, 255, 1)",
           "width": 2
          },
          "type": "rect",
          "x0": 7,
          "x1": 10,
          "y0": 5,
          "y1": 6
         }
        ],
        "xaxis": {
         "autorange": true,
         "showgrid": false
        },
        "yaxis": {
         "range": [
          0,
          8
         ]
        }
       }
      },
      "text/html": [
       "<div id=\"bd16a415-e969-4808-9eb1-38c550089d46\" style=\"height: 525px; width: 100%;\" class=\"plotly-graph-div\"></div><script type=\"text/javascript\">require([\"plotly\"], function(Plotly) { window.PLOTLYENV=window.PLOTLYENV || {};window.PLOTLYENV.BASE_URL=\"https://plot.ly\";Plotly.newPlot(\"bd16a415-e969-4808-9eb1-38c550089d46\", [{\"mode\": \"text\", \"text\": [\"Agent -1<br><b>Task -1</b>\", \"Agent -1<br><b>Task -1</b>\", \"Agent -1<br><b>Task -1</b>\", \"Agent -1<br><b>Task -1</b>\", \"Agent -1<br><b>Task -1</b>\", \"Agent -1<br><b>Task -1</b>\"], \"x\": [0.5, 2.5, 4.0, 5.5, 5.5, 8.5], \"y\": [0.5, 1.5, 2.5, 3.5, 4.5, 5.5], \"type\": \"scatter\", \"uid\": \"7f7b0627-ca56-4a0a-856a-aa4573783b8f\"}], {\"shapes\": [{\"fillcolor\": \"rgba(53, 208, 255, 0.7)\", \"line\": {\"color\": \"rgba(53, 208, 255, 1)\", \"width\": 2}, \"type\": \"rect\", \"x0\": 0, \"x1\": 1, \"y0\": 0, \"y1\": 1}, {\"fillcolor\": \"rgba(53, 208, 255, 0.7)\", \"line\": {\"color\": \"rgba(53, 208, 255, 1)\", \"width\": 2}, \"type\": \"rect\", \"x0\": 2, \"x1\": 3, \"y0\": 1, \"y1\": 2}, {\"fillcolor\": \"rgba(53, 208, 255, 0.7)\", \"line\": {\"color\": \"rgba(53, 208, 255, 1)\", \"width\": 2}, \"type\": \"rect\", \"x0\": 3, \"x1\": 5, \"y0\": 2, \"y1\": 3}, {\"fillcolor\": \"rgba(53, 208, 255, 0.7)\", \"line\": {\"color\": \"rgba(53, 208, 255, 1)\", \"width\": 2}, \"type\": \"rect\", \"x0\": 4, \"x1\": 7, \"y0\": 3, \"y1\": 4}, {\"fillcolor\": \"rgba(53, 208, 255, 0.7)\", \"line\": {\"color\": \"rgba(53, 208, 255, 1)\", \"width\": 2}, \"type\": \"rect\", \"x0\": 5, \"x1\": 6, \"y0\": 4, \"y1\": 5}, {\"fillcolor\": \"rgba(53, 208, 255, 0.7)\", \"line\": {\"color\": \"rgba(53, 208, 255, 1)\", \"width\": 2}, \"type\": \"rect\", \"x0\": 7, \"x1\": 10, \"y0\": 5, \"y1\": 6}], \"xaxis\": {\"autorange\": true, \"showgrid\": false}, \"yaxis\": {\"range\": [0, 8]}}, {\"showLink\": true, \"linkText\": \"Export to plot.ly\", \"plotlyServerURL\": \"https://plot.ly\"})});</script><script type=\"text/javascript\">window.addEventListener(\"resize\", function(){window._Plotly.Plots.resize(document.getElementById(\"bd16a415-e969-4808-9eb1-38c550089d46\"));});</script>"
      ],
      "text/vnd.plotly.v1+html": [
       "<div id=\"bd16a415-e969-4808-9eb1-38c550089d46\" style=\"height: 525px; width: 100%;\" class=\"plotly-graph-div\"></div><script type=\"text/javascript\">require([\"plotly\"], function(Plotly) { window.PLOTLYENV=window.PLOTLYENV || {};window.PLOTLYENV.BASE_URL=\"https://plot.ly\";Plotly.newPlot(\"bd16a415-e969-4808-9eb1-38c550089d46\", [{\"mode\": \"text\", \"text\": [\"Agent -1<br><b>Task -1</b>\", \"Agent -1<br><b>Task -1</b>\", \"Agent -1<br><b>Task -1</b>\", \"Agent -1<br><b>Task -1</b>\", \"Agent -1<br><b>Task -1</b>\", \"Agent -1<br><b>Task -1</b>\"], \"x\": [0.5, 2.5, 4.0, 5.5, 5.5, 8.5], \"y\": [0.5, 1.5, 2.5, 3.5, 4.5, 5.5], \"type\": \"scatter\", \"uid\": \"7f7b0627-ca56-4a0a-856a-aa4573783b8f\"}], {\"shapes\": [{\"fillcolor\": \"rgba(53, 208, 255, 0.7)\", \"line\": {\"color\": \"rgba(53, 208, 255, 1)\", \"width\": 2}, \"type\": \"rect\", \"x0\": 0, \"x1\": 1, \"y0\": 0, \"y1\": 1}, {\"fillcolor\": \"rgba(53, 208, 255, 0.7)\", \"line\": {\"color\": \"rgba(53, 208, 255, 1)\", \"width\": 2}, \"type\": \"rect\", \"x0\": 2, \"x1\": 3, \"y0\": 1, \"y1\": 2}, {\"fillcolor\": \"rgba(53, 208, 255, 0.7)\", \"line\": {\"color\": \"rgba(53, 208, 255, 1)\", \"width\": 2}, \"type\": \"rect\", \"x0\": 3, \"x1\": 5, \"y0\": 2, \"y1\": 3}, {\"fillcolor\": \"rgba(53, 208, 255, 0.7)\", \"line\": {\"color\": \"rgba(53, 208, 255, 1)\", \"width\": 2}, \"type\": \"rect\", \"x0\": 4, \"x1\": 7, \"y0\": 3, \"y1\": 4}, {\"fillcolor\": \"rgba(53, 208, 255, 0.7)\", \"line\": {\"color\": \"rgba(53, 208, 255, 1)\", \"width\": 2}, \"type\": \"rect\", \"x0\": 5, \"x1\": 6, \"y0\": 4, \"y1\": 5}, {\"fillcolor\": \"rgba(53, 208, 255, 0.7)\", \"line\": {\"color\": \"rgba(53, 208, 255, 1)\", \"width\": 2}, \"type\": \"rect\", \"x0\": 7, \"x1\": 10, \"y0\": 5, \"y1\": 6}], \"xaxis\": {\"autorange\": true, \"showgrid\": false}, \"yaxis\": {\"range\": [0, 8]}}, {\"showLink\": true, \"linkText\": \"Export to plot.ly\", \"plotlyServerURL\": \"https://plot.ly\"})});</script><script type=\"text/javascript\">window.addEventListener(\"resize\", function(){window._Plotly.Plots.resize(document.getElementById(\"bd16a415-e969-4808-9eb1-38c550089d46\"));});</script>"
      ]
     },
     "metadata": {},
     "output_type": "display_data"
    }
   ],
   "source": [
    "t = Timeline()\n",
    "\n",
    "t.events.append(Event(0, 1))\n",
    "t.events.append(Event(2, 1))\n",
    "t.events.append(Event(3, 2))\n",
    "t.events.append(Event(4, 3))\n",
    "t.events.append(Event(5, 1))\n",
    "t.events.append(Event(7, 3))\n",
    "\n",
    "t.plot_gantt()"
   ]
  },
  {
   "cell_type": "code",
   "execution_count": 4,
   "metadata": {},
   "outputs": [
    {
     "name": "stdout",
     "output_type": "stream",
     "text": [
      "Reading from input file inputs/Exp1_Zoethout.json...\n",
      "\n",
      "Invalid skillset provided! Please verify the correctness of your input.\n",
      "Invalid skillset provided! Please verify the correctness of your input.\n",
      "Time elapsed:\n",
      "0 time units.\n",
      "\n",
      "Completed tasks:\n",
      "Current task:\n",
      "None\n",
      "Future tasks:\n",
      "--- TASK 0 ---\n",
      "Precedence 0\n",
      "\tChannel 0\n",
      "\t\tAction 0 | Skill 0 | Duration 50\n",
      "\tChannel 1\n",
      "\t\tAction 0 | Skill 1 | Duration 50\n",
      "\n",
      "Currently employed agents:\n",
      "--- AGENT 0 ---\n",
      "Short-term memory:\n",
      "\n",
      "Long-term memory:\n",
      "< id: 0, expertise: [16], motivation: [20] >\n",
      "< id: 1, expertise: [14], motivation: [20] >\n",
      "Current action:\n",
      "[]\n",
      "Action history:\n",
      "[]\n",
      "\n",
      "--- AGENT 1 ---\n",
      "Short-term memory:\n",
      "\n",
      "Long-term memory:\n",
      "< id: 0, expertise: [14], motivation: [20] >\n",
      "< id: 1, expertise: [16], motivation: [20] >\n",
      "Current action:\n",
      "[]\n",
      "Action history:\n",
      "[]\n",
      "\n",
      "History:\n"
     ]
    },
    {
     "data": {
      "application/vnd.plotly.v1+json": {
       "config": {
        "linkText": "Export to plot.ly",
        "plotlyServerURL": "https://plot.ly",
        "showLink": true
       },
       "data": [
        {
         "mode": "text",
         "text": [],
         "type": "scatter",
         "uid": "4859b921-5327-49af-8c02-58f94f2cf359",
         "x": [],
         "y": []
        }
       ],
       "layout": {
        "xaxis": {
         "autorange": true,
         "showgrid": false
        },
        "yaxis": {
         "range": [
          0,
          2
         ]
        }
       }
      },
      "text/html": [
       "<div id=\"eaaafc96-0b39-4599-8f2d-db4c0bea061a\" style=\"height: 525px; width: 100%;\" class=\"plotly-graph-div\"></div><script type=\"text/javascript\">require([\"plotly\"], function(Plotly) { window.PLOTLYENV=window.PLOTLYENV || {};window.PLOTLYENV.BASE_URL=\"https://plot.ly\";Plotly.newPlot(\"eaaafc96-0b39-4599-8f2d-db4c0bea061a\", [{\"mode\": \"text\", \"text\": [], \"x\": [], \"y\": [], \"type\": \"scatter\", \"uid\": \"28c29450-f2a7-4c07-91aa-6dace78ff916\"}], {\"xaxis\": {\"autorange\": true, \"showgrid\": false}, \"yaxis\": {\"range\": [0, 2]}}, {\"showLink\": true, \"linkText\": \"Export to plot.ly\", \"plotlyServerURL\": \"https://plot.ly\"})});</script><script type=\"text/javascript\">window.addEventListener(\"resize\", function(){window._Plotly.Plots.resize(document.getElementById(\"eaaafc96-0b39-4599-8f2d-db4c0bea061a\"));});</script>"
      ],
      "text/vnd.plotly.v1+html": [
       "<div id=\"eaaafc96-0b39-4599-8f2d-db4c0bea061a\" style=\"height: 525px; width: 100%;\" class=\"plotly-graph-div\"></div><script type=\"text/javascript\">require([\"plotly\"], function(Plotly) { window.PLOTLYENV=window.PLOTLYENV || {};window.PLOTLYENV.BASE_URL=\"https://plot.ly\";Plotly.newPlot(\"eaaafc96-0b39-4599-8f2d-db4c0bea061a\", [{\"mode\": \"text\", \"text\": [], \"x\": [], \"y\": [], \"type\": \"scatter\", \"uid\": \"28c29450-f2a7-4c07-91aa-6dace78ff916\"}], {\"xaxis\": {\"autorange\": true, \"showgrid\": false}, \"yaxis\": {\"range\": [0, 2]}}, {\"showLink\": true, \"linkText\": \"Export to plot.ly\", \"plotlyServerURL\": \"https://plot.ly\"})});</script><script type=\"text/javascript\">window.addEventListener(\"resize\", function(){window._Plotly.Plots.resize(document.getElementById(\"eaaafc96-0b39-4599-8f2d-db4c0bea061a\"));});</script>"
      ]
     },
     "metadata": {},
     "output_type": "display_data"
    }
   ],
   "source": [
    "input_file = None\n",
    "input_file = 'inputs/sample1.json'\n",
    "input_file = 'inputs/Exp1_Zoethout.json'\n",
    "\n",
    "my_workplace = Workplace(input_file)\n",
    "\n",
    "my_workplace.print_current_state()"
   ]
  },
  {
   "cell_type": "code",
   "execution_count": null,
   "metadata": {},
   "outputs": [
    {
     "name": "stdout",
     "output_type": "stream",
     "text": [
      "{'action_id': 0, 'skill': 0, 'duration': 50, 'completion': 0}\n",
      "\n",
      "[16, 20, 14, 20]\n",
      "\n",
      "[0.5333333333333333, 0, 0.4666666666666667, 0]\n",
      "\n",
      "[0.3842027485356173, 0.31956553885224864, 0.31753608186895066, 0.31956553885224864]\n",
      "\n",
      "0\n",
      "\n",
      "{'action_id': 0, 'skill': 1, 'duration': 50, 'completion': 0}\n",
      "\n",
      "[14, 20, 16, 20]\n",
      "\n",
      "[0.4666666666666667, 0, 0.5333333333333333, 0]\n",
      "\n",
      "[0.304209022866639, 0.3046080821250521, 0.37087568953330563, 0.3046080821250521]\n",
      "\n",
      "1\n",
      "\n",
      "(0, 1)\n",
      "(129, 146)\n",
      "(0, 1)\n",
      "(0, 1)\n",
      "(0, 0)\n",
      "\n",
      "{'action_id': 0, 'skill': 0, 'duration': 50, 'completion': 1}\n",
      "\n",
      "[16.36, 20.0, 13.775510204081632, 19.5]\n",
      "\n",
      "[0.5453333333333333, 0, 0.44251700680272105, 0]\n",
      "\n",
      "[0.4089060037684564, 0.30829850032339523, 0.3060896772378444, 0.30829850032339523]\n",
      "\n",
      "0\n",
      "\n",
      "{'action_id': 0, 'skill': 1, 'duration': 50, 'completion': 1}\n",
      "\n",
      "[13.775510204081632, 19.5, 16.36, 20.0]\n",
      "\n",
      "[0.44251700680272105, 0, 0.5453333333333333, 0]\n",
      "\n",
      "[0.2854305493536738, 0.28805585106793535, 0.3882468758842858, 0.28805585106793535]\n",
      "\n",
      "1\n",
      "\n",
      "(0, 1)\n",
      "(77, 94)\n",
      "(0, 1)\n",
      "(0, 1)\n",
      "(0, 0)\n",
      "\n",
      "{'action_id': 0, 'skill': 0, 'duration': 50, 'completion': 2}\n",
      "\n",
      "[16.7056, 20.0, 13.546438983756767, 19.0]\n",
      "\n",
      "[0.5568533333333333, 0, 0.4182146327918922, 0]\n",
      "\n",
      "[0.43216496796330434, 0.29814443492242665, 0.2935262674218633, 0.29814443492242665]\n",
      "\n",
      "0\n",
      "\n",
      "{'action_id': 0, 'skill': 1, 'duration': 50, 'completion': 2}\n"
     ]
    }
   ],
   "source": [
    "my_workplace.process_tasks()"
   ]
  },
  {
   "cell_type": "code",
   "execution_count": null,
   "metadata": {},
   "outputs": [],
   "source": [
    "my_workplace.print_current_state()"
   ]
  },
  {
   "cell_type": "code",
   "execution_count": null,
   "metadata": {},
   "outputs": [],
   "source": [
    "my_workplace.plot_skills(my_workplace.agents[0])"
   ]
  },
  {
   "cell_type": "code",
   "execution_count": null,
   "metadata": {},
   "outputs": [],
   "source": [
    "my_workplace.plot_skills(my_workplace.agents[1])"
   ]
  }
 ],
 "metadata": {
  "kernelspec": {
   "display_name": "Python 3",
   "language": "python",
   "name": "python3"
  },
  "language_info": {
   "codemirror_mode": {
    "name": "ipython",
    "version": 3
   },
   "file_extension": ".py",
   "mimetype": "text/x-python",
   "name": "python",
   "nbconvert_exporter": "python",
   "pygments_lexer": "ipython3",
   "version": "3.6.7"
  }
 },
 "nbformat": 4,
 "nbformat_minor": 2
}
