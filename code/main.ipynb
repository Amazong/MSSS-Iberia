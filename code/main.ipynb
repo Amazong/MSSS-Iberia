{
 "cells": [
  {
   "cell_type": "code",
   "execution_count": 1,
   "metadata": {},
   "outputs": [
    {
     "data": {
      "text/html": [
       "<script type=\"text/javascript\">window.PlotlyConfig = {MathJaxConfig: 'local'};</script><script type=\"text/javascript\">if (window.MathJax) {MathJax.Hub.Config({SVG: {font: \"STIX-Web\"}});}</script><script>requirejs.config({paths: { 'plotly': ['https://cdn.plot.ly/plotly-latest.min']},});if(!window._Plotly) {require(['plotly'],function(plotly) {window._Plotly=plotly;});}</script>"
      ],
      "text/vnd.plotly.v1+html": [
       "<script type=\"text/javascript\">window.PlotlyConfig = {MathJaxConfig: 'local'};</script><script type=\"text/javascript\">if (window.MathJax) {MathJax.Hub.Config({SVG: {font: \"STIX-Web\"}});}</script><script>requirejs.config({paths: { 'plotly': ['https://cdn.plot.ly/plotly-latest.min']},});if(!window._Plotly) {require(['plotly'],function(plotly) {window._Plotly=plotly;});}</script>"
      ]
     },
     "metadata": {},
     "output_type": "display_data"
    }
   ],
   "source": [
    "#### Import plotting library ####\n",
    "\n",
    "from plotly.offline import download_plotlyjs, init_notebook_mode, plot, iplot\n",
    "import plotly.graph_objs as go\n",
    "init_notebook_mode(connected=True)"
   ]
  },
  {
   "cell_type": "code",
   "execution_count": 2,
   "metadata": {},
   "outputs": [
    {
     "name": "stdout",
     "output_type": "stream",
     "text": [
      "✅ Successfully imported skill.py\n",
      "✅ Successfully imported workplace.py\n",
      "✅ Successfully imported task.py\n",
      "✅ Successfully imported timeline.py\n",
      "✅ Successfully imported agent.py\n"
     ]
    }
   ],
   "source": [
    "#### Import class definitions ####\n",
    "\n",
    "# List existing classes\n",
    "from os import listdir\n",
    "from os.path import isfile, join\n",
    "classes = [f for f in listdir('classes') if isfile(join('classes', f))]\n",
    "\n",
    "# Import procedure\n",
    "for _class in classes:\n",
    "    %run classes/$_class\n",
    "    print('✅ Successfully imported ' + _class)"
   ]
  },
  {
   "cell_type": "code",
   "execution_count": 3,
   "metadata": {},
   "outputs": [
    {
     "data": {
      "application/vnd.plotly.v1+json": {
       "config": {
        "linkText": "Export to plot.ly",
        "plotlyServerURL": "https://plot.ly",
        "showLink": true
       },
       "data": [
        {
         "mode": "text",
         "text": [
          "Agent -1<br><b>Task -1</b>",
          "Agent -1<br><b>Task -1</b>",
          "Agent -1<br><b>Task -1</b>",
          "Agent -1<br><b>Task -1</b>",
          "Agent -1<br><b>Task -1</b>",
          "Agent -1<br><b>Task -1</b>"
         ],
         "type": "scatter",
         "uid": "d65cf3fd-ab0d-4fa3-aa7a-ed5a245f2023",
         "x": [
          0.5,
          2.5,
          4,
          5.5,
          5.5,
          8.5
         ],
         "y": [
          0.5,
          1.5,
          2.5,
          3.5,
          4.5,
          5.5
         ]
        }
       ],
       "layout": {
        "shapes": [
         {
          "fillcolor": "rgba(53, 208, 255, 0.7)",
          "line": {
           "color": "rgba(53, 208, 255, 1)",
           "width": 2
          },
          "type": "rect",
          "x0": 0,
          "x1": 1,
          "y0": 0,
          "y1": 1
         },
         {
          "fillcolor": "rgba(53, 208, 255, 0.7)",
          "line": {
           "color": "rgba(53, 208, 255, 1)",
           "width": 2
          },
          "type": "rect",
          "x0": 2,
          "x1": 3,
          "y0": 1,
          "y1": 2
         },
         {
          "fillcolor": "rgba(53, 208, 255, 0.7)",
          "line": {
           "color": "rgba(53, 208, 255, 1)",
           "width": 2
          },
          "type": "rect",
          "x0": 3,
          "x1": 5,
          "y0": 2,
          "y1": 3
         },
         {
          "fillcolor": "rgba(53, 208, 255, 0.7)",
          "line": {
           "color": "rgba(53, 208, 255, 1)",
           "width": 2
          },
          "type": "rect",
          "x0": 4,
          "x1": 7,
          "y0": 3,
          "y1": 4
         },
         {
          "fillcolor": "rgba(53, 208, 255, 0.7)",
          "line": {
           "color": "rgba(53, 208, 255, 1)",
           "width": 2
          },
          "type": "rect",
          "x0": 5,
          "x1": 6,
          "y0": 4,
          "y1": 5
         },
         {
          "fillcolor": "rgba(53, 208, 255, 0.7)",
          "line": {
           "color": "rgba(53, 208, 255, 1)",
           "width": 2
          },
          "type": "rect",
          "x0": 7,
          "x1": 10,
          "y0": 5,
          "y1": 6
         }
        ],
        "xaxis": {
         "autorange": true,
         "showgrid": false
        },
        "yaxis": {
         "range": [
          0,
          8
         ]
        }
       }
      },
      "text/html": [
       "<div id=\"2a8890ef-0461-43fb-8cec-18c9cc629ea1\" style=\"height: 525px; width: 100%;\" class=\"plotly-graph-div\"></div><script type=\"text/javascript\">require([\"plotly\"], function(Plotly) { window.PLOTLYENV=window.PLOTLYENV || {};window.PLOTLYENV.BASE_URL=\"https://plot.ly\";Plotly.newPlot(\"2a8890ef-0461-43fb-8cec-18c9cc629ea1\", [{\"mode\": \"text\", \"text\": [\"Agent -1<br><b>Task -1</b>\", \"Agent -1<br><b>Task -1</b>\", \"Agent -1<br><b>Task -1</b>\", \"Agent -1<br><b>Task -1</b>\", \"Agent -1<br><b>Task -1</b>\", \"Agent -1<br><b>Task -1</b>\"], \"x\": [0.5, 2.5, 4.0, 5.5, 5.5, 8.5], \"y\": [0.5, 1.5, 2.5, 3.5, 4.5, 5.5], \"type\": \"scatter\", \"uid\": \"69afe90b-fd30-48bc-acd8-2965e2e6defc\"}], {\"shapes\": [{\"fillcolor\": \"rgba(53, 208, 255, 0.7)\", \"line\": {\"color\": \"rgba(53, 208, 255, 1)\", \"width\": 2}, \"type\": \"rect\", \"x0\": 0, \"x1\": 1, \"y0\": 0, \"y1\": 1}, {\"fillcolor\": \"rgba(53, 208, 255, 0.7)\", \"line\": {\"color\": \"rgba(53, 208, 255, 1)\", \"width\": 2}, \"type\": \"rect\", \"x0\": 2, \"x1\": 3, \"y0\": 1, \"y1\": 2}, {\"fillcolor\": \"rgba(53, 208, 255, 0.7)\", \"line\": {\"color\": \"rgba(53, 208, 255, 1)\", \"width\": 2}, \"type\": \"rect\", \"x0\": 3, \"x1\": 5, \"y0\": 2, \"y1\": 3}, {\"fillcolor\": \"rgba(53, 208, 255, 0.7)\", \"line\": {\"color\": \"rgba(53, 208, 255, 1)\", \"width\": 2}, \"type\": \"rect\", \"x0\": 4, \"x1\": 7, \"y0\": 3, \"y1\": 4}, {\"fillcolor\": \"rgba(53, 208, 255, 0.7)\", \"line\": {\"color\": \"rgba(53, 208, 255, 1)\", \"width\": 2}, \"type\": \"rect\", \"x0\": 5, \"x1\": 6, \"y0\": 4, \"y1\": 5}, {\"fillcolor\": \"rgba(53, 208, 255, 0.7)\", \"line\": {\"color\": \"rgba(53, 208, 255, 1)\", \"width\": 2}, \"type\": \"rect\", \"x0\": 7, \"x1\": 10, \"y0\": 5, \"y1\": 6}], \"xaxis\": {\"autorange\": true, \"showgrid\": false}, \"yaxis\": {\"range\": [0, 8]}}, {\"showLink\": true, \"linkText\": \"Export to plot.ly\", \"plotlyServerURL\": \"https://plot.ly\"})});</script><script type=\"text/javascript\">window.addEventListener(\"resize\", function(){window._Plotly.Plots.resize(document.getElementById(\"2a8890ef-0461-43fb-8cec-18c9cc629ea1\"));});</script>"
      ],
      "text/vnd.plotly.v1+html": [
       "<div id=\"2a8890ef-0461-43fb-8cec-18c9cc629ea1\" style=\"height: 525px; width: 100%;\" class=\"plotly-graph-div\"></div><script type=\"text/javascript\">require([\"plotly\"], function(Plotly) { window.PLOTLYENV=window.PLOTLYENV || {};window.PLOTLYENV.BASE_URL=\"https://plot.ly\";Plotly.newPlot(\"2a8890ef-0461-43fb-8cec-18c9cc629ea1\", [{\"mode\": \"text\", \"text\": [\"Agent -1<br><b>Task -1</b>\", \"Agent -1<br><b>Task -1</b>\", \"Agent -1<br><b>Task -1</b>\", \"Agent -1<br><b>Task -1</b>\", \"Agent -1<br><b>Task -1</b>\", \"Agent -1<br><b>Task -1</b>\"], \"x\": [0.5, 2.5, 4.0, 5.5, 5.5, 8.5], \"y\": [0.5, 1.5, 2.5, 3.5, 4.5, 5.5], \"type\": \"scatter\", \"uid\": \"69afe90b-fd30-48bc-acd8-2965e2e6defc\"}], {\"shapes\": [{\"fillcolor\": \"rgba(53, 208, 255, 0.7)\", \"line\": {\"color\": \"rgba(53, 208, 255, 1)\", \"width\": 2}, \"type\": \"rect\", \"x0\": 0, \"x1\": 1, \"y0\": 0, \"y1\": 1}, {\"fillcolor\": \"rgba(53, 208, 255, 0.7)\", \"line\": {\"color\": \"rgba(53, 208, 255, 1)\", \"width\": 2}, \"type\": \"rect\", \"x0\": 2, \"x1\": 3, \"y0\": 1, \"y1\": 2}, {\"fillcolor\": \"rgba(53, 208, 255, 0.7)\", \"line\": {\"color\": \"rgba(53, 208, 255, 1)\", \"width\": 2}, \"type\": \"rect\", \"x0\": 3, \"x1\": 5, \"y0\": 2, \"y1\": 3}, {\"fillcolor\": \"rgba(53, 208, 255, 0.7)\", \"line\": {\"color\": \"rgba(53, 208, 255, 1)\", \"width\": 2}, \"type\": \"rect\", \"x0\": 4, \"x1\": 7, \"y0\": 3, \"y1\": 4}, {\"fillcolor\": \"rgba(53, 208, 255, 0.7)\", \"line\": {\"color\": \"rgba(53, 208, 255, 1)\", \"width\": 2}, \"type\": \"rect\", \"x0\": 5, \"x1\": 6, \"y0\": 4, \"y1\": 5}, {\"fillcolor\": \"rgba(53, 208, 255, 0.7)\", \"line\": {\"color\": \"rgba(53, 208, 255, 1)\", \"width\": 2}, \"type\": \"rect\", \"x0\": 7, \"x1\": 10, \"y0\": 5, \"y1\": 6}], \"xaxis\": {\"autorange\": true, \"showgrid\": false}, \"yaxis\": {\"range\": [0, 8]}}, {\"showLink\": true, \"linkText\": \"Export to plot.ly\", \"plotlyServerURL\": \"https://plot.ly\"})});</script><script type=\"text/javascript\">window.addEventListener(\"resize\", function(){window._Plotly.Plots.resize(document.getElementById(\"2a8890ef-0461-43fb-8cec-18c9cc629ea1\"));});</script>"
      ]
     },
     "metadata": {},
     "output_type": "display_data"
    }
   ],
   "source": [
    "t = Timeline()\n",
    "\n",
    "t.events.append(Event(0, 1))\n",
    "t.events.append(Event(2, 1))\n",
    "t.events.append(Event(3, 2))\n",
    "t.events.append(Event(4, 3))\n",
    "t.events.append(Event(5, 1))\n",
    "t.events.append(Event(7, 3))\n",
    "\n",
    "t.plot_gantt()"
   ]
  },
  {
   "cell_type": "code",
   "execution_count": 4,
   "metadata": {},
   "outputs": [
    {
     "name": "stdout",
     "output_type": "stream",
     "text": [
      "Reading from input file inputs/Exp1_Zoethout.json...\n",
      "\n",
      "Invalid skillset provided! Please verify the correctness of your input.\n",
      "Invalid skillset provided! Please verify the correctness of your input.\n",
      "Time elapsed:\n",
      "0 time units.\n",
      "\n",
      "Completed tasks:\n",
      "Current task:\n",
      "None\n",
      "Future tasks:\n",
      "--- TASK 0 ---\n",
      "Precedence 0\n",
      "\tChannel 0\n",
      "\t\tAction 0 | Skill 0 | Duration 50\n",
      "\tChannel 1\n",
      "\t\tAction 0 | Skill 1 | Duration 50\n",
      "\n",
      "Currently employed agents:\n",
      "--- AGENT 0 ---\n",
      "Short-term memory:\n",
      "\n",
      "Long-term memory:\n",
      "< id: 0, expertise: [16], motivation: [16] >\n",
      "< id: 1, expertise: [14], motivation: [14] >\n",
      "Current action:\n",
      "[]\n",
      "Action history:\n",
      "[]\n",
      "\n",
      "--- AGENT 1 ---\n",
      "Short-term memory:\n",
      "\n",
      "Long-term memory:\n",
      "< id: 0, expertise: [14], motivation: [14] >\n",
      "< id: 1, expertise: [16], motivation: [16] >\n",
      "Current action:\n",
      "[]\n",
      "Action history:\n",
      "[]\n",
      "\n",
      "History:\n"
     ]
    },
    {
     "data": {
      "application/vnd.plotly.v1+json": {
       "config": {
        "linkText": "Export to plot.ly",
        "plotlyServerURL": "https://plot.ly",
        "showLink": true
       },
       "data": [
        {
         "mode": "text",
         "text": [],
         "type": "scatter",
         "uid": "f037314e-6082-4aba-80e4-4ff439690166",
         "x": [],
         "y": []
        }
       ],
       "layout": {
        "xaxis": {
         "autorange": true,
         "showgrid": false
        },
        "yaxis": {
         "range": [
          0,
          2
         ]
        }
       }
      },
      "text/html": [
       "<div id=\"49ab3635-0cc3-4b1d-985c-8eed7d359c5f\" style=\"height: 525px; width: 100%;\" class=\"plotly-graph-div\"></div><script type=\"text/javascript\">require([\"plotly\"], function(Plotly) { window.PLOTLYENV=window.PLOTLYENV || {};window.PLOTLYENV.BASE_URL=\"https://plot.ly\";Plotly.newPlot(\"49ab3635-0cc3-4b1d-985c-8eed7d359c5f\", [{\"mode\": \"text\", \"text\": [], \"x\": [], \"y\": [], \"type\": \"scatter\", \"uid\": \"96f7dad3-0b85-4e1b-974c-3856fec4cc1f\"}], {\"xaxis\": {\"autorange\": true, \"showgrid\": false}, \"yaxis\": {\"range\": [0, 2]}}, {\"showLink\": true, \"linkText\": \"Export to plot.ly\", \"plotlyServerURL\": \"https://plot.ly\"})});</script><script type=\"text/javascript\">window.addEventListener(\"resize\", function(){window._Plotly.Plots.resize(document.getElementById(\"49ab3635-0cc3-4b1d-985c-8eed7d359c5f\"));});</script>"
      ],
      "text/vnd.plotly.v1+html": [
       "<div id=\"49ab3635-0cc3-4b1d-985c-8eed7d359c5f\" style=\"height: 525px; width: 100%;\" class=\"plotly-graph-div\"></div><script type=\"text/javascript\">require([\"plotly\"], function(Plotly) { window.PLOTLYENV=window.PLOTLYENV || {};window.PLOTLYENV.BASE_URL=\"https://plot.ly\";Plotly.newPlot(\"49ab3635-0cc3-4b1d-985c-8eed7d359c5f\", [{\"mode\": \"text\", \"text\": [], \"x\": [], \"y\": [], \"type\": \"scatter\", \"uid\": \"96f7dad3-0b85-4e1b-974c-3856fec4cc1f\"}], {\"xaxis\": {\"autorange\": true, \"showgrid\": false}, \"yaxis\": {\"range\": [0, 2]}}, {\"showLink\": true, \"linkText\": \"Export to plot.ly\", \"plotlyServerURL\": \"https://plot.ly\"})});</script><script type=\"text/javascript\">window.addEventListener(\"resize\", function(){window._Plotly.Plots.resize(document.getElementById(\"49ab3635-0cc3-4b1d-985c-8eed7d359c5f\"));});</script>"
      ]
     },
     "metadata": {},
     "output_type": "display_data"
    }
   ],
   "source": [
    "input_file = None\n",
    "input_file = 'inputs/sample1.json'\n",
    "input_file = 'inputs/Exp1_Zoethout.json'\n",
    "\n",
    "my_workplace = Workplace(input_file)\n",
    "\n",
    "my_workplace.print_current_state()"
   ]
  },
  {
   "cell_type": "code",
   "execution_count": 5,
   "metadata": {},
   "outputs": [
    {
     "name": "stdout",
     "output_type": "stream",
     "text": [
      "Processed task:\n",
      "--- TASK 0 ---\n",
      "Precedence 0\n",
      "\tChannel 0\n",
      "\t\tAction 0 | Skill 0 | Duration 50\n",
      "\tChannel 1\n",
      "\t\tAction 0 | Skill 1 | Duration 50\n",
      ":\n",
      "\n"
     ]
    }
   ],
   "source": [
    "my_workplace.process_tasks()"
   ]
  },
  {
   "cell_type": "code",
   "execution_count": 6,
   "metadata": {},
   "outputs": [
    {
     "name": "stdout",
     "output_type": "stream",
     "text": [
      "Time elapsed:\n",
      "50 time units.\n",
      "\n",
      "Completed tasks:\n",
      "--- TASK 0 ---\n",
      "Precedence 0\n",
      "\tChannel 0\n",
      "\t\tAction 0 | Skill 0 | Duration 50\n",
      "\tChannel 1\n",
      "\t\tAction 0 | Skill 1 | Duration 50\n",
      "\n",
      "Current task:\n",
      "None\n",
      "Future tasks:\n",
      "Currently employed agents:\n",
      "--- AGENT 0 ---\n",
      "Short-term memory:\n",
      "< id: 0, expertise: [16, 16.36, 16.7056, 17.037376000000002, 17.35588096, 17.6616457216, 17.955179892736, 18.23697269702656, 18.507493789145496, 18.767194037579674, 19.016506276076488, 19.255846025033428, 19.485612184032092, 19.70618769667081, 19.91794018880398, 20.121222581251818, 20.316373678001746, 20.503718730881676, 20.68356998164641, 20.856227182380554, 21.02197809508533, 21.181098971281916, 21.33385501243064, 21.480500811933414, 21.62128077945608, 21.756429548277836, 21.886172366346724, 22.010725471692854, 22.13029645282514, 22.245084594712132, 22.355281210923646, 22.4610699624867, 22.562627163987234, 22.660122077427744, 22.753717194330633, 22.843568506557407, 22.92982576629511, 23.012632735643304, 23.092127426217573, 23.16844232916887, 23.241704636002115, 23.31203645056203, 23.37955499253955, 23.444372792837967, 23.50659788112445, 23.566333965879473, 23.623680607244292, 23.67873338295452, 23.73158404763634, 23.782320685730884, 23.83102785830165], motivation: [16, 16.0, 16.0, 16.0, 16.0, 16.0, 16.0, 16.0, 16.0, 16.0, 16.0, 16.0, 16.0, 16.0, 16.0, 16.0, 16.0, 16.0, 16.0, 16.0, 16.0, 16.0, 16.0, 16.0, 16.0, 16.0, 16.0, 16.0, 16.0, 16.0, 16.0, 16.0, 16.0, 16.0, 16.0, 16.0, 16.0, 16.0, 16.0, 16.0, 16.0, 16.0, 16.0, 16.0, 16.0, 16.0, 16.0, 16.0, 16.0, 16.0, 16.0] >\n",
      "Long-term memory:\n",
      "< id: 1, expertise: [14, 13.775510204081632, 13.546438983756767, 13.312692840568129, 13.074176367926663, 12.830792212170065, 12.582441032826598, 12.329021462067956, 12.07043006333465, 11.80656128911699, 11.537307437874478, 11.262558610075999, 10.982202663342855, 10.696125166676383, 10.404209353751412, 10.106336075256543, 9.802383750261779, 9.492228316593652, 9.175743180197603, 8.852799163466942, 8.523264452517289, 8.187004543384989, 7.843882187127539, 7.493757333803611, 7.136487075309807, 6.7719255870508235, 6.399924068419208, 6.0203306820604165, 5.632990491898385, 5.237745399896311, 4.834434081526847, 4.4228919199253545, 4.002950938699342, 3.574439733366675, 3.1371834013945663, 2.691003470810782, 2.235717827357941, 1.7711406401611642, 1.297082285878739, 0.8133492713048356, 0.31974415439268933, -0.1839345363339905, -0.697892384014276, -1.2223391673615058, -1.7574889462872507, -2.303560149272705, -2.8607756625231686, -3.4293629209420087, -4.009554000961233, -4.601585715266565, -5.205699709455678], motivation: [14, 13.5, 13.0, 12.5, 12.0, 11.5, 11.0, 10.5, 10.0, 9.5, 9.0, 8.5, 8.0, 7.5, 7.0, 6.5, 6.0, 5.5, 5.0, 4.5, 4.0, 3.5, 3.0, 2.5, 2.0, 1.5, 1.0, 0.5, 0.0, -0.5, -1.0, -1.5, -2.0, -2.5, -3.0, -3.5, -4.0, -4.5, -5.0, -5.5, -6.0, -6.5, -7.0, -7.5, -8.0, -8.5, -9.0, -9.5, -10.0, -10.5, -11.0] >\n",
      "Current action:\n",
      "[]\n",
      "Action history:\n",
      "[{'task': 0, 'precedence': 0, 'channel': 0, 'action': 0, 'start_time': 0}, {'task': 0, 'precedence': 0, 'channel': 0, 'action': 0, 'start_time': 1}, {'task': 0, 'precedence': 0, 'channel': 0, 'action': 0, 'start_time': 2}, {'task': 0, 'precedence': 0, 'channel': 0, 'action': 0, 'start_time': 3}, {'task': 0, 'precedence': 0, 'channel': 0, 'action': 0, 'start_time': 4}, {'task': 0, 'precedence': 0, 'channel': 0, 'action': 0, 'start_time': 5}, {'task': 0, 'precedence': 0, 'channel': 0, 'action': 0, 'start_time': 6}, {'task': 0, 'precedence': 0, 'channel': 0, 'action': 0, 'start_time': 7}, {'task': 0, 'precedence': 0, 'channel': 0, 'action': 0, 'start_time': 8}, {'task': 0, 'precedence': 0, 'channel': 0, 'action': 0, 'start_time': 9}, {'task': 0, 'precedence': 0, 'channel': 0, 'action': 0, 'start_time': 10}, {'task': 0, 'precedence': 0, 'channel': 0, 'action': 0, 'start_time': 11}, {'task': 0, 'precedence': 0, 'channel': 0, 'action': 0, 'start_time': 12}, {'task': 0, 'precedence': 0, 'channel': 0, 'action': 0, 'start_time': 13}, {'task': 0, 'precedence': 0, 'channel': 0, 'action': 0, 'start_time': 14}, {'task': 0, 'precedence': 0, 'channel': 0, 'action': 0, 'start_time': 15}, {'task': 0, 'precedence': 0, 'channel': 0, 'action': 0, 'start_time': 16}, {'task': 0, 'precedence': 0, 'channel': 0, 'action': 0, 'start_time': 17}, {'task': 0, 'precedence': 0, 'channel': 0, 'action': 0, 'start_time': 18}, {'task': 0, 'precedence': 0, 'channel': 0, 'action': 0, 'start_time': 19}, {'task': 0, 'precedence': 0, 'channel': 0, 'action': 0, 'start_time': 20}, {'task': 0, 'precedence': 0, 'channel': 0, 'action': 0, 'start_time': 21}, {'task': 0, 'precedence': 0, 'channel': 0, 'action': 0, 'start_time': 22}, {'task': 0, 'precedence': 0, 'channel': 0, 'action': 0, 'start_time': 23}, {'task': 0, 'precedence': 0, 'channel': 0, 'action': 0, 'start_time': 24}, {'task': 0, 'precedence': 0, 'channel': 0, 'action': 0, 'start_time': 25}, {'task': 0, 'precedence': 0, 'channel': 0, 'action': 0, 'start_time': 26}, {'task': 0, 'precedence': 0, 'channel': 0, 'action': 0, 'start_time': 27}, {'task': 0, 'precedence': 0, 'channel': 0, 'action': 0, 'start_time': 28}, {'task': 0, 'precedence': 0, 'channel': 0, 'action': 0, 'start_time': 29}, {'task': 0, 'precedence': 0, 'channel': 0, 'action': 0, 'start_time': 30}, {'task': 0, 'precedence': 0, 'channel': 0, 'action': 0, 'start_time': 31}, {'task': 0, 'precedence': 0, 'channel': 0, 'action': 0, 'start_time': 32}, {'task': 0, 'precedence': 0, 'channel': 0, 'action': 0, 'start_time': 33}, {'task': 0, 'precedence': 0, 'channel': 0, 'action': 0, 'start_time': 34}, {'task': 0, 'precedence': 0, 'channel': 0, 'action': 0, 'start_time': 35}, {'task': 0, 'precedence': 0, 'channel': 0, 'action': 0, 'start_time': 36}, {'task': 0, 'precedence': 0, 'channel': 0, 'action': 0, 'start_time': 37}, {'task': 0, 'precedence': 0, 'channel': 0, 'action': 0, 'start_time': 38}, {'task': 0, 'precedence': 0, 'channel': 0, 'action': 0, 'start_time': 39}, {'task': 0, 'precedence': 0, 'channel': 0, 'action': 0, 'start_time': 40}, {'task': 0, 'precedence': 0, 'channel': 0, 'action': 0, 'start_time': 41}, {'task': 0, 'precedence': 0, 'channel': 0, 'action': 0, 'start_time': 42}, {'task': 0, 'precedence': 0, 'channel': 0, 'action': 0, 'start_time': 43}, {'task': 0, 'precedence': 0, 'channel': 0, 'action': 0, 'start_time': 44}, {'task': 0, 'precedence': 0, 'channel': 0, 'action': 0, 'start_time': 45}, {'task': 0, 'precedence': 0, 'channel': 0, 'action': 0, 'start_time': 46}, {'task': 0, 'precedence': 0, 'channel': 0, 'action': 0, 'start_time': 47}, {'task': 0, 'precedence': 0, 'channel': 0, 'action': 0, 'start_time': 48}, {'task': 0, 'precedence': 0, 'channel': 0, 'action': 0, 'start_time': 49}]\n",
      "\n",
      "--- AGENT 1 ---\n",
      "Short-term memory:\n",
      "< id: 1, expertise: [16, 16.36, 16.7056, 17.037376000000002, 17.35588096, 17.6616457216, 17.955179892736, 18.23697269702656, 18.507493789145496, 18.767194037579674, 19.016506276076488, 19.255846025033428, 19.485612184032092, 19.70618769667081, 19.91794018880398, 20.121222581251818, 20.316373678001746, 20.503718730881676, 20.68356998164641, 20.856227182380554, 21.02197809508533, 21.181098971281916, 21.33385501243064, 21.480500811933414, 21.62128077945608, 21.756429548277836, 21.886172366346724, 22.010725471692854, 22.13029645282514, 22.245084594712132, 22.355281210923646, 22.4610699624867, 22.562627163987234, 22.660122077427744, 22.753717194330633, 22.843568506557407, 22.92982576629511, 23.012632735643304, 23.092127426217573, 23.16844232916887, 23.241704636002115, 23.31203645056203, 23.37955499253955, 23.444372792837967, 23.50659788112445, 23.566333965879473, 23.623680607244292, 23.67873338295452, 23.73158404763634, 23.782320685730884, 23.83102785830165], motivation: [16, 16.0, 16.0, 16.0, 16.0, 16.0, 16.0, 16.0, 16.0, 16.0, 16.0, 16.0, 16.0, 16.0, 16.0, 16.0, 16.0, 16.0, 16.0, 16.0, 16.0, 16.0, 16.0, 16.0, 16.0, 16.0, 16.0, 16.0, 16.0, 16.0, 16.0, 16.0, 16.0, 16.0, 16.0, 16.0, 16.0, 16.0, 16.0, 16.0, 16.0, 16.0, 16.0, 16.0, 16.0, 16.0, 16.0, 16.0, 16.0, 16.0, 16.0] >\n",
      "Long-term memory:\n",
      "< id: 0, expertise: [14, 13.775510204081632, 13.546438983756767, 13.312692840568129, 13.074176367926663, 12.830792212170065, 12.582441032826598, 12.329021462067956, 12.07043006333465, 11.80656128911699, 11.537307437874478, 11.262558610075999, 10.982202663342855, 10.696125166676383, 10.404209353751412, 10.106336075256543, 9.802383750261779, 9.492228316593652, 9.175743180197603, 8.852799163466942, 8.523264452517289, 8.187004543384989, 7.843882187127539, 7.493757333803611, 7.136487075309807, 6.7719255870508235, 6.399924068419208, 6.0203306820604165, 5.632990491898385, 5.237745399896311, 4.834434081526847, 4.4228919199253545, 4.002950938699342, 3.574439733366675, 3.1371834013945663, 2.691003470810782, 2.235717827357941, 1.7711406401611642, 1.297082285878739, 0.8133492713048356, 0.31974415439268933, -0.1839345363339905, -0.697892384014276, -1.2223391673615058, -1.7574889462872507, -2.303560149272705, -2.8607756625231686, -3.4293629209420087, -4.009554000961233, -4.601585715266565, -5.205699709455678], motivation: [14, 13.5, 13.0, 12.5, 12.0, 11.5, 11.0, 10.5, 10.0, 9.5, 9.0, 8.5, 8.0, 7.5, 7.0, 6.5, 6.0, 5.5, 5.0, 4.5, 4.0, 3.5, 3.0, 2.5, 2.0, 1.5, 1.0, 0.5, 0.0, -0.5, -1.0, -1.5, -2.0, -2.5, -3.0, -3.5, -4.0, -4.5, -5.0, -5.5, -6.0, -6.5, -7.0, -7.5, -8.0, -8.5, -9.0, -9.5, -10.0, -10.5, -11.0] >\n",
      "Current action:\n",
      "[]\n",
      "Action history:\n",
      "[{'task': 0, 'precedence': 0, 'channel': 1, 'action': 0, 'start_time': 0}, {'task': 0, 'precedence': 0, 'channel': 1, 'action': 0, 'start_time': 1}, {'task': 0, 'precedence': 0, 'channel': 1, 'action': 0, 'start_time': 2}, {'task': 0, 'precedence': 0, 'channel': 1, 'action': 0, 'start_time': 3}, {'task': 0, 'precedence': 0, 'channel': 1, 'action': 0, 'start_time': 4}, {'task': 0, 'precedence': 0, 'channel': 1, 'action': 0, 'start_time': 5}, {'task': 0, 'precedence': 0, 'channel': 1, 'action': 0, 'start_time': 6}, {'task': 0, 'precedence': 0, 'channel': 1, 'action': 0, 'start_time': 7}, {'task': 0, 'precedence': 0, 'channel': 1, 'action': 0, 'start_time': 8}, {'task': 0, 'precedence': 0, 'channel': 1, 'action': 0, 'start_time': 9}, {'task': 0, 'precedence': 0, 'channel': 1, 'action': 0, 'start_time': 10}, {'task': 0, 'precedence': 0, 'channel': 1, 'action': 0, 'start_time': 11}, {'task': 0, 'precedence': 0, 'channel': 1, 'action': 0, 'start_time': 12}, {'task': 0, 'precedence': 0, 'channel': 1, 'action': 0, 'start_time': 13}, {'task': 0, 'precedence': 0, 'channel': 1, 'action': 0, 'start_time': 14}, {'task': 0, 'precedence': 0, 'channel': 1, 'action': 0, 'start_time': 15}, {'task': 0, 'precedence': 0, 'channel': 1, 'action': 0, 'start_time': 16}, {'task': 0, 'precedence': 0, 'channel': 1, 'action': 0, 'start_time': 17}, {'task': 0, 'precedence': 0, 'channel': 1, 'action': 0, 'start_time': 18}, {'task': 0, 'precedence': 0, 'channel': 1, 'action': 0, 'start_time': 19}, {'task': 0, 'precedence': 0, 'channel': 1, 'action': 0, 'start_time': 20}, {'task': 0, 'precedence': 0, 'channel': 1, 'action': 0, 'start_time': 21}, {'task': 0, 'precedence': 0, 'channel': 1, 'action': 0, 'start_time': 22}, {'task': 0, 'precedence': 0, 'channel': 1, 'action': 0, 'start_time': 23}, {'task': 0, 'precedence': 0, 'channel': 1, 'action': 0, 'start_time': 24}, {'task': 0, 'precedence': 0, 'channel': 1, 'action': 0, 'start_time': 25}, {'task': 0, 'precedence': 0, 'channel': 1, 'action': 0, 'start_time': 26}, {'task': 0, 'precedence': 0, 'channel': 1, 'action': 0, 'start_time': 27}, {'task': 0, 'precedence': 0, 'channel': 1, 'action': 0, 'start_time': 28}, {'task': 0, 'precedence': 0, 'channel': 1, 'action': 0, 'start_time': 29}, {'task': 0, 'precedence': 0, 'channel': 1, 'action': 0, 'start_time': 30}, {'task': 0, 'precedence': 0, 'channel': 1, 'action': 0, 'start_time': 31}, {'task': 0, 'precedence': 0, 'channel': 1, 'action': 0, 'start_time': 32}, {'task': 0, 'precedence': 0, 'channel': 1, 'action': 0, 'start_time': 33}, {'task': 0, 'precedence': 0, 'channel': 1, 'action': 0, 'start_time': 34}, {'task': 0, 'precedence': 0, 'channel': 1, 'action': 0, 'start_time': 35}, {'task': 0, 'precedence': 0, 'channel': 1, 'action': 0, 'start_time': 36}, {'task': 0, 'precedence': 0, 'channel': 1, 'action': 0, 'start_time': 37}, {'task': 0, 'precedence': 0, 'channel': 1, 'action': 0, 'start_time': 38}, {'task': 0, 'precedence': 0, 'channel': 1, 'action': 0, 'start_time': 39}, {'task': 0, 'precedence': 0, 'channel': 1, 'action': 0, 'start_time': 40}, {'task': 0, 'precedence': 0, 'channel': 1, 'action': 0, 'start_time': 41}, {'task': 0, 'precedence': 0, 'channel': 1, 'action': 0, 'start_time': 42}, {'task': 0, 'precedence': 0, 'channel': 1, 'action': 0, 'start_time': 43}, {'task': 0, 'precedence': 0, 'channel': 1, 'action': 0, 'start_time': 44}, {'task': 0, 'precedence': 0, 'channel': 1, 'action': 0, 'start_time': 45}, {'task': 0, 'precedence': 0, 'channel': 1, 'action': 0, 'start_time': 46}, {'task': 0, 'precedence': 0, 'channel': 1, 'action': 0, 'start_time': 47}, {'task': 0, 'precedence': 0, 'channel': 1, 'action': 0, 'start_time': 48}, {'task': 0, 'precedence': 0, 'channel': 1, 'action': 0, 'start_time': 49}]\n",
      "\n",
      "History:\n"
     ]
    },
    {
     "data": {
      "application/vnd.plotly.v1+json": {
       "config": {
        "linkText": "Export to plot.ly",
        "plotlyServerURL": "https://plot.ly",
        "showLink": true
       },
       "data": [
        {
         "mode": "text",
         "text": [
          "Agent 0<br><b>Task 0</b>",
          "Agent 1<br><b>Task 0</b>",
          "Agent 0<br><b>Task 0</b>",
          "Agent 1<br><b>Task 0</b>",
          "Agent 0<br><b>Task 0</b>",
          "Agent 1<br><b>Task 0</b>",
          "Agent 0<br><b>Task 0</b>",
          "Agent 1<br><b>Task 0</b>",
          "Agent 0<br><b>Task 0</b>",
          "Agent 1<br><b>Task 0</b>",
          "Agent 0<br><b>Task 0</b>",
          "Agent 1<br><b>Task 0</b>",
          "Agent 0<br><b>Task 0</b>",
          "Agent 1<br><b>Task 0</b>",
          "Agent 0<br><b>Task 0</b>",
          "Agent 1<br><b>Task 0</b>",
          "Agent 0<br><b>Task 0</b>",
          "Agent 1<br><b>Task 0</b>",
          "Agent 0<br><b>Task 0</b>",
          "Agent 1<br><b>Task 0</b>",
          "Agent 0<br><b>Task 0</b>",
          "Agent 1<br><b>Task 0</b>",
          "Agent 0<br><b>Task 0</b>",
          "Agent 1<br><b>Task 0</b>",
          "Agent 0<br><b>Task 0</b>",
          "Agent 1<br><b>Task 0</b>",
          "Agent 0<br><b>Task 0</b>",
          "Agent 1<br><b>Task 0</b>",
          "Agent 0<br><b>Task 0</b>",
          "Agent 1<br><b>Task 0</b>",
          "Agent 0<br><b>Task 0</b>",
          "Agent 1<br><b>Task 0</b>",
          "Agent 0<br><b>Task 0</b>",
          "Agent 1<br><b>Task 0</b>",
          "Agent 0<br><b>Task 0</b>",
          "Agent 1<br><b>Task 0</b>",
          "Agent 0<br><b>Task 0</b>",
          "Agent 1<br><b>Task 0</b>",
          "Agent 0<br><b>Task 0</b>",
          "Agent 1<br><b>Task 0</b>",
          "Agent 0<br><b>Task 0</b>",
          "Agent 1<br><b>Task 0</b>",
          "Agent 0<br><b>Task 0</b>",
          "Agent 1<br><b>Task 0</b>",
          "Agent 0<br><b>Task 0</b>",
          "Agent 1<br><b>Task 0</b>",
          "Agent 0<br><b>Task 0</b>",
          "Agent 1<br><b>Task 0</b>",
          "Agent 0<br><b>Task 0</b>",
          "Agent 1<br><b>Task 0</b>",
          "Agent 0<br><b>Task 0</b>",
          "Agent 1<br><b>Task 0</b>",
          "Agent 0<br><b>Task 0</b>",
          "Agent 1<br><b>Task 0</b>",
          "Agent 0<br><b>Task 0</b>",
          "Agent 1<br><b>Task 0</b>",
          "Agent 0<br><b>Task 0</b>",
          "Agent 1<br><b>Task 0</b>",
          "Agent 0<br><b>Task 0</b>",
          "Agent 1<br><b>Task 0</b>",
          "Agent 0<br><b>Task 0</b>",
          "Agent 1<br><b>Task 0</b>",
          "Agent 0<br><b>Task 0</b>",
          "Agent 1<br><b>Task 0</b>",
          "Agent 0<br><b>Task 0</b>",
          "Agent 1<br><b>Task 0</b>",
          "Agent 0<br><b>Task 0</b>",
          "Agent 1<br><b>Task 0</b>",
          "Agent 0<br><b>Task 0</b>",
          "Agent 1<br><b>Task 0</b>",
          "Agent 0<br><b>Task 0</b>",
          "Agent 1<br><b>Task 0</b>",
          "Agent 0<br><b>Task 0</b>",
          "Agent 1<br><b>Task 0</b>",
          "Agent 0<br><b>Task 0</b>",
          "Agent 1<br><b>Task 0</b>",
          "Agent 0<br><b>Task 0</b>",
          "Agent 1<br><b>Task 0</b>",
          "Agent 0<br><b>Task 0</b>",
          "Agent 1<br><b>Task 0</b>",
          "Agent 0<br><b>Task 0</b>",
          "Agent 1<br><b>Task 0</b>",
          "Agent 0<br><b>Task 0</b>",
          "Agent 1<br><b>Task 0</b>",
          "Agent 0<br><b>Task 0</b>",
          "Agent 1<br><b>Task 0</b>",
          "Agent 0<br><b>Task 0</b>",
          "Agent 1<br><b>Task 0</b>",
          "Agent 0<br><b>Task 0</b>",
          "Agent 1<br><b>Task 0</b>",
          "Agent 0<br><b>Task 0</b>",
          "Agent 1<br><b>Task 0</b>",
          "Agent 0<br><b>Task 0</b>",
          "Agent 1<br><b>Task 0</b>",
          "Agent 0<br><b>Task 0</b>",
          "Agent 1<br><b>Task 0</b>",
          "Agent 0<br><b>Task 0</b>",
          "Agent 1<br><b>Task 0</b>",
          "Agent 0<br><b>Task 0</b>",
          "Agent 1<br><b>Task 0</b>"
         ],
         "type": "scatter",
         "uid": "b0d2bd5c-1ce1-49f3-a0a7-7d0a2e4e0f0c",
         "x": [
          0.5,
          0.5,
          1.5,
          1.5,
          2.5,
          2.5,
          3.5,
          3.5,
          4.5,
          4.5,
          5.5,
          5.5,
          6.5,
          6.5,
          7.5,
          7.5,
          8.5,
          8.5,
          9.5,
          9.5,
          10.5,
          10.5,
          11.5,
          11.5,
          12.5,
          12.5,
          13.5,
          13.5,
          14.5,
          14.5,
          15.5,
          15.5,
          16.5,
          16.5,
          17.5,
          17.5,
          18.5,
          18.5,
          19.5,
          19.5,
          20.5,
          20.5,
          21.5,
          21.5,
          22.5,
          22.5,
          23.5,
          23.5,
          24.5,
          24.5,
          25.5,
          25.5,
          26.5,
          26.5,
          27.5,
          27.5,
          28.5,
          28.5,
          29.5,
          29.5,
          30.5,
          30.5,
          31.5,
          31.5,
          32.5,
          32.5,
          33.5,
          33.5,
          34.5,
          34.5,
          35.5,
          35.5,
          36.5,
          36.5,
          37.5,
          37.5,
          38.5,
          38.5,
          39.5,
          39.5,
          40.5,
          40.5,
          41.5,
          41.5,
          42.5,
          42.5,
          43.5,
          43.5,
          44.5,
          44.5,
          45.5,
          45.5,
          46.5,
          46.5,
          47.5,
          47.5,
          48.5,
          48.5,
          49.5,
          49.5
         ],
         "y": [
          0.5,
          1.5,
          2.5,
          3.5,
          4.5,
          5.5,
          6.5,
          7.5,
          8.5,
          9.5,
          10.5,
          11.5,
          12.5,
          13.5,
          14.5,
          15.5,
          16.5,
          17.5,
          18.5,
          19.5,
          20.5,
          21.5,
          22.5,
          23.5,
          24.5,
          25.5,
          26.5,
          27.5,
          28.5,
          29.5,
          30.5,
          31.5,
          32.5,
          33.5,
          34.5,
          35.5,
          36.5,
          37.5,
          38.5,
          39.5,
          40.5,
          41.5,
          42.5,
          43.5,
          44.5,
          45.5,
          46.5,
          47.5,
          48.5,
          49.5,
          50.5,
          51.5,
          52.5,
          53.5,
          54.5,
          55.5,
          56.5,
          57.5,
          58.5,
          59.5,
          60.5,
          61.5,
          62.5,
          63.5,
          64.5,
          65.5,
          66.5,
          67.5,
          68.5,
          69.5,
          70.5,
          71.5,
          72.5,
          73.5,
          74.5,
          75.5,
          76.5,
          77.5,
          78.5,
          79.5,
          80.5,
          81.5,
          82.5,
          83.5,
          84.5,
          85.5,
          86.5,
          87.5,
          88.5,
          89.5,
          90.5,
          91.5,
          92.5,
          93.5,
          94.5,
          95.5,
          96.5,
          97.5,
          98.5,
          99.5
         ]
        }
       ],
       "layout": {
        "shapes": [
         {
          "fillcolor": "rgba(53, 208, 255, 0.7)",
          "line": {
           "color": "rgba(53, 208, 255, 1)",
           "width": 2
          },
          "type": "rect",
          "x0": 0,
          "x1": 1,
          "y0": 0,
          "y1": 1
         },
         {
          "fillcolor": "rgba(53, 208, 255, 0.7)",
          "line": {
           "color": "rgba(53, 208, 255, 1)",
           "width": 2
          },
          "type": "rect",
          "x0": 0,
          "x1": 1,
          "y0": 1,
          "y1": 2
         },
         {
          "fillcolor": "rgba(53, 208, 255, 0.7)",
          "line": {
           "color": "rgba(53, 208, 255, 1)",
           "width": 2
          },
          "type": "rect",
          "x0": 1,
          "x1": 2,
          "y0": 2,
          "y1": 3
         },
         {
          "fillcolor": "rgba(53, 208, 255, 0.7)",
          "line": {
           "color": "rgba(53, 208, 255, 1)",
           "width": 2
          },
          "type": "rect",
          "x0": 1,
          "x1": 2,
          "y0": 3,
          "y1": 4
         },
         {
          "fillcolor": "rgba(53, 208, 255, 0.7)",
          "line": {
           "color": "rgba(53, 208, 255, 1)",
           "width": 2
          },
          "type": "rect",
          "x0": 2,
          "x1": 3,
          "y0": 4,
          "y1": 5
         },
         {
          "fillcolor": "rgba(53, 208, 255, 0.7)",
          "line": {
           "color": "rgba(53, 208, 255, 1)",
           "width": 2
          },
          "type": "rect",
          "x0": 2,
          "x1": 3,
          "y0": 5,
          "y1": 6
         },
         {
          "fillcolor": "rgba(53, 208, 255, 0.7)",
          "line": {
           "color": "rgba(53, 208, 255, 1)",
           "width": 2
          },
          "type": "rect",
          "x0": 3,
          "x1": 4,
          "y0": 6,
          "y1": 7
         },
         {
          "fillcolor": "rgba(53, 208, 255, 0.7)",
          "line": {
           "color": "rgba(53, 208, 255, 1)",
           "width": 2
          },
          "type": "rect",
          "x0": 3,
          "x1": 4,
          "y0": 7,
          "y1": 8
         },
         {
          "fillcolor": "rgba(53, 208, 255, 0.7)",
          "line": {
           "color": "rgba(53, 208, 255, 1)",
           "width": 2
          },
          "type": "rect",
          "x0": 4,
          "x1": 5,
          "y0": 8,
          "y1": 9
         },
         {
          "fillcolor": "rgba(53, 208, 255, 0.7)",
          "line": {
           "color": "rgba(53, 208, 255, 1)",
           "width": 2
          },
          "type": "rect",
          "x0": 4,
          "x1": 5,
          "y0": 9,
          "y1": 10
         },
         {
          "fillcolor": "rgba(53, 208, 255, 0.7)",
          "line": {
           "color": "rgba(53, 208, 255, 1)",
           "width": 2
          },
          "type": "rect",
          "x0": 5,
          "x1": 6,
          "y0": 10,
          "y1": 11
         },
         {
          "fillcolor": "rgba(53, 208, 255, 0.7)",
          "line": {
           "color": "rgba(53, 208, 255, 1)",
           "width": 2
          },
          "type": "rect",
          "x0": 5,
          "x1": 6,
          "y0": 11,
          "y1": 12
         },
         {
          "fillcolor": "rgba(53, 208, 255, 0.7)",
          "line": {
           "color": "rgba(53, 208, 255, 1)",
           "width": 2
          },
          "type": "rect",
          "x0": 6,
          "x1": 7,
          "y0": 12,
          "y1": 13
         },
         {
          "fillcolor": "rgba(53, 208, 255, 0.7)",
          "line": {
           "color": "rgba(53, 208, 255, 1)",
           "width": 2
          },
          "type": "rect",
          "x0": 6,
          "x1": 7,
          "y0": 13,
          "y1": 14
         },
         {
          "fillcolor": "rgba(53, 208, 255, 0.7)",
          "line": {
           "color": "rgba(53, 208, 255, 1)",
           "width": 2
          },
          "type": "rect",
          "x0": 7,
          "x1": 8,
          "y0": 14,
          "y1": 15
         },
         {
          "fillcolor": "rgba(53, 208, 255, 0.7)",
          "line": {
           "color": "rgba(53, 208, 255, 1)",
           "width": 2
          },
          "type": "rect",
          "x0": 7,
          "x1": 8,
          "y0": 15,
          "y1": 16
         },
         {
          "fillcolor": "rgba(53, 208, 255, 0.7)",
          "line": {
           "color": "rgba(53, 208, 255, 1)",
           "width": 2
          },
          "type": "rect",
          "x0": 8,
          "x1": 9,
          "y0": 16,
          "y1": 17
         },
         {
          "fillcolor": "rgba(53, 208, 255, 0.7)",
          "line": {
           "color": "rgba(53, 208, 255, 1)",
           "width": 2
          },
          "type": "rect",
          "x0": 8,
          "x1": 9,
          "y0": 17,
          "y1": 18
         },
         {
          "fillcolor": "rgba(53, 208, 255, 0.7)",
          "line": {
           "color": "rgba(53, 208, 255, 1)",
           "width": 2
          },
          "type": "rect",
          "x0": 9,
          "x1": 10,
          "y0": 18,
          "y1": 19
         },
         {
          "fillcolor": "rgba(53, 208, 255, 0.7)",
          "line": {
           "color": "rgba(53, 208, 255, 1)",
           "width": 2
          },
          "type": "rect",
          "x0": 9,
          "x1": 10,
          "y0": 19,
          "y1": 20
         },
         {
          "fillcolor": "rgba(53, 208, 255, 0.7)",
          "line": {
           "color": "rgba(53, 208, 255, 1)",
           "width": 2
          },
          "type": "rect",
          "x0": 10,
          "x1": 11,
          "y0": 20,
          "y1": 21
         },
         {
          "fillcolor": "rgba(53, 208, 255, 0.7)",
          "line": {
           "color": "rgba(53, 208, 255, 1)",
           "width": 2
          },
          "type": "rect",
          "x0": 10,
          "x1": 11,
          "y0": 21,
          "y1": 22
         },
         {
          "fillcolor": "rgba(53, 208, 255, 0.7)",
          "line": {
           "color": "rgba(53, 208, 255, 1)",
           "width": 2
          },
          "type": "rect",
          "x0": 11,
          "x1": 12,
          "y0": 22,
          "y1": 23
         },
         {
          "fillcolor": "rgba(53, 208, 255, 0.7)",
          "line": {
           "color": "rgba(53, 208, 255, 1)",
           "width": 2
          },
          "type": "rect",
          "x0": 11,
          "x1": 12,
          "y0": 23,
          "y1": 24
         },
         {
          "fillcolor": "rgba(53, 208, 255, 0.7)",
          "line": {
           "color": "rgba(53, 208, 255, 1)",
           "width": 2
          },
          "type": "rect",
          "x0": 12,
          "x1": 13,
          "y0": 24,
          "y1": 25
         },
         {
          "fillcolor": "rgba(53, 208, 255, 0.7)",
          "line": {
           "color": "rgba(53, 208, 255, 1)",
           "width": 2
          },
          "type": "rect",
          "x0": 12,
          "x1": 13,
          "y0": 25,
          "y1": 26
         },
         {
          "fillcolor": "rgba(53, 208, 255, 0.7)",
          "line": {
           "color": "rgba(53, 208, 255, 1)",
           "width": 2
          },
          "type": "rect",
          "x0": 13,
          "x1": 14,
          "y0": 26,
          "y1": 27
         },
         {
          "fillcolor": "rgba(53, 208, 255, 0.7)",
          "line": {
           "color": "rgba(53, 208, 255, 1)",
           "width": 2
          },
          "type": "rect",
          "x0": 13,
          "x1": 14,
          "y0": 27,
          "y1": 28
         },
         {
          "fillcolor": "rgba(53, 208, 255, 0.7)",
          "line": {
           "color": "rgba(53, 208, 255, 1)",
           "width": 2
          },
          "type": "rect",
          "x0": 14,
          "x1": 15,
          "y0": 28,
          "y1": 29
         },
         {
          "fillcolor": "rgba(53, 208, 255, 0.7)",
          "line": {
           "color": "rgba(53, 208, 255, 1)",
           "width": 2
          },
          "type": "rect",
          "x0": 14,
          "x1": 15,
          "y0": 29,
          "y1": 30
         },
         {
          "fillcolor": "rgba(53, 208, 255, 0.7)",
          "line": {
           "color": "rgba(53, 208, 255, 1)",
           "width": 2
          },
          "type": "rect",
          "x0": 15,
          "x1": 16,
          "y0": 30,
          "y1": 31
         },
         {
          "fillcolor": "rgba(53, 208, 255, 0.7)",
          "line": {
           "color": "rgba(53, 208, 255, 1)",
           "width": 2
          },
          "type": "rect",
          "x0": 15,
          "x1": 16,
          "y0": 31,
          "y1": 32
         },
         {
          "fillcolor": "rgba(53, 208, 255, 0.7)",
          "line": {
           "color": "rgba(53, 208, 255, 1)",
           "width": 2
          },
          "type": "rect",
          "x0": 16,
          "x1": 17,
          "y0": 32,
          "y1": 33
         },
         {
          "fillcolor": "rgba(53, 208, 255, 0.7)",
          "line": {
           "color": "rgba(53, 208, 255, 1)",
           "width": 2
          },
          "type": "rect",
          "x0": 16,
          "x1": 17,
          "y0": 33,
          "y1": 34
         },
         {
          "fillcolor": "rgba(53, 208, 255, 0.7)",
          "line": {
           "color": "rgba(53, 208, 255, 1)",
           "width": 2
          },
          "type": "rect",
          "x0": 17,
          "x1": 18,
          "y0": 34,
          "y1": 35
         },
         {
          "fillcolor": "rgba(53, 208, 255, 0.7)",
          "line": {
           "color": "rgba(53, 208, 255, 1)",
           "width": 2
          },
          "type": "rect",
          "x0": 17,
          "x1": 18,
          "y0": 35,
          "y1": 36
         },
         {
          "fillcolor": "rgba(53, 208, 255, 0.7)",
          "line": {
           "color": "rgba(53, 208, 255, 1)",
           "width": 2
          },
          "type": "rect",
          "x0": 18,
          "x1": 19,
          "y0": 36,
          "y1": 37
         },
         {
          "fillcolor": "rgba(53, 208, 255, 0.7)",
          "line": {
           "color": "rgba(53, 208, 255, 1)",
           "width": 2
          },
          "type": "rect",
          "x0": 18,
          "x1": 19,
          "y0": 37,
          "y1": 38
         },
         {
          "fillcolor": "rgba(53, 208, 255, 0.7)",
          "line": {
           "color": "rgba(53, 208, 255, 1)",
           "width": 2
          },
          "type": "rect",
          "x0": 19,
          "x1": 20,
          "y0": 38,
          "y1": 39
         },
         {
          "fillcolor": "rgba(53, 208, 255, 0.7)",
          "line": {
           "color": "rgba(53, 208, 255, 1)",
           "width": 2
          },
          "type": "rect",
          "x0": 19,
          "x1": 20,
          "y0": 39,
          "y1": 40
         },
         {
          "fillcolor": "rgba(53, 208, 255, 0.7)",
          "line": {
           "color": "rgba(53, 208, 255, 1)",
           "width": 2
          },
          "type": "rect",
          "x0": 20,
          "x1": 21,
          "y0": 40,
          "y1": 41
         },
         {
          "fillcolor": "rgba(53, 208, 255, 0.7)",
          "line": {
           "color": "rgba(53, 208, 255, 1)",
           "width": 2
          },
          "type": "rect",
          "x0": 20,
          "x1": 21,
          "y0": 41,
          "y1": 42
         },
         {
          "fillcolor": "rgba(53, 208, 255, 0.7)",
          "line": {
           "color": "rgba(53, 208, 255, 1)",
           "width": 2
          },
          "type": "rect",
          "x0": 21,
          "x1": 22,
          "y0": 42,
          "y1": 43
         },
         {
          "fillcolor": "rgba(53, 208, 255, 0.7)",
          "line": {
           "color": "rgba(53, 208, 255, 1)",
           "width": 2
          },
          "type": "rect",
          "x0": 21,
          "x1": 22,
          "y0": 43,
          "y1": 44
         },
         {
          "fillcolor": "rgba(53, 208, 255, 0.7)",
          "line": {
           "color": "rgba(53, 208, 255, 1)",
           "width": 2
          },
          "type": "rect",
          "x0": 22,
          "x1": 23,
          "y0": 44,
          "y1": 45
         },
         {
          "fillcolor": "rgba(53, 208, 255, 0.7)",
          "line": {
           "color": "rgba(53, 208, 255, 1)",
           "width": 2
          },
          "type": "rect",
          "x0": 22,
          "x1": 23,
          "y0": 45,
          "y1": 46
         },
         {
          "fillcolor": "rgba(53, 208, 255, 0.7)",
          "line": {
           "color": "rgba(53, 208, 255, 1)",
           "width": 2
          },
          "type": "rect",
          "x0": 23,
          "x1": 24,
          "y0": 46,
          "y1": 47
         },
         {
          "fillcolor": "rgba(53, 208, 255, 0.7)",
          "line": {
           "color": "rgba(53, 208, 255, 1)",
           "width": 2
          },
          "type": "rect",
          "x0": 23,
          "x1": 24,
          "y0": 47,
          "y1": 48
         },
         {
          "fillcolor": "rgba(53, 208, 255, 0.7)",
          "line": {
           "color": "rgba(53, 208, 255, 1)",
           "width": 2
          },
          "type": "rect",
          "x0": 24,
          "x1": 25,
          "y0": 48,
          "y1": 49
         },
         {
          "fillcolor": "rgba(53, 208, 255, 0.7)",
          "line": {
           "color": "rgba(53, 208, 255, 1)",
           "width": 2
          },
          "type": "rect",
          "x0": 24,
          "x1": 25,
          "y0": 49,
          "y1": 50
         },
         {
          "fillcolor": "rgba(53, 208, 255, 0.7)",
          "line": {
           "color": "rgba(53, 208, 255, 1)",
           "width": 2
          },
          "type": "rect",
          "x0": 25,
          "x1": 26,
          "y0": 50,
          "y1": 51
         },
         {
          "fillcolor": "rgba(53, 208, 255, 0.7)",
          "line": {
           "color": "rgba(53, 208, 255, 1)",
           "width": 2
          },
          "type": "rect",
          "x0": 25,
          "x1": 26,
          "y0": 51,
          "y1": 52
         },
         {
          "fillcolor": "rgba(53, 208, 255, 0.7)",
          "line": {
           "color": "rgba(53, 208, 255, 1)",
           "width": 2
          },
          "type": "rect",
          "x0": 26,
          "x1": 27,
          "y0": 52,
          "y1": 53
         },
         {
          "fillcolor": "rgba(53, 208, 255, 0.7)",
          "line": {
           "color": "rgba(53, 208, 255, 1)",
           "width": 2
          },
          "type": "rect",
          "x0": 26,
          "x1": 27,
          "y0": 53,
          "y1": 54
         },
         {
          "fillcolor": "rgba(53, 208, 255, 0.7)",
          "line": {
           "color": "rgba(53, 208, 255, 1)",
           "width": 2
          },
          "type": "rect",
          "x0": 27,
          "x1": 28,
          "y0": 54,
          "y1": 55
         },
         {
          "fillcolor": "rgba(53, 208, 255, 0.7)",
          "line": {
           "color": "rgba(53, 208, 255, 1)",
           "width": 2
          },
          "type": "rect",
          "x0": 27,
          "x1": 28,
          "y0": 55,
          "y1": 56
         },
         {
          "fillcolor": "rgba(53, 208, 255, 0.7)",
          "line": {
           "color": "rgba(53, 208, 255, 1)",
           "width": 2
          },
          "type": "rect",
          "x0": 28,
          "x1": 29,
          "y0": 56,
          "y1": 57
         },
         {
          "fillcolor": "rgba(53, 208, 255, 0.7)",
          "line": {
           "color": "rgba(53, 208, 255, 1)",
           "width": 2
          },
          "type": "rect",
          "x0": 28,
          "x1": 29,
          "y0": 57,
          "y1": 58
         },
         {
          "fillcolor": "rgba(53, 208, 255, 0.7)",
          "line": {
           "color": "rgba(53, 208, 255, 1)",
           "width": 2
          },
          "type": "rect",
          "x0": 29,
          "x1": 30,
          "y0": 58,
          "y1": 59
         },
         {
          "fillcolor": "rgba(53, 208, 255, 0.7)",
          "line": {
           "color": "rgba(53, 208, 255, 1)",
           "width": 2
          },
          "type": "rect",
          "x0": 29,
          "x1": 30,
          "y0": 59,
          "y1": 60
         },
         {
          "fillcolor": "rgba(53, 208, 255, 0.7)",
          "line": {
           "color": "rgba(53, 208, 255, 1)",
           "width": 2
          },
          "type": "rect",
          "x0": 30,
          "x1": 31,
          "y0": 60,
          "y1": 61
         },
         {
          "fillcolor": "rgba(53, 208, 255, 0.7)",
          "line": {
           "color": "rgba(53, 208, 255, 1)",
           "width": 2
          },
          "type": "rect",
          "x0": 30,
          "x1": 31,
          "y0": 61,
          "y1": 62
         },
         {
          "fillcolor": "rgba(53, 208, 255, 0.7)",
          "line": {
           "color": "rgba(53, 208, 255, 1)",
           "width": 2
          },
          "type": "rect",
          "x0": 31,
          "x1": 32,
          "y0": 62,
          "y1": 63
         },
         {
          "fillcolor": "rgba(53, 208, 255, 0.7)",
          "line": {
           "color": "rgba(53, 208, 255, 1)",
           "width": 2
          },
          "type": "rect",
          "x0": 31,
          "x1": 32,
          "y0": 63,
          "y1": 64
         },
         {
          "fillcolor": "rgba(53, 208, 255, 0.7)",
          "line": {
           "color": "rgba(53, 208, 255, 1)",
           "width": 2
          },
          "type": "rect",
          "x0": 32,
          "x1": 33,
          "y0": 64,
          "y1": 65
         },
         {
          "fillcolor": "rgba(53, 208, 255, 0.7)",
          "line": {
           "color": "rgba(53, 208, 255, 1)",
           "width": 2
          },
          "type": "rect",
          "x0": 32,
          "x1": 33,
          "y0": 65,
          "y1": 66
         },
         {
          "fillcolor": "rgba(53, 208, 255, 0.7)",
          "line": {
           "color": "rgba(53, 208, 255, 1)",
           "width": 2
          },
          "type": "rect",
          "x0": 33,
          "x1": 34,
          "y0": 66,
          "y1": 67
         },
         {
          "fillcolor": "rgba(53, 208, 255, 0.7)",
          "line": {
           "color": "rgba(53, 208, 255, 1)",
           "width": 2
          },
          "type": "rect",
          "x0": 33,
          "x1": 34,
          "y0": 67,
          "y1": 68
         },
         {
          "fillcolor": "rgba(53, 208, 255, 0.7)",
          "line": {
           "color": "rgba(53, 208, 255, 1)",
           "width": 2
          },
          "type": "rect",
          "x0": 34,
          "x1": 35,
          "y0": 68,
          "y1": 69
         },
         {
          "fillcolor": "rgba(53, 208, 255, 0.7)",
          "line": {
           "color": "rgba(53, 208, 255, 1)",
           "width": 2
          },
          "type": "rect",
          "x0": 34,
          "x1": 35,
          "y0": 69,
          "y1": 70
         },
         {
          "fillcolor": "rgba(53, 208, 255, 0.7)",
          "line": {
           "color": "rgba(53, 208, 255, 1)",
           "width": 2
          },
          "type": "rect",
          "x0": 35,
          "x1": 36,
          "y0": 70,
          "y1": 71
         },
         {
          "fillcolor": "rgba(53, 208, 255, 0.7)",
          "line": {
           "color": "rgba(53, 208, 255, 1)",
           "width": 2
          },
          "type": "rect",
          "x0": 35,
          "x1": 36,
          "y0": 71,
          "y1": 72
         },
         {
          "fillcolor": "rgba(53, 208, 255, 0.7)",
          "line": {
           "color": "rgba(53, 208, 255, 1)",
           "width": 2
          },
          "type": "rect",
          "x0": 36,
          "x1": 37,
          "y0": 72,
          "y1": 73
         },
         {
          "fillcolor": "rgba(53, 208, 255, 0.7)",
          "line": {
           "color": "rgba(53, 208, 255, 1)",
           "width": 2
          },
          "type": "rect",
          "x0": 36,
          "x1": 37,
          "y0": 73,
          "y1": 74
         },
         {
          "fillcolor": "rgba(53, 208, 255, 0.7)",
          "line": {
           "color": "rgba(53, 208, 255, 1)",
           "width": 2
          },
          "type": "rect",
          "x0": 37,
          "x1": 38,
          "y0": 74,
          "y1": 75
         },
         {
          "fillcolor": "rgba(53, 208, 255, 0.7)",
          "line": {
           "color": "rgba(53, 208, 255, 1)",
           "width": 2
          },
          "type": "rect",
          "x0": 37,
          "x1": 38,
          "y0": 75,
          "y1": 76
         },
         {
          "fillcolor": "rgba(53, 208, 255, 0.7)",
          "line": {
           "color": "rgba(53, 208, 255, 1)",
           "width": 2
          },
          "type": "rect",
          "x0": 38,
          "x1": 39,
          "y0": 76,
          "y1": 77
         },
         {
          "fillcolor": "rgba(53, 208, 255, 0.7)",
          "line": {
           "color": "rgba(53, 208, 255, 1)",
           "width": 2
          },
          "type": "rect",
          "x0": 38,
          "x1": 39,
          "y0": 77,
          "y1": 78
         },
         {
          "fillcolor": "rgba(53, 208, 255, 0.7)",
          "line": {
           "color": "rgba(53, 208, 255, 1)",
           "width": 2
          },
          "type": "rect",
          "x0": 39,
          "x1": 40,
          "y0": 78,
          "y1": 79
         },
         {
          "fillcolor": "rgba(53, 208, 255, 0.7)",
          "line": {
           "color": "rgba(53, 208, 255, 1)",
           "width": 2
          },
          "type": "rect",
          "x0": 39,
          "x1": 40,
          "y0": 79,
          "y1": 80
         },
         {
          "fillcolor": "rgba(53, 208, 255, 0.7)",
          "line": {
           "color": "rgba(53, 208, 255, 1)",
           "width": 2
          },
          "type": "rect",
          "x0": 40,
          "x1": 41,
          "y0": 80,
          "y1": 81
         },
         {
          "fillcolor": "rgba(53, 208, 255, 0.7)",
          "line": {
           "color": "rgba(53, 208, 255, 1)",
           "width": 2
          },
          "type": "rect",
          "x0": 40,
          "x1": 41,
          "y0": 81,
          "y1": 82
         },
         {
          "fillcolor": "rgba(53, 208, 255, 0.7)",
          "line": {
           "color": "rgba(53, 208, 255, 1)",
           "width": 2
          },
          "type": "rect",
          "x0": 41,
          "x1": 42,
          "y0": 82,
          "y1": 83
         },
         {
          "fillcolor": "rgba(53, 208, 255, 0.7)",
          "line": {
           "color": "rgba(53, 208, 255, 1)",
           "width": 2
          },
          "type": "rect",
          "x0": 41,
          "x1": 42,
          "y0": 83,
          "y1": 84
         },
         {
          "fillcolor": "rgba(53, 208, 255, 0.7)",
          "line": {
           "color": "rgba(53, 208, 255, 1)",
           "width": 2
          },
          "type": "rect",
          "x0": 42,
          "x1": 43,
          "y0": 84,
          "y1": 85
         },
         {
          "fillcolor": "rgba(53, 208, 255, 0.7)",
          "line": {
           "color": "rgba(53, 208, 255, 1)",
           "width": 2
          },
          "type": "rect",
          "x0": 42,
          "x1": 43,
          "y0": 85,
          "y1": 86
         },
         {
          "fillcolor": "rgba(53, 208, 255, 0.7)",
          "line": {
           "color": "rgba(53, 208, 255, 1)",
           "width": 2
          },
          "type": "rect",
          "x0": 43,
          "x1": 44,
          "y0": 86,
          "y1": 87
         },
         {
          "fillcolor": "rgba(53, 208, 255, 0.7)",
          "line": {
           "color": "rgba(53, 208, 255, 1)",
           "width": 2
          },
          "type": "rect",
          "x0": 43,
          "x1": 44,
          "y0": 87,
          "y1": 88
         },
         {
          "fillcolor": "rgba(53, 208, 255, 0.7)",
          "line": {
           "color": "rgba(53, 208, 255, 1)",
           "width": 2
          },
          "type": "rect",
          "x0": 44,
          "x1": 45,
          "y0": 88,
          "y1": 89
         },
         {
          "fillcolor": "rgba(53, 208, 255, 0.7)",
          "line": {
           "color": "rgba(53, 208, 255, 1)",
           "width": 2
          },
          "type": "rect",
          "x0": 44,
          "x1": 45,
          "y0": 89,
          "y1": 90
         },
         {
          "fillcolor": "rgba(53, 208, 255, 0.7)",
          "line": {
           "color": "rgba(53, 208, 255, 1)",
           "width": 2
          },
          "type": "rect",
          "x0": 45,
          "x1": 46,
          "y0": 90,
          "y1": 91
         },
         {
          "fillcolor": "rgba(53, 208, 255, 0.7)",
          "line": {
           "color": "rgba(53, 208, 255, 1)",
           "width": 2
          },
          "type": "rect",
          "x0": 45,
          "x1": 46,
          "y0": 91,
          "y1": 92
         },
         {
          "fillcolor": "rgba(53, 208, 255, 0.7)",
          "line": {
           "color": "rgba(53, 208, 255, 1)",
           "width": 2
          },
          "type": "rect",
          "x0": 46,
          "x1": 47,
          "y0": 92,
          "y1": 93
         },
         {
          "fillcolor": "rgba(53, 208, 255, 0.7)",
          "line": {
           "color": "rgba(53, 208, 255, 1)",
           "width": 2
          },
          "type": "rect",
          "x0": 46,
          "x1": 47,
          "y0": 93,
          "y1": 94
         },
         {
          "fillcolor": "rgba(53, 208, 255, 0.7)",
          "line": {
           "color": "rgba(53, 208, 255, 1)",
           "width": 2
          },
          "type": "rect",
          "x0": 47,
          "x1": 48,
          "y0": 94,
          "y1": 95
         },
         {
          "fillcolor": "rgba(53, 208, 255, 0.7)",
          "line": {
           "color": "rgba(53, 208, 255, 1)",
           "width": 2
          },
          "type": "rect",
          "x0": 47,
          "x1": 48,
          "y0": 95,
          "y1": 96
         },
         {
          "fillcolor": "rgba(53, 208, 255, 0.7)",
          "line": {
           "color": "rgba(53, 208, 255, 1)",
           "width": 2
          },
          "type": "rect",
          "x0": 48,
          "x1": 49,
          "y0": 96,
          "y1": 97
         },
         {
          "fillcolor": "rgba(53, 208, 255, 0.7)",
          "line": {
           "color": "rgba(53, 208, 255, 1)",
           "width": 2
          },
          "type": "rect",
          "x0": 48,
          "x1": 49,
          "y0": 97,
          "y1": 98
         },
         {
          "fillcolor": "rgba(53, 208, 255, 0.7)",
          "line": {
           "color": "rgba(53, 208, 255, 1)",
           "width": 2
          },
          "type": "rect",
          "x0": 49,
          "x1": 50,
          "y0": 98,
          "y1": 99
         },
         {
          "fillcolor": "rgba(53, 208, 255, 0.7)",
          "line": {
           "color": "rgba(53, 208, 255, 1)",
           "width": 2
          },
          "type": "rect",
          "x0": 49,
          "x1": 50,
          "y0": 99,
          "y1": 100
         }
        ],
        "xaxis": {
         "autorange": true,
         "showgrid": false
        },
        "yaxis": {
         "range": [
          0,
          102
         ]
        }
       }
      },
      "text/html": [
       "<div id=\"3902475f-191b-49a8-94f7-6da7a4a84f43\" style=\"height: 525px; width: 100%;\" class=\"plotly-graph-div\"></div><script type=\"text/javascript\">require([\"plotly\"], function(Plotly) { window.PLOTLYENV=window.PLOTLYENV || {};window.PLOTLYENV.BASE_URL=\"https://plot.ly\";Plotly.newPlot(\"3902475f-191b-49a8-94f7-6da7a4a84f43\", [{\"mode\": \"text\", \"text\": [\"Agent 0<br><b>Task 0</b>\", \"Agent 1<br><b>Task 0</b>\", \"Agent 0<br><b>Task 0</b>\", \"Agent 1<br><b>Task 0</b>\", \"Agent 0<br><b>Task 0</b>\", \"Agent 1<br><b>Task 0</b>\", \"Agent 0<br><b>Task 0</b>\", \"Agent 1<br><b>Task 0</b>\", \"Agent 0<br><b>Task 0</b>\", \"Agent 1<br><b>Task 0</b>\", \"Agent 0<br><b>Task 0</b>\", \"Agent 1<br><b>Task 0</b>\", \"Agent 0<br><b>Task 0</b>\", \"Agent 1<br><b>Task 0</b>\", \"Agent 0<br><b>Task 0</b>\", \"Agent 1<br><b>Task 0</b>\", \"Agent 0<br><b>Task 0</b>\", \"Agent 1<br><b>Task 0</b>\", \"Agent 0<br><b>Task 0</b>\", \"Agent 1<br><b>Task 0</b>\", \"Agent 0<br><b>Task 0</b>\", \"Agent 1<br><b>Task 0</b>\", \"Agent 0<br><b>Task 0</b>\", \"Agent 1<br><b>Task 0</b>\", \"Agent 0<br><b>Task 0</b>\", \"Agent 1<br><b>Task 0</b>\", \"Agent 0<br><b>Task 0</b>\", \"Agent 1<br><b>Task 0</b>\", \"Agent 0<br><b>Task 0</b>\", \"Agent 1<br><b>Task 0</b>\", \"Agent 0<br><b>Task 0</b>\", \"Agent 1<br><b>Task 0</b>\", \"Agent 0<br><b>Task 0</b>\", \"Agent 1<br><b>Task 0</b>\", \"Agent 0<br><b>Task 0</b>\", \"Agent 1<br><b>Task 0</b>\", \"Agent 0<br><b>Task 0</b>\", \"Agent 1<br><b>Task 0</b>\", \"Agent 0<br><b>Task 0</b>\", \"Agent 1<br><b>Task 0</b>\", \"Agent 0<br><b>Task 0</b>\", \"Agent 1<br><b>Task 0</b>\", \"Agent 0<br><b>Task 0</b>\", \"Agent 1<br><b>Task 0</b>\", \"Agent 0<br><b>Task 0</b>\", \"Agent 1<br><b>Task 0</b>\", \"Agent 0<br><b>Task 0</b>\", \"Agent 1<br><b>Task 0</b>\", \"Agent 0<br><b>Task 0</b>\", \"Agent 1<br><b>Task 0</b>\", \"Agent 0<br><b>Task 0</b>\", \"Agent 1<br><b>Task 0</b>\", \"Agent 0<br><b>Task 0</b>\", \"Agent 1<br><b>Task 0</b>\", \"Agent 0<br><b>Task 0</b>\", \"Agent 1<br><b>Task 0</b>\", \"Agent 0<br><b>Task 0</b>\", \"Agent 1<br><b>Task 0</b>\", \"Agent 0<br><b>Task 0</b>\", \"Agent 1<br><b>Task 0</b>\", \"Agent 0<br><b>Task 0</b>\", \"Agent 1<br><b>Task 0</b>\", \"Agent 0<br><b>Task 0</b>\", \"Agent 1<br><b>Task 0</b>\", \"Agent 0<br><b>Task 0</b>\", \"Agent 1<br><b>Task 0</b>\", \"Agent 0<br><b>Task 0</b>\", \"Agent 1<br><b>Task 0</b>\", \"Agent 0<br><b>Task 0</b>\", \"Agent 1<br><b>Task 0</b>\", \"Agent 0<br><b>Task 0</b>\", \"Agent 1<br><b>Task 0</b>\", \"Agent 0<br><b>Task 0</b>\", \"Agent 1<br><b>Task 0</b>\", \"Agent 0<br><b>Task 0</b>\", \"Agent 1<br><b>Task 0</b>\", \"Agent 0<br><b>Task 0</b>\", \"Agent 1<br><b>Task 0</b>\", \"Agent 0<br><b>Task 0</b>\", \"Agent 1<br><b>Task 0</b>\", \"Agent 0<br><b>Task 0</b>\", \"Agent 1<br><b>Task 0</b>\", \"Agent 0<br><b>Task 0</b>\", \"Agent 1<br><b>Task 0</b>\", \"Agent 0<br><b>Task 0</b>\", \"Agent 1<br><b>Task 0</b>\", \"Agent 0<br><b>Task 0</b>\", \"Agent 1<br><b>Task 0</b>\", \"Agent 0<br><b>Task 0</b>\", \"Agent 1<br><b>Task 0</b>\", \"Agent 0<br><b>Task 0</b>\", \"Agent 1<br><b>Task 0</b>\", \"Agent 0<br><b>Task 0</b>\", \"Agent 1<br><b>Task 0</b>\", \"Agent 0<br><b>Task 0</b>\", \"Agent 1<br><b>Task 0</b>\", \"Agent 0<br><b>Task 0</b>\", \"Agent 1<br><b>Task 0</b>\", \"Agent 0<br><b>Task 0</b>\", \"Agent 1<br><b>Task 0</b>\"], \"x\": [0.5, 0.5, 1.5, 1.5, 2.5, 2.5, 3.5, 3.5, 4.5, 4.5, 5.5, 5.5, 6.5, 6.5, 7.5, 7.5, 8.5, 8.5, 9.5, 9.5, 10.5, 10.5, 11.5, 11.5, 12.5, 12.5, 13.5, 13.5, 14.5, 14.5, 15.5, 15.5, 16.5, 16.5, 17.5, 17.5, 18.5, 18.5, 19.5, 19.5, 20.5, 20.5, 21.5, 21.5, 22.5, 22.5, 23.5, 23.5, 24.5, 24.5, 25.5, 25.5, 26.5, 26.5, 27.5, 27.5, 28.5, 28.5, 29.5, 29.5, 30.5, 30.5, 31.5, 31.5, 32.5, 32.5, 33.5, 33.5, 34.5, 34.5, 35.5, 35.5, 36.5, 36.5, 37.5, 37.5, 38.5, 38.5, 39.5, 39.5, 40.5, 40.5, 41.5, 41.5, 42.5, 42.5, 43.5, 43.5, 44.5, 44.5, 45.5, 45.5, 46.5, 46.5, 47.5, 47.5, 48.5, 48.5, 49.5, 49.5], \"y\": [0.5, 1.5, 2.5, 3.5, 4.5, 5.5, 6.5, 7.5, 8.5, 9.5, 10.5, 11.5, 12.5, 13.5, 14.5, 15.5, 16.5, 17.5, 18.5, 19.5, 20.5, 21.5, 22.5, 23.5, 24.5, 25.5, 26.5, 27.5, 28.5, 29.5, 30.5, 31.5, 32.5, 33.5, 34.5, 35.5, 36.5, 37.5, 38.5, 39.5, 40.5, 41.5, 42.5, 43.5, 44.5, 45.5, 46.5, 47.5, 48.5, 49.5, 50.5, 51.5, 52.5, 53.5, 54.5, 55.5, 56.5, 57.5, 58.5, 59.5, 60.5, 61.5, 62.5, 63.5, 64.5, 65.5, 66.5, 67.5, 68.5, 69.5, 70.5, 71.5, 72.5, 73.5, 74.5, 75.5, 76.5, 77.5, 78.5, 79.5, 80.5, 81.5, 82.5, 83.5, 84.5, 85.5, 86.5, 87.5, 88.5, 89.5, 90.5, 91.5, 92.5, 93.5, 94.5, 95.5, 96.5, 97.5, 98.5, 99.5], \"type\": \"scatter\", \"uid\": \"6a38d1b1-d332-4a6a-8cdf-7e98f840f212\"}], {\"shapes\": [{\"fillcolor\": \"rgba(53, 208, 255, 0.7)\", \"line\": {\"color\": \"rgba(53, 208, 255, 1)\", \"width\": 2}, \"type\": \"rect\", \"x0\": 0, \"x1\": 1, \"y0\": 0, \"y1\": 1}, {\"fillcolor\": \"rgba(53, 208, 255, 0.7)\", \"line\": {\"color\": \"rgba(53, 208, 255, 1)\", \"width\": 2}, \"type\": \"rect\", \"x0\": 0, \"x1\": 1, \"y0\": 1, \"y1\": 2}, {\"fillcolor\": \"rgba(53, 208, 255, 0.7)\", \"line\": {\"color\": \"rgba(53, 208, 255, 1)\", \"width\": 2}, \"type\": \"rect\", \"x0\": 1, \"x1\": 2, \"y0\": 2, \"y1\": 3}, {\"fillcolor\": \"rgba(53, 208, 255, 0.7)\", \"line\": {\"color\": \"rgba(53, 208, 255, 1)\", \"width\": 2}, \"type\": \"rect\", \"x0\": 1, \"x1\": 2, \"y0\": 3, \"y1\": 4}, {\"fillcolor\": \"rgba(53, 208, 255, 0.7)\", \"line\": {\"color\": \"rgba(53, 208, 255, 1)\", \"width\": 2}, \"type\": \"rect\", \"x0\": 2, \"x1\": 3, \"y0\": 4, \"y1\": 5}, {\"fillcolor\": \"rgba(53, 208, 255, 0.7)\", \"line\": {\"color\": \"rgba(53, 208, 255, 1)\", \"width\": 2}, \"type\": \"rect\", \"x0\": 2, \"x1\": 3, \"y0\": 5, \"y1\": 6}, {\"fillcolor\": \"rgba(53, 208, 255, 0.7)\", \"line\": {\"color\": \"rgba(53, 208, 255, 1)\", \"width\": 2}, \"type\": \"rect\", \"x0\": 3, \"x1\": 4, \"y0\": 6, \"y1\": 7}, {\"fillcolor\": \"rgba(53, 208, 255, 0.7)\", \"line\": {\"color\": \"rgba(53, 208, 255, 1)\", \"width\": 2}, \"type\": \"rect\", \"x0\": 3, \"x1\": 4, \"y0\": 7, \"y1\": 8}, {\"fillcolor\": \"rgba(53, 208, 255, 0.7)\", \"line\": {\"color\": \"rgba(53, 208, 255, 1)\", \"width\": 2}, \"type\": \"rect\", \"x0\": 4, \"x1\": 5, \"y0\": 8, \"y1\": 9}, {\"fillcolor\": \"rgba(53, 208, 255, 0.7)\", \"line\": {\"color\": \"rgba(53, 208, 255, 1)\", \"width\": 2}, \"type\": \"rect\", \"x0\": 4, \"x1\": 5, \"y0\": 9, \"y1\": 10}, {\"fillcolor\": \"rgba(53, 208, 255, 0.7)\", \"line\": {\"color\": \"rgba(53, 208, 255, 1)\", \"width\": 2}, \"type\": \"rect\", \"x0\": 5, \"x1\": 6, \"y0\": 10, \"y1\": 11}, {\"fillcolor\": \"rgba(53, 208, 255, 0.7)\", \"line\": {\"color\": \"rgba(53, 208, 255, 1)\", \"width\": 2}, \"type\": \"rect\", \"x0\": 5, \"x1\": 6, \"y0\": 11, \"y1\": 12}, {\"fillcolor\": \"rgba(53, 208, 255, 0.7)\", \"line\": {\"color\": \"rgba(53, 208, 255, 1)\", \"width\": 2}, \"type\": \"rect\", \"x0\": 6, \"x1\": 7, \"y0\": 12, \"y1\": 13}, {\"fillcolor\": \"rgba(53, 208, 255, 0.7)\", \"line\": {\"color\": \"rgba(53, 208, 255, 1)\", \"width\": 2}, \"type\": \"rect\", \"x0\": 6, \"x1\": 7, \"y0\": 13, \"y1\": 14}, {\"fillcolor\": \"rgba(53, 208, 255, 0.7)\", \"line\": {\"color\": \"rgba(53, 208, 255, 1)\", \"width\": 2}, \"type\": \"rect\", \"x0\": 7, \"x1\": 8, \"y0\": 14, \"y1\": 15}, {\"fillcolor\": \"rgba(53, 208, 255, 0.7)\", \"line\": {\"color\": \"rgba(53, 208, 255, 1)\", \"width\": 2}, \"type\": \"rect\", \"x0\": 7, \"x1\": 8, \"y0\": 15, \"y1\": 16}, {\"fillcolor\": \"rgba(53, 208, 255, 0.7)\", \"line\": {\"color\": \"rgba(53, 208, 255, 1)\", \"width\": 2}, \"type\": \"rect\", \"x0\": 8, \"x1\": 9, \"y0\": 16, \"y1\": 17}, {\"fillcolor\": \"rgba(53, 208, 255, 0.7)\", \"line\": {\"color\": \"rgba(53, 208, 255, 1)\", \"width\": 2}, \"type\": \"rect\", \"x0\": 8, \"x1\": 9, \"y0\": 17, \"y1\": 18}, {\"fillcolor\": \"rgba(53, 208, 255, 0.7)\", \"line\": {\"color\": \"rgba(53, 208, 255, 1)\", \"width\": 2}, \"type\": \"rect\", \"x0\": 9, \"x1\": 10, \"y0\": 18, \"y1\": 19}, {\"fillcolor\": \"rgba(53, 208, 255, 0.7)\", \"line\": {\"color\": \"rgba(53, 208, 255, 1)\", \"width\": 2}, \"type\": \"rect\", \"x0\": 9, \"x1\": 10, \"y0\": 19, \"y1\": 20}, {\"fillcolor\": \"rgba(53, 208, 255, 0.7)\", \"line\": {\"color\": \"rgba(53, 208, 255, 1)\", \"width\": 2}, \"type\": \"rect\", \"x0\": 10, \"x1\": 11, \"y0\": 20, \"y1\": 21}, {\"fillcolor\": \"rgba(53, 208, 255, 0.7)\", \"line\": {\"color\": \"rgba(53, 208, 255, 1)\", \"width\": 2}, \"type\": \"rect\", \"x0\": 10, \"x1\": 11, \"y0\": 21, \"y1\": 22}, {\"fillcolor\": \"rgba(53, 208, 255, 0.7)\", \"line\": {\"color\": \"rgba(53, 208, 255, 1)\", \"width\": 2}, \"type\": \"rect\", \"x0\": 11, \"x1\": 12, \"y0\": 22, \"y1\": 23}, {\"fillcolor\": \"rgba(53, 208, 255, 0.7)\", \"line\": {\"color\": \"rgba(53, 208, 255, 1)\", \"width\": 2}, \"type\": \"rect\", \"x0\": 11, \"x1\": 12, \"y0\": 23, \"y1\": 24}, {\"fillcolor\": \"rgba(53, 208, 255, 0.7)\", \"line\": {\"color\": \"rgba(53, 208, 255, 1)\", \"width\": 2}, \"type\": \"rect\", \"x0\": 12, \"x1\": 13, \"y0\": 24, \"y1\": 25}, {\"fillcolor\": \"rgba(53, 208, 255, 0.7)\", \"line\": {\"color\": \"rgba(53, 208, 255, 1)\", \"width\": 2}, \"type\": \"rect\", \"x0\": 12, \"x1\": 13, \"y0\": 25, \"y1\": 26}, {\"fillcolor\": \"rgba(53, 208, 255, 0.7)\", \"line\": {\"color\": \"rgba(53, 208, 255, 1)\", \"width\": 2}, \"type\": \"rect\", \"x0\": 13, \"x1\": 14, \"y0\": 26, \"y1\": 27}, {\"fillcolor\": \"rgba(53, 208, 255, 0.7)\", \"line\": {\"color\": \"rgba(53, 208, 255, 1)\", \"width\": 2}, \"type\": \"rect\", \"x0\": 13, \"x1\": 14, \"y0\": 27, \"y1\": 28}, {\"fillcolor\": \"rgba(53, 208, 255, 0.7)\", \"line\": {\"color\": \"rgba(53, 208, 255, 1)\", \"width\": 2}, \"type\": \"rect\", \"x0\": 14, \"x1\": 15, \"y0\": 28, \"y1\": 29}, {\"fillcolor\": \"rgba(53, 208, 255, 0.7)\", \"line\": {\"color\": \"rgba(53, 208, 255, 1)\", \"width\": 2}, \"type\": \"rect\", \"x0\": 14, \"x1\": 15, \"y0\": 29, \"y1\": 30}, {\"fillcolor\": \"rgba(53, 208, 255, 0.7)\", \"line\": {\"color\": \"rgba(53, 208, 255, 1)\", \"width\": 2}, \"type\": \"rect\", \"x0\": 15, \"x1\": 16, \"y0\": 30, \"y1\": 31}, {\"fillcolor\": \"rgba(53, 208, 255, 0.7)\", \"line\": {\"color\": \"rgba(53, 208, 255, 1)\", \"width\": 2}, \"type\": \"rect\", \"x0\": 15, \"x1\": 16, \"y0\": 31, \"y1\": 32}, {\"fillcolor\": \"rgba(53, 208, 255, 0.7)\", \"line\": {\"color\": \"rgba(53, 208, 255, 1)\", \"width\": 2}, \"type\": \"rect\", \"x0\": 16, \"x1\": 17, \"y0\": 32, \"y1\": 33}, {\"fillcolor\": \"rgba(53, 208, 255, 0.7)\", \"line\": {\"color\": \"rgba(53, 208, 255, 1)\", \"width\": 2}, \"type\": \"rect\", \"x0\": 16, \"x1\": 17, \"y0\": 33, \"y1\": 34}, {\"fillcolor\": \"rgba(53, 208, 255, 0.7)\", \"line\": {\"color\": \"rgba(53, 208, 255, 1)\", \"width\": 2}, \"type\": \"rect\", \"x0\": 17, \"x1\": 18, \"y0\": 34, \"y1\": 35}, {\"fillcolor\": \"rgba(53, 208, 255, 0.7)\", \"line\": {\"color\": \"rgba(53, 208, 255, 1)\", \"width\": 2}, \"type\": \"rect\", \"x0\": 17, \"x1\": 18, \"y0\": 35, \"y1\": 36}, {\"fillcolor\": \"rgba(53, 208, 255, 0.7)\", \"line\": {\"color\": \"rgba(53, 208, 255, 1)\", \"width\": 2}, \"type\": \"rect\", \"x0\": 18, \"x1\": 19, \"y0\": 36, \"y1\": 37}, {\"fillcolor\": \"rgba(53, 208, 255, 0.7)\", \"line\": {\"color\": \"rgba(53, 208, 255, 1)\", \"width\": 2}, \"type\": \"rect\", \"x0\": 18, \"x1\": 19, \"y0\": 37, \"y1\": 38}, {\"fillcolor\": \"rgba(53, 208, 255, 0.7)\", \"line\": {\"color\": \"rgba(53, 208, 255, 1)\", \"width\": 2}, \"type\": \"rect\", \"x0\": 19, \"x1\": 20, \"y0\": 38, \"y1\": 39}, {\"fillcolor\": \"rgba(53, 208, 255, 0.7)\", \"line\": {\"color\": \"rgba(53, 208, 255, 1)\", \"width\": 2}, \"type\": \"rect\", \"x0\": 19, \"x1\": 20, \"y0\": 39, \"y1\": 40}, {\"fillcolor\": \"rgba(53, 208, 255, 0.7)\", \"line\": {\"color\": \"rgba(53, 208, 255, 1)\", \"width\": 2}, \"type\": \"rect\", \"x0\": 20, \"x1\": 21, \"y0\": 40, \"y1\": 41}, {\"fillcolor\": \"rgba(53, 208, 255, 0.7)\", \"line\": {\"color\": \"rgba(53, 208, 255, 1)\", \"width\": 2}, \"type\": \"rect\", \"x0\": 20, \"x1\": 21, \"y0\": 41, \"y1\": 42}, {\"fillcolor\": \"rgba(53, 208, 255, 0.7)\", \"line\": {\"color\": \"rgba(53, 208, 255, 1)\", \"width\": 2}, \"type\": \"rect\", \"x0\": 21, \"x1\": 22, \"y0\": 42, \"y1\": 43}, {\"fillcolor\": \"rgba(53, 208, 255, 0.7)\", \"line\": {\"color\": \"rgba(53, 208, 255, 1)\", \"width\": 2}, \"type\": \"rect\", \"x0\": 21, \"x1\": 22, \"y0\": 43, \"y1\": 44}, {\"fillcolor\": \"rgba(53, 208, 255, 0.7)\", \"line\": {\"color\": \"rgba(53, 208, 255, 1)\", \"width\": 2}, \"type\": \"rect\", \"x0\": 22, \"x1\": 23, \"y0\": 44, \"y1\": 45}, {\"fillcolor\": \"rgba(53, 208, 255, 0.7)\", \"line\": {\"color\": \"rgba(53, 208, 255, 1)\", \"width\": 2}, \"type\": \"rect\", \"x0\": 22, \"x1\": 23, \"y0\": 45, \"y1\": 46}, {\"fillcolor\": \"rgba(53, 208, 255, 0.7)\", \"line\": {\"color\": \"rgba(53, 208, 255, 1)\", \"width\": 2}, \"type\": \"rect\", \"x0\": 23, \"x1\": 24, \"y0\": 46, \"y1\": 47}, {\"fillcolor\": \"rgba(53, 208, 255, 0.7)\", \"line\": {\"color\": \"rgba(53, 208, 255, 1)\", \"width\": 2}, \"type\": \"rect\", \"x0\": 23, \"x1\": 24, \"y0\": 47, \"y1\": 48}, {\"fillcolor\": \"rgba(53, 208, 255, 0.7)\", \"line\": {\"color\": \"rgba(53, 208, 255, 1)\", \"width\": 2}, \"type\": \"rect\", \"x0\": 24, \"x1\": 25, \"y0\": 48, \"y1\": 49}, {\"fillcolor\": \"rgba(53, 208, 255, 0.7)\", \"line\": {\"color\": \"rgba(53, 208, 255, 1)\", \"width\": 2}, \"type\": \"rect\", \"x0\": 24, \"x1\": 25, \"y0\": 49, \"y1\": 50}, {\"fillcolor\": \"rgba(53, 208, 255, 0.7)\", \"line\": {\"color\": \"rgba(53, 208, 255, 1)\", \"width\": 2}, \"type\": \"rect\", \"x0\": 25, \"x1\": 26, \"y0\": 50, \"y1\": 51}, {\"fillcolor\": \"rgba(53, 208, 255, 0.7)\", \"line\": {\"color\": \"rgba(53, 208, 255, 1)\", \"width\": 2}, \"type\": \"rect\", \"x0\": 25, \"x1\": 26, \"y0\": 51, \"y1\": 52}, {\"fillcolor\": \"rgba(53, 208, 255, 0.7)\", \"line\": {\"color\": \"rgba(53, 208, 255, 1)\", \"width\": 2}, \"type\": \"rect\", \"x0\": 26, \"x1\": 27, \"y0\": 52, \"y1\": 53}, {\"fillcolor\": \"rgba(53, 208, 255, 0.7)\", \"line\": {\"color\": \"rgba(53, 208, 255, 1)\", \"width\": 2}, \"type\": \"rect\", \"x0\": 26, \"x1\": 27, \"y0\": 53, \"y1\": 54}, {\"fillcolor\": \"rgba(53, 208, 255, 0.7)\", \"line\": {\"color\": \"rgba(53, 208, 255, 1)\", \"width\": 2}, \"type\": \"rect\", \"x0\": 27, \"x1\": 28, \"y0\": 54, \"y1\": 55}, {\"fillcolor\": \"rgba(53, 208, 255, 0.7)\", \"line\": {\"color\": \"rgba(53, 208, 255, 1)\", \"width\": 2}, \"type\": \"rect\", \"x0\": 27, \"x1\": 28, \"y0\": 55, \"y1\": 56}, {\"fillcolor\": \"rgba(53, 208, 255, 0.7)\", \"line\": {\"color\": \"rgba(53, 208, 255, 1)\", \"width\": 2}, \"type\": \"rect\", \"x0\": 28, \"x1\": 29, \"y0\": 56, \"y1\": 57}, {\"fillcolor\": \"rgba(53, 208, 255, 0.7)\", \"line\": {\"color\": \"rgba(53, 208, 255, 1)\", \"width\": 2}, \"type\": \"rect\", \"x0\": 28, \"x1\": 29, \"y0\": 57, \"y1\": 58}, {\"fillcolor\": \"rgba(53, 208, 255, 0.7)\", \"line\": {\"color\": \"rgba(53, 208, 255, 1)\", \"width\": 2}, \"type\": \"rect\", \"x0\": 29, \"x1\": 30, \"y0\": 58, \"y1\": 59}, {\"fillcolor\": \"rgba(53, 208, 255, 0.7)\", \"line\": {\"color\": \"rgba(53, 208, 255, 1)\", \"width\": 2}, \"type\": \"rect\", \"x0\": 29, \"x1\": 30, \"y0\": 59, \"y1\": 60}, {\"fillcolor\": \"rgba(53, 208, 255, 0.7)\", \"line\": {\"color\": \"rgba(53, 208, 255, 1)\", \"width\": 2}, \"type\": \"rect\", \"x0\": 30, \"x1\": 31, \"y0\": 60, \"y1\": 61}, {\"fillcolor\": \"rgba(53, 208, 255, 0.7)\", \"line\": {\"color\": \"rgba(53, 208, 255, 1)\", \"width\": 2}, \"type\": \"rect\", \"x0\": 30, \"x1\": 31, \"y0\": 61, \"y1\": 62}, {\"fillcolor\": \"rgba(53, 208, 255, 0.7)\", \"line\": {\"color\": \"rgba(53, 208, 255, 1)\", \"width\": 2}, \"type\": \"rect\", \"x0\": 31, \"x1\": 32, \"y0\": 62, \"y1\": 63}, {\"fillcolor\": \"rgba(53, 208, 255, 0.7)\", \"line\": {\"color\": \"rgba(53, 208, 255, 1)\", \"width\": 2}, \"type\": \"rect\", \"x0\": 31, \"x1\": 32, \"y0\": 63, \"y1\": 64}, {\"fillcolor\": \"rgba(53, 208, 255, 0.7)\", \"line\": {\"color\": \"rgba(53, 208, 255, 1)\", \"width\": 2}, \"type\": \"rect\", \"x0\": 32, \"x1\": 33, \"y0\": 64, \"y1\": 65}, {\"fillcolor\": \"rgba(53, 208, 255, 0.7)\", \"line\": {\"color\": \"rgba(53, 208, 255, 1)\", \"width\": 2}, \"type\": \"rect\", \"x0\": 32, \"x1\": 33, \"y0\": 65, \"y1\": 66}, {\"fillcolor\": \"rgba(53, 208, 255, 0.7)\", \"line\": {\"color\": \"rgba(53, 208, 255, 1)\", \"width\": 2}, \"type\": \"rect\", \"x0\": 33, \"x1\": 34, \"y0\": 66, \"y1\": 67}, {\"fillcolor\": \"rgba(53, 208, 255, 0.7)\", \"line\": {\"color\": \"rgba(53, 208, 255, 1)\", \"width\": 2}, \"type\": \"rect\", \"x0\": 33, \"x1\": 34, \"y0\": 67, \"y1\": 68}, {\"fillcolor\": \"rgba(53, 208, 255, 0.7)\", \"line\": {\"color\": \"rgba(53, 208, 255, 1)\", \"width\": 2}, \"type\": \"rect\", \"x0\": 34, \"x1\": 35, \"y0\": 68, \"y1\": 69}, {\"fillcolor\": \"rgba(53, 208, 255, 0.7)\", \"line\": {\"color\": \"rgba(53, 208, 255, 1)\", \"width\": 2}, \"type\": \"rect\", \"x0\": 34, \"x1\": 35, \"y0\": 69, \"y1\": 70}, {\"fillcolor\": \"rgba(53, 208, 255, 0.7)\", \"line\": {\"color\": \"rgba(53, 208, 255, 1)\", \"width\": 2}, \"type\": \"rect\", \"x0\": 35, \"x1\": 36, \"y0\": 70, \"y1\": 71}, {\"fillcolor\": \"rgba(53, 208, 255, 0.7)\", \"line\": {\"color\": \"rgba(53, 208, 255, 1)\", \"width\": 2}, \"type\": \"rect\", \"x0\": 35, \"x1\": 36, \"y0\": 71, \"y1\": 72}, {\"fillcolor\": \"rgba(53, 208, 255, 0.7)\", \"line\": {\"color\": \"rgba(53, 208, 255, 1)\", \"width\": 2}, \"type\": \"rect\", \"x0\": 36, \"x1\": 37, \"y0\": 72, \"y1\": 73}, {\"fillcolor\": \"rgba(53, 208, 255, 0.7)\", \"line\": {\"color\": \"rgba(53, 208, 255, 1)\", \"width\": 2}, \"type\": \"rect\", \"x0\": 36, \"x1\": 37, \"y0\": 73, \"y1\": 74}, {\"fillcolor\": \"rgba(53, 208, 255, 0.7)\", \"line\": {\"color\": \"rgba(53, 208, 255, 1)\", \"width\": 2}, \"type\": \"rect\", \"x0\": 37, \"x1\": 38, \"y0\": 74, \"y1\": 75}, {\"fillcolor\": \"rgba(53, 208, 255, 0.7)\", \"line\": {\"color\": \"rgba(53, 208, 255, 1)\", \"width\": 2}, \"type\": \"rect\", \"x0\": 37, \"x1\": 38, \"y0\": 75, \"y1\": 76}, {\"fillcolor\": \"rgba(53, 208, 255, 0.7)\", \"line\": {\"color\": \"rgba(53, 208, 255, 1)\", \"width\": 2}, \"type\": \"rect\", \"x0\": 38, \"x1\": 39, \"y0\": 76, \"y1\": 77}, {\"fillcolor\": \"rgba(53, 208, 255, 0.7)\", \"line\": {\"color\": \"rgba(53, 208, 255, 1)\", \"width\": 2}, \"type\": \"rect\", \"x0\": 38, \"x1\": 39, \"y0\": 77, \"y1\": 78}, {\"fillcolor\": \"rgba(53, 208, 255, 0.7)\", \"line\": {\"color\": \"rgba(53, 208, 255, 1)\", \"width\": 2}, \"type\": \"rect\", \"x0\": 39, \"x1\": 40, \"y0\": 78, \"y1\": 79}, {\"fillcolor\": \"rgba(53, 208, 255, 0.7)\", \"line\": {\"color\": \"rgba(53, 208, 255, 1)\", \"width\": 2}, \"type\": \"rect\", \"x0\": 39, \"x1\": 40, \"y0\": 79, \"y1\": 80}, {\"fillcolor\": \"rgba(53, 208, 255, 0.7)\", \"line\": {\"color\": \"rgba(53, 208, 255, 1)\", \"width\": 2}, \"type\": \"rect\", \"x0\": 40, \"x1\": 41, \"y0\": 80, \"y1\": 81}, {\"fillcolor\": \"rgba(53, 208, 255, 0.7)\", \"line\": {\"color\": \"rgba(53, 208, 255, 1)\", \"width\": 2}, \"type\": \"rect\", \"x0\": 40, \"x1\": 41, \"y0\": 81, \"y1\": 82}, {\"fillcolor\": \"rgba(53, 208, 255, 0.7)\", \"line\": {\"color\": \"rgba(53, 208, 255, 1)\", \"width\": 2}, \"type\": \"rect\", \"x0\": 41, \"x1\": 42, \"y0\": 82, \"y1\": 83}, {\"fillcolor\": \"rgba(53, 208, 255, 0.7)\", \"line\": {\"color\": \"rgba(53, 208, 255, 1)\", \"width\": 2}, \"type\": \"rect\", \"x0\": 41, \"x1\": 42, \"y0\": 83, \"y1\": 84}, {\"fillcolor\": \"rgba(53, 208, 255, 0.7)\", \"line\": {\"color\": \"rgba(53, 208, 255, 1)\", \"width\": 2}, \"type\": \"rect\", \"x0\": 42, \"x1\": 43, \"y0\": 84, \"y1\": 85}, {\"fillcolor\": \"rgba(53, 208, 255, 0.7)\", \"line\": {\"color\": \"rgba(53, 208, 255, 1)\", \"width\": 2}, \"type\": \"rect\", \"x0\": 42, \"x1\": 43, \"y0\": 85, \"y1\": 86}, {\"fillcolor\": \"rgba(53, 208, 255, 0.7)\", \"line\": {\"color\": \"rgba(53, 208, 255, 1)\", \"width\": 2}, \"type\": \"rect\", \"x0\": 43, \"x1\": 44, \"y0\": 86, \"y1\": 87}, {\"fillcolor\": \"rgba(53, 208, 255, 0.7)\", \"line\": {\"color\": \"rgba(53, 208, 255, 1)\", \"width\": 2}, \"type\": \"rect\", \"x0\": 43, \"x1\": 44, \"y0\": 87, \"y1\": 88}, {\"fillcolor\": \"rgba(53, 208, 255, 0.7)\", \"line\": {\"color\": \"rgba(53, 208, 255, 1)\", \"width\": 2}, \"type\": \"rect\", \"x0\": 44, \"x1\": 45, \"y0\": 88, \"y1\": 89}, {\"fillcolor\": \"rgba(53, 208, 255, 0.7)\", \"line\": {\"color\": \"rgba(53, 208, 255, 1)\", \"width\": 2}, \"type\": \"rect\", \"x0\": 44, \"x1\": 45, \"y0\": 89, \"y1\": 90}, {\"fillcolor\": \"rgba(53, 208, 255, 0.7)\", \"line\": {\"color\": \"rgba(53, 208, 255, 1)\", \"width\": 2}, \"type\": \"rect\", \"x0\": 45, \"x1\": 46, \"y0\": 90, \"y1\": 91}, {\"fillcolor\": \"rgba(53, 208, 255, 0.7)\", \"line\": {\"color\": \"rgba(53, 208, 255, 1)\", \"width\": 2}, \"type\": \"rect\", \"x0\": 45, \"x1\": 46, \"y0\": 91, \"y1\": 92}, {\"fillcolor\": \"rgba(53, 208, 255, 0.7)\", \"line\": {\"color\": \"rgba(53, 208, 255, 1)\", \"width\": 2}, \"type\": \"rect\", \"x0\": 46, \"x1\": 47, \"y0\": 92, \"y1\": 93}, {\"fillcolor\": \"rgba(53, 208, 255, 0.7)\", \"line\": {\"color\": \"rgba(53, 208, 255, 1)\", \"width\": 2}, \"type\": \"rect\", \"x0\": 46, \"x1\": 47, \"y0\": 93, \"y1\": 94}, {\"fillcolor\": \"rgba(53, 208, 255, 0.7)\", \"line\": {\"color\": \"rgba(53, 208, 255, 1)\", \"width\": 2}, \"type\": \"rect\", \"x0\": 47, \"x1\": 48, \"y0\": 94, \"y1\": 95}, {\"fillcolor\": \"rgba(53, 208, 255, 0.7)\", \"line\": {\"color\": \"rgba(53, 208, 255, 1)\", \"width\": 2}, \"type\": \"rect\", \"x0\": 47, \"x1\": 48, \"y0\": 95, \"y1\": 96}, {\"fillcolor\": \"rgba(53, 208, 255, 0.7)\", \"line\": {\"color\": \"rgba(53, 208, 255, 1)\", \"width\": 2}, \"type\": \"rect\", \"x0\": 48, \"x1\": 49, \"y0\": 96, \"y1\": 97}, {\"fillcolor\": \"rgba(53, 208, 255, 0.7)\", \"line\": {\"color\": \"rgba(53, 208, 255, 1)\", \"width\": 2}, \"type\": \"rect\", \"x0\": 48, \"x1\": 49, \"y0\": 97, \"y1\": 98}, {\"fillcolor\": \"rgba(53, 208, 255, 0.7)\", \"line\": {\"color\": \"rgba(53, 208, 255, 1)\", \"width\": 2}, \"type\": \"rect\", \"x0\": 49, \"x1\": 50, \"y0\": 98, \"y1\": 99}, {\"fillcolor\": \"rgba(53, 208, 255, 0.7)\", \"line\": {\"color\": \"rgba(53, 208, 255, 1)\", \"width\": 2}, \"type\": \"rect\", \"x0\": 49, \"x1\": 50, \"y0\": 99, \"y1\": 100}], \"xaxis\": {\"autorange\": true, \"showgrid\": false}, \"yaxis\": {\"range\": [0, 102]}}, {\"showLink\": true, \"linkText\": \"Export to plot.ly\", \"plotlyServerURL\": \"https://plot.ly\"})});</script><script type=\"text/javascript\">window.addEventListener(\"resize\", function(){window._Plotly.Plots.resize(document.getElementById(\"3902475f-191b-49a8-94f7-6da7a4a84f43\"));});</script>"
      ],
      "text/vnd.plotly.v1+html": [
       "<div id=\"3902475f-191b-49a8-94f7-6da7a4a84f43\" style=\"height: 525px; width: 100%;\" class=\"plotly-graph-div\"></div><script type=\"text/javascript\">require([\"plotly\"], function(Plotly) { window.PLOTLYENV=window.PLOTLYENV || {};window.PLOTLYENV.BASE_URL=\"https://plot.ly\";Plotly.newPlot(\"3902475f-191b-49a8-94f7-6da7a4a84f43\", [{\"mode\": \"text\", \"text\": [\"Agent 0<br><b>Task 0</b>\", \"Agent 1<br><b>Task 0</b>\", \"Agent 0<br><b>Task 0</b>\", \"Agent 1<br><b>Task 0</b>\", \"Agent 0<br><b>Task 0</b>\", \"Agent 1<br><b>Task 0</b>\", \"Agent 0<br><b>Task 0</b>\", \"Agent 1<br><b>Task 0</b>\", \"Agent 0<br><b>Task 0</b>\", \"Agent 1<br><b>Task 0</b>\", \"Agent 0<br><b>Task 0</b>\", \"Agent 1<br><b>Task 0</b>\", \"Agent 0<br><b>Task 0</b>\", \"Agent 1<br><b>Task 0</b>\", \"Agent 0<br><b>Task 0</b>\", \"Agent 1<br><b>Task 0</b>\", \"Agent 0<br><b>Task 0</b>\", \"Agent 1<br><b>Task 0</b>\", \"Agent 0<br><b>Task 0</b>\", \"Agent 1<br><b>Task 0</b>\", \"Agent 0<br><b>Task 0</b>\", \"Agent 1<br><b>Task 0</b>\", \"Agent 0<br><b>Task 0</b>\", \"Agent 1<br><b>Task 0</b>\", \"Agent 0<br><b>Task 0</b>\", \"Agent 1<br><b>Task 0</b>\", \"Agent 0<br><b>Task 0</b>\", \"Agent 1<br><b>Task 0</b>\", \"Agent 0<br><b>Task 0</b>\", \"Agent 1<br><b>Task 0</b>\", \"Agent 0<br><b>Task 0</b>\", \"Agent 1<br><b>Task 0</b>\", \"Agent 0<br><b>Task 0</b>\", \"Agent 1<br><b>Task 0</b>\", \"Agent 0<br><b>Task 0</b>\", \"Agent 1<br><b>Task 0</b>\", \"Agent 0<br><b>Task 0</b>\", \"Agent 1<br><b>Task 0</b>\", \"Agent 0<br><b>Task 0</b>\", \"Agent 1<br><b>Task 0</b>\", \"Agent 0<br><b>Task 0</b>\", \"Agent 1<br><b>Task 0</b>\", \"Agent 0<br><b>Task 0</b>\", \"Agent 1<br><b>Task 0</b>\", \"Agent 0<br><b>Task 0</b>\", \"Agent 1<br><b>Task 0</b>\", \"Agent 0<br><b>Task 0</b>\", \"Agent 1<br><b>Task 0</b>\", \"Agent 0<br><b>Task 0</b>\", \"Agent 1<br><b>Task 0</b>\", \"Agent 0<br><b>Task 0</b>\", \"Agent 1<br><b>Task 0</b>\", \"Agent 0<br><b>Task 0</b>\", \"Agent 1<br><b>Task 0</b>\", \"Agent 0<br><b>Task 0</b>\", \"Agent 1<br><b>Task 0</b>\", \"Agent 0<br><b>Task 0</b>\", \"Agent 1<br><b>Task 0</b>\", \"Agent 0<br><b>Task 0</b>\", \"Agent 1<br><b>Task 0</b>\", \"Agent 0<br><b>Task 0</b>\", \"Agent 1<br><b>Task 0</b>\", \"Agent 0<br><b>Task 0</b>\", \"Agent 1<br><b>Task 0</b>\", \"Agent 0<br><b>Task 0</b>\", \"Agent 1<br><b>Task 0</b>\", \"Agent 0<br><b>Task 0</b>\", \"Agent 1<br><b>Task 0</b>\", \"Agent 0<br><b>Task 0</b>\", \"Agent 1<br><b>Task 0</b>\", \"Agent 0<br><b>Task 0</b>\", \"Agent 1<br><b>Task 0</b>\", \"Agent 0<br><b>Task 0</b>\", \"Agent 1<br><b>Task 0</b>\", \"Agent 0<br><b>Task 0</b>\", \"Agent 1<br><b>Task 0</b>\", \"Agent 0<br><b>Task 0</b>\", \"Agent 1<br><b>Task 0</b>\", \"Agent 0<br><b>Task 0</b>\", \"Agent 1<br><b>Task 0</b>\", \"Agent 0<br><b>Task 0</b>\", \"Agent 1<br><b>Task 0</b>\", \"Agent 0<br><b>Task 0</b>\", \"Agent 1<br><b>Task 0</b>\", \"Agent 0<br><b>Task 0</b>\", \"Agent 1<br><b>Task 0</b>\", \"Agent 0<br><b>Task 0</b>\", \"Agent 1<br><b>Task 0</b>\", \"Agent 0<br><b>Task 0</b>\", \"Agent 1<br><b>Task 0</b>\", \"Agent 0<br><b>Task 0</b>\", \"Agent 1<br><b>Task 0</b>\", \"Agent 0<br><b>Task 0</b>\", \"Agent 1<br><b>Task 0</b>\", \"Agent 0<br><b>Task 0</b>\", \"Agent 1<br><b>Task 0</b>\", \"Agent 0<br><b>Task 0</b>\", \"Agent 1<br><b>Task 0</b>\", \"Agent 0<br><b>Task 0</b>\", \"Agent 1<br><b>Task 0</b>\"], \"x\": [0.5, 0.5, 1.5, 1.5, 2.5, 2.5, 3.5, 3.5, 4.5, 4.5, 5.5, 5.5, 6.5, 6.5, 7.5, 7.5, 8.5, 8.5, 9.5, 9.5, 10.5, 10.5, 11.5, 11.5, 12.5, 12.5, 13.5, 13.5, 14.5, 14.5, 15.5, 15.5, 16.5, 16.5, 17.5, 17.5, 18.5, 18.5, 19.5, 19.5, 20.5, 20.5, 21.5, 21.5, 22.5, 22.5, 23.5, 23.5, 24.5, 24.5, 25.5, 25.5, 26.5, 26.5, 27.5, 27.5, 28.5, 28.5, 29.5, 29.5, 30.5, 30.5, 31.5, 31.5, 32.5, 32.5, 33.5, 33.5, 34.5, 34.5, 35.5, 35.5, 36.5, 36.5, 37.5, 37.5, 38.5, 38.5, 39.5, 39.5, 40.5, 40.5, 41.5, 41.5, 42.5, 42.5, 43.5, 43.5, 44.5, 44.5, 45.5, 45.5, 46.5, 46.5, 47.5, 47.5, 48.5, 48.5, 49.5, 49.5], \"y\": [0.5, 1.5, 2.5, 3.5, 4.5, 5.5, 6.5, 7.5, 8.5, 9.5, 10.5, 11.5, 12.5, 13.5, 14.5, 15.5, 16.5, 17.5, 18.5, 19.5, 20.5, 21.5, 22.5, 23.5, 24.5, 25.5, 26.5, 27.5, 28.5, 29.5, 30.5, 31.5, 32.5, 33.5, 34.5, 35.5, 36.5, 37.5, 38.5, 39.5, 40.5, 41.5, 42.5, 43.5, 44.5, 45.5, 46.5, 47.5, 48.5, 49.5, 50.5, 51.5, 52.5, 53.5, 54.5, 55.5, 56.5, 57.5, 58.5, 59.5, 60.5, 61.5, 62.5, 63.5, 64.5, 65.5, 66.5, 67.5, 68.5, 69.5, 70.5, 71.5, 72.5, 73.5, 74.5, 75.5, 76.5, 77.5, 78.5, 79.5, 80.5, 81.5, 82.5, 83.5, 84.5, 85.5, 86.5, 87.5, 88.5, 89.5, 90.5, 91.5, 92.5, 93.5, 94.5, 95.5, 96.5, 97.5, 98.5, 99.5], \"type\": \"scatter\", \"uid\": \"6a38d1b1-d332-4a6a-8cdf-7e98f840f212\"}], {\"shapes\": [{\"fillcolor\": \"rgba(53, 208, 255, 0.7)\", \"line\": {\"color\": \"rgba(53, 208, 255, 1)\", \"width\": 2}, \"type\": \"rect\", \"x0\": 0, \"x1\": 1, \"y0\": 0, \"y1\": 1}, {\"fillcolor\": \"rgba(53, 208, 255, 0.7)\", \"line\": {\"color\": \"rgba(53, 208, 255, 1)\", \"width\": 2}, \"type\": \"rect\", \"x0\": 0, \"x1\": 1, \"y0\": 1, \"y1\": 2}, {\"fillcolor\": \"rgba(53, 208, 255, 0.7)\", \"line\": {\"color\": \"rgba(53, 208, 255, 1)\", \"width\": 2}, \"type\": \"rect\", \"x0\": 1, \"x1\": 2, \"y0\": 2, \"y1\": 3}, {\"fillcolor\": \"rgba(53, 208, 255, 0.7)\", \"line\": {\"color\": \"rgba(53, 208, 255, 1)\", \"width\": 2}, \"type\": \"rect\", \"x0\": 1, \"x1\": 2, \"y0\": 3, \"y1\": 4}, {\"fillcolor\": \"rgba(53, 208, 255, 0.7)\", \"line\": {\"color\": \"rgba(53, 208, 255, 1)\", \"width\": 2}, \"type\": \"rect\", \"x0\": 2, \"x1\": 3, \"y0\": 4, \"y1\": 5}, {\"fillcolor\": \"rgba(53, 208, 255, 0.7)\", \"line\": {\"color\": \"rgba(53, 208, 255, 1)\", \"width\": 2}, \"type\": \"rect\", \"x0\": 2, \"x1\": 3, \"y0\": 5, \"y1\": 6}, {\"fillcolor\": \"rgba(53, 208, 255, 0.7)\", \"line\": {\"color\": \"rgba(53, 208, 255, 1)\", \"width\": 2}, \"type\": \"rect\", \"x0\": 3, \"x1\": 4, \"y0\": 6, \"y1\": 7}, {\"fillcolor\": \"rgba(53, 208, 255, 0.7)\", \"line\": {\"color\": \"rgba(53, 208, 255, 1)\", \"width\": 2}, \"type\": \"rect\", \"x0\": 3, \"x1\": 4, \"y0\": 7, \"y1\": 8}, {\"fillcolor\": \"rgba(53, 208, 255, 0.7)\", \"line\": {\"color\": \"rgba(53, 208, 255, 1)\", \"width\": 2}, \"type\": \"rect\", \"x0\": 4, \"x1\": 5, \"y0\": 8, \"y1\": 9}, {\"fillcolor\": \"rgba(53, 208, 255, 0.7)\", \"line\": {\"color\": \"rgba(53, 208, 255, 1)\", \"width\": 2}, \"type\": \"rect\", \"x0\": 4, \"x1\": 5, \"y0\": 9, \"y1\": 10}, {\"fillcolor\": \"rgba(53, 208, 255, 0.7)\", \"line\": {\"color\": \"rgba(53, 208, 255, 1)\", \"width\": 2}, \"type\": \"rect\", \"x0\": 5, \"x1\": 6, \"y0\": 10, \"y1\": 11}, {\"fillcolor\": \"rgba(53, 208, 255, 0.7)\", \"line\": {\"color\": \"rgba(53, 208, 255, 1)\", \"width\": 2}, \"type\": \"rect\", \"x0\": 5, \"x1\": 6, \"y0\": 11, \"y1\": 12}, {\"fillcolor\": \"rgba(53, 208, 255, 0.7)\", \"line\": {\"color\": \"rgba(53, 208, 255, 1)\", \"width\": 2}, \"type\": \"rect\", \"x0\": 6, \"x1\": 7, \"y0\": 12, \"y1\": 13}, {\"fillcolor\": \"rgba(53, 208, 255, 0.7)\", \"line\": {\"color\": \"rgba(53, 208, 255, 1)\", \"width\": 2}, \"type\": \"rect\", \"x0\": 6, \"x1\": 7, \"y0\": 13, \"y1\": 14}, {\"fillcolor\": \"rgba(53, 208, 255, 0.7)\", \"line\": {\"color\": \"rgba(53, 208, 255, 1)\", \"width\": 2}, \"type\": \"rect\", \"x0\": 7, \"x1\": 8, \"y0\": 14, \"y1\": 15}, {\"fillcolor\": \"rgba(53, 208, 255, 0.7)\", \"line\": {\"color\": \"rgba(53, 208, 255, 1)\", \"width\": 2}, \"type\": \"rect\", \"x0\": 7, \"x1\": 8, \"y0\": 15, \"y1\": 16}, {\"fillcolor\": \"rgba(53, 208, 255, 0.7)\", \"line\": {\"color\": \"rgba(53, 208, 255, 1)\", \"width\": 2}, \"type\": \"rect\", \"x0\": 8, \"x1\": 9, \"y0\": 16, \"y1\": 17}, {\"fillcolor\": \"rgba(53, 208, 255, 0.7)\", \"line\": {\"color\": \"rgba(53, 208, 255, 1)\", \"width\": 2}, \"type\": \"rect\", \"x0\": 8, \"x1\": 9, \"y0\": 17, \"y1\": 18}, {\"fillcolor\": \"rgba(53, 208, 255, 0.7)\", \"line\": {\"color\": \"rgba(53, 208, 255, 1)\", \"width\": 2}, \"type\": \"rect\", \"x0\": 9, \"x1\": 10, \"y0\": 18, \"y1\": 19}, {\"fillcolor\": \"rgba(53, 208, 255, 0.7)\", \"line\": {\"color\": \"rgba(53, 208, 255, 1)\", \"width\": 2}, \"type\": \"rect\", \"x0\": 9, \"x1\": 10, \"y0\": 19, \"y1\": 20}, {\"fillcolor\": \"rgba(53, 208, 255, 0.7)\", \"line\": {\"color\": \"rgba(53, 208, 255, 1)\", \"width\": 2}, \"type\": \"rect\", \"x0\": 10, \"x1\": 11, \"y0\": 20, \"y1\": 21}, {\"fillcolor\": \"rgba(53, 208, 255, 0.7)\", \"line\": {\"color\": \"rgba(53, 208, 255, 1)\", \"width\": 2}, \"type\": \"rect\", \"x0\": 10, \"x1\": 11, \"y0\": 21, \"y1\": 22}, {\"fillcolor\": \"rgba(53, 208, 255, 0.7)\", \"line\": {\"color\": \"rgba(53, 208, 255, 1)\", \"width\": 2}, \"type\": \"rect\", \"x0\": 11, \"x1\": 12, \"y0\": 22, \"y1\": 23}, {\"fillcolor\": \"rgba(53, 208, 255, 0.7)\", \"line\": {\"color\": \"rgba(53, 208, 255, 1)\", \"width\": 2}, \"type\": \"rect\", \"x0\": 11, \"x1\": 12, \"y0\": 23, \"y1\": 24}, {\"fillcolor\": \"rgba(53, 208, 255, 0.7)\", \"line\": {\"color\": \"rgba(53, 208, 255, 1)\", \"width\": 2}, \"type\": \"rect\", \"x0\": 12, \"x1\": 13, \"y0\": 24, \"y1\": 25}, {\"fillcolor\": \"rgba(53, 208, 255, 0.7)\", \"line\": {\"color\": \"rgba(53, 208, 255, 1)\", \"width\": 2}, \"type\": \"rect\", \"x0\": 12, \"x1\": 13, \"y0\": 25, \"y1\": 26}, {\"fillcolor\": \"rgba(53, 208, 255, 0.7)\", \"line\": {\"color\": \"rgba(53, 208, 255, 1)\", \"width\": 2}, \"type\": \"rect\", \"x0\": 13, \"x1\": 14, \"y0\": 26, \"y1\": 27}, {\"fillcolor\": \"rgba(53, 208, 255, 0.7)\", \"line\": {\"color\": \"rgba(53, 208, 255, 1)\", \"width\": 2}, \"type\": \"rect\", \"x0\": 13, \"x1\": 14, \"y0\": 27, \"y1\": 28}, {\"fillcolor\": \"rgba(53, 208, 255, 0.7)\", \"line\": {\"color\": \"rgba(53, 208, 255, 1)\", \"width\": 2}, \"type\": \"rect\", \"x0\": 14, \"x1\": 15, \"y0\": 28, \"y1\": 29}, {\"fillcolor\": \"rgba(53, 208, 255, 0.7)\", \"line\": {\"color\": \"rgba(53, 208, 255, 1)\", \"width\": 2}, \"type\": \"rect\", \"x0\": 14, \"x1\": 15, \"y0\": 29, \"y1\": 30}, {\"fillcolor\": \"rgba(53, 208, 255, 0.7)\", \"line\": {\"color\": \"rgba(53, 208, 255, 1)\", \"width\": 2}, \"type\": \"rect\", \"x0\": 15, \"x1\": 16, \"y0\": 30, \"y1\": 31}, {\"fillcolor\": \"rgba(53, 208, 255, 0.7)\", \"line\": {\"color\": \"rgba(53, 208, 255, 1)\", \"width\": 2}, \"type\": \"rect\", \"x0\": 15, \"x1\": 16, \"y0\": 31, \"y1\": 32}, {\"fillcolor\": \"rgba(53, 208, 255, 0.7)\", \"line\": {\"color\": \"rgba(53, 208, 255, 1)\", \"width\": 2}, \"type\": \"rect\", \"x0\": 16, \"x1\": 17, \"y0\": 32, \"y1\": 33}, {\"fillcolor\": \"rgba(53, 208, 255, 0.7)\", \"line\": {\"color\": \"rgba(53, 208, 255, 1)\", \"width\": 2}, \"type\": \"rect\", \"x0\": 16, \"x1\": 17, \"y0\": 33, \"y1\": 34}, {\"fillcolor\": \"rgba(53, 208, 255, 0.7)\", \"line\": {\"color\": \"rgba(53, 208, 255, 1)\", \"width\": 2}, \"type\": \"rect\", \"x0\": 17, \"x1\": 18, \"y0\": 34, \"y1\": 35}, {\"fillcolor\": \"rgba(53, 208, 255, 0.7)\", \"line\": {\"color\": \"rgba(53, 208, 255, 1)\", \"width\": 2}, \"type\": \"rect\", \"x0\": 17, \"x1\": 18, \"y0\": 35, \"y1\": 36}, {\"fillcolor\": \"rgba(53, 208, 255, 0.7)\", \"line\": {\"color\": \"rgba(53, 208, 255, 1)\", \"width\": 2}, \"type\": \"rect\", \"x0\": 18, \"x1\": 19, \"y0\": 36, \"y1\": 37}, {\"fillcolor\": \"rgba(53, 208, 255, 0.7)\", \"line\": {\"color\": \"rgba(53, 208, 255, 1)\", \"width\": 2}, \"type\": \"rect\", \"x0\": 18, \"x1\": 19, \"y0\": 37, \"y1\": 38}, {\"fillcolor\": \"rgba(53, 208, 255, 0.7)\", \"line\": {\"color\": \"rgba(53, 208, 255, 1)\", \"width\": 2}, \"type\": \"rect\", \"x0\": 19, \"x1\": 20, \"y0\": 38, \"y1\": 39}, {\"fillcolor\": \"rgba(53, 208, 255, 0.7)\", \"line\": {\"color\": \"rgba(53, 208, 255, 1)\", \"width\": 2}, \"type\": \"rect\", \"x0\": 19, \"x1\": 20, \"y0\": 39, \"y1\": 40}, {\"fillcolor\": \"rgba(53, 208, 255, 0.7)\", \"line\": {\"color\": \"rgba(53, 208, 255, 1)\", \"width\": 2}, \"type\": \"rect\", \"x0\": 20, \"x1\": 21, \"y0\": 40, \"y1\": 41}, {\"fillcolor\": \"rgba(53, 208, 255, 0.7)\", \"line\": {\"color\": \"rgba(53, 208, 255, 1)\", \"width\": 2}, \"type\": \"rect\", \"x0\": 20, \"x1\": 21, \"y0\": 41, \"y1\": 42}, {\"fillcolor\": \"rgba(53, 208, 255, 0.7)\", \"line\": {\"color\": \"rgba(53, 208, 255, 1)\", \"width\": 2}, \"type\": \"rect\", \"x0\": 21, \"x1\": 22, \"y0\": 42, \"y1\": 43}, {\"fillcolor\": \"rgba(53, 208, 255, 0.7)\", \"line\": {\"color\": \"rgba(53, 208, 255, 1)\", \"width\": 2}, \"type\": \"rect\", \"x0\": 21, \"x1\": 22, \"y0\": 43, \"y1\": 44}, {\"fillcolor\": \"rgba(53, 208, 255, 0.7)\", \"line\": {\"color\": \"rgba(53, 208, 255, 1)\", \"width\": 2}, \"type\": \"rect\", \"x0\": 22, \"x1\": 23, \"y0\": 44, \"y1\": 45}, {\"fillcolor\": \"rgba(53, 208, 255, 0.7)\", \"line\": {\"color\": \"rgba(53, 208, 255, 1)\", \"width\": 2}, \"type\": \"rect\", \"x0\": 22, \"x1\": 23, \"y0\": 45, \"y1\": 46}, {\"fillcolor\": \"rgba(53, 208, 255, 0.7)\", \"line\": {\"color\": \"rgba(53, 208, 255, 1)\", \"width\": 2}, \"type\": \"rect\", \"x0\": 23, \"x1\": 24, \"y0\": 46, \"y1\": 47}, {\"fillcolor\": \"rgba(53, 208, 255, 0.7)\", \"line\": {\"color\": \"rgba(53, 208, 255, 1)\", \"width\": 2}, \"type\": \"rect\", \"x0\": 23, \"x1\": 24, \"y0\": 47, \"y1\": 48}, {\"fillcolor\": \"rgba(53, 208, 255, 0.7)\", \"line\": {\"color\": \"rgba(53, 208, 255, 1)\", \"width\": 2}, \"type\": \"rect\", \"x0\": 24, \"x1\": 25, \"y0\": 48, \"y1\": 49}, {\"fillcolor\": \"rgba(53, 208, 255, 0.7)\", \"line\": {\"color\": \"rgba(53, 208, 255, 1)\", \"width\": 2}, \"type\": \"rect\", \"x0\": 24, \"x1\": 25, \"y0\": 49, \"y1\": 50}, {\"fillcolor\": \"rgba(53, 208, 255, 0.7)\", \"line\": {\"color\": \"rgba(53, 208, 255, 1)\", \"width\": 2}, \"type\": \"rect\", \"x0\": 25, \"x1\": 26, \"y0\": 50, \"y1\": 51}, {\"fillcolor\": \"rgba(53, 208, 255, 0.7)\", \"line\": {\"color\": \"rgba(53, 208, 255, 1)\", \"width\": 2}, \"type\": \"rect\", \"x0\": 25, \"x1\": 26, \"y0\": 51, \"y1\": 52}, {\"fillcolor\": \"rgba(53, 208, 255, 0.7)\", \"line\": {\"color\": \"rgba(53, 208, 255, 1)\", \"width\": 2}, \"type\": \"rect\", \"x0\": 26, \"x1\": 27, \"y0\": 52, \"y1\": 53}, {\"fillcolor\": \"rgba(53, 208, 255, 0.7)\", \"line\": {\"color\": \"rgba(53, 208, 255, 1)\", \"width\": 2}, \"type\": \"rect\", \"x0\": 26, \"x1\": 27, \"y0\": 53, \"y1\": 54}, {\"fillcolor\": \"rgba(53, 208, 255, 0.7)\", \"line\": {\"color\": \"rgba(53, 208, 255, 1)\", \"width\": 2}, \"type\": \"rect\", \"x0\": 27, \"x1\": 28, \"y0\": 54, \"y1\": 55}, {\"fillcolor\": \"rgba(53, 208, 255, 0.7)\", \"line\": {\"color\": \"rgba(53, 208, 255, 1)\", \"width\": 2}, \"type\": \"rect\", \"x0\": 27, \"x1\": 28, \"y0\": 55, \"y1\": 56}, {\"fillcolor\": \"rgba(53, 208, 255, 0.7)\", \"line\": {\"color\": \"rgba(53, 208, 255, 1)\", \"width\": 2}, \"type\": \"rect\", \"x0\": 28, \"x1\": 29, \"y0\": 56, \"y1\": 57}, {\"fillcolor\": \"rgba(53, 208, 255, 0.7)\", \"line\": {\"color\": \"rgba(53, 208, 255, 1)\", \"width\": 2}, \"type\": \"rect\", \"x0\": 28, \"x1\": 29, \"y0\": 57, \"y1\": 58}, {\"fillcolor\": \"rgba(53, 208, 255, 0.7)\", \"line\": {\"color\": \"rgba(53, 208, 255, 1)\", \"width\": 2}, \"type\": \"rect\", \"x0\": 29, \"x1\": 30, \"y0\": 58, \"y1\": 59}, {\"fillcolor\": \"rgba(53, 208, 255, 0.7)\", \"line\": {\"color\": \"rgba(53, 208, 255, 1)\", \"width\": 2}, \"type\": \"rect\", \"x0\": 29, \"x1\": 30, \"y0\": 59, \"y1\": 60}, {\"fillcolor\": \"rgba(53, 208, 255, 0.7)\", \"line\": {\"color\": \"rgba(53, 208, 255, 1)\", \"width\": 2}, \"type\": \"rect\", \"x0\": 30, \"x1\": 31, \"y0\": 60, \"y1\": 61}, {\"fillcolor\": \"rgba(53, 208, 255, 0.7)\", \"line\": {\"color\": \"rgba(53, 208, 255, 1)\", \"width\": 2}, \"type\": \"rect\", \"x0\": 30, \"x1\": 31, \"y0\": 61, \"y1\": 62}, {\"fillcolor\": \"rgba(53, 208, 255, 0.7)\", \"line\": {\"color\": \"rgba(53, 208, 255, 1)\", \"width\": 2}, \"type\": \"rect\", \"x0\": 31, \"x1\": 32, \"y0\": 62, \"y1\": 63}, {\"fillcolor\": \"rgba(53, 208, 255, 0.7)\", \"line\": {\"color\": \"rgba(53, 208, 255, 1)\", \"width\": 2}, \"type\": \"rect\", \"x0\": 31, \"x1\": 32, \"y0\": 63, \"y1\": 64}, {\"fillcolor\": \"rgba(53, 208, 255, 0.7)\", \"line\": {\"color\": \"rgba(53, 208, 255, 1)\", \"width\": 2}, \"type\": \"rect\", \"x0\": 32, \"x1\": 33, \"y0\": 64, \"y1\": 65}, {\"fillcolor\": \"rgba(53, 208, 255, 0.7)\", \"line\": {\"color\": \"rgba(53, 208, 255, 1)\", \"width\": 2}, \"type\": \"rect\", \"x0\": 32, \"x1\": 33, \"y0\": 65, \"y1\": 66}, {\"fillcolor\": \"rgba(53, 208, 255, 0.7)\", \"line\": {\"color\": \"rgba(53, 208, 255, 1)\", \"width\": 2}, \"type\": \"rect\", \"x0\": 33, \"x1\": 34, \"y0\": 66, \"y1\": 67}, {\"fillcolor\": \"rgba(53, 208, 255, 0.7)\", \"line\": {\"color\": \"rgba(53, 208, 255, 1)\", \"width\": 2}, \"type\": \"rect\", \"x0\": 33, \"x1\": 34, \"y0\": 67, \"y1\": 68}, {\"fillcolor\": \"rgba(53, 208, 255, 0.7)\", \"line\": {\"color\": \"rgba(53, 208, 255, 1)\", \"width\": 2}, \"type\": \"rect\", \"x0\": 34, \"x1\": 35, \"y0\": 68, \"y1\": 69}, {\"fillcolor\": \"rgba(53, 208, 255, 0.7)\", \"line\": {\"color\": \"rgba(53, 208, 255, 1)\", \"width\": 2}, \"type\": \"rect\", \"x0\": 34, \"x1\": 35, \"y0\": 69, \"y1\": 70}, {\"fillcolor\": \"rgba(53, 208, 255, 0.7)\", \"line\": {\"color\": \"rgba(53, 208, 255, 1)\", \"width\": 2}, \"type\": \"rect\", \"x0\": 35, \"x1\": 36, \"y0\": 70, \"y1\": 71}, {\"fillcolor\": \"rgba(53, 208, 255, 0.7)\", \"line\": {\"color\": \"rgba(53, 208, 255, 1)\", \"width\": 2}, \"type\": \"rect\", \"x0\": 35, \"x1\": 36, \"y0\": 71, \"y1\": 72}, {\"fillcolor\": \"rgba(53, 208, 255, 0.7)\", \"line\": {\"color\": \"rgba(53, 208, 255, 1)\", \"width\": 2}, \"type\": \"rect\", \"x0\": 36, \"x1\": 37, \"y0\": 72, \"y1\": 73}, {\"fillcolor\": \"rgba(53, 208, 255, 0.7)\", \"line\": {\"color\": \"rgba(53, 208, 255, 1)\", \"width\": 2}, \"type\": \"rect\", \"x0\": 36, \"x1\": 37, \"y0\": 73, \"y1\": 74}, {\"fillcolor\": \"rgba(53, 208, 255, 0.7)\", \"line\": {\"color\": \"rgba(53, 208, 255, 1)\", \"width\": 2}, \"type\": \"rect\", \"x0\": 37, \"x1\": 38, \"y0\": 74, \"y1\": 75}, {\"fillcolor\": \"rgba(53, 208, 255, 0.7)\", \"line\": {\"color\": \"rgba(53, 208, 255, 1)\", \"width\": 2}, \"type\": \"rect\", \"x0\": 37, \"x1\": 38, \"y0\": 75, \"y1\": 76}, {\"fillcolor\": \"rgba(53, 208, 255, 0.7)\", \"line\": {\"color\": \"rgba(53, 208, 255, 1)\", \"width\": 2}, \"type\": \"rect\", \"x0\": 38, \"x1\": 39, \"y0\": 76, \"y1\": 77}, {\"fillcolor\": \"rgba(53, 208, 255, 0.7)\", \"line\": {\"color\": \"rgba(53, 208, 255, 1)\", \"width\": 2}, \"type\": \"rect\", \"x0\": 38, \"x1\": 39, \"y0\": 77, \"y1\": 78}, {\"fillcolor\": \"rgba(53, 208, 255, 0.7)\", \"line\": {\"color\": \"rgba(53, 208, 255, 1)\", \"width\": 2}, \"type\": \"rect\", \"x0\": 39, \"x1\": 40, \"y0\": 78, \"y1\": 79}, {\"fillcolor\": \"rgba(53, 208, 255, 0.7)\", \"line\": {\"color\": \"rgba(53, 208, 255, 1)\", \"width\": 2}, \"type\": \"rect\", \"x0\": 39, \"x1\": 40, \"y0\": 79, \"y1\": 80}, {\"fillcolor\": \"rgba(53, 208, 255, 0.7)\", \"line\": {\"color\": \"rgba(53, 208, 255, 1)\", \"width\": 2}, \"type\": \"rect\", \"x0\": 40, \"x1\": 41, \"y0\": 80, \"y1\": 81}, {\"fillcolor\": \"rgba(53, 208, 255, 0.7)\", \"line\": {\"color\": \"rgba(53, 208, 255, 1)\", \"width\": 2}, \"type\": \"rect\", \"x0\": 40, \"x1\": 41, \"y0\": 81, \"y1\": 82}, {\"fillcolor\": \"rgba(53, 208, 255, 0.7)\", \"line\": {\"color\": \"rgba(53, 208, 255, 1)\", \"width\": 2}, \"type\": \"rect\", \"x0\": 41, \"x1\": 42, \"y0\": 82, \"y1\": 83}, {\"fillcolor\": \"rgba(53, 208, 255, 0.7)\", \"line\": {\"color\": \"rgba(53, 208, 255, 1)\", \"width\": 2}, \"type\": \"rect\", \"x0\": 41, \"x1\": 42, \"y0\": 83, \"y1\": 84}, {\"fillcolor\": \"rgba(53, 208, 255, 0.7)\", \"line\": {\"color\": \"rgba(53, 208, 255, 1)\", \"width\": 2}, \"type\": \"rect\", \"x0\": 42, \"x1\": 43, \"y0\": 84, \"y1\": 85}, {\"fillcolor\": \"rgba(53, 208, 255, 0.7)\", \"line\": {\"color\": \"rgba(53, 208, 255, 1)\", \"width\": 2}, \"type\": \"rect\", \"x0\": 42, \"x1\": 43, \"y0\": 85, \"y1\": 86}, {\"fillcolor\": \"rgba(53, 208, 255, 0.7)\", \"line\": {\"color\": \"rgba(53, 208, 255, 1)\", \"width\": 2}, \"type\": \"rect\", \"x0\": 43, \"x1\": 44, \"y0\": 86, \"y1\": 87}, {\"fillcolor\": \"rgba(53, 208, 255, 0.7)\", \"line\": {\"color\": \"rgba(53, 208, 255, 1)\", \"width\": 2}, \"type\": \"rect\", \"x0\": 43, \"x1\": 44, \"y0\": 87, \"y1\": 88}, {\"fillcolor\": \"rgba(53, 208, 255, 0.7)\", \"line\": {\"color\": \"rgba(53, 208, 255, 1)\", \"width\": 2}, \"type\": \"rect\", \"x0\": 44, \"x1\": 45, \"y0\": 88, \"y1\": 89}, {\"fillcolor\": \"rgba(53, 208, 255, 0.7)\", \"line\": {\"color\": \"rgba(53, 208, 255, 1)\", \"width\": 2}, \"type\": \"rect\", \"x0\": 44, \"x1\": 45, \"y0\": 89, \"y1\": 90}, {\"fillcolor\": \"rgba(53, 208, 255, 0.7)\", \"line\": {\"color\": \"rgba(53, 208, 255, 1)\", \"width\": 2}, \"type\": \"rect\", \"x0\": 45, \"x1\": 46, \"y0\": 90, \"y1\": 91}, {\"fillcolor\": \"rgba(53, 208, 255, 0.7)\", \"line\": {\"color\": \"rgba(53, 208, 255, 1)\", \"width\": 2}, \"type\": \"rect\", \"x0\": 45, \"x1\": 46, \"y0\": 91, \"y1\": 92}, {\"fillcolor\": \"rgba(53, 208, 255, 0.7)\", \"line\": {\"color\": \"rgba(53, 208, 255, 1)\", \"width\": 2}, \"type\": \"rect\", \"x0\": 46, \"x1\": 47, \"y0\": 92, \"y1\": 93}, {\"fillcolor\": \"rgba(53, 208, 255, 0.7)\", \"line\": {\"color\": \"rgba(53, 208, 255, 1)\", \"width\": 2}, \"type\": \"rect\", \"x0\": 46, \"x1\": 47, \"y0\": 93, \"y1\": 94}, {\"fillcolor\": \"rgba(53, 208, 255, 0.7)\", \"line\": {\"color\": \"rgba(53, 208, 255, 1)\", \"width\": 2}, \"type\": \"rect\", \"x0\": 47, \"x1\": 48, \"y0\": 94, \"y1\": 95}, {\"fillcolor\": \"rgba(53, 208, 255, 0.7)\", \"line\": {\"color\": \"rgba(53, 208, 255, 1)\", \"width\": 2}, \"type\": \"rect\", \"x0\": 47, \"x1\": 48, \"y0\": 95, \"y1\": 96}, {\"fillcolor\": \"rgba(53, 208, 255, 0.7)\", \"line\": {\"color\": \"rgba(53, 208, 255, 1)\", \"width\": 2}, \"type\": \"rect\", \"x0\": 48, \"x1\": 49, \"y0\": 96, \"y1\": 97}, {\"fillcolor\": \"rgba(53, 208, 255, 0.7)\", \"line\": {\"color\": \"rgba(53, 208, 255, 1)\", \"width\": 2}, \"type\": \"rect\", \"x0\": 48, \"x1\": 49, \"y0\": 97, \"y1\": 98}, {\"fillcolor\": \"rgba(53, 208, 255, 0.7)\", \"line\": {\"color\": \"rgba(53, 208, 255, 1)\", \"width\": 2}, \"type\": \"rect\", \"x0\": 49, \"x1\": 50, \"y0\": 98, \"y1\": 99}, {\"fillcolor\": \"rgba(53, 208, 255, 0.7)\", \"line\": {\"color\": \"rgba(53, 208, 255, 1)\", \"width\": 2}, \"type\": \"rect\", \"x0\": 49, \"x1\": 50, \"y0\": 99, \"y1\": 100}], \"xaxis\": {\"autorange\": true, \"showgrid\": false}, \"yaxis\": {\"range\": [0, 102]}}, {\"showLink\": true, \"linkText\": \"Export to plot.ly\", \"plotlyServerURL\": \"https://plot.ly\"})});</script><script type=\"text/javascript\">window.addEventListener(\"resize\", function(){window._Plotly.Plots.resize(document.getElementById(\"3902475f-191b-49a8-94f7-6da7a4a84f43\"));});</script>"
      ]
     },
     "metadata": {},
     "output_type": "display_data"
    }
   ],
   "source": [
    "my_workplace.print_current_state()"
   ]
  },
  {
   "cell_type": "code",
   "execution_count": 7,
   "metadata": {},
   "outputs": [
    {
     "data": {
      "application/vnd.plotly.v1+json": {
       "config": {
        "linkText": "Export to plot.ly",
        "plotlyServerURL": "https://plot.ly",
        "showLink": true
       },
       "data": [
        {
         "mode": "markers",
         "type": "scatter",
         "uid": "4eb62503-f357-4f1d-86b9-c0d0265362ae",
         "x": [
          0,
          1,
          2,
          3,
          4,
          5,
          6,
          7,
          8,
          9,
          10,
          11,
          12,
          13,
          14,
          15,
          16,
          17,
          18,
          19,
          20,
          21,
          22,
          23,
          24,
          25,
          26,
          27,
          28,
          29,
          30,
          31,
          32,
          33,
          34,
          35,
          36,
          37,
          38,
          39,
          40,
          41,
          42,
          43,
          44,
          45,
          46,
          47,
          48,
          49,
          50
         ],
         "y": [
          16,
          16,
          17,
          17,
          17,
          18,
          18,
          18,
          19,
          19,
          19,
          19,
          19,
          20,
          20,
          20,
          20,
          21,
          21,
          21,
          21,
          21,
          21,
          21,
          22,
          22,
          22,
          22,
          22,
          22,
          22,
          22,
          23,
          23,
          23,
          23,
          23,
          23,
          23,
          23,
          23,
          23,
          23,
          23,
          24,
          24,
          24,
          24,
          24,
          24,
          24
         ]
        },
        {
         "mode": "markers",
         "type": "scatter",
         "uid": "d44044e2-af52-457e-b234-e1985029920b",
         "x": [
          0,
          1,
          2,
          3,
          4,
          5,
          6,
          7,
          8,
          9,
          10,
          11,
          12,
          13,
          14,
          15,
          16,
          17,
          18,
          19,
          20,
          21,
          22,
          23,
          24,
          25,
          26,
          27,
          28,
          29,
          30,
          31,
          32,
          33,
          34,
          35,
          36,
          37,
          38,
          39,
          40,
          41,
          42,
          43,
          44,
          45,
          46,
          47,
          48,
          49,
          50
         ],
         "y": [
          14,
          14,
          14,
          13,
          13,
          13,
          13,
          12,
          12,
          12,
          12,
          11,
          11,
          11,
          10,
          10,
          10,
          9,
          9,
          9,
          9,
          8,
          8,
          7,
          7,
          7,
          6,
          6,
          6,
          5,
          5,
          4,
          4,
          4,
          3,
          3,
          2,
          2,
          1,
          1,
          0,
          0,
          -1,
          -1,
          -2,
          -2,
          -3,
          -3,
          -4,
          -5,
          -5
         ]
        }
       ],
       "layout": {}
      },
      "text/html": [
       "<div id=\"b1c1ee9f-d332-419b-b0a6-d6946efea630\" style=\"height: 525px; width: 100%;\" class=\"plotly-graph-div\"></div><script type=\"text/javascript\">require([\"plotly\"], function(Plotly) { window.PLOTLYENV=window.PLOTLYENV || {};window.PLOTLYENV.BASE_URL=\"https://plot.ly\";Plotly.newPlot(\"b1c1ee9f-d332-419b-b0a6-d6946efea630\", [{\"mode\": \"markers\", \"x\": [0, 1, 2, 3, 4, 5, 6, 7, 8, 9, 10, 11, 12, 13, 14, 15, 16, 17, 18, 19, 20, 21, 22, 23, 24, 25, 26, 27, 28, 29, 30, 31, 32, 33, 34, 35, 36, 37, 38, 39, 40, 41, 42, 43, 44, 45, 46, 47, 48, 49, 50], \"y\": [16.0, 16.0, 17.0, 17.0, 17.0, 18.0, 18.0, 18.0, 19.0, 19.0, 19.0, 19.0, 19.0, 20.0, 20.0, 20.0, 20.0, 21.0, 21.0, 21.0, 21.0, 21.0, 21.0, 21.0, 22.0, 22.0, 22.0, 22.0, 22.0, 22.0, 22.0, 22.0, 23.0, 23.0, 23.0, 23.0, 23.0, 23.0, 23.0, 23.0, 23.0, 23.0, 23.0, 23.0, 24.0, 24.0, 24.0, 24.0, 24.0, 24.0, 24.0], \"type\": \"scatter\", \"uid\": \"11ef79cf-11c5-45c9-9e58-54da4eef1e02\"}, {\"mode\": \"markers\", \"x\": [0, 1, 2, 3, 4, 5, 6, 7, 8, 9, 10, 11, 12, 13, 14, 15, 16, 17, 18, 19, 20, 21, 22, 23, 24, 25, 26, 27, 28, 29, 30, 31, 32, 33, 34, 35, 36, 37, 38, 39, 40, 41, 42, 43, 44, 45, 46, 47, 48, 49, 50], \"y\": [14.0, 14.0, 14.0, 13.0, 13.0, 13.0, 13.0, 12.0, 12.0, 12.0, 12.0, 11.0, 11.0, 11.0, 10.0, 10.0, 10.0, 9.0, 9.0, 9.0, 9.0, 8.0, 8.0, 7.0, 7.0, 7.0, 6.0, 6.0, 6.0, 5.0, 5.0, 4.0, 4.0, 4.0, 3.0, 3.0, 2.0, 2.0, 1.0, 1.0, 0.0, -0.0, -1.0, -1.0, -2.0, -2.0, -3.0, -3.0, -4.0, -5.0, -5.0], \"type\": \"scatter\", \"uid\": \"97ea74a3-142e-4c9d-9d77-4b097c74080f\"}], {}, {\"showLink\": true, \"linkText\": \"Export to plot.ly\", \"plotlyServerURL\": \"https://plot.ly\"})});</script><script type=\"text/javascript\">window.addEventListener(\"resize\", function(){window._Plotly.Plots.resize(document.getElementById(\"b1c1ee9f-d332-419b-b0a6-d6946efea630\"));});</script>"
      ],
      "text/vnd.plotly.v1+html": [
       "<div id=\"b1c1ee9f-d332-419b-b0a6-d6946efea630\" style=\"height: 525px; width: 100%;\" class=\"plotly-graph-div\"></div><script type=\"text/javascript\">require([\"plotly\"], function(Plotly) { window.PLOTLYENV=window.PLOTLYENV || {};window.PLOTLYENV.BASE_URL=\"https://plot.ly\";Plotly.newPlot(\"b1c1ee9f-d332-419b-b0a6-d6946efea630\", [{\"mode\": \"markers\", \"x\": [0, 1, 2, 3, 4, 5, 6, 7, 8, 9, 10, 11, 12, 13, 14, 15, 16, 17, 18, 19, 20, 21, 22, 23, 24, 25, 26, 27, 28, 29, 30, 31, 32, 33, 34, 35, 36, 37, 38, 39, 40, 41, 42, 43, 44, 45, 46, 47, 48, 49, 50], \"y\": [16.0, 16.0, 17.0, 17.0, 17.0, 18.0, 18.0, 18.0, 19.0, 19.0, 19.0, 19.0, 19.0, 20.0, 20.0, 20.0, 20.0, 21.0, 21.0, 21.0, 21.0, 21.0, 21.0, 21.0, 22.0, 22.0, 22.0, 22.0, 22.0, 22.0, 22.0, 22.0, 23.0, 23.0, 23.0, 23.0, 23.0, 23.0, 23.0, 23.0, 23.0, 23.0, 23.0, 23.0, 24.0, 24.0, 24.0, 24.0, 24.0, 24.0, 24.0], \"type\": \"scatter\", \"uid\": \"11ef79cf-11c5-45c9-9e58-54da4eef1e02\"}, {\"mode\": \"markers\", \"x\": [0, 1, 2, 3, 4, 5, 6, 7, 8, 9, 10, 11, 12, 13, 14, 15, 16, 17, 18, 19, 20, 21, 22, 23, 24, 25, 26, 27, 28, 29, 30, 31, 32, 33, 34, 35, 36, 37, 38, 39, 40, 41, 42, 43, 44, 45, 46, 47, 48, 49, 50], \"y\": [14.0, 14.0, 14.0, 13.0, 13.0, 13.0, 13.0, 12.0, 12.0, 12.0, 12.0, 11.0, 11.0, 11.0, 10.0, 10.0, 10.0, 9.0, 9.0, 9.0, 9.0, 8.0, 8.0, 7.0, 7.0, 7.0, 6.0, 6.0, 6.0, 5.0, 5.0, 4.0, 4.0, 4.0, 3.0, 3.0, 2.0, 2.0, 1.0, 1.0, 0.0, -0.0, -1.0, -1.0, -2.0, -2.0, -3.0, -3.0, -4.0, -5.0, -5.0], \"type\": \"scatter\", \"uid\": \"97ea74a3-142e-4c9d-9d77-4b097c74080f\"}], {}, {\"showLink\": true, \"linkText\": \"Export to plot.ly\", \"plotlyServerURL\": \"https://plot.ly\"})});</script><script type=\"text/javascript\">window.addEventListener(\"resize\", function(){window._Plotly.Plots.resize(document.getElementById(\"b1c1ee9f-d332-419b-b0a6-d6946efea630\"));});</script>"
      ]
     },
     "metadata": {},
     "output_type": "display_data"
    }
   ],
   "source": [
    "my_workplace.plot_skills(my_workplace.agents[0])"
   ]
  },
  {
   "cell_type": "code",
   "execution_count": 8,
   "metadata": {
    "scrolled": true
   },
   "outputs": [
    {
     "data": {
      "application/vnd.plotly.v1+json": {
       "config": {
        "linkText": "Export to plot.ly",
        "plotlyServerURL": "https://plot.ly",
        "showLink": true
       },
       "data": [
        {
         "mode": "markers",
         "type": "scatter",
         "uid": "fadc429f-9e07-467e-9d6d-ec4a9205f976",
         "x": [
          0,
          1,
          2,
          3,
          4,
          5,
          6,
          7,
          8,
          9,
          10,
          11,
          12,
          13,
          14,
          15,
          16,
          17,
          18,
          19,
          20,
          21,
          22,
          23,
          24,
          25,
          26,
          27,
          28,
          29,
          30,
          31,
          32,
          33,
          34,
          35,
          36,
          37,
          38,
          39,
          40,
          41,
          42,
          43,
          44,
          45,
          46,
          47,
          48,
          49,
          50
         ],
         "y": [
          14,
          14,
          14,
          13,
          13,
          13,
          13,
          12,
          12,
          12,
          12,
          11,
          11,
          11,
          10,
          10,
          10,
          9,
          9,
          9,
          9,
          8,
          8,
          7,
          7,
          7,
          6,
          6,
          6,
          5,
          5,
          4,
          4,
          4,
          3,
          3,
          2,
          2,
          1,
          1,
          0,
          0,
          -1,
          -1,
          -2,
          -2,
          -3,
          -3,
          -4,
          -5,
          -5
         ]
        },
        {
         "mode": "markers",
         "type": "scatter",
         "uid": "d1700a46-1307-4dfd-84d5-8af50e2614e9",
         "x": [
          0,
          1,
          2,
          3,
          4,
          5,
          6,
          7,
          8,
          9,
          10,
          11,
          12,
          13,
          14,
          15,
          16,
          17,
          18,
          19,
          20,
          21,
          22,
          23,
          24,
          25,
          26,
          27,
          28,
          29,
          30,
          31,
          32,
          33,
          34,
          35,
          36,
          37,
          38,
          39,
          40,
          41,
          42,
          43,
          44,
          45,
          46,
          47,
          48,
          49,
          50
         ],
         "y": [
          16,
          16,
          17,
          17,
          17,
          18,
          18,
          18,
          19,
          19,
          19,
          19,
          19,
          20,
          20,
          20,
          20,
          21,
          21,
          21,
          21,
          21,
          21,
          21,
          22,
          22,
          22,
          22,
          22,
          22,
          22,
          22,
          23,
          23,
          23,
          23,
          23,
          23,
          23,
          23,
          23,
          23,
          23,
          23,
          24,
          24,
          24,
          24,
          24,
          24,
          24
         ]
        }
       ],
       "layout": {}
      },
      "text/html": [
       "<div id=\"c9e85aa1-04ff-4f8b-a29e-9ecc36958e31\" style=\"height: 525px; width: 100%;\" class=\"plotly-graph-div\"></div><script type=\"text/javascript\">require([\"plotly\"], function(Plotly) { window.PLOTLYENV=window.PLOTLYENV || {};window.PLOTLYENV.BASE_URL=\"https://plot.ly\";Plotly.newPlot(\"c9e85aa1-04ff-4f8b-a29e-9ecc36958e31\", [{\"mode\": \"markers\", \"x\": [0, 1, 2, 3, 4, 5, 6, 7, 8, 9, 10, 11, 12, 13, 14, 15, 16, 17, 18, 19, 20, 21, 22, 23, 24, 25, 26, 27, 28, 29, 30, 31, 32, 33, 34, 35, 36, 37, 38, 39, 40, 41, 42, 43, 44, 45, 46, 47, 48, 49, 50], \"y\": [14.0, 14.0, 14.0, 13.0, 13.0, 13.0, 13.0, 12.0, 12.0, 12.0, 12.0, 11.0, 11.0, 11.0, 10.0, 10.0, 10.0, 9.0, 9.0, 9.0, 9.0, 8.0, 8.0, 7.0, 7.0, 7.0, 6.0, 6.0, 6.0, 5.0, 5.0, 4.0, 4.0, 4.0, 3.0, 3.0, 2.0, 2.0, 1.0, 1.0, 0.0, -0.0, -1.0, -1.0, -2.0, -2.0, -3.0, -3.0, -4.0, -5.0, -5.0], \"type\": \"scatter\", \"uid\": \"2b107c70-a634-4810-9f00-3a4722633b78\"}, {\"mode\": \"markers\", \"x\": [0, 1, 2, 3, 4, 5, 6, 7, 8, 9, 10, 11, 12, 13, 14, 15, 16, 17, 18, 19, 20, 21, 22, 23, 24, 25, 26, 27, 28, 29, 30, 31, 32, 33, 34, 35, 36, 37, 38, 39, 40, 41, 42, 43, 44, 45, 46, 47, 48, 49, 50], \"y\": [16.0, 16.0, 17.0, 17.0, 17.0, 18.0, 18.0, 18.0, 19.0, 19.0, 19.0, 19.0, 19.0, 20.0, 20.0, 20.0, 20.0, 21.0, 21.0, 21.0, 21.0, 21.0, 21.0, 21.0, 22.0, 22.0, 22.0, 22.0, 22.0, 22.0, 22.0, 22.0, 23.0, 23.0, 23.0, 23.0, 23.0, 23.0, 23.0, 23.0, 23.0, 23.0, 23.0, 23.0, 24.0, 24.0, 24.0, 24.0, 24.0, 24.0, 24.0], \"type\": \"scatter\", \"uid\": \"45616eca-76f9-4167-8f77-493d2045542c\"}], {}, {\"showLink\": true, \"linkText\": \"Export to plot.ly\", \"plotlyServerURL\": \"https://plot.ly\"})});</script><script type=\"text/javascript\">window.addEventListener(\"resize\", function(){window._Plotly.Plots.resize(document.getElementById(\"c9e85aa1-04ff-4f8b-a29e-9ecc36958e31\"));});</script>"
      ],
      "text/vnd.plotly.v1+html": [
       "<div id=\"c9e85aa1-04ff-4f8b-a29e-9ecc36958e31\" style=\"height: 525px; width: 100%;\" class=\"plotly-graph-div\"></div><script type=\"text/javascript\">require([\"plotly\"], function(Plotly) { window.PLOTLYENV=window.PLOTLYENV || {};window.PLOTLYENV.BASE_URL=\"https://plot.ly\";Plotly.newPlot(\"c9e85aa1-04ff-4f8b-a29e-9ecc36958e31\", [{\"mode\": \"markers\", \"x\": [0, 1, 2, 3, 4, 5, 6, 7, 8, 9, 10, 11, 12, 13, 14, 15, 16, 17, 18, 19, 20, 21, 22, 23, 24, 25, 26, 27, 28, 29, 30, 31, 32, 33, 34, 35, 36, 37, 38, 39, 40, 41, 42, 43, 44, 45, 46, 47, 48, 49, 50], \"y\": [14.0, 14.0, 14.0, 13.0, 13.0, 13.0, 13.0, 12.0, 12.0, 12.0, 12.0, 11.0, 11.0, 11.0, 10.0, 10.0, 10.0, 9.0, 9.0, 9.0, 9.0, 8.0, 8.0, 7.0, 7.0, 7.0, 6.0, 6.0, 6.0, 5.0, 5.0, 4.0, 4.0, 4.0, 3.0, 3.0, 2.0, 2.0, 1.0, 1.0, 0.0, -0.0, -1.0, -1.0, -2.0, -2.0, -3.0, -3.0, -4.0, -5.0, -5.0], \"type\": \"scatter\", \"uid\": \"2b107c70-a634-4810-9f00-3a4722633b78\"}, {\"mode\": \"markers\", \"x\": [0, 1, 2, 3, 4, 5, 6, 7, 8, 9, 10, 11, 12, 13, 14, 15, 16, 17, 18, 19, 20, 21, 22, 23, 24, 25, 26, 27, 28, 29, 30, 31, 32, 33, 34, 35, 36, 37, 38, 39, 40, 41, 42, 43, 44, 45, 46, 47, 48, 49, 50], \"y\": [16.0, 16.0, 17.0, 17.0, 17.0, 18.0, 18.0, 18.0, 19.0, 19.0, 19.0, 19.0, 19.0, 20.0, 20.0, 20.0, 20.0, 21.0, 21.0, 21.0, 21.0, 21.0, 21.0, 21.0, 22.0, 22.0, 22.0, 22.0, 22.0, 22.0, 22.0, 22.0, 23.0, 23.0, 23.0, 23.0, 23.0, 23.0, 23.0, 23.0, 23.0, 23.0, 23.0, 23.0, 24.0, 24.0, 24.0, 24.0, 24.0, 24.0, 24.0], \"type\": \"scatter\", \"uid\": \"45616eca-76f9-4167-8f77-493d2045542c\"}], {}, {\"showLink\": true, \"linkText\": \"Export to plot.ly\", \"plotlyServerURL\": \"https://plot.ly\"})});</script><script type=\"text/javascript\">window.addEventListener(\"resize\", function(){window._Plotly.Plots.resize(document.getElementById(\"c9e85aa1-04ff-4f8b-a29e-9ecc36958e31\"));});</script>"
      ]
     },
     "metadata": {},
     "output_type": "display_data"
    }
   ],
   "source": [
    "my_workplace.plot_skills(my_workplace.agents[1])"
   ]
  },
  {
   "cell_type": "code",
   "execution_count": 9,
   "metadata": {},
   "outputs": [
    {
     "name": "stdout",
     "output_type": "stream",
     "text": [
      "{0: 121, 1: 90, 2: 71, 3: 57, 4: 47, 5: 40, 6: 35, 7: 30, 8: 26, 9: 15, 10: 4, 11: 2, 12: 2, 13: 2, 14: 2, 15: 2, 16: 2, 17: 2, 18: 2, 19: 2, 20: 2, 21: 2, 22: 2, 23: 2, 24: 2, 25: 2, 26: 2, 27: 2, 28: 2, 29: 2, 30: 2, 31: 2, 32: 2, 33: 2, 34: 2, 35: 2, 36: 2, 37: 2, 38: 2, 39: 2, 40: 2, 41: 2, 42: 2, 43: 2, 44: 2, 45: 2, 46: 2, 47: 2, 48: 2, 49: 2}\n",
      "\n",
      "{0: 15.625, 1: 15.451174289245984, 2: 15.287901766058411, 3: 15.134373867948835, 4: 14.9898604266994, 5: 14.853700384564386, 6: 14.72529380140214, 7: 14.604094948015787, 8: 14.48960631725963, 9: 14.38137341367131, 10: 14.278980206017964, 11: 14.182045146356005, 12: 14.090217674897302, 13: 14.0031751428512, 14: 13.920620096022533, 15: 13.842277870725159, 16: 13.767894460863246, 17: 13.697234621112903, 18: 13.630080176224965, 19: 13.566228510742127, 20: 13.505491217023195, 21: 13.447692882509791, 22: 13.392669999750108, 23: 13.340269984887849, 24: 13.290350292195154, 25: 13.242777613827794, 26: 13.19742715535277, 27: 13.154181978777473, 28: 13.112932405825923, 29: 13.073575475085532, 30: 13.036014447408071, 31: 13.000158354608407, 32: 12.965921587078453, 33: 12.933223516434058, 34: 12.90198814974957, 35: 12.872143812317143, 36: 12.843622856203298, 37: 12.816361392169837, 38: 12.790299042785515, 39: 12.765378714783566, 40: 12.741546388922089, 41: 12.71875092578298, 42: 12.69694388610346, 43: 12.676079364374797, 44: 12.656113834567646, 45: 12.637006006954834, 46: 12.618716695101421, 47: 12.601208692180522, 48: 12.58444665585251, 49: 12.568397001016079}\n",
      "\n",
      "{0: 15.625, 1: 15.451174289245984, 2: 15.287901766058411, 3: 15.134373867948835, 4: 14.9898604266994, 5: 14.853700384564386, 6: 14.72529380140214, 7: 14.604094948015787, 8: 14.48960631725963, 9: 14.38137341367131, 10: 14.278980206017964, 11: 14.182045146356005, 12: 14.090217674897302, 13: 14.0031751428512, 14: 13.920620096022533, 15: 13.842277870725159, 16: 13.767894460863246, 17: 13.697234621112903, 18: 13.630080176224965, 19: 13.566228510742127, 20: 13.505491217023195, 21: 13.447692882509791, 22: 13.392669999750108, 23: 13.340269984887849, 24: 13.290350292195154, 25: 13.242777613827794, 26: 13.19742715535277, 27: 13.154181978777473, 28: 13.112932405825923, 29: 13.073575475085532, 30: 13.036014447408071, 31: 13.000158354608407, 32: 12.965921587078453, 33: 12.933223516434058, 34: 12.90198814974957, 35: 12.872143812317143, 36: 12.843622856203298, 37: 12.816361392169837, 38: 12.790299042785515, 39: 12.765378714783566, 40: 12.741546388922089, 41: 12.71875092578298, 42: 12.69694388610346, 43: 12.676079364374797, 44: 12.656113834567646, 45: 12.637006006954834, 46: 12.618716695101421, 47: 12.601208692180522, 48: 12.58444665585251, 49: 12.568397001016079}\n",
      "\n",
      "{0: 136.625, 1: 105.45117428924598, 2: 86.28790176605841, 3: 72.13437386794884, 4: 61.9898604266994, 5: 54.853700384564384, 6: 49.72529380140214, 7: 44.604094948015785, 8: 40.48960631725963, 9: 29.381373413671312, 10: 18.278980206017962, 11: 16.182045146356003, 12: 16.090217674897303, 13: 16.003175142851198, 14: 15.920620096022533, 15: 15.842277870725159, 16: 15.767894460863246, 17: 15.697234621112903, 18: 15.630080176224965, 19: 15.566228510742127, 20: 15.505491217023195, 21: 15.447692882509791, 22: 15.392669999750108, 23: 15.340269984887849, 24: 15.290350292195154, 25: 15.242777613827794, 26: 15.19742715535277, 27: 15.154181978777473, 28: 15.112932405825923, 29: 15.073575475085532, 30: 15.036014447408071, 31: 15.000158354608407, 32: 14.965921587078453, 33: 14.933223516434058, 34: 14.90198814974957, 35: 14.872143812317143, 36: 14.843622856203298, 37: 14.816361392169837, 38: 14.790299042785515, 39: 14.765378714783566, 40: 14.741546388922089, 41: 14.71875092578298, 42: 14.69694388610346, 43: 14.676079364374797, 44: 14.656113834567646, 45: 14.637006006954834, 46: 14.618716695101421, 47: 14.601208692180522, 48: 14.58444665585251, 49: 14.568397001016079}\n",
      "\n"
     ]
    }
   ],
   "source": [
    "print(my_workplace.coordination_times, end='\\n\\n')\n",
    "\n",
    "print(my_workplace.agents[0].performance_times, end='\\n\\n')\n",
    "print(my_workplace.agents[1].performance_times, end='\\n\\n')\n",
    "\n",
    "print(my_workplace.Tperf, end='\\n\\n')"
   ]
  },
  {
   "cell_type": "code",
   "execution_count": 10,
   "metadata": {},
   "outputs": [
    {
     "data": {
      "application/vnd.plotly.v1+json": {
       "config": {
        "linkText": "Export to plot.ly",
        "plotlyServerURL": "https://plot.ly",
        "showLink": true
       },
       "data": [
        {
         "mode": "markers",
         "type": "scatter",
         "uid": "679e2d33-ca12-4813-9d28-5adf4df5ce3d",
         "x": [
          0,
          1,
          2,
          3,
          4,
          5,
          6,
          7,
          8,
          9,
          10,
          11,
          12,
          13,
          14,
          15,
          16,
          17,
          18,
          19,
          20,
          21,
          22,
          23,
          24,
          25,
          26,
          27,
          28,
          29,
          30,
          31,
          32,
          33,
          34,
          35,
          36,
          37,
          38,
          39,
          40,
          41,
          42,
          43,
          44,
          45,
          46,
          47,
          48,
          49
         ],
         "y": [
          137,
          105,
          86,
          72,
          62,
          55,
          50,
          45,
          40,
          29,
          18,
          16,
          16,
          16,
          16,
          16,
          16,
          16,
          16,
          16,
          16,
          15,
          15,
          15,
          15,
          15,
          15,
          15,
          15,
          15,
          15,
          15,
          15,
          15,
          15,
          15,
          15,
          15,
          15,
          15,
          15,
          15,
          15,
          15,
          15,
          15,
          15,
          15,
          15,
          15
         ]
        },
        {
         "mode": "markers",
         "type": "scatter",
         "uid": "9a0c162e-664d-47ca-affd-ec64c50ebdce",
         "x": [
          0,
          1,
          2,
          3,
          4,
          5,
          6,
          7,
          8,
          9,
          10,
          11,
          12,
          13,
          14,
          15,
          16,
          17,
          18,
          19,
          20,
          21,
          22,
          23,
          24,
          25,
          26,
          27,
          28,
          29,
          30,
          31,
          32,
          33,
          34,
          35,
          36,
          37,
          38,
          39,
          40,
          41,
          42,
          43,
          44,
          45,
          46,
          47,
          48,
          49
         ],
         "y": [
          121,
          90,
          71,
          57,
          47,
          40,
          35,
          30,
          26,
          15,
          4,
          2,
          2,
          2,
          2,
          2,
          2,
          2,
          2,
          2,
          2,
          2,
          2,
          2,
          2,
          2,
          2,
          2,
          2,
          2,
          2,
          2,
          2,
          2,
          2,
          2,
          2,
          2,
          2,
          2,
          2,
          2,
          2,
          2,
          2,
          2,
          2,
          2,
          2,
          2
         ]
        },
        {
         "mode": "markers",
         "type": "scatter",
         "uid": "a13ed8b8-6ef8-418d-b93c-288df3004ebb",
         "x": [
          0,
          1,
          2,
          3,
          4,
          5,
          6,
          7,
          8,
          9,
          10,
          11,
          12,
          13,
          14,
          15,
          16,
          17,
          18,
          19,
          20,
          21,
          22,
          23,
          24,
          25,
          26,
          27,
          28,
          29,
          30,
          31,
          32,
          33,
          34,
          35,
          36,
          37,
          38,
          39,
          40,
          41,
          42,
          43,
          44,
          45,
          46,
          47,
          48,
          49
         ],
         "y": [
          16,
          15,
          15,
          15,
          15,
          15,
          15,
          15,
          14,
          14,
          14,
          14,
          14,
          14,
          14,
          14,
          14,
          14,
          14,
          14,
          14,
          13,
          13,
          13,
          13,
          13,
          13,
          13,
          13,
          13,
          13,
          13,
          13,
          13,
          13,
          13,
          13,
          13,
          13,
          13,
          13,
          13,
          13,
          13,
          13,
          13,
          13,
          13,
          13,
          13
         ]
        },
        {
         "mode": "markers",
         "type": "scatter",
         "uid": "6c8b8673-c75d-482c-aed0-c6975a76d493",
         "x": [
          0,
          1,
          2,
          3,
          4,
          5,
          6,
          7,
          8,
          9,
          10,
          11,
          12,
          13,
          14,
          15,
          16,
          17,
          18,
          19,
          20,
          21,
          22,
          23,
          24,
          25,
          26,
          27,
          28,
          29,
          30,
          31,
          32,
          33,
          34,
          35,
          36,
          37,
          38,
          39,
          40,
          41,
          42,
          43,
          44,
          45,
          46,
          47,
          48,
          49
         ],
         "y": [
          16,
          15,
          15,
          15,
          15,
          15,
          15,
          15,
          14,
          14,
          14,
          14,
          14,
          14,
          14,
          14,
          14,
          14,
          14,
          14,
          14,
          13,
          13,
          13,
          13,
          13,
          13,
          13,
          13,
          13,
          13,
          13,
          13,
          13,
          13,
          13,
          13,
          13,
          13,
          13,
          13,
          13,
          13,
          13,
          13,
          13,
          13,
          13,
          13,
          13
         ]
        }
       ],
       "layout": {}
      },
      "text/html": [
       "<div id=\"8e4bdc9b-7b54-42c0-ae87-284bbddcbdc2\" style=\"height: 525px; width: 100%;\" class=\"plotly-graph-div\"></div><script type=\"text/javascript\">require([\"plotly\"], function(Plotly) { window.PLOTLYENV=window.PLOTLYENV || {};window.PLOTLYENV.BASE_URL=\"https://plot.ly\";Plotly.newPlot(\"8e4bdc9b-7b54-42c0-ae87-284bbddcbdc2\", [{\"mode\": \"markers\", \"x\": [0, 1, 2, 3, 4, 5, 6, 7, 8, 9, 10, 11, 12, 13, 14, 15, 16, 17, 18, 19, 20, 21, 22, 23, 24, 25, 26, 27, 28, 29, 30, 31, 32, 33, 34, 35, 36, 37, 38, 39, 40, 41, 42, 43, 44, 45, 46, 47, 48, 49], \"y\": [137.0, 105.0, 86.0, 72.0, 62.0, 55.0, 50.0, 45.0, 40.0, 29.0, 18.0, 16.0, 16.0, 16.0, 16.0, 16.0, 16.0, 16.0, 16.0, 16.0, 16.0, 15.0, 15.0, 15.0, 15.0, 15.0, 15.0, 15.0, 15.0, 15.0, 15.0, 15.0, 15.0, 15.0, 15.0, 15.0, 15.0, 15.0, 15.0, 15.0, 15.0, 15.0, 15.0, 15.0, 15.0, 15.0, 15.0, 15.0, 15.0, 15.0], \"type\": \"scatter\", \"uid\": \"815bf5b0-3e91-4d09-b542-5c82108a3185\"}, {\"mode\": \"markers\", \"x\": [0, 1, 2, 3, 4, 5, 6, 7, 8, 9, 10, 11, 12, 13, 14, 15, 16, 17, 18, 19, 20, 21, 22, 23, 24, 25, 26, 27, 28, 29, 30, 31, 32, 33, 34, 35, 36, 37, 38, 39, 40, 41, 42, 43, 44, 45, 46, 47, 48, 49], \"y\": [121, 90, 71, 57, 47, 40, 35, 30, 26, 15, 4, 2, 2, 2, 2, 2, 2, 2, 2, 2, 2, 2, 2, 2, 2, 2, 2, 2, 2, 2, 2, 2, 2, 2, 2, 2, 2, 2, 2, 2, 2, 2, 2, 2, 2, 2, 2, 2, 2, 2], \"type\": \"scatter\", \"uid\": \"1a3da3d5-e423-4f40-87af-d67624c67e41\"}, {\"mode\": \"markers\", \"x\": [0, 1, 2, 3, 4, 5, 6, 7, 8, 9, 10, 11, 12, 13, 14, 15, 16, 17, 18, 19, 20, 21, 22, 23, 24, 25, 26, 27, 28, 29, 30, 31, 32, 33, 34, 35, 36, 37, 38, 39, 40, 41, 42, 43, 44, 45, 46, 47, 48, 49], \"y\": [16.0, 15.0, 15.0, 15.0, 15.0, 15.0, 15.0, 15.0, 14.0, 14.0, 14.0, 14.0, 14.0, 14.0, 14.0, 14.0, 14.0, 14.0, 14.0, 14.0, 14.0, 13.0, 13.0, 13.0, 13.0, 13.0, 13.0, 13.0, 13.0, 13.0, 13.0, 13.0, 13.0, 13.0, 13.0, 13.0, 13.0, 13.0, 13.0, 13.0, 13.0, 13.0, 13.0, 13.0, 13.0, 13.0, 13.0, 13.0, 13.0, 13.0], \"type\": \"scatter\", \"uid\": \"880976c6-148a-4c57-b6da-0b0769d77ce1\"}, {\"mode\": \"markers\", \"x\": [0, 1, 2, 3, 4, 5, 6, 7, 8, 9, 10, 11, 12, 13, 14, 15, 16, 17, 18, 19, 20, 21, 22, 23, 24, 25, 26, 27, 28, 29, 30, 31, 32, 33, 34, 35, 36, 37, 38, 39, 40, 41, 42, 43, 44, 45, 46, 47, 48, 49], \"y\": [16.0, 15.0, 15.0, 15.0, 15.0, 15.0, 15.0, 15.0, 14.0, 14.0, 14.0, 14.0, 14.0, 14.0, 14.0, 14.0, 14.0, 14.0, 14.0, 14.0, 14.0, 13.0, 13.0, 13.0, 13.0, 13.0, 13.0, 13.0, 13.0, 13.0, 13.0, 13.0, 13.0, 13.0, 13.0, 13.0, 13.0, 13.0, 13.0, 13.0, 13.0, 13.0, 13.0, 13.0, 13.0, 13.0, 13.0, 13.0, 13.0, 13.0], \"type\": \"scatter\", \"uid\": \"3474f4f3-f5d8-4bcb-9379-6c2275fb99ca\"}], {}, {\"showLink\": true, \"linkText\": \"Export to plot.ly\", \"plotlyServerURL\": \"https://plot.ly\"})});</script><script type=\"text/javascript\">window.addEventListener(\"resize\", function(){window._Plotly.Plots.resize(document.getElementById(\"8e4bdc9b-7b54-42c0-ae87-284bbddcbdc2\"));});</script>"
      ],
      "text/vnd.plotly.v1+html": [
       "<div id=\"8e4bdc9b-7b54-42c0-ae87-284bbddcbdc2\" style=\"height: 525px; width: 100%;\" class=\"plotly-graph-div\"></div><script type=\"text/javascript\">require([\"plotly\"], function(Plotly) { window.PLOTLYENV=window.PLOTLYENV || {};window.PLOTLYENV.BASE_URL=\"https://plot.ly\";Plotly.newPlot(\"8e4bdc9b-7b54-42c0-ae87-284bbddcbdc2\", [{\"mode\": \"markers\", \"x\": [0, 1, 2, 3, 4, 5, 6, 7, 8, 9, 10, 11, 12, 13, 14, 15, 16, 17, 18, 19, 20, 21, 22, 23, 24, 25, 26, 27, 28, 29, 30, 31, 32, 33, 34, 35, 36, 37, 38, 39, 40, 41, 42, 43, 44, 45, 46, 47, 48, 49], \"y\": [137.0, 105.0, 86.0, 72.0, 62.0, 55.0, 50.0, 45.0, 40.0, 29.0, 18.0, 16.0, 16.0, 16.0, 16.0, 16.0, 16.0, 16.0, 16.0, 16.0, 16.0, 15.0, 15.0, 15.0, 15.0, 15.0, 15.0, 15.0, 15.0, 15.0, 15.0, 15.0, 15.0, 15.0, 15.0, 15.0, 15.0, 15.0, 15.0, 15.0, 15.0, 15.0, 15.0, 15.0, 15.0, 15.0, 15.0, 15.0, 15.0, 15.0], \"type\": \"scatter\", \"uid\": \"815bf5b0-3e91-4d09-b542-5c82108a3185\"}, {\"mode\": \"markers\", \"x\": [0, 1, 2, 3, 4, 5, 6, 7, 8, 9, 10, 11, 12, 13, 14, 15, 16, 17, 18, 19, 20, 21, 22, 23, 24, 25, 26, 27, 28, 29, 30, 31, 32, 33, 34, 35, 36, 37, 38, 39, 40, 41, 42, 43, 44, 45, 46, 47, 48, 49], \"y\": [121, 90, 71, 57, 47, 40, 35, 30, 26, 15, 4, 2, 2, 2, 2, 2, 2, 2, 2, 2, 2, 2, 2, 2, 2, 2, 2, 2, 2, 2, 2, 2, 2, 2, 2, 2, 2, 2, 2, 2, 2, 2, 2, 2, 2, 2, 2, 2, 2, 2], \"type\": \"scatter\", \"uid\": \"1a3da3d5-e423-4f40-87af-d67624c67e41\"}, {\"mode\": \"markers\", \"x\": [0, 1, 2, 3, 4, 5, 6, 7, 8, 9, 10, 11, 12, 13, 14, 15, 16, 17, 18, 19, 20, 21, 22, 23, 24, 25, 26, 27, 28, 29, 30, 31, 32, 33, 34, 35, 36, 37, 38, 39, 40, 41, 42, 43, 44, 45, 46, 47, 48, 49], \"y\": [16.0, 15.0, 15.0, 15.0, 15.0, 15.0, 15.0, 15.0, 14.0, 14.0, 14.0, 14.0, 14.0, 14.0, 14.0, 14.0, 14.0, 14.0, 14.0, 14.0, 14.0, 13.0, 13.0, 13.0, 13.0, 13.0, 13.0, 13.0, 13.0, 13.0, 13.0, 13.0, 13.0, 13.0, 13.0, 13.0, 13.0, 13.0, 13.0, 13.0, 13.0, 13.0, 13.0, 13.0, 13.0, 13.0, 13.0, 13.0, 13.0, 13.0], \"type\": \"scatter\", \"uid\": \"880976c6-148a-4c57-b6da-0b0769d77ce1\"}, {\"mode\": \"markers\", \"x\": [0, 1, 2, 3, 4, 5, 6, 7, 8, 9, 10, 11, 12, 13, 14, 15, 16, 17, 18, 19, 20, 21, 22, 23, 24, 25, 26, 27, 28, 29, 30, 31, 32, 33, 34, 35, 36, 37, 38, 39, 40, 41, 42, 43, 44, 45, 46, 47, 48, 49], \"y\": [16.0, 15.0, 15.0, 15.0, 15.0, 15.0, 15.0, 15.0, 14.0, 14.0, 14.0, 14.0, 14.0, 14.0, 14.0, 14.0, 14.0, 14.0, 14.0, 14.0, 14.0, 13.0, 13.0, 13.0, 13.0, 13.0, 13.0, 13.0, 13.0, 13.0, 13.0, 13.0, 13.0, 13.0, 13.0, 13.0, 13.0, 13.0, 13.0, 13.0, 13.0, 13.0, 13.0, 13.0, 13.0, 13.0, 13.0, 13.0, 13.0, 13.0], \"type\": \"scatter\", \"uid\": \"3474f4f3-f5d8-4bcb-9379-6c2275fb99ca\"}], {}, {\"showLink\": true, \"linkText\": \"Export to plot.ly\", \"plotlyServerURL\": \"https://plot.ly\"})});</script><script type=\"text/javascript\">window.addEventListener(\"resize\", function(){window._Plotly.Plots.resize(document.getElementById(\"8e4bdc9b-7b54-42c0-ae87-284bbddcbdc2\"));});</script>"
      ]
     },
     "metadata": {},
     "output_type": "display_data"
    }
   ],
   "source": [
    "my_workplace.plot_performance()"
   ]
  }
 ],
 "metadata": {
  "kernelspec": {
   "display_name": "Python 3",
   "language": "python",
   "name": "python3"
  },
  "language_info": {
   "codemirror_mode": {
    "name": "ipython",
    "version": 3
   },
   "file_extension": ".py",
   "mimetype": "text/x-python",
   "name": "python",
   "nbconvert_exporter": "python",
   "pygments_lexer": "ipython3",
   "version": "3.6.7"
  }
 },
 "nbformat": 4,
 "nbformat_minor": 2
}
