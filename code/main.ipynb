{
 "cells": [
  {
   "cell_type": "code",
   "execution_count": 1,
   "metadata": {},
   "outputs": [],
   "source": [
    "import numpy as np"
   ]
  },
  {
   "cell_type": "code",
   "execution_count": 2,
   "metadata": {},
   "outputs": [
    {
     "name": "stdout",
     "output_type": "stream",
     "text": [
      "✅ Successfully imported skill.py\n",
      "✅ Successfully imported workplace.py\n",
      "✅ Successfully imported task.py\n",
      "✅ Successfully imported agent.py\n"
     ]
    }
   ],
   "source": [
    "# Import class definitions\n",
    "\n",
    "# List existing classes\n",
    "from os import listdir\n",
    "from os.path import isfile, join\n",
    "classes = [f for f in listdir('classes') if isfile(join('classes', f))]\n",
    "\n",
    "# Import procedure\n",
    "for _class in classes:\n",
    "    %run classes/$_class\n",
    "    print('✅ Successfully imported ' + _class)"
   ]
  },
  {
   "cell_type": "code",
   "execution_count": 3,
   "metadata": {},
   "outputs": [
    {
     "name": "stdout",
     "output_type": "stream",
     "text": [
      "Agents:\n",
      "Agent 0, Skills:\n",
      "['< id: 0, expertise: 0.11815818967449965, motivation: 0.9958599010801956 >', '< id: 1, expertise: 0.4925983648344059, motivation: 0.7961597195080407 >', '< id: 2, expertise: 0.25188925968366005, motivation: 0.26916748262530443 >']\n",
      "Agent 1, Skills:\n",
      "['< id: 0, expertise: 0.48416846672149716, motivation: 0.5076441238670532 >', '< id: 1, expertise: 0.4445058192669473, motivation: 0.6848868360541406 >', '< id: 2, expertise: 0.6007802386291866, motivation: 0.8610383702566203 >']\n"
     ]
    }
   ],
   "source": [
    "my_workplace = Workplace()\n",
    "\n",
    "my_workplace.add_agent(\n",
    "    Agent(\n",
    "        _id = 0,\n",
    "        skillset = [Skill(_id=0, exp=np.random.rand(), mot=np.random.rand()),\n",
    "                    Skill(_id=1, exp=np.random.rand(), mot=np.random.rand()),\n",
    "                    Skill(_id=2, exp=np.random.rand(), mot=np.random.rand())]\n",
    "    )\n",
    ")\n",
    "\n",
    "my_workplace.add_agent(\n",
    "    Agent(\n",
    "        _id = 1,\n",
    "        skillset = [Skill(_id=0, exp=np.random.rand(), mot=np.random.rand()),\n",
    "                    Skill(_id=1, exp=np.random.rand(), mot=np.random.rand()),\n",
    "                    Skill(_id=2, exp=np.random.rand(), mot=np.random.rand())]\n",
    "    )\n",
    ")\n",
    "\n",
    "print(my_workplace.agents_string())"
   ]
  },
  {
   "cell_type": "code",
   "execution_count": 4,
   "metadata": {},
   "outputs": [
    {
     "name": "stdout",
     "output_type": "stream",
     "text": [
      "TASKS:\n",
      "\n",
      "--- TASK 0 ---\n",
      "Actions:\n",
      "< Action 0/2, Skill: 0, Duration: 4 >\n",
      "< Action 1/2, Skill: 1, Duration: 4 >\n",
      "< Action 2/2, Skill: 2, Duration: 4 >\n",
      "Duration: 4\n",
      "\n",
      "--- TASK 1 ---\n",
      "Actions:\n",
      "< Action 0/2, Skill: 2, Duration: 4 >\n",
      "< Action 1/2, Skill: 3, Duration: 4 >\n",
      "< Action 2/2, Skill: 2, Duration: 4 >\n",
      "Duration: 4\n",
      "\n",
      "--- TASK 2 ---\n",
      "Actions:\n",
      "< Action 0/2, Skill: 3, Duration: 4 >\n",
      "< Action 1/2, Skill: 3, Duration: 4 >\n",
      "< Action 2/2, Skill: 0, Duration: 4 >\n",
      "Duration: 4\n",
      "\n"
     ]
    }
   ],
   "source": [
    "my_workplace.add_task(\n",
    "    Task(\n",
    "        _id = 0,\n",
    "        skill_order = [0, 1, 2],\n",
    "        act_duration = 4\n",
    "    )\n",
    ")\n",
    "\n",
    "my_workplace.add_task(\n",
    "    Task(\n",
    "        _id = 1,\n",
    "        skill_order = [2, 3, 2],\n",
    "        act_duration = 4\n",
    "    )\n",
    ")\n",
    "\n",
    "my_workplace.add_task(\n",
    "    Task(\n",
    "        _id = 2,\n",
    "        skill_order = [3, 3, 0],\n",
    "        act_duration = 4\n",
    "    )\n",
    ")\n",
    "\n",
    "print(my_workplace.tasks_string())"
   ]
  },
  {
   "cell_type": "code",
   "execution_count": null,
   "metadata": {},
   "outputs": [
    {
     "name": "stdout",
     "output_type": "stream",
     "text": [
      "~~~ Who does? ~~~\n",
      "[0, 1, 1, 0]\n",
      "\n",
      "I2 does!\n",
      "~~~ Who does? ~~~\n",
      "[1, 0, 0, 1]\n",
      "\n",
      "I1 does!\n",
      "~~~ Who does? ~~~\n",
      "[0, 1, 0.32727326110725874, 0]\n",
      "\n",
      "I2 does!\n",
      "Processed task --- TASK 0 ---\n",
      "Actions:\n",
      "< Action 0/2, Skill: 0, Duration: 4 >\n",
      "< Action 1/2, Skill: 1, Duration: 4 >\n",
      "< Action 2/2, Skill: 2, Duration: 4 >\n",
      "Duration: 4\n",
      ":\n",
      "\n",
      "Current state:\n",
      "[ Time: 0-4, Duration: 4, Task(Action/Total): 0(0/2), Agent: 1 ]\n",
      "[ Time: 4-8, Duration: 4, Task(Action/Total): 0(1/2), Agent: 0 ]\n",
      "[ Time: 8-12, Duration: 4, Task(Action/Total): 0(2/2), Agent: 1 ]\n",
      "~~~ Who does? ~~~\n",
      "[1, 0, 0, 1]\n"
     ]
    }
   ],
   "source": [
    "my_workplace.process_tasks()\n",
    "\n",
    "my_workplace.print_history()"
   ]
  }
 ],
 "metadata": {
  "kernelspec": {
   "display_name": "Python 3",
   "language": "python",
   "name": "python3"
  },
  "language_info": {
   "codemirror_mode": {
    "name": "ipython",
    "version": 3
   },
   "file_extension": ".py",
   "mimetype": "text/x-python",
   "name": "python",
   "nbconvert_exporter": "python",
   "pygments_lexer": "ipython3",
   "version": "3.7.0"
  }
 },
 "nbformat": 4,
 "nbformat_minor": 2
}
