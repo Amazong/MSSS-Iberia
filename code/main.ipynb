{
 "cells": [
  {
   "cell_type": "markdown",
   "metadata": {},
   "source": [
    "# Modelling and Simulating Social Systems\n",
    "\n",
    "## \"Group performance and division of labour in an environment with different personalities\"\n",
    "\n",
    "**Iberia** - *Miguel Perez Sanchis, Joao Dinis Sanches Ferreira*"
   ]
  },
  {
   "cell_type": "markdown",
   "metadata": {},
   "source": [
    "We begin by importing the library necessary for plotting..."
   ]
  },
  {
   "cell_type": "code",
   "execution_count": 1,
   "metadata": {},
   "outputs": [
    {
     "data": {
      "text/html": [
       "<script type=\"text/javascript\">window.PlotlyConfig = {MathJaxConfig: 'local'};</script><script type=\"text/javascript\">if (window.MathJax) {MathJax.Hub.Config({SVG: {font: \"STIX-Web\"}});}</script><script>requirejs.config({paths: { 'plotly': ['https://cdn.plot.ly/plotly-latest.min']},});if(!window._Plotly) {require(['plotly'],function(plotly) {window._Plotly=plotly;});}</script>"
      ],
      "text/vnd.plotly.v1+html": [
       "<script type=\"text/javascript\">window.PlotlyConfig = {MathJaxConfig: 'local'};</script><script type=\"text/javascript\">if (window.MathJax) {MathJax.Hub.Config({SVG: {font: \"STIX-Web\"}});}</script><script>requirejs.config({paths: { 'plotly': ['https://cdn.plot.ly/plotly-latest.min']},});if(!window._Plotly) {require(['plotly'],function(plotly) {window._Plotly=plotly;});}</script>"
      ]
     },
     "metadata": {},
     "output_type": "display_data"
    }
   ],
   "source": [
    "from plotly.offline import download_plotlyjs, init_notebook_mode, plot, iplot\n",
    "import plotly.graph_objs as go\n",
    "init_notebook_mode(connected=True)"
   ]
  },
  {
   "cell_type": "markdown",
   "metadata": {},
   "source": [
    "...and our own classes."
   ]
  },
  {
   "cell_type": "code",
   "execution_count": 2,
   "metadata": {},
   "outputs": [
    {
     "name": "stdout",
     "output_type": "stream",
     "text": [
      "✅ Successfully imported skill.py\n",
      "✅ Successfully imported workplace.py\n",
      "✅ Successfully imported task.py\n",
      "✅ Successfully imported timeline.py\n",
      "✅ Successfully imported agent.py\n",
      "✅ Successfully imported my_parameters.py\n"
     ]
    }
   ],
   "source": [
    "# List existing classes\n",
    "from os import listdir\n",
    "from os.path import isfile, join\n",
    "classes = [f for f in listdir('classes') if isfile(join('classes', f))]\n",
    "\n",
    "classes.remove('__init__.py')\n",
    "classes.remove('reproducibility.py')\n",
    "\n",
    "# Import procedure\n",
    "for _class in classes:\n",
    "    %run classes/$_class\n",
    "    print('✅ Successfully imported ' + _class)"
   ]
  },
  {
   "cell_type": "markdown",
   "metadata": {},
   "source": [
    "## Part 1\n",
    "### Replication of reference work (Zoethout, 2005)"
   ]
  },
  {
   "cell_type": "markdown",
   "metadata": {},
   "source": [
    "We begin by creating variables for the file names which correspond to each of the scenarios that were replicated."
   ]
  },
  {
   "cell_type": "code",
   "execution_count": 3,
   "metadata": {},
   "outputs": [],
   "source": [
    "input_1a = 'IO/inputs/Exp1a_Zoethout.json'\n",
    "input_1b = 'IO/inputs/Exp1b_Zoethout.json'\n",
    "input_2 = 'IO/inputs/Exp2_Zoethout.json'"
   ]
  },
  {
   "cell_type": "markdown",
   "metadata": {},
   "source": [
    "We now create one instance of the workplace object for each of these files."
   ]
  },
  {
   "cell_type": "code",
   "execution_count": 4,
   "metadata": {},
   "outputs": [
    {
     "name": "stdout",
     "output_type": "stream",
     "text": [
      "Reading from input file IO/inputs/Exp1a_Zoethout.json...\n",
      "\n",
      "Reading from input file IO/inputs/Exp1b_Zoethout.json...\n",
      "\n",
      "Reading from input file IO/inputs/Exp2_Zoethout.json...\n",
      "\n"
     ]
    }
   ],
   "source": [
    "my_workplace_exp1a = Workplace(input_1a)\n",
    "my_workplace_exp1b = Workplace(input_1b)\n",
    "my_workplace_exp2 = Workplace(input_2)"
   ]
  },
  {
   "cell_type": "markdown",
   "metadata": {},
   "source": [
    "We can now process the tasks for each of these workplaces."
   ]
  },
  {
   "cell_type": "code",
   "execution_count": null,
   "metadata": {},
   "outputs": [],
   "source": [
    "my_workplace_exp1a.process_tasks()\n",
    "my_workplace_exp1b.process_tasks()\n",
    "my_workplace_exp2.process_tasks()"
   ]
  },
  {
   "cell_type": "markdown",
   "metadata": {},
   "source": [
    "### Experiment 1a"
   ]
  },
  {
   "cell_type": "markdown",
   "metadata": {},
   "source": [
    "The following portion of code generates a plot showing the evolution of the expertise of the first agent over time."
   ]
  },
  {
   "cell_type": "code",
   "execution_count": null,
   "metadata": {
    "scrolled": false
   },
   "outputs": [],
   "source": [
    "my_workplace_exp1a.plot_skills(my_workplace_exp1a.agents[0])"
   ]
  },
  {
   "cell_type": "markdown",
   "metadata": {},
   "source": [
    "The following portion of code generates a plot showing the evolution of the expertise of the second agent over time."
   ]
  },
  {
   "cell_type": "code",
   "execution_count": null,
   "metadata": {
    "scrolled": true
   },
   "outputs": [],
   "source": [
    "my_workplace_exp1a.plot_skills(my_workplace_exp1a.agents[1])"
   ]
  },
  {
   "cell_type": "markdown",
   "metadata": {},
   "source": [
    "The performance for this setup is as follows:"
   ]
  },
  {
   "cell_type": "code",
   "execution_count": null,
   "metadata": {},
   "outputs": [],
   "source": [
    "my_workplace_exp1a.plot_performance()"
   ]
  },
  {
   "cell_type": "markdown",
   "metadata": {},
   "source": [
    "### Experiment 1b"
   ]
  },
  {
   "cell_type": "markdown",
   "metadata": {},
   "source": [
    "We can now repeat this process for experiment 1b. We get the following plot for the first agent:"
   ]
  },
  {
   "cell_type": "code",
   "execution_count": null,
   "metadata": {},
   "outputs": [],
   "source": [
    "my_workplace_exp1b.plot_skills(my_workplace_exp1b.agents[0])"
   ]
  },
  {
   "cell_type": "markdown",
   "metadata": {},
   "source": [
    "And the following plot for the second agent:"
   ]
  },
  {
   "cell_type": "code",
   "execution_count": null,
   "metadata": {},
   "outputs": [],
   "source": [
    "my_workplace_exp1b.plot_skills(my_workplace_exp1b.agents[1])"
   ]
  },
  {
   "cell_type": "markdown",
   "metadata": {},
   "source": [
    "And the following is the performance for this configuration:"
   ]
  },
  {
   "cell_type": "code",
   "execution_count": null,
   "metadata": {},
   "outputs": [],
   "source": [
    "my_workplace_exp1b.plot_performance()"
   ]
  },
  {
   "cell_type": "markdown",
   "metadata": {
    "scrolled": true
   },
   "source": [
    "Both of these experiments show results that are coherent with the findings in Dr. Zoethout's original work.\n",
    "\n",
    "We now move on to experiment 2."
   ]
  },
  {
   "cell_type": "markdown",
   "metadata": {},
   "source": [
    "### Experiment 2"
   ]
  },
  {
   "cell_type": "markdown",
   "metadata": {},
   "source": [
    "In the second experiment of the original work, task variety is increased.\n",
    "\n",
    "This results in irregular coordination times, which are associated with the occurence of task switching.\n",
    "\n",
    "We can observe the same results below."
   ]
  },
  {
   "cell_type": "code",
   "execution_count": null,
   "metadata": {},
   "outputs": [],
   "source": [
    "my_workplace_exp2.plot_performance()"
   ]
  },
  {
   "cell_type": "markdown",
   "metadata": {},
   "source": [
    "## Part 2\n",
    "### Implementation of frustration"
   ]
  },
  {
   "cell_type": "markdown",
   "metadata": {},
   "source": [
    "Having successfully replicated the results from the base version of the model, it is time to add another dimension to this problem: frustration.\n",
    "\n",
    "Agents become frustrated as a result of lengthy interactions during the allocation process. The length of this process is itself determined by several factors, including the present frustration values for each of the two intervening agents, as well as the expected quality of the relationship between the agents, per the Myers-Briggs Personality Type indicator.\n",
    "\n",
    "To see the effects of this added metric, we consider the following four scenarios, where task variety and the relationship between the agents are alternatively set to high and low values.\n",
    "\n",
    "In the first two scenarios, we are using a model similar to that in experiments 1a and 1b above. The last two scenarios take as an input a situation similar to that of the second experiment above."
   ]
  },
  {
   "cell_type": "code",
   "execution_count": null,
   "metadata": {},
   "outputs": [],
   "source": [
    "input_file_lg = 'IO/inputs/input_low_good.json'  # Low task variety, good relationship\n",
    "input_file_lb = 'IO/inputs/input_low_bad.json'   # Low task variety, bad relationship\n",
    "input_file_hg = 'IO/inputs/input_high_good.json' # High task variety, good relationship\n",
    "input_file_hb = 'IO/inputs/input_high_bad.json'  # High task variety, bad relationship"
   ]
  },
  {
   "cell_type": "markdown",
   "metadata": {},
   "source": [
    "Like before, we create one instance of the workplace for each input configuration file.\n",
    "\n",
    "We then process the tasks."
   ]
  },
  {
   "cell_type": "code",
   "execution_count": null,
   "metadata": {},
   "outputs": [],
   "source": [
    "my_workplace_lg = Workplace(input_file_lg)\n",
    "my_workplace_lb = Workplace(input_file_lb)\n",
    "my_workplace_hg = Workplace(input_file_hg)\n",
    "my_workplace_hb = Workplace(input_file_hb)\n",
    "\n",
    "my_workplace_lg.process_tasks()\n",
    "my_workplace_lb.process_tasks()\n",
    "my_workplace_hg.process_tasks()\n",
    "my_workplace_hb.process_tasks()"
   ]
  },
  {
   "cell_type": "markdown",
   "metadata": {},
   "source": [
    "We can now analyse the results for each case.\n",
    "\n",
    "We begin by considering the scenario with low task variety, and a good relationship between the agents."
   ]
  },
  {
   "cell_type": "code",
   "execution_count": null,
   "metadata": {},
   "outputs": [],
   "source": [
    "# Low task variety, good relationship\n",
    "print(\"Total time dedicated to the completion of this task: \", end='')\n",
    "lg_time = my_workplace_lg.get_sum_perf_time()\n",
    "print(lg_time)\n",
    "\n",
    "my_workplace_lg.plot_performance()\n",
    "my_workplace_lg.plot_frustration()"
   ]
  },
  {
   "cell_type": "markdown",
   "metadata": {},
   "source": [
    " How does this scenario compare against one where the agents don't get along as well?"
   ]
  },
  {
   "cell_type": "code",
   "execution_count": null,
   "metadata": {},
   "outputs": [],
   "source": [
    "# Low task variety, bad relationship\n",
    "\n",
    "print(\"Total time dedicated to the completion of this task: \", end='')\n",
    "lb_time = my_workplace_lb.get_sum_perf_time()\n",
    "print(lb_time)\n",
    "\n",
    "my_workplace_lb.plot_performance()\n",
    "my_workplace_lb.plot_frustration()"
   ]
  },
  {
   "cell_type": "markdown",
   "metadata": {},
   "source": [
    "Notice the differences in the frustration curves for both scenarios (the maximum value allowed for frustration by the system is of 25 units).\n",
    "\n",
    "The reduction in frustration as time progresses is, however, common to both cases, and is associated with the inevitable reduction in coordination time, as both agents specialise in their respective tasks.\n",
    "\n",
    "More importantly, we notice that there was a big difference in the total performance time for the system!\n",
    "\n",
    "The total reduction was of:"
   ]
  },
  {
   "cell_type": "code",
   "execution_count": null,
   "metadata": {},
   "outputs": [],
   "source": [
    "lb_time - lg_time"
   ]
  },
  {
   "cell_type": "markdown",
   "metadata": {},
   "source": [
    "We can now proceed analogously for the situation with high task variety."
   ]
  },
  {
   "cell_type": "code",
   "execution_count": null,
   "metadata": {},
   "outputs": [],
   "source": [
    "# High task variety, good relationship\n",
    "\n",
    "print(\"Total time dedicated to the completion of this task: \", end='')\n",
    "hg_time = my_workplace_hg.get_sum_perf_time()\n",
    "print(hg_time)\n",
    "\n",
    "my_workplace_hg.plot_performance()\n",
    "my_workplace_hg.plot_frustration()"
   ]
  },
  {
   "cell_type": "code",
   "execution_count": null,
   "metadata": {},
   "outputs": [],
   "source": [
    "# High task variety, bad relationship\n",
    "\n",
    "print(\"Total time dedicated to the completion of this task: \", end='')\n",
    "hb_time = my_workplace_hb.get_sum_perf_time()\n",
    "print(hb_time)\n",
    "\n",
    "my_workplace_hb.plot_performance()\n",
    "my_workplace_hb.plot_frustration()"
   ]
  },
  {
   "cell_type": "markdown",
   "metadata": {},
   "source": [
    "Like before, the effects of a bad relationship are clear: there is a marked tendency for an increase in frustration between agents that the Myers-Briggs does not consider to "
   ]
  }
 ],
 "metadata": {
  "kernelspec": {
   "display_name": "Python 3",
   "language": "python",
   "name": "python3"
  },
  "language_info": {
   "codemirror_mode": {
    "name": "ipython",
    "version": 3
   },
   "file_extension": ".py",
   "mimetype": "text/x-python",
   "name": "python",
   "nbconvert_exporter": "python",
   "pygments_lexer": "ipython3",
   "version": "3.6.7"
  }
 },
 "nbformat": 4,
 "nbformat_minor": 2
}
