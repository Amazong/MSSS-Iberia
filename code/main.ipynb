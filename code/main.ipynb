{
 "cells": [
  {
   "cell_type": "code",
   "execution_count": 1,
   "metadata": {},
   "outputs": [
    {
     "data": {
      "text/html": [
       "<script type=\"text/javascript\">window.PlotlyConfig = {MathJaxConfig: 'local'};</script><script type=\"text/javascript\">if (window.MathJax) {MathJax.Hub.Config({SVG: {font: \"STIX-Web\"}});}</script><script>requirejs.config({paths: { 'plotly': ['https://cdn.plot.ly/plotly-latest.min']},});if(!window._Plotly) {require(['plotly'],function(plotly) {window._Plotly=plotly;});}</script>"
      ],
      "text/vnd.plotly.v1+html": [
       "<script type=\"text/javascript\">window.PlotlyConfig = {MathJaxConfig: 'local'};</script><script type=\"text/javascript\">if (window.MathJax) {MathJax.Hub.Config({SVG: {font: \"STIX-Web\"}});}</script><script>requirejs.config({paths: { 'plotly': ['https://cdn.plot.ly/plotly-latest.min']},});if(!window._Plotly) {require(['plotly'],function(plotly) {window._Plotly=plotly;});}</script>"
      ]
     },
     "metadata": {},
     "output_type": "display_data"
    }
   ],
   "source": [
    "#### Import plotting library ####\n",
    "\n",
    "from plotly.offline import download_plotlyjs, init_notebook_mode, plot, iplot\n",
    "import plotly.graph_objs as go\n",
    "init_notebook_mode(connected=True)"
   ]
  },
  {
   "cell_type": "code",
   "execution_count": 2,
   "metadata": {},
   "outputs": [
    {
     "name": "stdout",
     "output_type": "stream",
     "text": [
      "✅ Successfully imported skill.py\n",
      "✅ Successfully imported workplace.py\n",
      "✅ Successfully imported task.py\n",
      "✅ Successfully imported timeline.py\n",
      "✅ Successfully imported agent.py\n"
     ]
    }
   ],
   "source": [
    "#### Import class definitions ####\n",
    "\n",
    "# List existing classes\n",
    "from os import listdir\n",
    "from os.path import isfile, join\n",
    "classes = [f for f in listdir('classes') if isfile(join('classes', f))]\n",
    "\n",
    "# Import procedure\n",
    "for _class in classes:\n",
    "    %run classes/$_class\n",
    "    print('✅ Successfully imported ' + _class)"
   ]
  },
  {
   "cell_type": "code",
   "execution_count": 3,
   "metadata": {},
   "outputs": [
    {
     "data": {
      "application/vnd.plotly.v1+json": {
       "config": {
        "linkText": "Export to plot.ly",
        "plotlyServerURL": "https://plot.ly",
        "showLink": true
       },
       "data": [
        {
         "mode": "text",
         "text": [
          "Agent -1<br><b>Task -1</b>",
          "Agent -1<br><b>Task -1</b>",
          "Agent -1<br><b>Task -1</b>",
          "Agent -1<br><b>Task -1</b>",
          "Agent -1<br><b>Task -1</b>",
          "Agent -1<br><b>Task -1</b>"
         ],
         "type": "scatter",
         "uid": "e1b56cac-4c35-42ba-b50e-ed913e11e7a2",
         "x": [
          0.5,
          2.5,
          4,
          5.5,
          5.5,
          8.5
         ],
         "y": [
          0.5,
          1.5,
          2.5,
          3.5,
          4.5,
          5.5
         ]
        }
       ],
       "layout": {
        "shapes": [
         {
          "fillcolor": "rgba(53, 208, 255, 0.7)",
          "line": {
           "color": "rgba(53, 208, 255, 1)",
           "width": 2
          },
          "type": "rect",
          "x0": 0,
          "x1": 1,
          "y0": 0,
          "y1": 1
         },
         {
          "fillcolor": "rgba(53, 208, 255, 0.7)",
          "line": {
           "color": "rgba(53, 208, 255, 1)",
           "width": 2
          },
          "type": "rect",
          "x0": 2,
          "x1": 3,
          "y0": 1,
          "y1": 2
         },
         {
          "fillcolor": "rgba(53, 208, 255, 0.7)",
          "line": {
           "color": "rgba(53, 208, 255, 1)",
           "width": 2
          },
          "type": "rect",
          "x0": 3,
          "x1": 5,
          "y0": 2,
          "y1": 3
         },
         {
          "fillcolor": "rgba(53, 208, 255, 0.7)",
          "line": {
           "color": "rgba(53, 208, 255, 1)",
           "width": 2
          },
          "type": "rect",
          "x0": 4,
          "x1": 7,
          "y0": 3,
          "y1": 4
         },
         {
          "fillcolor": "rgba(53, 208, 255, 0.7)",
          "line": {
           "color": "rgba(53, 208, 255, 1)",
           "width": 2
          },
          "type": "rect",
          "x0": 5,
          "x1": 6,
          "y0": 4,
          "y1": 5
         },
         {
          "fillcolor": "rgba(53, 208, 255, 0.7)",
          "line": {
           "color": "rgba(53, 208, 255, 1)",
           "width": 2
          },
          "type": "rect",
          "x0": 7,
          "x1": 10,
          "y0": 5,
          "y1": 6
         }
        ],
        "xaxis": {
         "autorange": true,
         "showgrid": false
        },
        "yaxis": {
         "range": [
          0,
          8
         ]
        }
       }
      },
      "text/html": [
       "<div id=\"7053f0e0-3f76-472d-83a1-372fa9bbf0b3\" style=\"height: 525px; width: 100%;\" class=\"plotly-graph-div\"></div><script type=\"text/javascript\">require([\"plotly\"], function(Plotly) { window.PLOTLYENV=window.PLOTLYENV || {};window.PLOTLYENV.BASE_URL=\"https://plot.ly\";Plotly.newPlot(\"7053f0e0-3f76-472d-83a1-372fa9bbf0b3\", [{\"mode\": \"text\", \"text\": [\"Agent -1<br><b>Task -1</b>\", \"Agent -1<br><b>Task -1</b>\", \"Agent -1<br><b>Task -1</b>\", \"Agent -1<br><b>Task -1</b>\", \"Agent -1<br><b>Task -1</b>\", \"Agent -1<br><b>Task -1</b>\"], \"x\": [0.5, 2.5, 4.0, 5.5, 5.5, 8.5], \"y\": [0.5, 1.5, 2.5, 3.5, 4.5, 5.5], \"type\": \"scatter\", \"uid\": \"cd2f9d28-f0ed-4891-ab2a-a3ebf57b372f\"}], {\"shapes\": [{\"fillcolor\": \"rgba(53, 208, 255, 0.7)\", \"line\": {\"color\": \"rgba(53, 208, 255, 1)\", \"width\": 2}, \"type\": \"rect\", \"x0\": 0, \"x1\": 1, \"y0\": 0, \"y1\": 1}, {\"fillcolor\": \"rgba(53, 208, 255, 0.7)\", \"line\": {\"color\": \"rgba(53, 208, 255, 1)\", \"width\": 2}, \"type\": \"rect\", \"x0\": 2, \"x1\": 3, \"y0\": 1, \"y1\": 2}, {\"fillcolor\": \"rgba(53, 208, 255, 0.7)\", \"line\": {\"color\": \"rgba(53, 208, 255, 1)\", \"width\": 2}, \"type\": \"rect\", \"x0\": 3, \"x1\": 5, \"y0\": 2, \"y1\": 3}, {\"fillcolor\": \"rgba(53, 208, 255, 0.7)\", \"line\": {\"color\": \"rgba(53, 208, 255, 1)\", \"width\": 2}, \"type\": \"rect\", \"x0\": 4, \"x1\": 7, \"y0\": 3, \"y1\": 4}, {\"fillcolor\": \"rgba(53, 208, 255, 0.7)\", \"line\": {\"color\": \"rgba(53, 208, 255, 1)\", \"width\": 2}, \"type\": \"rect\", \"x0\": 5, \"x1\": 6, \"y0\": 4, \"y1\": 5}, {\"fillcolor\": \"rgba(53, 208, 255, 0.7)\", \"line\": {\"color\": \"rgba(53, 208, 255, 1)\", \"width\": 2}, \"type\": \"rect\", \"x0\": 7, \"x1\": 10, \"y0\": 5, \"y1\": 6}], \"xaxis\": {\"autorange\": true, \"showgrid\": false}, \"yaxis\": {\"range\": [0, 8]}}, {\"showLink\": true, \"linkText\": \"Export to plot.ly\", \"plotlyServerURL\": \"https://plot.ly\"})});</script><script type=\"text/javascript\">window.addEventListener(\"resize\", function(){window._Plotly.Plots.resize(document.getElementById(\"7053f0e0-3f76-472d-83a1-372fa9bbf0b3\"));});</script>"
      ],
      "text/vnd.plotly.v1+html": [
       "<div id=\"7053f0e0-3f76-472d-83a1-372fa9bbf0b3\" style=\"height: 525px; width: 100%;\" class=\"plotly-graph-div\"></div><script type=\"text/javascript\">require([\"plotly\"], function(Plotly) { window.PLOTLYENV=window.PLOTLYENV || {};window.PLOTLYENV.BASE_URL=\"https://plot.ly\";Plotly.newPlot(\"7053f0e0-3f76-472d-83a1-372fa9bbf0b3\", [{\"mode\": \"text\", \"text\": [\"Agent -1<br><b>Task -1</b>\", \"Agent -1<br><b>Task -1</b>\", \"Agent -1<br><b>Task -1</b>\", \"Agent -1<br><b>Task -1</b>\", \"Agent -1<br><b>Task -1</b>\", \"Agent -1<br><b>Task -1</b>\"], \"x\": [0.5, 2.5, 4.0, 5.5, 5.5, 8.5], \"y\": [0.5, 1.5, 2.5, 3.5, 4.5, 5.5], \"type\": \"scatter\", \"uid\": \"cd2f9d28-f0ed-4891-ab2a-a3ebf57b372f\"}], {\"shapes\": [{\"fillcolor\": \"rgba(53, 208, 255, 0.7)\", \"line\": {\"color\": \"rgba(53, 208, 255, 1)\", \"width\": 2}, \"type\": \"rect\", \"x0\": 0, \"x1\": 1, \"y0\": 0, \"y1\": 1}, {\"fillcolor\": \"rgba(53, 208, 255, 0.7)\", \"line\": {\"color\": \"rgba(53, 208, 255, 1)\", \"width\": 2}, \"type\": \"rect\", \"x0\": 2, \"x1\": 3, \"y0\": 1, \"y1\": 2}, {\"fillcolor\": \"rgba(53, 208, 255, 0.7)\", \"line\": {\"color\": \"rgba(53, 208, 255, 1)\", \"width\": 2}, \"type\": \"rect\", \"x0\": 3, \"x1\": 5, \"y0\": 2, \"y1\": 3}, {\"fillcolor\": \"rgba(53, 208, 255, 0.7)\", \"line\": {\"color\": \"rgba(53, 208, 255, 1)\", \"width\": 2}, \"type\": \"rect\", \"x0\": 4, \"x1\": 7, \"y0\": 3, \"y1\": 4}, {\"fillcolor\": \"rgba(53, 208, 255, 0.7)\", \"line\": {\"color\": \"rgba(53, 208, 255, 1)\", \"width\": 2}, \"type\": \"rect\", \"x0\": 5, \"x1\": 6, \"y0\": 4, \"y1\": 5}, {\"fillcolor\": \"rgba(53, 208, 255, 0.7)\", \"line\": {\"color\": \"rgba(53, 208, 255, 1)\", \"width\": 2}, \"type\": \"rect\", \"x0\": 7, \"x1\": 10, \"y0\": 5, \"y1\": 6}], \"xaxis\": {\"autorange\": true, \"showgrid\": false}, \"yaxis\": {\"range\": [0, 8]}}, {\"showLink\": true, \"linkText\": \"Export to plot.ly\", \"plotlyServerURL\": \"https://plot.ly\"})});</script><script type=\"text/javascript\">window.addEventListener(\"resize\", function(){window._Plotly.Plots.resize(document.getElementById(\"7053f0e0-3f76-472d-83a1-372fa9bbf0b3\"));});</script>"
      ]
     },
     "metadata": {},
     "output_type": "display_data"
    }
   ],
   "source": [
    "t = Timeline()\n",
    "\n",
    "t.events.append(Event(0, 1))\n",
    "t.events.append(Event(2, 1))\n",
    "t.events.append(Event(3, 2))\n",
    "t.events.append(Event(4, 3))\n",
    "t.events.append(Event(5, 1))\n",
    "t.events.append(Event(7, 3))\n",
    "\n",
    "t.plot_gantt()"
   ]
  },
  {
   "cell_type": "code",
   "execution_count": 4,
   "metadata": {},
   "outputs": [
    {
     "name": "stdout",
     "output_type": "stream",
     "text": [
      "Reading from input file inputs/sample1.json...\n",
      "\n",
      "[<skill.Skill object at 0x10d8c17f0>, <skill.Skill object at 0x10d8c16d8>]\n"
     ]
    },
    {
     "ename": "TypeError",
     "evalue": "'Skill' object is not subscriptable",
     "output_type": "error",
     "traceback": [
      "\u001b[0;31m---------------------------------------------------------------------------\u001b[0m",
      "\u001b[0;31mTypeError\u001b[0m                                 Traceback (most recent call last)",
      "\u001b[0;32m<ipython-input-4-8bcd49571a7d>\u001b[0m in \u001b[0;36m<module>\u001b[0;34m\u001b[0m\n\u001b[1;32m      2\u001b[0m \u001b[0minput_file\u001b[0m \u001b[0;34m=\u001b[0m \u001b[0;34m'inputs/sample1.json'\u001b[0m\u001b[0;34m\u001b[0m\u001b[0;34m\u001b[0m\u001b[0m\n\u001b[1;32m      3\u001b[0m \u001b[0;34m\u001b[0m\u001b[0m\n\u001b[0;32m----> 4\u001b[0;31m \u001b[0mmy_workplace\u001b[0m \u001b[0;34m=\u001b[0m \u001b[0mWorkplace\u001b[0m\u001b[0;34m(\u001b[0m\u001b[0minput_file\u001b[0m\u001b[0;34m)\u001b[0m\u001b[0;34m\u001b[0m\u001b[0;34m\u001b[0m\u001b[0m\n\u001b[0m\u001b[1;32m      5\u001b[0m \u001b[0;34m\u001b[0m\u001b[0m\n\u001b[1;32m      6\u001b[0m \u001b[0mmy_workplace\u001b[0m\u001b[0;34m.\u001b[0m\u001b[0mprint_current_state\u001b[0m\u001b[0;34m(\u001b[0m\u001b[0;34m)\u001b[0m\u001b[0;34m\u001b[0m\u001b[0;34m\u001b[0m\u001b[0m\n",
      "\u001b[0;32m~/Documents/MSSS-Iberia/code/classes/workplace.py\u001b[0m in \u001b[0;36m__init__\u001b[0;34m(self, file)\u001b[0m\n\u001b[1;32m     39\u001b[0m         \u001b[0;32mif\u001b[0m \u001b[0mfile\u001b[0m\u001b[0;34m:\u001b[0m\u001b[0;34m\u001b[0m\u001b[0;34m\u001b[0m\u001b[0m\n\u001b[1;32m     40\u001b[0m             \u001b[0mprint\u001b[0m\u001b[0;34m(\u001b[0m\u001b[0;34m\"Reading from input file \"\u001b[0m \u001b[0;34m+\u001b[0m \u001b[0mfile\u001b[0m \u001b[0;34m+\u001b[0m \u001b[0;34m\"...\\n\"\u001b[0m\u001b[0;34m)\u001b[0m\u001b[0;34m\u001b[0m\u001b[0;34m\u001b[0m\u001b[0m\n\u001b[0;32m---> 41\u001b[0;31m             \u001b[0mself\u001b[0m\u001b[0;34m.\u001b[0m\u001b[0mparse_json\u001b[0m\u001b[0;34m(\u001b[0m\u001b[0mfile\u001b[0m\u001b[0;34m)\u001b[0m\u001b[0;34m\u001b[0m\u001b[0;34m\u001b[0m\u001b[0m\n\u001b[0m\u001b[1;32m     42\u001b[0m \u001b[0;34m\u001b[0m\u001b[0m\n\u001b[1;32m     43\u001b[0m     \u001b[0;31m# !TODO\u001b[0m\u001b[0;34m\u001b[0m\u001b[0;34m\u001b[0m\u001b[0;34m\u001b[0m\u001b[0m\n",
      "\u001b[0;32m~/Documents/MSSS-Iberia/code/classes/workplace.py\u001b[0m in \u001b[0;36mparse_json\u001b[0;34m(self, filename)\u001b[0m\n\u001b[1;32m     51\u001b[0m             \u001b[0mdata\u001b[0m \u001b[0;34m=\u001b[0m \u001b[0mjson\u001b[0m\u001b[0;34m.\u001b[0m\u001b[0mload\u001b[0m\u001b[0;34m(\u001b[0m\u001b[0mf\u001b[0m\u001b[0;34m)\u001b[0m\u001b[0;34m\u001b[0m\u001b[0;34m\u001b[0m\u001b[0m\n\u001b[1;32m     52\u001b[0m         \u001b[0;32mfor\u001b[0m \u001b[0midx\u001b[0m\u001b[0;34m,\u001b[0m \u001b[0magent\u001b[0m \u001b[0;32min\u001b[0m \u001b[0menumerate\u001b[0m\u001b[0;34m(\u001b[0m\u001b[0mdata\u001b[0m\u001b[0;34m[\u001b[0m\u001b[0;34m'agents'\u001b[0m\u001b[0;34m]\u001b[0m\u001b[0;34m)\u001b[0m\u001b[0;34m:\u001b[0m\u001b[0;34m\u001b[0m\u001b[0;34m\u001b[0m\u001b[0m\n\u001b[0;32m---> 53\u001b[0;31m             \u001b[0mself\u001b[0m\u001b[0;34m.\u001b[0m\u001b[0madd_agent\u001b[0m\u001b[0;34m(\u001b[0m\u001b[0midx\u001b[0m\u001b[0;34m,\u001b[0m \u001b[0magent\u001b[0m\u001b[0;34m)\u001b[0m\u001b[0;34m\u001b[0m\u001b[0;34m\u001b[0m\u001b[0m\n\u001b[0m\u001b[1;32m     54\u001b[0m         \u001b[0;32mfor\u001b[0m \u001b[0midx\u001b[0m\u001b[0;34m,\u001b[0m \u001b[0mtask\u001b[0m \u001b[0;32min\u001b[0m \u001b[0menumerate\u001b[0m\u001b[0;34m(\u001b[0m\u001b[0mdata\u001b[0m\u001b[0;34m[\u001b[0m\u001b[0;34m'tasks'\u001b[0m\u001b[0;34m]\u001b[0m\u001b[0;34m)\u001b[0m\u001b[0;34m:\u001b[0m\u001b[0;34m\u001b[0m\u001b[0;34m\u001b[0m\u001b[0m\n\u001b[1;32m     55\u001b[0m             \u001b[0mself\u001b[0m\u001b[0;34m.\u001b[0m\u001b[0madd_task\u001b[0m\u001b[0;34m(\u001b[0m\u001b[0midx\u001b[0m\u001b[0;34m,\u001b[0m \u001b[0mtask\u001b[0m\u001b[0;34m)\u001b[0m\u001b[0;34m\u001b[0m\u001b[0;34m\u001b[0m\u001b[0m\n",
      "\u001b[0;32m~/Documents/MSSS-Iberia/code/classes/workplace.py\u001b[0m in \u001b[0;36madd_agent\u001b[0;34m(self, idx, agent)\u001b[0m\n\u001b[1;32m     60\u001b[0m                         mot = skill['mot'])\n\u001b[1;32m     61\u001b[0m                   for skill in agent['skillset']]\n\u001b[0;32m---> 62\u001b[0;31m         \u001b[0mself\u001b[0m\u001b[0;34m.\u001b[0m\u001b[0magents\u001b[0m\u001b[0;34m.\u001b[0m\u001b[0mappend\u001b[0m\u001b[0;34m(\u001b[0m\u001b[0mAgent\u001b[0m\u001b[0;34m(\u001b[0m\u001b[0m_id\u001b[0m \u001b[0;34m=\u001b[0m \u001b[0midx\u001b[0m\u001b[0;34m,\u001b[0m \u001b[0mskillset\u001b[0m \u001b[0;34m=\u001b[0m \u001b[0mskills\u001b[0m\u001b[0;34m)\u001b[0m\u001b[0;34m)\u001b[0m\u001b[0;34m\u001b[0m\u001b[0;34m\u001b[0m\u001b[0m\n\u001b[0m\u001b[1;32m     63\u001b[0m \u001b[0;34m\u001b[0m\u001b[0m\n\u001b[1;32m     64\u001b[0m     \u001b[0;32mdef\u001b[0m \u001b[0madd_task\u001b[0m\u001b[0;34m(\u001b[0m\u001b[0mself\u001b[0m\u001b[0;34m,\u001b[0m \u001b[0midx\u001b[0m\u001b[0;34m,\u001b[0m \u001b[0mtask\u001b[0m\u001b[0;34m)\u001b[0m\u001b[0;34m:\u001b[0m\u001b[0;34m\u001b[0m\u001b[0;34m\u001b[0m\u001b[0m\n",
      "\u001b[0;32m~/Documents/MSSS-Iberia/code/classes/agent.py\u001b[0m in \u001b[0;36m__init__\u001b[0;34m(self, _id, skillset)\u001b[0m\n\u001b[1;32m      5\u001b[0m         \u001b[0;31m# Ensure skills are stored in order\u001b[0m\u001b[0;34m\u001b[0m\u001b[0;34m\u001b[0m\u001b[0;34m\u001b[0m\u001b[0m\n\u001b[1;32m      6\u001b[0m         \u001b[0mprint\u001b[0m\u001b[0;34m(\u001b[0m\u001b[0mskillset\u001b[0m\u001b[0;34m)\u001b[0m\u001b[0;34m\u001b[0m\u001b[0;34m\u001b[0m\u001b[0m\n\u001b[0;32m----> 7\u001b[0;31m         \u001b[0mself\u001b[0m\u001b[0;34m.\u001b[0m\u001b[0mskillset\u001b[0m \u001b[0;34m=\u001b[0m \u001b[0msorted\u001b[0m\u001b[0;34m(\u001b[0m\u001b[0mskillset\u001b[0m\u001b[0;34m,\u001b[0m \u001b[0mkey\u001b[0m\u001b[0;34m=\u001b[0m\u001b[0;32mlambda\u001b[0m \u001b[0ms\u001b[0m\u001b[0;34m:\u001b[0m \u001b[0ms\u001b[0m\u001b[0;34m[\u001b[0m\u001b[0;34m'id'\u001b[0m\u001b[0;34m]\u001b[0m\u001b[0;34m)\u001b[0m\u001b[0;34m\u001b[0m\u001b[0;34m\u001b[0m\u001b[0m\n\u001b[0m\u001b[1;32m      8\u001b[0m \u001b[0;34m\u001b[0m\u001b[0m\n\u001b[1;32m      9\u001b[0m         \u001b[0;31m# Sanity check - skills should be consecutive integers starting at zero\u001b[0m\u001b[0;34m\u001b[0m\u001b[0;34m\u001b[0m\u001b[0;34m\u001b[0m\u001b[0m\n",
      "\u001b[0;32m~/Documents/MSSS-Iberia/code/classes/agent.py\u001b[0m in \u001b[0;36m<lambda>\u001b[0;34m(s)\u001b[0m\n\u001b[1;32m      5\u001b[0m         \u001b[0;31m# Ensure skills are stored in order\u001b[0m\u001b[0;34m\u001b[0m\u001b[0;34m\u001b[0m\u001b[0;34m\u001b[0m\u001b[0m\n\u001b[1;32m      6\u001b[0m         \u001b[0mprint\u001b[0m\u001b[0;34m(\u001b[0m\u001b[0mskillset\u001b[0m\u001b[0;34m)\u001b[0m\u001b[0;34m\u001b[0m\u001b[0;34m\u001b[0m\u001b[0m\n\u001b[0;32m----> 7\u001b[0;31m         \u001b[0mself\u001b[0m\u001b[0;34m.\u001b[0m\u001b[0mskillset\u001b[0m \u001b[0;34m=\u001b[0m \u001b[0msorted\u001b[0m\u001b[0;34m(\u001b[0m\u001b[0mskillset\u001b[0m\u001b[0;34m,\u001b[0m \u001b[0mkey\u001b[0m\u001b[0;34m=\u001b[0m\u001b[0;32mlambda\u001b[0m \u001b[0ms\u001b[0m\u001b[0;34m:\u001b[0m \u001b[0ms\u001b[0m\u001b[0;34m[\u001b[0m\u001b[0;34m'id'\u001b[0m\u001b[0;34m]\u001b[0m\u001b[0;34m)\u001b[0m\u001b[0;34m\u001b[0m\u001b[0;34m\u001b[0m\u001b[0m\n\u001b[0m\u001b[1;32m      8\u001b[0m \u001b[0;34m\u001b[0m\u001b[0m\n\u001b[1;32m      9\u001b[0m         \u001b[0;31m# Sanity check - skills should be consecutive integers starting at zero\u001b[0m\u001b[0;34m\u001b[0m\u001b[0;34m\u001b[0m\u001b[0;34m\u001b[0m\u001b[0m\n",
      "\u001b[0;31mTypeError\u001b[0m: 'Skill' object is not subscriptable"
     ]
    }
   ],
   "source": [
    "input_file = None\n",
    "input_file = 'inputs/sample1.json'\n",
    "\n",
    "my_workplace = Workplace(input_file)\n",
    "\n",
    "my_workplace.print_current_state()"
   ]
  },
  {
   "cell_type": "code",
   "execution_count": null,
   "metadata": {},
   "outputs": [],
   "source": [
    "my_workplace.process_tasks()"
   ]
  },
  {
   "cell_type": "code",
   "execution_count": null,
   "metadata": {},
   "outputs": [],
   "source": [
    "my_workplace.print_current_state()"
   ]
  },
  {
   "cell_type": "code",
   "execution_count": null,
   "metadata": {},
   "outputs": [],
   "source": []
  }
 ],
 "metadata": {
  "kernelspec": {
   "display_name": "Python 3",
   "language": "python",
   "name": "python3"
  },
  "language_info": {
   "codemirror_mode": {
    "name": "ipython",
    "version": 3
   },
   "file_extension": ".py",
   "mimetype": "text/x-python",
   "name": "python",
   "nbconvert_exporter": "python",
   "pygments_lexer": "ipython3",
   "version": "3.6.7"
  }
 },
 "nbformat": 4,
 "nbformat_minor": 2
}
